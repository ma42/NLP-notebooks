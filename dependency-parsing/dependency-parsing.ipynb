{
 "cells": [
  {
   "cell_type": "markdown",
   "metadata": {},
   "source": [
    "# Assignment #5: Extraction of subject–verb–object triples\n",
    "Author: Pierre Nugues"
   ]
  },
  {
   "cell_type": "markdown",
   "metadata": {},
   "source": [
    "## Objectives"
   ]
  },
  {
   "cell_type": "markdown",
   "metadata": {},
   "source": [
    "In this assignment, you will extract relations from a parsed sentence involving two words or entities. You will start with pairs of words, namely a subject and its verb, and then extend your programs to triples: subject, verb, and object. In the triples, the subject and the object are the entities, and the verb represents the relation. \n",
    "\n",
    "$$\n",
    "\\text{Subject} \\xrightarrow[\\text{}]{\\text{Verb}} \\text{Object}\n",
    "$$\n",
    "\n",
    "The overall work is inspired by the _Prismatic_ knowledge base used in the IBM Watson system, where the subject, verb, and object triples are a way to extract knowledge from text.  See <a href=\"http://www.aclweb.org/anthology/W/W10/W10-0915.pdf\">this paper</a> for details. \n",
    "\n",
    "You will apply the extraction to multilingual texts: \n",
    "1. First you will use a parsed corpus of Swedish; and then\n",
    "2. You will apply it to other languages.\n",
    "            \n",
    "The objectives of this assignment are to:\n",
    "* Extract the subject–verb pairs from a parsed corpus\n",
    "* Extend the extraction to subject–verb–object triples\n",
    "* Understand how dependency parsing can help create a knowledge base\n",
    "* Write a short report of 1 to 2 pages on the assignment"
   ]
  },
  {
   "cell_type": "markdown",
   "metadata": {},
   "source": [
    "## Corpus"
   ]
  },
  {
   "cell_type": "markdown",
   "metadata": {},
   "source": [
    "As corpora, you will use the Universal Dependencies: https://universaldependencies.org/.\n",
    "1. In the first part of the assignment, you will focus on Swedish as it is easier to understand for most students, and then \n",
    "2. Move on to all the other languages. \n",
    "\n",
    "You will only consider the training sets of each corpus."
   ]
  },
  {
   "cell_type": "markdown",
   "metadata": {},
   "source": [
    "### Choosing a parsed corpus"
   ]
  },
  {
   "cell_type": "markdown",
   "metadata": {},
   "source": [
    "1. Download the latest version of Universal dependencies (2.6) and uncompress them. You have a local version in the `/usr/local/cs/EDAN20/` folder on LTH's machines;\n",
    "2. Go to the Swedish _Talbanken_ corpus;\n",
    "3. Read the CoNLL-U annotation here: https://universaldependencies.org/format.html"
   ]
  },
  {
   "cell_type": "markdown",
   "metadata": {},
   "source": [
    "### Examining the annotation"
   ]
  },
  {
   "cell_type": "markdown",
   "metadata": {},
   "source": [
    "You will carry out the following steps and describe them in your report:\n",
    "\n",
    "1. Draw graphical representations of the two first Swedish sentences of the training set. You will include these drawings in your report;\n",
    "2. Visualize these sentences with this tool: http://spyysalo.github.io/conllu.js/ and check that you have the same results;\n",
    "3. Apply the dependency parser for Swedish of the <a href=\"http://vilde.cs.lth.se:9000/\">Langforia pipelines</a> to these sentences (only the text of each sentence). You will have to select Swedish and activate both `Token` and `DependencyRelation`. Link to Lanforia pipelines: <a href=\"http://vilde.cs.lth.se:9000/\">http://vilde.cs.lth.se:9000/</a>. You will describe possible differences."
   ]
  },
  {
   "cell_type": "markdown",
   "metadata": {},
   "source": [
    "## Programming"
   ]
  },
  {
   "cell_type": "markdown",
   "metadata": {},
   "source": [
    "### Swedish"
   ]
  },
  {
   "cell_type": "markdown",
   "metadata": {},
   "source": [
    "You will extract all the subject–verb pairs and the subject–verb–object triples from the Swedish _Talbanken_ training corpus. To start the program, you can use the CoNLL-U reader available in the cells below.\n",
    "This program works for the other corpora. You can also program a reader yourself starting from the one you used to read the CoNLL 2000 format in the fourth lab or from scratch. "
   ]
  },
  {
   "cell_type": "markdown",
   "metadata": {},
   "source": [
    "#### Imports"
   ]
  },
  {
   "cell_type": "code",
   "execution_count": 81,
   "metadata": {},
   "outputs": [],
   "source": [
    "import os\n",
    "import regex as re"
   ]
  },
  {
   "cell_type": "markdown",
   "metadata": {},
   "source": [
    "### Corpus location"
   ]
  },
  {
   "cell_type": "markdown",
   "metadata": {},
   "source": [
    "Here are the corpus locations you will use. You may have to adjust `ud_path`."
   ]
  },
  {
   "cell_type": "code",
   "execution_count": 82,
   "metadata": {},
   "outputs": [],
   "source": [
    "ud_path = 'ud-treebanks-v2.6/'"
   ]
  },
  {
   "cell_type": "code",
   "execution_count": 83,
   "metadata": {},
   "outputs": [],
   "source": [
    "path_sv = ud_path + 'UD_Swedish-Talbanken/sv_talbanken-ud-train.conllu'\n",
    "path_fr = ud_path + 'UD_French-GSD/fr_gsd-ud-train.conllu'\n",
    "path_ru = ud_path + 'UD_Russian-SynTagRus/ru_syntagrus-ud-train.conllu'\n",
    "path_en = ud_path + 'UD_English-EWT/en_ewt-ud-train.conllu'"
   ]
  },
  {
   "cell_type": "markdown",
   "metadata": {},
   "source": [
    "The column names of the CoNLL-U corpora"
   ]
  },
  {
   "cell_type": "code",
   "execution_count": 84,
   "metadata": {},
   "outputs": [],
   "source": [
    "column_names_u = ['ID', 'FORM', 'LEMMA', 'UPOS', 'XPOS', 'FEATS', 'HEAD', 'DEPREL', 'DEPS', 'MISC']"
   ]
  },
  {
   "cell_type": "markdown",
   "metadata": {},
   "source": [
    "#### Functions to read the CoNLL-U files"
   ]
  },
  {
   "cell_type": "code",
   "execution_count": 85,
   "metadata": {},
   "outputs": [],
   "source": [
    "def read_sentences(file):\n",
    "    \"\"\"\n",
    "    Creates a list of sentences from the corpus\n",
    "    Each sentence is a string\n",
    "    :param file:\n",
    "    :return:\n",
    "    \"\"\"\n",
    "    f = open(file, encoding='utf-8').read().strip()\n",
    "    sentences = f.split('\\n\\n')\n",
    "    return sentences"
   ]
  },
  {
   "cell_type": "code",
   "execution_count": 86,
   "metadata": {},
   "outputs": [],
   "source": [
    "def split_rows(sentences, column_names):\n",
    "    \"\"\"\n",
    "    Creates a list of sentence where each sentence is a list of lines\n",
    "    Each line is a dictionary of columns\n",
    "    :param sentences:\n",
    "    :param column_names:\n",
    "    :return:\n",
    "    \"\"\"\n",
    "    new_sentences = []\n",
    "    root_values = ['0', 'ROOT', 'ROOT', 'ROOT', 'ROOT', 'ROOT', '0', 'ROOT', '0', 'ROOT']\n",
    "    start = [dict(zip(column_names, root_values))]\n",
    "    for sentence in sentences:\n",
    "        rows = sentence.split('\\n')\n",
    "        sentence = [dict(zip(column_names, row.split('\\t'))) for row in rows if row[0] != '#']\n",
    "        sentence = start + sentence\n",
    "        new_sentences.append(sentence)\n",
    "    return new_sentences"
   ]
  },
  {
   "cell_type": "markdown",
   "metadata": {},
   "source": [
    "#### Reading the corpus"
   ]
  },
  {
   "cell_type": "markdown",
   "metadata": {},
   "source": [
    "We load the Swedish Talbanken corpus."
   ]
  },
  {
   "cell_type": "code",
   "execution_count": 87,
   "metadata": {},
   "outputs": [],
   "source": [
    "sentences = read_sentences(path_sv)\n",
    "formatted_corpus = split_rows(sentences, column_names_u)"
   ]
  },
  {
   "cell_type": "code",
   "execution_count": 88,
   "metadata": {},
   "outputs": [
    {
     "data": {
      "text/plain": [
       "4303"
      ]
     },
     "execution_count": 88,
     "metadata": {},
     "output_type": "execute_result"
    }
   ],
   "source": [
    "len(formatted_corpus)"
   ]
  },
  {
   "cell_type": "markdown",
   "metadata": {},
   "source": [
    "The parsed sentence: _Genom skattereformen införs individuell beskattning (särbeskattning) av arbetsinkomster._"
   ]
  },
  {
   "cell_type": "code",
   "execution_count": 89,
   "metadata": {},
   "outputs": [
    {
     "data": {
      "text/plain": [
       "[{'ID': '0',\n",
       "  'FORM': 'ROOT',\n",
       "  'LEMMA': 'ROOT',\n",
       "  'UPOS': 'ROOT',\n",
       "  'XPOS': 'ROOT',\n",
       "  'FEATS': 'ROOT',\n",
       "  'HEAD': '0',\n",
       "  'DEPREL': 'ROOT',\n",
       "  'DEPS': '0',\n",
       "  'MISC': 'ROOT'},\n",
       " {'ID': '1',\n",
       "  'FORM': 'Dessa',\n",
       "  'LEMMA': 'denna',\n",
       "  'UPOS': 'DET',\n",
       "  'XPOS': 'DT|UTR/NEU|PLU|DEF',\n",
       "  'FEATS': 'Definite=Def|Number=Plur|PronType=Dem',\n",
       "  'HEAD': '2',\n",
       "  'DEPREL': 'det',\n",
       "  'DEPS': '2:det',\n",
       "  'MISC': '_'},\n",
       " {'ID': '2',\n",
       "  'FORM': 'inkomster',\n",
       "  'LEMMA': 'inkomst',\n",
       "  'UPOS': 'NOUN',\n",
       "  'XPOS': 'NN|UTR|PLU|IND|NOM',\n",
       "  'FEATS': 'Case=Nom|Definite=Ind|Gender=Com|Number=Plur',\n",
       "  'HEAD': '5',\n",
       "  'DEPREL': 'nsubj',\n",
       "  'DEPS': '5:nsubj|33:nsubj|50:nsubj',\n",
       "  'MISC': '_'},\n",
       " {'ID': '3',\n",
       "  'FORM': 'är',\n",
       "  'LEMMA': 'vara',\n",
       "  'UPOS': 'AUX',\n",
       "  'XPOS': 'VB|PRS|AKT',\n",
       "  'FEATS': 'Mood=Ind|Tense=Pres|VerbForm=Fin|Voice=Act',\n",
       "  'HEAD': '5',\n",
       "  'DEPREL': 'cop',\n",
       "  'DEPS': '5:cop',\n",
       "  'MISC': '_'},\n",
       " {'ID': '4',\n",
       "  'FORM': '*',\n",
       "  'LEMMA': '*',\n",
       "  'UPOS': 'PUNCT',\n",
       "  'XPOS': 'MID',\n",
       "  'FEATS': '_',\n",
       "  'HEAD': '5',\n",
       "  'DEPREL': 'punct',\n",
       "  'DEPS': '5:punct',\n",
       "  'MISC': 'NewPar=Yes'},\n",
       " {'ID': '5',\n",
       "  'FORM': 'inkomst',\n",
       "  'LEMMA': 'inkomst',\n",
       "  'UPOS': 'NOUN',\n",
       "  'XPOS': 'NN|UTR|SIN|IND|NOM',\n",
       "  'FEATS': 'Case=Nom|Definite=Ind|Gender=Com|Number=Sing',\n",
       "  'HEAD': '0',\n",
       "  'DEPREL': 'root',\n",
       "  'DEPS': '0:root',\n",
       "  'MISC': '_'},\n",
       " {'ID': '6',\n",
       "  'FORM': 'av',\n",
       "  'LEMMA': 'av',\n",
       "  'UPOS': 'ADP',\n",
       "  'XPOS': 'PP',\n",
       "  'FEATS': '_',\n",
       "  'HEAD': '7',\n",
       "  'DEPREL': 'case',\n",
       "  'DEPS': '7:case',\n",
       "  'MISC': '_'},\n",
       " {'ID': '7',\n",
       "  'FORM': 'tjänst',\n",
       "  'LEMMA': 'tjänst',\n",
       "  'UPOS': 'NOUN',\n",
       "  'XPOS': 'NN|UTR|SIN|IND|NOM',\n",
       "  'FEATS': 'Case=Nom|Definite=Ind|Gender=Com|Number=Sing',\n",
       "  'HEAD': '5',\n",
       "  'DEPREL': 'nmod',\n",
       "  'DEPS': '5:nmod:av',\n",
       "  'MISC': '_'},\n",
       " {'ID': '8',\n",
       "  'FORM': '-',\n",
       "  'LEMMA': '-',\n",
       "  'UPOS': 'PUNCT',\n",
       "  'XPOS': 'MID',\n",
       "  'FEATS': '_',\n",
       "  'HEAD': '5',\n",
       "  'DEPREL': 'punct',\n",
       "  'DEPS': '5:punct',\n",
       "  'MISC': '_'},\n",
       " {'ID': '9',\n",
       "  'FORM': 'lön',\n",
       "  'LEMMA': 'lön',\n",
       "  'UPOS': 'NOUN',\n",
       "  'XPOS': 'NN|UTR|SIN|IND|NOM',\n",
       "  'FEATS': 'Case=Nom|Definite=Ind|Gender=Com|Number=Sing',\n",
       "  'HEAD': '5',\n",
       "  'DEPREL': 'appos',\n",
       "  'DEPS': '5:appos',\n",
       "  'MISC': 'SpaceAfter=No'},\n",
       " {'ID': '10',\n",
       "  'FORM': ',',\n",
       "  'LEMMA': ',',\n",
       "  'UPOS': 'PUNCT',\n",
       "  'XPOS': 'MID',\n",
       "  'FEATS': '_',\n",
       "  'HEAD': '11',\n",
       "  'DEPREL': 'punct',\n",
       "  'DEPS': '11:punct',\n",
       "  'MISC': '_'},\n",
       " {'ID': '11',\n",
       "  'FORM': 'pension',\n",
       "  'LEMMA': 'pension',\n",
       "  'UPOS': 'NOUN',\n",
       "  'XPOS': 'NN|UTR|SIN|IND|NOM',\n",
       "  'FEATS': 'Case=Nom|Definite=Ind|Gender=Com|Number=Sing',\n",
       "  'HEAD': '9',\n",
       "  'DEPREL': 'conj',\n",
       "  'DEPS': '5:appos|9:conj:och',\n",
       "  'MISC': 'SpaceAfter=No'},\n",
       " {'ID': '12',\n",
       "  'FORM': ',',\n",
       "  'LEMMA': ',',\n",
       "  'UPOS': 'PUNCT',\n",
       "  'XPOS': 'MID',\n",
       "  'FEATS': '_',\n",
       "  'HEAD': '13',\n",
       "  'DEPREL': 'punct',\n",
       "  'DEPS': '13:punct',\n",
       "  'MISC': '_'},\n",
       " {'ID': '13',\n",
       "  'FORM': 'livränta',\n",
       "  'LEMMA': 'livränta',\n",
       "  'UPOS': 'NOUN',\n",
       "  'XPOS': 'NN|UTR|SIN|IND|NOM',\n",
       "  'FEATS': 'Case=Nom|Definite=Ind|Gender=Com|Number=Sing',\n",
       "  'HEAD': '9',\n",
       "  'DEPREL': 'conj',\n",
       "  'DEPS': '5:appos|9:conj:och',\n",
       "  'MISC': 'SpaceAfter=No'},\n",
       " {'ID': '14',\n",
       "  'FORM': ',',\n",
       "  'LEMMA': ',',\n",
       "  'UPOS': 'PUNCT',\n",
       "  'XPOS': 'MID',\n",
       "  'FEATS': '_',\n",
       "  'HEAD': '15',\n",
       "  'DEPREL': 'punct',\n",
       "  'DEPS': '15:punct',\n",
       "  'MISC': '_'},\n",
       " {'ID': '15',\n",
       "  'FORM': 'undantagsförmåner',\n",
       "  'LEMMA': 'undantagsförmån',\n",
       "  'UPOS': 'NOUN',\n",
       "  'XPOS': 'NN|UTR|PLU|IND|NOM',\n",
       "  'FEATS': 'Case=Nom|Definite=Ind|Gender=Com|Number=Plur',\n",
       "  'HEAD': '9',\n",
       "  'DEPREL': 'conj',\n",
       "  'DEPS': '5:appos|9:conj:och',\n",
       "  'MISC': '_'},\n",
       " {'ID': '16',\n",
       "  'FORM': 'och',\n",
       "  'LEMMA': 'och',\n",
       "  'UPOS': 'CCONJ',\n",
       "  'XPOS': 'KN',\n",
       "  'FEATS': '_',\n",
       "  'HEAD': '18',\n",
       "  'DEPREL': 'cc',\n",
       "  'DEPS': '18:cc',\n",
       "  'MISC': '_'},\n",
       " {'ID': '17',\n",
       "  'FORM': 'övrig',\n",
       "  'LEMMA': 'övrig',\n",
       "  'UPOS': 'ADJ',\n",
       "  'XPOS': 'JJ|POS|UTR|SIN|IND|NOM',\n",
       "  'FEATS': 'Case=Nom|Definite=Ind|Degree=Pos|Gender=Com|Number=Sing',\n",
       "  'HEAD': '18',\n",
       "  'DEPREL': 'amod',\n",
       "  'DEPS': '18:amod',\n",
       "  'MISC': '_'},\n",
       " {'ID': '18',\n",
       "  'FORM': 'tjänsteinkomst',\n",
       "  'LEMMA': 'tjänsteinkomst',\n",
       "  'UPOS': 'NOUN',\n",
       "  'XPOS': 'NN|UTR|SIN|IND|NOM',\n",
       "  'FEATS': 'Case=Nom|Definite=Ind|Gender=Com|Number=Sing',\n",
       "  'HEAD': '9',\n",
       "  'DEPREL': 'conj',\n",
       "  'DEPS': '5:appos|9:conj:och',\n",
       "  'MISC': 'SpaceAfter=No'},\n",
       " {'ID': '19',\n",
       "  'FORM': '.',\n",
       "  'LEMMA': '.',\n",
       "  'UPOS': 'PUNCT',\n",
       "  'XPOS': 'MAD',\n",
       "  'FEATS': '_',\n",
       "  'HEAD': '5',\n",
       "  'DEPREL': 'punct',\n",
       "  'DEPS': '5:punct',\n",
       "  'MISC': '_'},\n",
       " {'ID': '20',\n",
       "  'FORM': '(',\n",
       "  'LEMMA': '(',\n",
       "  'UPOS': 'PUNCT',\n",
       "  'XPOS': 'PAD',\n",
       "  'FEATS': '_',\n",
       "  'HEAD': '5',\n",
       "  'DEPREL': 'punct',\n",
       "  'DEPS': '5:punct',\n",
       "  'MISC': 'SpaceAfter=No'},\n",
       " {'ID': '21',\n",
       "  'FORM': 'Undantag',\n",
       "  'LEMMA': 'undantag',\n",
       "  'UPOS': 'NOUN',\n",
       "  'XPOS': 'NN|NEU|PLU|IND|NOM',\n",
       "  'FEATS': 'Case=Nom|Definite=Ind|Gender=Neut|Number=Plur',\n",
       "  'HEAD': '5',\n",
       "  'DEPREL': 'parataxis',\n",
       "  'DEPS': '5:parataxis',\n",
       "  'MISC': 'SpaceAfter=No'},\n",
       " {'ID': '22',\n",
       "  'FORM': ':',\n",
       "  'LEMMA': ':',\n",
       "  'UPOS': 'PUNCT',\n",
       "  'XPOS': 'MID',\n",
       "  'FEATS': '_',\n",
       "  'HEAD': '21',\n",
       "  'DEPREL': 'punct',\n",
       "  'DEPS': '21:punct',\n",
       "  'MISC': '_'},\n",
       " {'ID': '23',\n",
       "  'FORM': 'periodiskt',\n",
       "  'LEMMA': 'periodisk',\n",
       "  'UPOS': 'ADJ',\n",
       "  'XPOS': 'JJ|POS|NEU|SIN|IND|NOM',\n",
       "  'FEATS': 'Case=Nom|Definite=Ind|Degree=Pos|Gender=Neut|Number=Sing',\n",
       "  'HEAD': '24',\n",
       "  'DEPREL': 'amod',\n",
       "  'DEPS': '24:amod',\n",
       "  'MISC': '_'},\n",
       " {'ID': '24',\n",
       "  'FORM': 'understöd',\n",
       "  'LEMMA': 'understöd',\n",
       "  'UPOS': 'NOUN',\n",
       "  'XPOS': 'NN|NEU|SIN|IND|NOM',\n",
       "  'FEATS': 'Case=Nom|Definite=Ind|Gender=Neut|Number=Sing',\n",
       "  'HEAD': '21',\n",
       "  'DEPREL': 'nsubj',\n",
       "  'DEPS': '21:nsubj',\n",
       "  'MISC': '_'},\n",
       " {'ID': '25',\n",
       "  'FORM': 'eller',\n",
       "  'LEMMA': 'eller',\n",
       "  'UPOS': 'CCONJ',\n",
       "  'XPOS': 'KN',\n",
       "  'FEATS': '_',\n",
       "  'HEAD': '29',\n",
       "  'DEPREL': 'cc',\n",
       "  'DEPS': '29:cc',\n",
       "  'MISC': '_'},\n",
       " {'ID': '26',\n",
       "  'FORM': 'därmed',\n",
       "  'LEMMA': 'därmed',\n",
       "  'UPOS': 'ADV',\n",
       "  'XPOS': 'AB',\n",
       "  'FEATS': '_',\n",
       "  'HEAD': '27',\n",
       "  'DEPREL': 'advmod',\n",
       "  'DEPS': '27:advmod',\n",
       "  'MISC': '_'},\n",
       " {'ID': '27',\n",
       "  'FORM': 'jämförlig',\n",
       "  'LEMMA': 'jämförlig',\n",
       "  'UPOS': 'ADJ',\n",
       "  'XPOS': 'JJ|POS|UTR|SIN|IND|NOM',\n",
       "  'FEATS': 'Case=Nom|Definite=Ind|Degree=Pos|Gender=Com|Number=Sing',\n",
       "  'HEAD': '29',\n",
       "  'DEPREL': 'amod',\n",
       "  'DEPS': '29:amod',\n",
       "  'MISC': '_'},\n",
       " {'ID': '28',\n",
       "  'FORM': 'periodisk',\n",
       "  'LEMMA': 'periodisk',\n",
       "  'UPOS': 'ADJ',\n",
       "  'XPOS': 'JJ|POS|UTR|SIN|IND|NOM',\n",
       "  'FEATS': 'Case=Nom|Definite=Ind|Degree=Pos|Gender=Com|Number=Sing',\n",
       "  'HEAD': '29',\n",
       "  'DEPREL': 'amod',\n",
       "  'DEPS': '29:amod',\n",
       "  'MISC': '_'},\n",
       " {'ID': '29',\n",
       "  'FORM': 'inkomst',\n",
       "  'LEMMA': 'inkomst',\n",
       "  'UPOS': 'NOUN',\n",
       "  'XPOS': 'NN|UTR|SIN|IND|NOM',\n",
       "  'FEATS': 'Case=Nom|Definite=Ind|Gender=Com|Number=Sing',\n",
       "  'HEAD': '24',\n",
       "  'DEPREL': 'conj',\n",
       "  'DEPS': '21:nsubj|24:conj:eller',\n",
       "  'MISC': 'SpaceAfter=No'},\n",
       " {'ID': '30',\n",
       "  'FORM': '.',\n",
       "  'LEMMA': '.',\n",
       "  'UPOS': 'PUNCT',\n",
       "  'XPOS': 'MAD',\n",
       "  'FEATS': '_',\n",
       "  'HEAD': '21',\n",
       "  'DEPREL': 'punct',\n",
       "  'DEPS': '21:punct',\n",
       "  'MISC': 'SpaceAfter=No'},\n",
       " {'ID': '31',\n",
       "  'FORM': ')',\n",
       "  'LEMMA': ')',\n",
       "  'UPOS': 'PUNCT',\n",
       "  'XPOS': 'PAD',\n",
       "  'FEATS': '_',\n",
       "  'HEAD': '5',\n",
       "  'DEPREL': 'punct',\n",
       "  'DEPS': '5:punct',\n",
       "  'MISC': '_'},\n",
       " {'ID': '32',\n",
       "  'FORM': '*',\n",
       "  'LEMMA': '*',\n",
       "  'UPOS': 'PUNCT',\n",
       "  'XPOS': 'MID',\n",
       "  'FEATS': '_',\n",
       "  'HEAD': '33',\n",
       "  'DEPREL': 'punct',\n",
       "  'DEPS': '33:punct',\n",
       "  'MISC': 'NewPar=Yes'},\n",
       " {'ID': '33',\n",
       "  'FORM': 'inkomst',\n",
       "  'LEMMA': 'inkomst',\n",
       "  'UPOS': 'NOUN',\n",
       "  'XPOS': 'NN|UTR|SIN|IND|NOM',\n",
       "  'FEATS': 'Case=Nom|Definite=Ind|Gender=Com|Number=Sing',\n",
       "  'HEAD': '5',\n",
       "  'DEPREL': 'conj',\n",
       "  'DEPS': '5:conj',\n",
       "  'MISC': '_'},\n",
       " {'ID': '34',\n",
       "  'FORM': 'av',\n",
       "  'LEMMA': 'av',\n",
       "  'UPOS': 'ADP',\n",
       "  'XPOS': 'PP',\n",
       "  'FEATS': '_',\n",
       "  'HEAD': '35',\n",
       "  'DEPREL': 'case',\n",
       "  'DEPS': '35:case',\n",
       "  'MISC': '_'},\n",
       " {'ID': '35',\n",
       "  'FORM': 'jordbruksfastighet',\n",
       "  'LEMMA': 'jordbruksfastighet',\n",
       "  'UPOS': 'NOUN',\n",
       "  'XPOS': 'NN|UTR|SIN|IND|NOM',\n",
       "  'FEATS': 'Case=Nom|Definite=Ind|Gender=Com|Number=Sing',\n",
       "  'HEAD': '33',\n",
       "  'DEPREL': 'nmod',\n",
       "  'DEPS': '33:nmod:av',\n",
       "  'MISC': '_'},\n",
       " {'ID': '36',\n",
       "  'FORM': '-',\n",
       "  'LEMMA': '-',\n",
       "  'UPOS': 'PUNCT',\n",
       "  'XPOS': 'MID',\n",
       "  'FEATS': '_',\n",
       "  'HEAD': '33',\n",
       "  'DEPREL': 'punct',\n",
       "  'DEPS': '33:punct',\n",
       "  'MISC': '_'},\n",
       " {'ID': '37',\n",
       "  'FORM': 'om',\n",
       "  'LEMMA': 'om',\n",
       "  'UPOS': 'SCONJ',\n",
       "  'XPOS': 'SN',\n",
       "  'FEATS': '_',\n",
       "  'HEAD': '40',\n",
       "  'DEPREL': 'mark',\n",
       "  'DEPS': '40:mark',\n",
       "  'MISC': '_'},\n",
       " {'ID': '38',\n",
       "  'FORM': 'den',\n",
       "  'LEMMA': 'en',\n",
       "  'UPOS': 'DET',\n",
       "  'XPOS': 'DT|UTR|SIN|DEF',\n",
       "  'FEATS': 'Definite=Def|Gender=Com|Number=Sing|PronType=Art',\n",
       "  'HEAD': '39',\n",
       "  'DEPREL': 'det',\n",
       "  'DEPS': '39:det',\n",
       "  'MISC': '_'},\n",
       " {'ID': '39',\n",
       "  'FORM': 'skattskyldige',\n",
       "  'LEMMA': 'skattskyldig',\n",
       "  'UPOS': 'ADJ',\n",
       "  'XPOS': 'JJ|POS|MAS|SIN|DEF|NOM',\n",
       "  'FEATS': 'Case=Nom|Definite=Def|Degree=Pos|Gender=Masc|Number=Sing',\n",
       "  'HEAD': '40',\n",
       "  'DEPREL': 'nsubj',\n",
       "  'DEPS': '40:nsubj',\n",
       "  'MISC': '_'},\n",
       " {'ID': '40',\n",
       "  'FORM': 'arbetat',\n",
       "  'LEMMA': 'arbeta',\n",
       "  'UPOS': 'VERB',\n",
       "  'XPOS': 'VB|SUP|AKT',\n",
       "  'FEATS': 'VerbForm=Sup|Voice=Act',\n",
       "  'HEAD': '33',\n",
       "  'DEPREL': 'advcl',\n",
       "  'DEPS': '33:advcl:om',\n",
       "  'MISC': '_'},\n",
       " {'ID': '41',\n",
       "  'FORM': 'i',\n",
       "  'LEMMA': 'i',\n",
       "  'UPOS': 'ADP',\n",
       "  'XPOS': 'PP',\n",
       "  'FEATS': '_',\n",
       "  'HEAD': '42',\n",
       "  'DEPREL': 'case',\n",
       "  'DEPS': '42:case',\n",
       "  'MISC': '_'},\n",
       " {'ID': '42',\n",
       "  'FORM': 'jordbruket',\n",
       "  'LEMMA': 'jordbruk',\n",
       "  'UPOS': 'NOUN',\n",
       "  'XPOS': 'NN|NEU|SIN|DEF|NOM',\n",
       "  'FEATS': 'Case=Nom|Definite=Def|Gender=Neut|Number=Sing',\n",
       "  'HEAD': '40',\n",
       "  'DEPREL': 'obl',\n",
       "  'DEPS': '40:obl:i',\n",
       "  'MISC': '_'},\n",
       " {'ID': '43',\n",
       "  'FORM': 'i',\n",
       "  'LEMMA': 'i',\n",
       "  'UPOS': 'ADP',\n",
       "  'XPOS': 'PP',\n",
       "  'FEATS': '_',\n",
       "  'HEAD': '47',\n",
       "  'DEPREL': 'case',\n",
       "  'DEPS': '47:case',\n",
       "  'MISC': '_'},\n",
       " {'ID': '44',\n",
       "  'FORM': 'ej',\n",
       "  'LEMMA': 'ej',\n",
       "  'UPOS': 'PART',\n",
       "  'XPOS': 'AB',\n",
       "  'FEATS': 'Polarity=Neg',\n",
       "  'HEAD': '46',\n",
       "  'DEPREL': 'advmod',\n",
       "  'DEPS': '46:advmod',\n",
       "  'MISC': '_'},\n",
       " {'ID': '45',\n",
       "  'FORM': 'blott',\n",
       "  'LEMMA': 'blott',\n",
       "  'UPOS': 'ADV',\n",
       "  'XPOS': 'AB|POS',\n",
       "  'FEATS': 'Degree=Pos',\n",
       "  'HEAD': '46',\n",
       "  'DEPREL': 'advmod',\n",
       "  'DEPS': '46:advmod',\n",
       "  'MISC': '_'},\n",
       " {'ID': '46',\n",
       "  'FORM': 'ringa',\n",
       "  'LEMMA': 'ringa',\n",
       "  'UPOS': 'ADJ',\n",
       "  'XPOS': 'JJ|POS|UTR/NEU|SIN/PLU|IND/DEF|NOM',\n",
       "  'FEATS': 'Case=Nom|Degree=Pos',\n",
       "  'HEAD': '47',\n",
       "  'DEPREL': 'amod',\n",
       "  'DEPS': '47:amod',\n",
       "  'MISC': '_'},\n",
       " {'ID': '47',\n",
       "  'FORM': 'omfattning',\n",
       "  'LEMMA': 'omfattning',\n",
       "  'UPOS': 'NOUN',\n",
       "  'XPOS': 'NN|UTR|SIN|IND|NOM',\n",
       "  'FEATS': 'Case=Nom|Definite=Ind|Gender=Com|Number=Sing',\n",
       "  'HEAD': '40',\n",
       "  'DEPREL': 'obl',\n",
       "  'DEPS': '40:obl:i',\n",
       "  'MISC': 'SpaceAfter=No'},\n",
       " {'ID': '48',\n",
       "  'FORM': '.',\n",
       "  'LEMMA': '.',\n",
       "  'UPOS': 'PUNCT',\n",
       "  'XPOS': 'MAD',\n",
       "  'FEATS': '_',\n",
       "  'HEAD': '33',\n",
       "  'DEPREL': 'punct',\n",
       "  'DEPS': '33:punct',\n",
       "  'MISC': '_'},\n",
       " {'ID': '49',\n",
       "  'FORM': '*',\n",
       "  'LEMMA': '*',\n",
       "  'UPOS': 'PUNCT',\n",
       "  'XPOS': 'MID',\n",
       "  'FEATS': '_',\n",
       "  'HEAD': '50',\n",
       "  'DEPREL': 'punct',\n",
       "  'DEPS': '50:punct',\n",
       "  'MISC': 'NewPar=Yes'},\n",
       " {'ID': '50',\n",
       "  'FORM': 'inkomst',\n",
       "  'LEMMA': 'inkomst',\n",
       "  'UPOS': 'NOUN',\n",
       "  'XPOS': 'NN|UTR|SIN|IND|NOM',\n",
       "  'FEATS': 'Case=Nom|Definite=Ind|Gender=Com|Number=Sing',\n",
       "  'HEAD': '5',\n",
       "  'DEPREL': 'conj',\n",
       "  'DEPS': '5:conj',\n",
       "  'MISC': '_'},\n",
       " {'ID': '51',\n",
       "  'FORM': 'av',\n",
       "  'LEMMA': 'av',\n",
       "  'UPOS': 'ADP',\n",
       "  'XPOS': 'PP',\n",
       "  'FEATS': '_',\n",
       "  'HEAD': '52',\n",
       "  'DEPREL': 'case',\n",
       "  'DEPS': '52:case',\n",
       "  'MISC': '_'},\n",
       " {'ID': '52',\n",
       "  'FORM': 'rörelse',\n",
       "  'LEMMA': 'rörelse',\n",
       "  'UPOS': 'NOUN',\n",
       "  'XPOS': 'NN|UTR|SIN|IND|NOM',\n",
       "  'FEATS': 'Case=Nom|Definite=Ind|Gender=Com|Number=Sing',\n",
       "  'HEAD': '50',\n",
       "  'DEPREL': 'nmod',\n",
       "  'DEPS': '50:nmod:av',\n",
       "  'MISC': '_'},\n",
       " {'ID': '53',\n",
       "  'FORM': '-',\n",
       "  'LEMMA': '-',\n",
       "  'UPOS': 'PUNCT',\n",
       "  'XPOS': 'MID',\n",
       "  'FEATS': '_',\n",
       "  'HEAD': '50',\n",
       "  'DEPREL': 'punct',\n",
       "  'DEPS': '50:punct',\n",
       "  'MISC': '_'},\n",
       " {'ID': '54',\n",
       "  'FORM': 'om',\n",
       "  'LEMMA': 'om',\n",
       "  'UPOS': 'SCONJ',\n",
       "  'XPOS': 'SN',\n",
       "  'FEATS': '_',\n",
       "  'HEAD': '57',\n",
       "  'DEPREL': 'mark',\n",
       "  'DEPS': '57:mark',\n",
       "  'MISC': '_'},\n",
       " {'ID': '55',\n",
       "  'FORM': 'den',\n",
       "  'LEMMA': 'en',\n",
       "  'UPOS': 'DET',\n",
       "  'XPOS': 'DT|UTR|SIN|DEF',\n",
       "  'FEATS': 'Definite=Def|Gender=Com|Number=Sing|PronType=Art',\n",
       "  'HEAD': '56',\n",
       "  'DEPREL': 'det',\n",
       "  'DEPS': '56:det',\n",
       "  'MISC': '_'},\n",
       " {'ID': '56',\n",
       "  'FORM': 'skattskyldige',\n",
       "  'LEMMA': 'skattskyldig',\n",
       "  'UPOS': 'ADJ',\n",
       "  'XPOS': 'JJ|POS|MAS|SIN|DEF|NOM',\n",
       "  'FEATS': 'Case=Nom|Definite=Def|Degree=Pos|Gender=Masc|Number=Sing',\n",
       "  'HEAD': '57',\n",
       "  'DEPREL': 'nsubj',\n",
       "  'DEPS': '57:nsubj',\n",
       "  'MISC': '_'},\n",
       " {'ID': '57',\n",
       "  'FORM': 'arbetat',\n",
       "  'LEMMA': 'arbeta',\n",
       "  'UPOS': 'VERB',\n",
       "  'XPOS': 'VB|SUP|AKT',\n",
       "  'FEATS': 'VerbForm=Sup|Voice=Act',\n",
       "  'HEAD': '50',\n",
       "  'DEPREL': 'advcl',\n",
       "  'DEPS': '50:advcl:om',\n",
       "  'MISC': '_'},\n",
       " {'ID': '58',\n",
       "  'FORM': 'i',\n",
       "  'LEMMA': 'i',\n",
       "  'UPOS': 'ADP',\n",
       "  'XPOS': 'PP',\n",
       "  'FEATS': '_',\n",
       "  'HEAD': '59',\n",
       "  'DEPREL': 'case',\n",
       "  'DEPS': '59:case',\n",
       "  'MISC': '_'},\n",
       " {'ID': '59',\n",
       "  'FORM': 'rörelsen',\n",
       "  'LEMMA': 'rörelse',\n",
       "  'UPOS': 'NOUN',\n",
       "  'XPOS': 'NN|UTR|SIN|DEF|NOM',\n",
       "  'FEATS': 'Case=Nom|Definite=Def|Gender=Com|Number=Sing',\n",
       "  'HEAD': '57',\n",
       "  'DEPREL': 'obl',\n",
       "  'DEPS': '57:obl:i',\n",
       "  'MISC': '_'},\n",
       " {'ID': '60',\n",
       "  'FORM': 'i',\n",
       "  'LEMMA': 'i',\n",
       "  'UPOS': 'ADP',\n",
       "  'XPOS': 'PP',\n",
       "  'FEATS': '_',\n",
       "  'HEAD': '64',\n",
       "  'DEPREL': 'case',\n",
       "  'DEPS': '64:case',\n",
       "  'MISC': '_'},\n",
       " {'ID': '61',\n",
       "  'FORM': 'ej',\n",
       "  'LEMMA': 'ej',\n",
       "  'UPOS': 'PART',\n",
       "  'XPOS': 'AB',\n",
       "  'FEATS': 'Polarity=Neg',\n",
       "  'HEAD': '63',\n",
       "  'DEPREL': 'advmod',\n",
       "  'DEPS': '63:advmod',\n",
       "  'MISC': '_'},\n",
       " {'ID': '62',\n",
       "  'FORM': 'blott',\n",
       "  'LEMMA': 'blott',\n",
       "  'UPOS': 'ADV',\n",
       "  'XPOS': 'AB|POS',\n",
       "  'FEATS': 'Degree=Pos',\n",
       "  'HEAD': '63',\n",
       "  'DEPREL': 'advmod',\n",
       "  'DEPS': '63:advmod',\n",
       "  'MISC': '_'},\n",
       " {'ID': '63',\n",
       "  'FORM': 'ringa',\n",
       "  'LEMMA': 'ringa',\n",
       "  'UPOS': 'ADJ',\n",
       "  'XPOS': 'JJ|POS|UTR/NEU|SIN/PLU|IND/DEF|NOM',\n",
       "  'FEATS': 'Case=Nom|Degree=Pos',\n",
       "  'HEAD': '64',\n",
       "  'DEPREL': 'amod',\n",
       "  'DEPS': '64:amod',\n",
       "  'MISC': '_'},\n",
       " {'ID': '64',\n",
       "  'FORM': 'omfattning',\n",
       "  'LEMMA': 'omfattning',\n",
       "  'UPOS': 'NOUN',\n",
       "  'XPOS': 'NN|UTR|SIN|IND|NOM',\n",
       "  'FEATS': 'Case=Nom|Definite=Ind|Gender=Com|Number=Sing',\n",
       "  'HEAD': '57',\n",
       "  'DEPREL': 'obl',\n",
       "  'DEPS': '57:obl:i',\n",
       "  'MISC': 'SpaceAfter=No'},\n",
       " {'ID': '65',\n",
       "  'FORM': '.',\n",
       "  'LEMMA': '.',\n",
       "  'UPOS': 'PUNCT',\n",
       "  'XPOS': 'MAD',\n",
       "  'FEATS': '_',\n",
       "  'HEAD': '50',\n",
       "  'DEPREL': 'punct',\n",
       "  'DEPS': '50:punct',\n",
       "  'MISC': '_'}]"
      ]
     },
     "execution_count": 89,
     "metadata": {},
     "output_type": "execute_result"
    }
   ],
   "source": [
    "formatted_corpus[6]"
   ]
  },
  {
   "cell_type": "markdown",
   "metadata": {},
   "source": [
    "#### Converting the lists in dictionaries"
   ]
  },
  {
   "cell_type": "markdown",
   "metadata": {},
   "source": [
    "To ease the processing of some corpora, you will use a dictionary represention of the sentences. The keys will be the `ID` values. We do this because `ID` is not necessarily a number."
   ]
  },
  {
   "cell_type": "code",
   "execution_count": 90,
   "metadata": {},
   "outputs": [],
   "source": [
    "def convert_to_dict(formatted_corpus):\n",
    "    \"\"\"\n",
    "    Converts each sentence from a list of words to a dictionary where the keys are id\n",
    "    :param formatted_corpus:\n",
    "    :return:\n",
    "    \"\"\"\n",
    "    formatted_corpus_dict = []\n",
    "    for sentence in formatted_corpus:\n",
    "        sentence_dict = {}\n",
    "        for word in sentence:\n",
    "            sentence_dict[word['ID']] = word\n",
    "        formatted_corpus_dict.append(sentence_dict)\n",
    "    return formatted_corpus_dict"
   ]
  },
  {
   "cell_type": "code",
   "execution_count": 309,
   "metadata": {},
   "outputs": [
    {
     "data": {
      "text/plain": [
       "{'0': {'ID': '0',\n",
       "  'FORM': 'ROOT',\n",
       "  'LEMMA': 'ROOT',\n",
       "  'UPOS': 'ROOT',\n",
       "  'XPOS': 'ROOT',\n",
       "  'FEATS': 'ROOT',\n",
       "  'HEAD': '0',\n",
       "  'DEPREL': 'ROOT',\n",
       "  'DEPS': '0',\n",
       "  'MISC': 'ROOT'},\n",
       " '1': {'ID': '1',\n",
       "  'FORM': 'Genom',\n",
       "  'LEMMA': 'genom',\n",
       "  'UPOS': 'ADP',\n",
       "  'XPOS': 'PP',\n",
       "  'FEATS': '_',\n",
       "  'HEAD': '2',\n",
       "  'DEPREL': 'case',\n",
       "  'DEPS': '2:case',\n",
       "  'MISC': '_'},\n",
       " '2': {'ID': '2',\n",
       "  'FORM': 'skattereformen',\n",
       "  'LEMMA': 'skattereform',\n",
       "  'UPOS': 'NOUN',\n",
       "  'XPOS': 'NN|UTR|SIN|DEF|NOM',\n",
       "  'FEATS': 'Case=Nom|Definite=Def|Gender=Com|Number=Sing',\n",
       "  'HEAD': '3',\n",
       "  'DEPREL': 'obl',\n",
       "  'DEPS': '3:obl:genom',\n",
       "  'MISC': '_'},\n",
       " '3': {'ID': '3',\n",
       "  'FORM': 'införs',\n",
       "  'LEMMA': 'införa',\n",
       "  'UPOS': 'VERB',\n",
       "  'XPOS': 'VB|PRS|SFO',\n",
       "  'FEATS': 'Mood=Ind|Tense=Pres|VerbForm=Fin|Voice=Pass',\n",
       "  'HEAD': '0',\n",
       "  'DEPREL': 'root',\n",
       "  'DEPS': '0:root',\n",
       "  'MISC': '_'},\n",
       " '4': {'ID': '4',\n",
       "  'FORM': 'individuell',\n",
       "  'LEMMA': 'individuell',\n",
       "  'UPOS': 'ADJ',\n",
       "  'XPOS': 'JJ|POS|UTR|SIN|IND|NOM',\n",
       "  'FEATS': 'Case=Nom|Definite=Ind|Degree=Pos|Gender=Com|Number=Sing',\n",
       "  'HEAD': '5',\n",
       "  'DEPREL': 'amod',\n",
       "  'DEPS': '5:amod',\n",
       "  'MISC': '_'},\n",
       " '5': {'ID': '5',\n",
       "  'FORM': 'beskattning',\n",
       "  'LEMMA': 'beskattning',\n",
       "  'UPOS': 'NOUN',\n",
       "  'XPOS': 'NN|UTR|SIN|IND|NOM',\n",
       "  'FEATS': 'Case=Nom|Definite=Ind|Gender=Com|Number=Sing',\n",
       "  'HEAD': '3',\n",
       "  'DEPREL': 'nsubj:pass',\n",
       "  'DEPS': '3:nsubj:pass',\n",
       "  'MISC': '_'},\n",
       " '6': {'ID': '6',\n",
       "  'FORM': '(',\n",
       "  'LEMMA': '(',\n",
       "  'UPOS': 'PUNCT',\n",
       "  'XPOS': 'PAD',\n",
       "  'FEATS': '_',\n",
       "  'HEAD': '5',\n",
       "  'DEPREL': 'punct',\n",
       "  'DEPS': '5:punct',\n",
       "  'MISC': 'SpaceAfter=No'},\n",
       " '7': {'ID': '7',\n",
       "  'FORM': 'särbeskattning',\n",
       "  'LEMMA': 'särbeskattning',\n",
       "  'UPOS': 'NOUN',\n",
       "  'XPOS': 'NN|UTR|SIN|IND|NOM',\n",
       "  'FEATS': 'Case=Nom|Definite=Ind|Gender=Com|Number=Sing',\n",
       "  'HEAD': '5',\n",
       "  'DEPREL': 'appos',\n",
       "  'DEPS': '5:appos',\n",
       "  'MISC': 'SpaceAfter=No'},\n",
       " '8': {'ID': '8',\n",
       "  'FORM': ')',\n",
       "  'LEMMA': ')',\n",
       "  'UPOS': 'PUNCT',\n",
       "  'XPOS': 'PAD',\n",
       "  'FEATS': '_',\n",
       "  'HEAD': '5',\n",
       "  'DEPREL': 'punct',\n",
       "  'DEPS': '5:punct',\n",
       "  'MISC': '_'},\n",
       " '9': {'ID': '9',\n",
       "  'FORM': 'av',\n",
       "  'LEMMA': 'av',\n",
       "  'UPOS': 'ADP',\n",
       "  'XPOS': 'PP',\n",
       "  'FEATS': '_',\n",
       "  'HEAD': '10',\n",
       "  'DEPREL': 'case',\n",
       "  'DEPS': '10:case',\n",
       "  'MISC': '_'},\n",
       " '10': {'ID': '10',\n",
       "  'FORM': 'arbetsinkomster',\n",
       "  'LEMMA': 'arbetsinkomst',\n",
       "  'UPOS': 'NOUN',\n",
       "  'XPOS': 'NN|UTR|PLU|IND|NOM',\n",
       "  'FEATS': 'Case=Nom|Definite=Ind|Gender=Com|Number=Plur',\n",
       "  'HEAD': '5',\n",
       "  'DEPREL': 'nmod',\n",
       "  'DEPS': '5:nmod:av',\n",
       "  'MISC': 'SpaceAfter=No'},\n",
       " '11': {'ID': '11',\n",
       "  'FORM': '.',\n",
       "  'LEMMA': '.',\n",
       "  'UPOS': 'PUNCT',\n",
       "  'XPOS': 'MAD',\n",
       "  'FEATS': '_',\n",
       "  'HEAD': '3',\n",
       "  'DEPREL': 'punct',\n",
       "  'DEPS': '3:punct',\n",
       "  'MISC': '_'}}"
      ]
     },
     "execution_count": 309,
     "metadata": {},
     "output_type": "execute_result"
    }
   ],
   "source": [
    "formatted_corpus_dict = convert_to_dict(formatted_corpus)\n",
    "formatted_corpus_dict[1]"
   ]
  },
  {
   "cell_type": "markdown",
   "metadata": {},
   "source": [
    "### Extracting the subject-verb pairs"
   ]
  },
  {
   "cell_type": "markdown",
   "metadata": {},
   "source": [
    "Now you will extract the subject-verb pairs, where you will set the words in lowercase. In the second sentence of the corpus, this corresponds to `(beskattning, införs)`. You will call the function `extract_pairs(formatted_corpus_dict)` and and you will store the results in a `pairs_sv` variable. All the corpora in the universal dependencies format use the same function names: `nsubj` and `obj` for the subject and direct object.\n",
    "\n",
    "You can use the algorithm you want. However, here are some hints on the results:\n",
    "* You will extract all the subject-verb pairs in the corpus. In the extraction, just check the function between two words. Do not check if the part of speech is a verb or a noun in the pair. You will also ignore the possible function suffixes as in `nsubj:pass`, where `pass` means passive.\n",
    "* You will return the results as Python's dictionaries, where the key will be the pair and the value, the count, as for instance `{(beskattning, införs): 1}`. Be sure you understand the Python dictionaries and note that you can use tuples as keys."
   ]
  },
  {
   "cell_type": "code",
   "execution_count": 290,
   "metadata": {},
   "outputs": [],
   "source": [
    "def extract_pairs(formatted_corpus_dict):\n",
    "    \n",
    "    pair_cnt = {}\n",
    "    for sentence in formatted_corpus_dict:\n",
    "        for word in sentence:\n",
    "            word_info = sentence[word]\n",
    "\n",
    "            if word_info[\"DEPREL\"].startswith(\"nsubj\"):\n",
    "                subjectWord = word_info['FORM'].lower()\n",
    "                verb_id = word_info[\"HEAD\"]\n",
    "                verb = sentence[verb_id]['FORM'].lower()\n",
    "                pair = (subjectWord, verb)\n",
    "                \n",
    "                if pair in pair_cnt:\n",
    "                    pair_cnt[pair] +=1\n",
    "                else: \n",
    "                    pair_cnt[pair] = 1 \n",
    "                \n",
    "    return pair_cnt\n",
    "                    "
   ]
  },
  {
   "cell_type": "code",
   "execution_count": 291,
   "metadata": {},
   "outputs": [],
   "source": [
    "pairs_sv = extract_pairs(formatted_corpus_dict)"
   ]
  },
  {
   "cell_type": "markdown",
   "metadata": {},
   "source": [
    "You will compute the total number of subject-verb pairs. You should find 6,083 pairs."
   ]
  },
  {
   "cell_type": "code",
   "execution_count": 292,
   "metadata": {},
   "outputs": [
    {
     "data": {
      "text/plain": [
       "6083"
      ]
     },
     "execution_count": 292,
     "metadata": {},
     "output_type": "execute_result"
    }
   ],
   "source": [
    "sum([pairs_sv[pair] for pair in pairs_sv])"
   ]
  },
  {
   "cell_type": "markdown",
   "metadata": {},
   "source": [
    "#### Finding the most frequent pairs"
   ]
  },
  {
   "cell_type": "markdown",
   "metadata": {},
   "source": [
    "You will sort your pairs by frequency and by lexical order of the pairs and store the five most frequent pairs in the `freq_pairs_sv` variable as in:\n",
    "```\n",
    "freq_pairs_sv = [(('som', 'har'), 45),\n",
    "\n",
    " ...]\n",
    " ````\n",
    "\n",
    "Here are the frequencies you should find:\n",
    "```\n",
    "45\n",
    "19\n",
    "19\n",
    "```"
   ]
  },
  {
   "cell_type": "markdown",
   "metadata": {},
   "source": [
    "In all the experiments, we will keep the `nbest` most frequent. In the first experiments, we set `nbest` to 3 first. We will set it to 5 in the last experiment."
   ]
  },
  {
   "cell_type": "code",
   "execution_count": 293,
   "metadata": {},
   "outputs": [],
   "source": [
    "nbest = 3"
   ]
  },
  {
   "cell_type": "code",
   "execution_count": 294,
   "metadata": {},
   "outputs": [],
   "source": [
    "sorted_pairs = sorted(pairs_sv, key=lambda x: (-pairs_sv[x], x))\n",
    "freq_pairs_sv = [(pair, pairs_sv[pair]) for pair in sorted_pairs][:nbest]"
   ]
  },
  {
   "cell_type": "code",
   "execution_count": 295,
   "metadata": {},
   "outputs": [
    {
     "data": {
      "text/plain": [
       "[(('som', 'har'), 45), (('du', 'får'), 19), (('vi', 'har'), 19)]"
      ]
     },
     "execution_count": 295,
     "metadata": {},
     "output_type": "execute_result"
    }
   ],
   "source": [
    "freq_pairs_sv"
   ]
  },
  {
   "cell_type": "markdown",
   "metadata": {},
   "source": [
    "### Extracting the subject-verb-object triples"
   ]
  },
  {
   "cell_type": "markdown",
   "metadata": {},
   "source": [
    "You will now extract all the subject–verb–object triples of the corpus. The object function uses the `obj` code."
   ]
  },
  {
   "cell_type": "code",
   "execution_count": 276,
   "metadata": {},
   "outputs": [],
   "source": [
    "def old_extract_triples(formatted_corpus_dict):\n",
    "    triple_count = {}\n",
    "    for sentence in formatted_corpus_dict:  # Iterate all sentences\n",
    "        for word in sentence:               # Iterate each sentence\n",
    "            word_info = sentence[word]      # Extract word values\n",
    "\n",
    "            if word_info[\"DEPREL\"].startswith(\"nsubj\"): #If word is a subject\n",
    "                subject = word_info['FORM'].lower()     #Get subject in text \n",
    "                verb_id = word_info[\"HEAD\"]             #Get ID for verb corresponding to subject \n",
    "\n",
    "                for word2 in sentence:                  # Loop through words in sentence again looking for obj\n",
    "                    new_word_info = sentence[word2]\n",
    "                    \n",
    "                    # If word in sentence is an 'obj' and has same head as subject we found a triple\n",
    "                    if new_word_info[\"DEPREL\"].startswith(\"obj\") and new_word_info[\"HEAD\"] == verb_id:\n",
    "                        obj = new_word_info[\"FORM\"].lower()\n",
    "                        verb = sentence[verb_id]['FORM'].lower()\n",
    "                        triple = (subject, verb, obj)\n",
    "                        if triple in triple_count:\n",
    "                            triple_count[triple] += 1\n",
    "                        else:\n",
    "                            triple_count[triple] = 1\n",
    "    return triple_count"
   ]
  },
  {
   "cell_type": "code",
   "execution_count": 260,
   "metadata": {},
   "outputs": [],
   "source": [
    "def extract_triples(formatted_corpus_dict):\n",
    "    triple_cnt = {}\n",
    "    for sentence in formatted_corpus_dict:\n",
    "        for word in sentence: \n",
    "            if sentence[word]['DEPREL'].startswith(\"nsubj\"):\n",
    "                subj = sentence[word]['FORM'].lower()\n",
    "                subj_head = sentence[word]['HEAD']\n",
    "                \n",
    "                for second_word in sentence: \n",
    "                    if sentence[second_word]['HEAD'] == subj_head:\n",
    "                        if sentence[second_word]['DEPREL'].startswith(\"obj\"):\n",
    "                            verb = sentence[subj_head]['FORM'].lower()\n",
    "                            obj = sentence[second_word]['FORM'].lower()\n",
    "                            triple = (subj, verb, obj)\n",
    "                            \n",
    "                            if triple in triple_cnt:\n",
    "                                triple_cnt[triple] += 1\n",
    "                            else: \n",
    "                                triple_cnt[triple] = 1       \n",
    "    return triple_cnt\n"
   ]
  },
  {
   "cell_type": "code",
   "execution_count": 281,
   "metadata": {},
   "outputs": [],
   "source": [
    "triples_sv = extract_triples(formatted_corpus_dict)"
   ]
  },
  {
   "cell_type": "markdown",
   "metadata": {},
   "source": [
    "Compute the total number of triples. You should find 2054 triples."
   ]
  },
  {
   "cell_type": "code",
   "execution_count": 282,
   "metadata": {},
   "outputs": [
    {
     "data": {
      "text/plain": [
       "2054"
      ]
     },
     "execution_count": 282,
     "metadata": {},
     "output_type": "execute_result"
    }
   ],
   "source": [
    "sum([triples_sv[triple] for triple in triples_sv])"
   ]
  },
  {
   "cell_type": "markdown",
   "metadata": {},
   "source": [
    "#### Finding the most frequent triples"
   ]
  },
  {
   "cell_type": "markdown",
   "metadata": {},
   "source": [
    "You will sort your triples by frequency and by lexical order of the pairs and store the three most frequent triples in the `freq_triples_sv` variable as in:\n",
    "```\n",
    "freq_triples_sv = [(('man', 'vänder', 'sig'), 14),\n",
    "\n",
    " ...]\n",
    " ````\n",
    "\n",
    "Here are the frequencies you should find:\n",
    "```\n",
    "14\n",
    "5\n",
    "3\n",
    "```"
   ]
  },
  {
   "cell_type": "code",
   "execution_count": 285,
   "metadata": {},
   "outputs": [],
   "source": [
    "sorted_triples = sorted(triples_sv, key=lambda x: (-triples_sv[x], x))\n",
    "freq_triples_sv = [(triple, triples_sv[triple]) for triple in sorted_triples][:nbest]"
   ]
  },
  {
   "cell_type": "code",
   "execution_count": 286,
   "metadata": {},
   "outputs": [
    {
     "data": {
      "text/plain": [
       "[(('man', 'vänder', 'sig'), 14),\n",
       " (('det', 'rör', 'sig'), 5),\n",
       " (('man', 'söker', 'arbete'), 3)]"
      ]
     },
     "execution_count": 286,
     "metadata": {},
     "output_type": "execute_result"
    }
   ],
   "source": [
    "freq_triples_sv"
   ]
  },
  {
   "cell_type": "markdown",
   "metadata": {},
   "source": [
    "### Multilingual Corpora"
   ]
  },
  {
   "cell_type": "markdown",
   "metadata": {},
   "source": [
    "Once your program is working on Swedish, you will apply it to all the other languages in universal dependencies. The code below returns all the files from a folder with a suffix. Here we consider the training files only."
   ]
  },
  {
   "cell_type": "code",
   "execution_count": 240,
   "metadata": {},
   "outputs": [],
   "source": [
    "def get_files(dir, suffix):\n",
    "    \"\"\"\n",
    "    Returns all the files in a folder ending with suffix\n",
    "    Recursive version\n",
    "    :param dir:\n",
    "    :param suffix:\n",
    "    :return: the list of file names\n",
    "    \"\"\"\n",
    "    files = []\n",
    "    for file in os.listdir(dir):\n",
    "        path = dir + '/' + file\n",
    "        if os.path.isdir(path):\n",
    "            files += get_files(path, suffix)\n",
    "        elif os.path.isfile(path) and file.endswith(suffix):\n",
    "            files.append(path)\n",
    "    return files"
   ]
  },
  {
   "cell_type": "code",
   "execution_count": 241,
   "metadata": {},
   "outputs": [],
   "source": [
    "files = get_files(ud_path, 'train.conllu')"
   ]
  },
  {
   "cell_type": "markdown",
   "metadata": {},
   "source": [
    "#### Dealing with the indices"
   ]
  },
  {
   "cell_type": "markdown",
   "metadata": {},
   "source": [
    "Some corpora expand some tokens into multiwords. This is the case in French, Spanish, and German.\n",
    "        The table below shows examples of such expansions.\n",
    "        <table style=\"width:100%\">\n",
    "            <tr>\n",
    "                <th>French</th>\n",
    "                <th>Spanish</th>\n",
    "                <th>German</th>\n",
    "            </tr>\n",
    "            <tr>\n",
    "                <td><i>du</i>: de le\n",
    "                </td>\n",
    "                <td><i>del</i>: de el\n",
    "                </td>\n",
    "                <td><i>zur</i>: zu der\n",
    "                </td>\n",
    "            </tr>\n",
    "            <tr>\n",
    "                <td><i>des</i>: de les\n",
    "                </td>\n",
    "                <td><i>vámonos</i>: vamos nos\n",
    "                </td>\n",
    "                <td><i>im</i>: in dem\n",
    "                </td>\n",
    "            </tr>\n",
    "        </table>\n",
    "        In the corpora, you have the original tokens as well as the multiwords as with <i>vámonos al mar</i>.\n",
    "        <pre>\n",
    "1-2 vámonos _\n",
    "1 vamos ir\n",
    "2 nos nosotros\n",
    "3-4 al _\n",
    "3 a a\n",
    "4 el el\n",
    "5 mar mar\n",
    "</pre>Read the format description for the details: [<a\n",
    "                href=\"http://universaldependencies.org/format.html\">CoNLL-U format</a>]."
   ]
  },
  {
   "cell_type": "markdown",
   "metadata": {},
   "source": [
    "If you represent the sentences as lists, the item indices are not reliable: In the format description,\n",
    "        the token at position 1 is <i>vamos</i> and not <i>vámonos</i>.\n",
    "        You have two ways to cope with this:\n",
    "1. Either remove all the lines that include a range in the `ID` field, or\n",
    "2. Encode the sentences as dictionaries (I felt this was preferable), where the keys are the `ID` numbers. This is what `convert_to_dict()` does. Here are the results for a sentence from the French CoNLL-U corpus:\n",
    "_Les iris du mâles sont jaunes toute l'année._ Note the `3-4` index and it expansion in `3`and `4`:\n",
    "```\n",
    "{'0': {'ID': '0',  'FORM': 'ROOT',  'LEMMA': 'ROOT',  'UPOS': 'ROOT',  'XPOS': 'ROOT',  'FEATS': 'ROOT',  'HEAD': '0',  'DEPREL': 'ROOT',  'DEPS': '0',  'MISC': 'ROOT'}, \n",
    "'1': {'ID': '1',  'FORM': 'Les',  'LEMMA': 'le',  'UPOS': 'DET',  'XPOS': '_',  'FEATS': 'Definite=Def|Gender=Masc|Number=Plur|PronType=Art',  'HEAD': '2',  'DEPREL': 'det',  'DEPS': '_',  'MISC': 'wordform=les'}, \n",
    "'2': {'ID': '2',  'FORM': 'iris',  'LEMMA': 'iris',  'UPOS': 'NOUN',  'XPOS': '_',  'FEATS': 'Gender=Masc|Number=Plur',  'HEAD': '7',  'DEPREL': 'nsubj',  'DEPS': '_',  'MISC': '_'}, \n",
    "'3-4': {'ID': '3-4',  'FORM': 'du',  'LEMMA': '_',  'UPOS': '_',  'XPOS': '_',  'FEATS': '_',  'HEAD': '_',  'DEPREL': '_',  'DEPS': '_',  'MISC': '_'}, \n",
    "'3': {'ID': '3',  'FORM': 'de',  'LEMMA': 'de',  'UPOS': 'ADP',  'XPOS': '_',  'FEATS': '_',  'HEAD': '5',  'DEPREL': 'case',  'DEPS': '_',  'MISC': '_'}, \n",
    "'4': {'ID': '4',  'FORM': 'le',  'LEMMA': 'le',  'UPOS': 'DET',  'XPOS': '_',  'FEATS': 'Definite=Def|Gender=Masc|Number=Sing|PronType=Art',  'HEAD': '5',  'DEPREL': 'det',  'DEPS': '_',  'MISC': '_'}, \n",
    "'5': {'ID': '5',  'FORM': 'mâles',  'LEMMA': 'mâle',  'UPOS': 'NOUN',  'XPOS': '_',  'FEATS': 'Gender=Masc|Number=Plur',  'HEAD': '2',  'DEPREL': 'nmod',  'DEPS': '_',  'MISC': '_'}, \n",
    "'6': {'ID': '6',  'FORM': 'sont',  'LEMMA': 'être',  'UPOS': 'AUX',  'XPOS': '_',  'FEATS': 'Mood=Ind|Number=Plur|Person=3|Tense=Pres|VerbForm=Fin',  'HEAD': '7',  'DEPREL': 'cop',  'DEPS': '_',  'MISC': '_'}, \n",
    "'7': {'ID': '7',  'FORM': 'jaunes',  'LEMMA': 'jaune',  'UPOS': 'ADJ',  'XPOS': '_',  'FEATS': 'Gender=Masc|Number=Plur',  'HEAD': '0',  'DEPREL': 'root',  'DEPS': '_',  'MISC': '_'}, \n",
    "'8': {'ID': '8',  'FORM': 'toute',  'LEMMA': 'tout',  'UPOS': 'ADJ',  'XPOS': '_',  'FEATS': 'Gender=Fem|Number=Sing',  'HEAD': '10',  'DEPREL': 'amod',  'DEPS': '_',  'MISC': '_'}, \n",
    "'9': {'ID': '9',  'FORM': \"l'\",  'LEMMA': 'le',  'UPOS': 'DET',  'XPOS': '_',  'FEATS': 'Definite=Def|Gender=Fem|Number=Sing|PronType=Art',  'HEAD': '10',  'DEPREL': 'det',  'DEPS': '_',  'MISC': 'SpaceAfter=No'}, \n",
    "'10': {'ID': '10',  'FORM': 'année',  'LEMMA': 'année',  'UPOS': 'NOUN',  'XPOS': '_',  'FEATS': 'Gender=Fem|Number=Sing',  'HEAD': '7',  'DEPREL': 'obl',  'DEPS': '_',  'MISC': 'SpaceAfter=No'}, \n",
    "'11': {'ID': '11',  'FORM': '.',  'LEMMA': '.',  'UPOS': 'PUNCT',  'XPOS': '_',  'FEATS': '_',  'HEAD': '7',  'DEPREL': 'punct',  'DEPS': '_',  'MISC': '_'}}\n",
    "```\n",
    "3. Some corpora have sentence numbers. You solve it by discarding lines starting with a `#`. This is already done in the CoNLL reader."
   ]
  },
  {
   "cell_type": "markdown",
   "metadata": {},
   "source": [
    "#### Extracting the pairs and triples"
   ]
  },
  {
   "cell_type": "markdown",
   "metadata": {},
   "source": [
    "Write a function `extract_pairs_and_triples(formatted_corpus_dict, nbest)` that extracts the `nbest` most frequent pairs and triples of a given corpus and returns two sorted lists of tuples: `frequent_pairs` and `frequent_triples`. You will sort them by frequency and then by alphabetical order of the pair or triple."
   ]
  },
  {
   "cell_type": "code",
   "execution_count": 242,
   "metadata": {},
   "outputs": [],
   "source": [
    "def extract_pairs_and_triples(formatted_corpus_dict, nbest):\n",
    "    corpus_pairs = extract_pairs(formatted_corpus_dict)\n",
    "    corpus_triples = extract_triples(formatted_corpus_dict)\n",
    "    \n",
    "    sorted_pairs = sorted(corpus_pairs, key=lambda x: (-corpus_pairs[x], x))\n",
    "    freq_pairs = [(pair, corpus_pairs[pair]) for pair in sorted_pairs][:nbest]\n",
    "    \n",
    "    sorted_triples = sorted(corpus_triples, key=lambda x: (-corpus_triples[x], x))\n",
    "    freq_triples = [(triple, corpus_triples[triple]) for triple in sorted_triples][:nbest]\n",
    "    return freq_pairs, freq_triples\n",
    "    "
   ]
  },
  {
   "cell_type": "markdown",
   "metadata": {},
   "source": [
    "Run your extractor on all the corpora. Note that some corpora have replaced the words by underscores as for one corpus n French. You need then to contact the provider to obtain them."
   ]
  },
  {
   "cell_type": "code",
   "execution_count": 316,
   "metadata": {},
   "outputs": [],
   "source": [
    "corpus_dicts = []\n",
    "ud_paths = ['ud-treebanks-v2.6/UD_Italian-ISDT/it_isdt-ud-train.conllu', 'ud-treebanks-v2.6/UD_Danish-DDT/da_ddt-ud-train.conllu', 'ud-treebanks-v2.6/UD_Japanese-GSD/ja_gsd-ud-train.conllu']\n",
    "for path in ud_paths:\n",
    "    sentences = read_sentences(path)\n",
    "    formatted_corpus_dict = convert_to_dict(split_rows(sentences, column_names_u))\n",
    "    corpus_dicts.append(formatted_corpus_dict)\n",
    "    \n",
    "it_corpus_dict, da_corpus_dict, ja_corpus_dict = corpus_dicts[0], corpus_dicts[1], corpus_dicts[2]\n",
    "\n",
    "it_pair, it_triples = extract_pairs_and_triples(it_corpus_dict, nbest)\n",
    "da_pair, da_triples = extract_pairs_and_triples(da_corpus_dict, nbest)\n",
    "ja_pair, ja_triples = extract_pairs_and_triples(ja_corpus_dict, nbest)"
   ]
  },
  {
   "cell_type": "code",
   "execution_count": 318,
   "metadata": {},
   "outputs": [
    {
     "name": "stdout",
     "output_type": "stream",
     "text": [
      "[(('nome', 'qual'), 36), (('che', 'hanno'), 33), (('presidente', 'chi'), 32)]\n"
     ]
    },
    {
     "data": {
      "text/plain": [
       "[(('individuo', 'ha', 'diritto'), 22),\n",
       " (('sigla', 'significa', 'cosa'), 14),\n",
       " (('proprietario', 'ha', 'diritto'), 11)]"
      ]
     },
     "execution_count": 318,
     "metadata": {},
     "output_type": "execute_result"
    }
   ],
   "source": [
    "print(it_pair)\n",
    "it_triples"
   ]
  },
  {
   "cell_type": "code",
   "execution_count": 319,
   "metadata": {},
   "outputs": [
    {
     "name": "stdout",
     "output_type": "stream",
     "text": [
      "[(('det', 'er'), 40), (('vi', 'har'), 31), (('han', 'siger'), 21)]\n",
      "[(('det', 'drejer', 'sig'), 8), (('de', 'taler', 'tyrkisk'), 3), (('han', 'gjorde', 'det'), 3)]\n"
     ]
    }
   ],
   "source": [
    "print(da_pair)\n",
    "print(da_triples)"
   ]
  },
  {
   "cell_type": "code",
   "execution_count": 320,
   "metadata": {},
   "outputs": [
    {
     "name": "stdout",
     "output_type": "stream",
     "text": [
      "[(('こと', '多い'), 14), (('こと', '可能'), 11), (('性', 'ある'), 9)]\n",
      "[(('こと', '意味', 'こと'), 3), (('側', '起こし', '訴訟'), 2), (('年度', '目指す', '契約'), 2)]\n"
     ]
    }
   ],
   "source": [
    "print(ja_pair)\n",
    "print(ja_triples)"
   ]
  },
  {
   "cell_type": "markdown",
   "metadata": {},
   "source": [
    "In your report, you will include the `nbest` most frequent pairs and triples you obtained in **three languages**. You may choose the ones you want.\n",
    "\n",
    "For the checking script, you will extract `nbest` triples in French, Russian, and English. You will rank these triples by frequency, and then by alphabetical order of the triple using `sorted()`. You will use the French GSD corpus, the Russian SynTagRus corpus, and the English EWT corpus. You will store these triples in the following variables:\n",
    "`freq_triples_fr`, `freq_triples_ru`, `freq_triples_en`. Each variable will contain a list of tuples: `(subject, verb, object), freq)`\n",
    "\n",
    "Here is what you should find:\n",
    "\n",
    "French\n",
    "```\n",
    "freq_triples_fr = [(('il', 'fait', 'partie'), 16),\n",
    "\n",
    " ...]\n",
    " ````\n",
    "\n",
    "And the frequencies:\n",
    "```\n",
    "16\n",
    "7\n",
    "7\n",
    "```\n",
    "\n",
    "Russian:\n",
    "```\n",
    "freq_triples_ru = [(('мы', 'имеем', 'дело'), 6),\n",
    "\n",
    " ...]\n",
    " ````\n",
    "\n",
    "And the frequencies:\n",
    "```\n",
    "6\n",
    "4\n",
    "4\n",
    "```\n",
    "\n",
    "English:\n",
    "```\n",
    "freq_triples_en = [(('you', 'have', 'questions'), 22),\n",
    "\n",
    " ...]\n",
    " ````\n",
    "\n",
    "And the frequencies:\n",
    "```\n",
    "22\n",
    "12\n",
    "7\n",
    "```"
   ]
  },
  {
   "cell_type": "code",
   "execution_count": 243,
   "metadata": {},
   "outputs": [],
   "source": [
    "files = [path_fr, path_ru, path_en]"
   ]
  },
  {
   "cell_type": "code",
   "execution_count": 244,
   "metadata": {},
   "outputs": [],
   "source": [
    "formatted_corpus_fr = convert_to_dict(split_rows(read_sentences(path_fr), column_names_u))"
   ]
  },
  {
   "cell_type": "code",
   "execution_count": 245,
   "metadata": {},
   "outputs": [
    {
     "data": {
      "text/plain": [
       "[(('il', 'fait', 'partie'), 16),\n",
       " (('elle', 'fait', 'partie'), 7),\n",
       " (('il', 'comptait', 'habitants'), 7)]"
      ]
     },
     "execution_count": 245,
     "metadata": {},
     "output_type": "execute_result"
    }
   ],
   "source": [
    "nbest = 3\n",
    "freq_pairs_fr, freq_triples_fr = extract_pairs_and_triples(formatted_corpus_fr, nbest)\n",
    "freq_triples_fr"
   ]
  },
  {
   "cell_type": "code",
   "execution_count": 246,
   "metadata": {},
   "outputs": [],
   "source": [
    "formatted_corpus_ru = convert_to_dict(split_rows(read_sentences(path_ru), column_names_u))"
   ]
  },
  {
   "cell_type": "code",
   "execution_count": 247,
   "metadata": {},
   "outputs": [
    {
     "data": {
      "text/plain": [
       "[(('мы', 'имеем', 'дело'), 6),\n",
       " (('мы', 'имеем', 'что'), 4),\n",
       " (('мы', 'сделаем', 'все'), 4)]"
      ]
     },
     "execution_count": 247,
     "metadata": {},
     "output_type": "execute_result"
    }
   ],
   "source": [
    "nbest = 3\n",
    "freq_pairs_ru, freq_triples_ru = extract_pairs_and_triples(formatted_corpus_ru, nbest)\n",
    "freq_triples_ru"
   ]
  },
  {
   "cell_type": "code",
   "execution_count": 248,
   "metadata": {},
   "outputs": [],
   "source": [
    "formatted_corpus_en = convert_to_dict(split_rows(read_sentences(path_en), column_names_u))"
   ]
  },
  {
   "cell_type": "code",
   "execution_count": 249,
   "metadata": {},
   "outputs": [
    {
     "data": {
      "text/plain": [
       "[(('you', 'have', 'questions'), 22),\n",
       " (('you', 'think', 'what'), 12),\n",
       " (('i', 'do', 'what'), 7)]"
      ]
     },
     "execution_count": 249,
     "metadata": {},
     "output_type": "execute_result"
    }
   ],
   "source": [
    "nbest = 3\n",
    "freq_pairs_en, freq_triples_en = extract_pairs_and_triples(formatted_corpus_en, nbest)\n",
    "freq_triples_en"
   ]
  },
  {
   "cell_type": "markdown",
   "metadata": {},
   "source": [
    "## Resolving the entities"
   ]
  },
  {
   "cell_type": "markdown",
   "metadata": {},
   "source": [
    "You will now extract the relations involving named entities, that is where both the subject and the object are proper nouns. \n",
    "\n",
    "Write an `extract_entity_triples(formatted_corpus_dict)` that will process the corpus and return a list of `(subject, verb, object)` triples. You will leave the case as it is in the form, for instance _United States_ and not _united states_.  "
   ]
  },
  {
   "cell_type": "code",
   "execution_count": 250,
   "metadata": {},
   "outputs": [],
   "source": [
    "def extract_entity_triples(formatted_corpus_dict):\n",
    "    entity_triples = set()\n",
    "    for sentence in formatted_corpus_dict:\n",
    "        subject, verb, obj = \"\",\"\",\"\"\n",
    "        obj_tags = {\"obj:lvc\", \"obj\"}\n",
    "        subj_tags = {\"nsubj\", \"nsubj:pass\"}\n",
    "        \n",
    "        for word in sentence:\n",
    "            word_info = sentence[word]\n",
    "            if word_info[\"DEPREL\"] in subj_tags and word_info['UPOS'] == 'PROPN':\n",
    "                subject = word_info['FORM']\n",
    "                verb_id = word_info[\"HEAD\"]\n",
    "            \n",
    "                for entry in sentence:\n",
    "                    new_word_info = sentence[entry]\n",
    "                    if new_word_info[\"DEPREL\"] in obj_tags and new_word_info[\"HEAD\"] == verb_id and new_word_info['UPOS'] == 'PROPN':\n",
    "                        obj = new_word_info[\"FORM\"]\n",
    "                        verb = sentence[verb_id]['FORM']\n",
    "                        triple = (subject, verb, obj)\n",
    "                        \n",
    "                        if triple not in entity_triples:\n",
    "                            entity_triples.add(triple)\n",
    "                            \n",
    "    return list(entity_triples)\n",
    "        "
   ]
  },
  {
   "cell_type": "markdown",
   "metadata": {},
   "source": [
    "You will run the `extract_entity_triples()` function one the English EWT corpus. You will store the list in the `entity_relation_en` variable and you will sort it with `sorted()`. You will keep the **five** first triples. "
   ]
  },
  {
   "cell_type": "code",
   "execution_count": 251,
   "metadata": {},
   "outputs": [],
   "source": [
    "nbest = 5"
   ]
  },
  {
   "cell_type": "markdown",
   "metadata": {},
   "source": [
    "The two first triples are:\n",
    "```\n",
    "[('Baba', 'remember', 'George'),\n",
    " ('Beschta', 'told', 'Planet'),\n",
    "...]\n",
    " ```\n",
    "Note that this time, we keep the original case and the triples are in the alphabetical order."
   ]
  },
  {
   "cell_type": "code",
   "execution_count": 252,
   "metadata": {},
   "outputs": [],
   "source": [
    "entity_relation_en = extract_entity_triples(convert_to_dict(split_rows(read_sentences(path_en), column_names_u)))"
   ]
  },
  {
   "cell_type": "code",
   "execution_count": 253,
   "metadata": {},
   "outputs": [
    {
     "data": {
      "text/plain": [
       "[('Baba', 'remember', 'George'),\n",
       " ('Beschta', 'told', 'Planet'),\n",
       " ('Boi', 'beat', 'Lopez'),\n",
       " ('Bush', 'mentioned', 'Arabia'),\n",
       " ('Bush', 'mentioned', 'Osama')]"
      ]
     },
     "execution_count": 253,
     "metadata": {},
     "output_type": "execute_result"
    }
   ],
   "source": [
    "entity_relation_en = sorted(entity_relation_en)[:nbest]\n",
    "entity_relation_en"
   ]
  },
  {
   "cell_type": "markdown",
   "metadata": {},
   "source": [
    "### Optional exercise: Extracting the chunks"
   ]
  },
  {
   "cell_type": "markdown",
   "metadata": {},
   "source": [
    "Extracting only the headword of the subject and object if often incomplete and uninformative. You can extract all the chunk instead. As an optional exercise, you can try a baseline technique and extract adjacent proper nouns. You may also want to apply the chunker of the 4th assignment to the corpus to do this."
   ]
  },
  {
   "cell_type": "markdown",
   "metadata": {},
   "source": [
    "### Optional exercise: Mapping the entities"
   ]
  },
  {
   "cell_type": "markdown",
   "metadata": {},
   "source": [
    "As in the chunker assignment, you may also want to complement your assignment with a entity solver that will link the entities to wikidata."
   ]
  },
  {
   "cell_type": "markdown",
   "metadata": {},
   "source": [
    "## Reading"
   ]
  },
  {
   "cell_type": "markdown",
   "metadata": {},
   "source": [
    "Read the article: _PRISMATIC: Inducing Knowledge from a Large Scale Lexicalized Relation Resource_ by Fan and al. (2010) [<a href=\"http://www.aclweb.org/anthology/W/W10/W10-0915.pdf\">pdf</a>] and write in a few sentences how it relates to your work in this assignment."
   ]
  },
  {
   "cell_type": "markdown",
   "metadata": {},
   "source": [
    "## Submission"
   ]
  },
  {
   "cell_type": "markdown",
   "metadata": {},
   "source": [
    "When you have written all the code and run all the cells, fill in your ID and as well as the name of the notebook."
   ]
  },
  {
   "cell_type": "code",
   "execution_count": 271,
   "metadata": {},
   "outputs": [],
   "source": [
    "STIL_ID = [\"ma4748an-s\", \"tfy14ean\"] # Write your stil ids as a list\n",
    "CURRENT_NOTEBOOK_PATH = os.path.join(os.getcwd(), \n",
    "                                     \"lab5-triples.ipynb\") # Write the name of your notebook"
   ]
  },
  {
   "cell_type": "markdown",
   "metadata": {},
   "source": [
    "The submission code will send your answer. It consists of the pairs and triples in four languages, as well as the triples with named entities."
   ]
  },
  {
   "cell_type": "code",
   "execution_count": 272,
   "metadata": {},
   "outputs": [
    {
     "data": {
      "text/plain": [
       "'{\"freq_triples_sv\": [[[\"man\", \"v\\\\u00e4nder\", \"sig\"], 14], [[\"det\", \"r\\\\u00f6r\", \"sig\"], 5], [[\"man\", \"s\\\\u00f6ker\", \"arbete\"], 3]], \"freq_triples_fr\": [[[\"il\", \"fait\", \"partie\"], 16], [[\"elle\", \"fait\", \"partie\"], 7], [[\"il\", \"comptait\", \"habitants\"], 7]], \"freq_triples_ru\": [[[\"\\\\u043c\\\\u044b\", \"\\\\u0438\\\\u043c\\\\u0435\\\\u0435\\\\u043c\", \"\\\\u0434\\\\u0435\\\\u043b\\\\u043e\"], 6], [[\"\\\\u043c\\\\u044b\", \"\\\\u0438\\\\u043c\\\\u0435\\\\u0435\\\\u043c\", \"\\\\u0447\\\\u0442\\\\u043e\"], 4], [[\"\\\\u043c\\\\u044b\", \"\\\\u0441\\\\u0434\\\\u0435\\\\u043b\\\\u0430\\\\u0435\\\\u043c\", \"\\\\u0432\\\\u0441\\\\u0435\"], 4]], \"freq_triples_en\": [[[\"you\", \"have\", \"questions\"], 22], [[\"you\", \"think\", \"what\"], 12], [[\"i\", \"do\", \"what\"], 7]], \"entity_relation_en\": [[\"Baba\", \"remember\", \"George\"], [\"Beschta\", \"told\", \"Planet\"], [\"Boi\", \"beat\", \"Lopez\"], [\"Bush\", \"mentioned\", \"Arabia\"], [\"Bush\", \"mentioned\", \"Osama\"]]}'"
      ]
     },
     "execution_count": 272,
     "metadata": {},
     "output_type": "execute_result"
    }
   ],
   "source": [
    "import json\n",
    "ANSWER = json.dumps({'freq_triples_sv': freq_triples_sv,\n",
    "                     'freq_triples_fr': freq_triples_fr,\n",
    "                     'freq_triples_ru': freq_triples_ru,\n",
    "                     'freq_triples_en': freq_triples_en,\n",
    "                     'entity_relation_en': entity_relation_en\n",
    "                    })\n",
    "ANSWER"
   ]
  },
  {
   "cell_type": "markdown",
   "metadata": {},
   "source": [
    "Now the moment of truth:\n",
    "1. Save your notebook and\n",
    "2. Run the cells below"
   ]
  },
  {
   "cell_type": "code",
   "execution_count": 273,
   "metadata": {},
   "outputs": [],
   "source": [
    "SUBMISSION_NOTEBOOK_PATH = CURRENT_NOTEBOOK_PATH + \".submission.bz2\""
   ]
  },
  {
   "cell_type": "code",
   "execution_count": 274,
   "metadata": {},
   "outputs": [],
   "source": [
    "import bz2\n",
    "ASSIGNMENT = 5\n",
    "API_KEY = \"f581ba347babfea0b8f2c74a3a6776a7\"\n",
    "\n",
    "# Copy and compress current notebook\n",
    "with bz2.open(SUBMISSION_NOTEBOOK_PATH, mode=\"wb\") as fout:\n",
    "    with open(CURRENT_NOTEBOOK_PATH, \"rb\") as fin:\n",
    "        fout.write(fin.read())"
   ]
  },
  {
   "cell_type": "code",
   "execution_count": 275,
   "metadata": {},
   "outputs": [
    {
     "data": {
      "text/plain": [
       "{'msg': None,\n",
       " 'status': 'correct',\n",
       " 'signature': '92157ee4fc4d9c2fa3e8f228f2c621fbedcd1602170ca6f4ef4472129b22dfe1615b2890d9664f4392dd3feb2297ac962e86dcc9ecdc0d34ed027f3d4dba0991',\n",
       " 'submission_id': '2f673038-0294-4d49-b544-ebb9837af5a2'}"
      ]
     },
     "execution_count": 275,
     "metadata": {},
     "output_type": "execute_result"
    }
   ],
   "source": [
    "import requests\n",
    "res = requests.post(\"https://vilde.cs.lth.se/edan20checker/submit\", \n",
    "                    files={\"notebook_file\": open(SUBMISSION_NOTEBOOK_PATH, \"rb\")}, \n",
    "                    data={\n",
    "                        \"stil_id\": STIL_ID,\n",
    "                        \"assignment\": ASSIGNMENT,\n",
    "                        \"answer\": ANSWER,\n",
    "                        \"api_key\": API_KEY,\n",
    "                    },\n",
    "               verify=True)\n",
    "\n",
    "# from IPython.display import display, JSON\n",
    "res.json()"
   ]
  },
  {
   "cell_type": "code",
   "execution_count": null,
   "metadata": {},
   "outputs": [],
   "source": []
  }
 ],
 "metadata": {
  "kernelspec": {
   "display_name": "Python 3",
   "language": "python",
   "name": "python3"
  },
  "language_info": {
   "codemirror_mode": {
    "name": "ipython",
    "version": 3
   },
   "file_extension": ".py",
   "mimetype": "text/x-python",
   "name": "python",
   "nbconvert_exporter": "python",
   "pygments_lexer": "ipython3",
   "version": "3.8.3"
  }
 },
 "nbformat": 4,
 "nbformat_minor": 4
}
