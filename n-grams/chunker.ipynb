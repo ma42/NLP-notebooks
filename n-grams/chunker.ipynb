{
 "cells": [
  {
   "cell_type": "markdown",
   "metadata": {},
   "source": [
    "# Assignment #4: Extracting syntactic groups using machine-learning techniques\n",
    "Author: Pierre Nugues"
   ]
  },
  {
   "cell_type": "markdown",
   "metadata": {},
   "source": [
    "In this assignment, you will create a system to extract syntactic groups from a text. You will apply it to the CoNLL 2000 dataset. In addition, you will try to link a few extracted named entities to real things using wikipedia."
   ]
  },
  {
   "cell_type": "markdown",
   "metadata": {},
   "source": [
    "## Objectives"
   ]
  },
  {
   "cell_type": "markdown",
   "metadata": {},
   "source": [
    "The objectives of this assignment are to:\n",
    "* Write a program to detect partial syntactic structures\n",
    "* Extract named entities and link them to real things using Wikipedia\n",
    "* Understand the principles of supervised machine learning techniques applied to language processing\n",
    "* Use a popular machine learning toolkit: scikit-learn\n",
    "* Write a short report of 2 to 3 pages on the assignment"
   ]
  },
  {
   "cell_type": "markdown",
   "metadata": {},
   "source": [
    "## Choosing a training and a test sets"
   ]
  },
  {
   "cell_type": "markdown",
   "metadata": {},
   "source": [
    "* As annotated data and annotation scheme, you will use the data available from [CoNLL 2000](https://www.clips.uantwerpen.be/conll2000/chunking/).\n",
    "* Download both the training and test sets and decompress them.\n",
    "* Local copies are also available here: [train.txt](https://fileadmin.cs.lth.se/cs/Education/EDAN20/corpus/conll2000/train.txt) and [test.txt](https://fileadmin.cs.lth.se/cs/Education/EDAN20/corpus/conll2000/test.txt)\n",
    "* Read the description of the CoNLL 2000 task"
   ]
  },
  {
   "cell_type": "markdown",
   "metadata": {},
   "source": [
    "## Loading the corpus"
   ]
  },
  {
   "cell_type": "markdown",
   "metadata": {},
   "source": [
    "### The datasets"
   ]
  },
  {
   "cell_type": "markdown",
   "metadata": {},
   "source": [
    "You may need to adjust the paths to load the datasets."
   ]
  },
  {
   "cell_type": "code",
   "execution_count": 1,
   "metadata": {},
   "outputs": [],
   "source": [
    "train_file = 'train.txt'\n",
    "test_file = 'test.txt'"
   ]
  },
  {
   "cell_type": "markdown",
   "metadata": {},
   "source": [
    "#### Reading the files"
   ]
  },
  {
   "cell_type": "markdown",
   "metadata": {},
   "source": [
    "Read the functions below to load the datasets. They store the corpus in a list of sentences. Each sentence is a list of rows, where each row is a dictionary."
   ]
  },
  {
   "cell_type": "code",
   "execution_count": 2,
   "metadata": {},
   "outputs": [],
   "source": [
    "def read_sentences(file):\n",
    "    \"\"\"\n",
    "    Creates a list of sentences from the corpus\n",
    "    Each sentence is a string\n",
    "    :param file:\n",
    "    :return:\n",
    "    \"\"\"\n",
    "    f = open(file).read().strip()\n",
    "    sentences = f.split('\\n\\n')\n",
    "    return sentences"
   ]
  },
  {
   "cell_type": "code",
   "execution_count": 3,
   "metadata": {},
   "outputs": [],
   "source": [
    "def split_rows(sentences, column_names):\n",
    "    \"\"\"\n",
    "    Creates a list of sentence where each sentence is a list of lines\n",
    "    Each line is a dictionary of columns\n",
    "    :param sentences:\n",
    "    :param column_names:\n",
    "    :return:\n",
    "    \"\"\"\n",
    "    new_sentences = []\n",
    "    for sentence in sentences:\n",
    "        rows = sentence.split('\\n')\n",
    "        sentence = [dict(zip(column_names, row.split())) for row in rows]\n",
    "        new_sentences.append(sentence)\n",
    "    return new_sentences"
   ]
  },
  {
   "cell_type": "markdown",
   "metadata": {},
   "source": [
    "### Loading dictionaries"
   ]
  },
  {
   "cell_type": "markdown",
   "metadata": {},
   "source": [
    "The CoNLL 2000 files have three columns"
   ]
  },
  {
   "cell_type": "code",
   "execution_count": 4,
   "metadata": {},
   "outputs": [],
   "source": [
    "column_names = ['form', 'pos', 'chunk']"
   ]
  },
  {
   "cell_type": "markdown",
   "metadata": {},
   "source": [
    "We load the corpus"
   ]
  },
  {
   "cell_type": "code",
   "execution_count": 5,
   "metadata": {},
   "outputs": [
    {
     "data": {
      "text/plain": [
       "[[{'form': 'Confidence', 'pos': 'NN', 'chunk': 'B-NP'},\n",
       "  {'form': 'in', 'pos': 'IN', 'chunk': 'B-PP'},\n",
       "  {'form': 'the', 'pos': 'DT', 'chunk': 'B-NP'},\n",
       "  {'form': 'pound', 'pos': 'NN', 'chunk': 'I-NP'},\n",
       "  {'form': 'is', 'pos': 'VBZ', 'chunk': 'B-VP'},\n",
       "  {'form': 'widely', 'pos': 'RB', 'chunk': 'I-VP'},\n",
       "  {'form': 'expected', 'pos': 'VBN', 'chunk': 'I-VP'},\n",
       "  {'form': 'to', 'pos': 'TO', 'chunk': 'I-VP'},\n",
       "  {'form': 'take', 'pos': 'VB', 'chunk': 'I-VP'},\n",
       "  {'form': 'another', 'pos': 'DT', 'chunk': 'B-NP'},\n",
       "  {'form': 'sharp', 'pos': 'JJ', 'chunk': 'I-NP'},\n",
       "  {'form': 'dive', 'pos': 'NN', 'chunk': 'I-NP'},\n",
       "  {'form': 'if', 'pos': 'IN', 'chunk': 'B-SBAR'},\n",
       "  {'form': 'trade', 'pos': 'NN', 'chunk': 'B-NP'},\n",
       "  {'form': 'figures', 'pos': 'NNS', 'chunk': 'I-NP'},\n",
       "  {'form': 'for', 'pos': 'IN', 'chunk': 'B-PP'},\n",
       "  {'form': 'September', 'pos': 'NNP', 'chunk': 'B-NP'},\n",
       "  {'form': ',', 'pos': ',', 'chunk': 'O'},\n",
       "  {'form': 'due', 'pos': 'JJ', 'chunk': 'B-ADJP'},\n",
       "  {'form': 'for', 'pos': 'IN', 'chunk': 'B-PP'},\n",
       "  {'form': 'release', 'pos': 'NN', 'chunk': 'B-NP'},\n",
       "  {'form': 'tomorrow', 'pos': 'NN', 'chunk': 'B-NP'},\n",
       "  {'form': ',', 'pos': ',', 'chunk': 'O'},\n",
       "  {'form': 'fail', 'pos': 'VB', 'chunk': 'B-VP'},\n",
       "  {'form': 'to', 'pos': 'TO', 'chunk': 'I-VP'},\n",
       "  {'form': 'show', 'pos': 'VB', 'chunk': 'I-VP'},\n",
       "  {'form': 'a', 'pos': 'DT', 'chunk': 'B-NP'},\n",
       "  {'form': 'substantial', 'pos': 'JJ', 'chunk': 'I-NP'},\n",
       "  {'form': 'improvement', 'pos': 'NN', 'chunk': 'I-NP'},\n",
       "  {'form': 'from', 'pos': 'IN', 'chunk': 'B-PP'},\n",
       "  {'form': 'July', 'pos': 'NNP', 'chunk': 'B-NP'},\n",
       "  {'form': 'and', 'pos': 'CC', 'chunk': 'I-NP'},\n",
       "  {'form': 'August', 'pos': 'NNP', 'chunk': 'I-NP'},\n",
       "  {'form': \"'s\", 'pos': 'POS', 'chunk': 'B-NP'},\n",
       "  {'form': 'near-record', 'pos': 'JJ', 'chunk': 'I-NP'},\n",
       "  {'form': 'deficits', 'pos': 'NNS', 'chunk': 'I-NP'},\n",
       "  {'form': '.', 'pos': '.', 'chunk': 'O'}],\n",
       " [{'form': 'Chancellor', 'pos': 'NNP', 'chunk': 'O'},\n",
       "  {'form': 'of', 'pos': 'IN', 'chunk': 'B-PP'},\n",
       "  {'form': 'the', 'pos': 'DT', 'chunk': 'B-NP'},\n",
       "  {'form': 'Exchequer', 'pos': 'NNP', 'chunk': 'I-NP'},\n",
       "  {'form': 'Nigel', 'pos': 'NNP', 'chunk': 'B-NP'},\n",
       "  {'form': 'Lawson', 'pos': 'NNP', 'chunk': 'I-NP'},\n",
       "  {'form': \"'s\", 'pos': 'POS', 'chunk': 'B-NP'},\n",
       "  {'form': 'restated', 'pos': 'VBN', 'chunk': 'I-NP'},\n",
       "  {'form': 'commitment', 'pos': 'NN', 'chunk': 'I-NP'},\n",
       "  {'form': 'to', 'pos': 'TO', 'chunk': 'B-PP'},\n",
       "  {'form': 'a', 'pos': 'DT', 'chunk': 'B-NP'},\n",
       "  {'form': 'firm', 'pos': 'NN', 'chunk': 'I-NP'},\n",
       "  {'form': 'monetary', 'pos': 'JJ', 'chunk': 'I-NP'},\n",
       "  {'form': 'policy', 'pos': 'NN', 'chunk': 'I-NP'},\n",
       "  {'form': 'has', 'pos': 'VBZ', 'chunk': 'B-VP'},\n",
       "  {'form': 'helped', 'pos': 'VBN', 'chunk': 'I-VP'},\n",
       "  {'form': 'to', 'pos': 'TO', 'chunk': 'I-VP'},\n",
       "  {'form': 'prevent', 'pos': 'VB', 'chunk': 'I-VP'},\n",
       "  {'form': 'a', 'pos': 'DT', 'chunk': 'B-NP'},\n",
       "  {'form': 'freefall', 'pos': 'NN', 'chunk': 'I-NP'},\n",
       "  {'form': 'in', 'pos': 'IN', 'chunk': 'B-PP'},\n",
       "  {'form': 'sterling', 'pos': 'NN', 'chunk': 'B-NP'},\n",
       "  {'form': 'over', 'pos': 'IN', 'chunk': 'B-PP'},\n",
       "  {'form': 'the', 'pos': 'DT', 'chunk': 'B-NP'},\n",
       "  {'form': 'past', 'pos': 'JJ', 'chunk': 'I-NP'},\n",
       "  {'form': 'week', 'pos': 'NN', 'chunk': 'I-NP'},\n",
       "  {'form': '.', 'pos': '.', 'chunk': 'O'}]]"
      ]
     },
     "execution_count": 5,
     "metadata": {},
     "output_type": "execute_result"
    }
   ],
   "source": [
    "train_sentences = read_sentences(train_file)\n",
    "train_corpus = split_rows(train_sentences, column_names)\n",
    "train_corpus[:2]"
   ]
  },
  {
   "cell_type": "markdown",
   "metadata": {},
   "source": [
    "## Baseline chunker"
   ]
  },
  {
   "cell_type": "markdown",
   "metadata": {},
   "source": [
    "Most statistical algorithms for language processing start with a so-called baseline. The baseline performance corresponds to the application of a minimal technique that is used to assess the difficulty of a task and for comparison with further programs.\n",
    "\n",
    "You will implement the baseline proposed by the organizers of the\n",
    "        <a href=\"https://www.clips.uantwerpen.be/conll2000/chunking/\">CoNLL 2000 shared task</a>, Sect. <i>Results</i>.\n",
    "1. Read it;\n",
    "2. In the report you will tell what do you think of it."
   ]
  },
  {
   "cell_type": "markdown",
   "metadata": {},
   "source": [
    "### Auxiliary functions"
   ]
  },
  {
   "cell_type": "markdown",
   "metadata": {},
   "source": [
    "A function to count the parts of speech"
   ]
  },
  {
   "cell_type": "code",
   "execution_count": 6,
   "metadata": {},
   "outputs": [],
   "source": [
    "def count_pos(corpus):\n",
    "    \"\"\"\n",
    "    Computes the part-of-speech distribution\n",
    "    in a CoNLL 2000 file\n",
    "    :param corpus:\n",
    "    :return:\n",
    "    \"\"\"\n",
    "    pos_cnt = {}\n",
    "    for sentence in corpus:\n",
    "        for row in sentence:\n",
    "            if row['pos'] in pos_cnt:\n",
    "                pos_cnt[row['pos']] += 1\n",
    "            else:\n",
    "                pos_cnt[row['pos']] = 1\n",
    "    return pos_cnt"
   ]
  },
  {
   "cell_type": "markdown",
   "metadata": {},
   "source": [
    "We first collect all the parts of speech and we count them."
   ]
  },
  {
   "cell_type": "code",
   "execution_count": 7,
   "metadata": {},
   "outputs": [
    {
     "data": {
      "text/plain": [
       "{'NN': 30147,\n",
       " 'IN': 22764,\n",
       " 'DT': 18335,\n",
       " 'VBZ': 4648,\n",
       " 'RB': 6607,\n",
       " 'VBN': 4763,\n",
       " 'TO': 5081,\n",
       " 'VB': 6017,\n",
       " 'JJ': 13085,\n",
       " 'NNS': 13619,\n",
       " 'NNP': 19884,\n",
       " ',': 10770,\n",
       " 'CC': 5372,\n",
       " 'POS': 1769,\n",
       " '.': 8827,\n",
       " 'VBP': 2868,\n",
       " 'VBG': 3272,\n",
       " 'PRP$': 1881,\n",
       " 'CD': 8315,\n",
       " '``': 1531,\n",
       " \"''\": 1493,\n",
       " 'VBD': 6745,\n",
       " 'EX': 206,\n",
       " 'MD': 2167,\n",
       " '#': 36,\n",
       " '(': 274,\n",
       " '$': 1750,\n",
       " ')': 281,\n",
       " 'NNPS': 420,\n",
       " 'PRP': 3820,\n",
       " 'JJS': 374,\n",
       " 'WP': 529,\n",
       " 'RBR': 321,\n",
       " 'JJR': 853,\n",
       " 'WDT': 955,\n",
       " 'WRB': 478,\n",
       " 'RBS': 191,\n",
       " 'PDT': 55,\n",
       " 'RP': 83,\n",
       " ':': 1047,\n",
       " 'FW': 38,\n",
       " 'WP$': 35,\n",
       " 'SYM': 6,\n",
       " 'UH': 15}"
      ]
     },
     "execution_count": 7,
     "metadata": {},
     "output_type": "execute_result"
    }
   ],
   "source": [
    "pos_cnt = count_pos(train_corpus)\n",
    "pos_cnt"
   ]
  },
  {
   "cell_type": "markdown",
   "metadata": {},
   "source": [
    "### Chunk distribution"
   ]
  },
  {
   "cell_type": "markdown",
   "metadata": {},
   "source": [
    "You will compute the chunk distribution for each part of speech. You will use the training file to derive the distribution and you will store the results in a dictionary. Below, you have an excerpt of the expected results:\n",
    "```\n",
    "{'JJR':\n",
    "{'I-ADVP': 17, 'I-ADJP': 45, 'I-NP': 204, 'B-ADVP': 63,\n",
    "'B-PP': 2, 'B-ADJP': 111, 'B-NP': 382, 'B-VP': 2,\n",
    "'I-VP': 11, 'O': 16},\n",
    "'CC':\n",
    "{'B-ADVP': 3, 'O': 3676, 'I-VP': 104, 'B-CONJP': 6,\n",
    "'I-ADVP': 30, 'I-UCP': 2, 'I-PP': 24, 'I-ADJP': 26,\n",
    "'I-NP': 1409, 'B-ADJP': 2, 'B-NP': 18, 'B-PP': 70,\n",
    "'I-PRT': 1, 'B-VP': 1},\n",
    "'NN':\n",
    "{'B-LST': 2, 'I-INTJ': 2, 'B-ADVP': 38, 'O': 37,\n",
    "'I-ADVP': 11, 'B-INTJ': 1, 'I-UCP': 2, 'B-UCP': 2,\n",
    "'I-VP': 77, 'B-PRT': 2, 'I-ADJP': 41, 'I-NP': 24456,\n",
    "'B-ADJP': 44, 'B-NP': 5160, 'B-PP': 15, 'B-VP': 257},\n",
    "...\n",
    "```"
   ]
  },
  {
   "cell_type": "code",
   "execution_count": 8,
   "metadata": {},
   "outputs": [],
   "source": [
    "def calc_chunk_dist(corpus):\n",
    "    cnt = {}\n",
    "    for sentence in corpus:\n",
    "        for row in sentence:\n",
    "            pos = row['pos']\n",
    "            chunk = row['chunk']\n",
    "            if pos in cnt:\n",
    "                if chunk in cnt[pos]:\n",
    "                    cnt[pos][chunk] +=1\n",
    "                else:\n",
    "                    cnt[pos][chunk] = 1\n",
    "            else:\n",
    "                cnt[pos] = { chunk : 1 }\n",
    "    return cnt\n",
    "\n",
    "chunk_dist = calc_chunk_dist(train_corpus)"
   ]
  },
  {
   "cell_type": "code",
   "execution_count": 9,
   "metadata": {},
   "outputs": [
    {
     "data": {
      "text/plain": [
       "{'B-NP': 5160,\n",
       " 'I-NP': 24456,\n",
       " 'B-VP': 257,\n",
       " 'B-ADJP': 44,\n",
       " 'B-ADVP': 38,\n",
       " 'O': 37,\n",
       " 'B-PP': 15,\n",
       " 'I-ADVP': 11,\n",
       " 'I-ADJP': 41,\n",
       " 'I-VP': 77,\n",
       " 'B-INTJ': 1,\n",
       " 'B-LST': 2,\n",
       " 'B-UCP': 2,\n",
       " 'I-UCP': 2,\n",
       " 'B-PRT': 2,\n",
       " 'I-INTJ': 2}"
      ]
     },
     "execution_count": 9,
     "metadata": {},
     "output_type": "execute_result"
    }
   ],
   "source": [
    "chunk_dist['NN']"
   ]
  },
  {
   "cell_type": "markdown",
   "metadata": {},
   "source": [
    "### Selecting the POS-chunk associations"
   ]
  },
  {
   "cell_type": "markdown",
   "metadata": {},
   "source": [
    "For each part of speech, select the best association. In the example above, you will have (NN, I-NP) as it is the most frequent. You will store the results in a dictionary that you will call `pos_chunk`"
   ]
  },
  {
   "cell_type": "code",
   "execution_count": 10,
   "metadata": {},
   "outputs": [],
   "source": [
    "def make_pos_chunk(dist):\n",
    "    pos_chunk = {}\n",
    "    for key, value in dist.items():\n",
    "        pos_chunk[key] = max(value, key=lambda key: value[key])\n",
    "    \n",
    "    return pos_chunk \n",
    "        \n",
    "pos_chunk = make_pos_chunk(chunk_dist)"
   ]
  },
  {
   "cell_type": "code",
   "execution_count": 11,
   "metadata": {},
   "outputs": [
    {
     "data": {
      "text/plain": [
       "{'NN': 'I-NP',\n",
       " 'IN': 'B-PP',\n",
       " 'DT': 'B-NP',\n",
       " 'VBZ': 'B-VP',\n",
       " 'RB': 'B-ADVP',\n",
       " 'VBN': 'I-VP',\n",
       " 'TO': 'B-PP',\n",
       " 'VB': 'I-VP',\n",
       " 'JJ': 'I-NP',\n",
       " 'NNS': 'I-NP',\n",
       " 'NNP': 'I-NP',\n",
       " ',': 'O',\n",
       " 'CC': 'O',\n",
       " 'POS': 'B-NP',\n",
       " '.': 'O',\n",
       " 'VBP': 'B-VP',\n",
       " 'VBG': 'B-VP',\n",
       " 'PRP$': 'B-NP',\n",
       " 'CD': 'I-NP',\n",
       " '``': 'O',\n",
       " \"''\": 'O',\n",
       " 'VBD': 'B-VP',\n",
       " 'EX': 'B-NP',\n",
       " 'MD': 'B-VP',\n",
       " '#': 'B-NP',\n",
       " '(': 'O',\n",
       " '$': 'B-NP',\n",
       " ')': 'O',\n",
       " 'NNPS': 'I-NP',\n",
       " 'PRP': 'B-NP',\n",
       " 'JJS': 'I-NP',\n",
       " 'WP': 'B-NP',\n",
       " 'RBR': 'B-ADVP',\n",
       " 'JJR': 'B-NP',\n",
       " 'WDT': 'B-NP',\n",
       " 'WRB': 'B-ADVP',\n",
       " 'RBS': 'B-NP',\n",
       " 'PDT': 'B-NP',\n",
       " 'RP': 'B-PRT',\n",
       " ':': 'O',\n",
       " 'FW': 'I-NP',\n",
       " 'WP$': 'B-NP',\n",
       " 'SYM': 'O',\n",
       " 'UH': 'B-INTJ'}"
      ]
     },
     "execution_count": 11,
     "metadata": {},
     "output_type": "execute_result"
    }
   ],
   "source": [
    "pos_chunk"
   ]
  },
  {
   "cell_type": "markdown",
   "metadata": {},
   "source": [
    "### Prediction"
   ]
  },
  {
   "cell_type": "markdown",
   "metadata": {},
   "source": [
    "Using the resulting associations, apply your chunker to the test file. You will write a `predict(model, corpus)` function, where `model` will be your associations and `corpus`, the test corpus. You will format the test corpus as a dictionary, where you will add a `pchunk` key for each row with a value that will correspond to the predicted chunk."
   ]
  },
  {
   "cell_type": "code",
   "execution_count": 12,
   "metadata": {},
   "outputs": [],
   "source": [
    "def predict(model, corpus):\n",
    "    for sentence in corpus:\n",
    "        for row in sentence: \n",
    "            pos = row['pos']\n",
    "            row['pchunk'] = model[pos]\n",
    "    return corpus"
   ]
  },
  {
   "cell_type": "markdown",
   "metadata": {},
   "source": [
    "We load the test corpus"
   ]
  },
  {
   "cell_type": "code",
   "execution_count": 13,
   "metadata": {},
   "outputs": [
    {
     "data": {
      "text/plain": [
       "[[{'form': 'Rockwell', 'pos': 'NNP', 'chunk': 'B-NP'},\n",
       "  {'form': 'International', 'pos': 'NNP', 'chunk': 'I-NP'},\n",
       "  {'form': 'Corp.', 'pos': 'NNP', 'chunk': 'I-NP'},\n",
       "  {'form': \"'s\", 'pos': 'POS', 'chunk': 'B-NP'},\n",
       "  {'form': 'Tulsa', 'pos': 'NNP', 'chunk': 'I-NP'},\n",
       "  {'form': 'unit', 'pos': 'NN', 'chunk': 'I-NP'},\n",
       "  {'form': 'said', 'pos': 'VBD', 'chunk': 'B-VP'},\n",
       "  {'form': 'it', 'pos': 'PRP', 'chunk': 'B-NP'},\n",
       "  {'form': 'signed', 'pos': 'VBD', 'chunk': 'B-VP'},\n",
       "  {'form': 'a', 'pos': 'DT', 'chunk': 'B-NP'},\n",
       "  {'form': 'tentative', 'pos': 'JJ', 'chunk': 'I-NP'},\n",
       "  {'form': 'agreement', 'pos': 'NN', 'chunk': 'I-NP'},\n",
       "  {'form': 'extending', 'pos': 'VBG', 'chunk': 'B-VP'},\n",
       "  {'form': 'its', 'pos': 'PRP$', 'chunk': 'B-NP'},\n",
       "  {'form': 'contract', 'pos': 'NN', 'chunk': 'I-NP'},\n",
       "  {'form': 'with', 'pos': 'IN', 'chunk': 'B-PP'},\n",
       "  {'form': 'Boeing', 'pos': 'NNP', 'chunk': 'B-NP'},\n",
       "  {'form': 'Co.', 'pos': 'NNP', 'chunk': 'I-NP'},\n",
       "  {'form': 'to', 'pos': 'TO', 'chunk': 'B-VP'},\n",
       "  {'form': 'provide', 'pos': 'VB', 'chunk': 'I-VP'},\n",
       "  {'form': 'structural', 'pos': 'JJ', 'chunk': 'B-NP'},\n",
       "  {'form': 'parts', 'pos': 'NNS', 'chunk': 'I-NP'},\n",
       "  {'form': 'for', 'pos': 'IN', 'chunk': 'B-PP'},\n",
       "  {'form': 'Boeing', 'pos': 'NNP', 'chunk': 'B-NP'},\n",
       "  {'form': \"'s\", 'pos': 'POS', 'chunk': 'B-NP'},\n",
       "  {'form': '747', 'pos': 'CD', 'chunk': 'I-NP'},\n",
       "  {'form': 'jetliners', 'pos': 'NNS', 'chunk': 'I-NP'},\n",
       "  {'form': '.', 'pos': '.', 'chunk': 'O'}]]"
      ]
     },
     "execution_count": 13,
     "metadata": {},
     "output_type": "execute_result"
    }
   ],
   "source": [
    "test_sentences = read_sentences(test_file)\n",
    "test_corpus = split_rows(test_sentences, column_names)\n",
    "test_corpus[:1]"
   ]
  },
  {
   "cell_type": "markdown",
   "metadata": {},
   "source": [
    "We predict the groups. You should have added a `pchunk` key"
   ]
  },
  {
   "cell_type": "code",
   "execution_count": 14,
   "metadata": {},
   "outputs": [
    {
     "data": {
      "text/plain": [
       "[[{'form': 'Rockwell', 'pos': 'NNP', 'chunk': 'B-NP', 'pchunk': 'I-NP'},\n",
       "  {'form': 'International', 'pos': 'NNP', 'chunk': 'I-NP', 'pchunk': 'I-NP'},\n",
       "  {'form': 'Corp.', 'pos': 'NNP', 'chunk': 'I-NP', 'pchunk': 'I-NP'},\n",
       "  {'form': \"'s\", 'pos': 'POS', 'chunk': 'B-NP', 'pchunk': 'B-NP'},\n",
       "  {'form': 'Tulsa', 'pos': 'NNP', 'chunk': 'I-NP', 'pchunk': 'I-NP'},\n",
       "  {'form': 'unit', 'pos': 'NN', 'chunk': 'I-NP', 'pchunk': 'I-NP'},\n",
       "  {'form': 'said', 'pos': 'VBD', 'chunk': 'B-VP', 'pchunk': 'B-VP'},\n",
       "  {'form': 'it', 'pos': 'PRP', 'chunk': 'B-NP', 'pchunk': 'B-NP'},\n",
       "  {'form': 'signed', 'pos': 'VBD', 'chunk': 'B-VP', 'pchunk': 'B-VP'},\n",
       "  {'form': 'a', 'pos': 'DT', 'chunk': 'B-NP', 'pchunk': 'B-NP'},\n",
       "  {'form': 'tentative', 'pos': 'JJ', 'chunk': 'I-NP', 'pchunk': 'I-NP'},\n",
       "  {'form': 'agreement', 'pos': 'NN', 'chunk': 'I-NP', 'pchunk': 'I-NP'},\n",
       "  {'form': 'extending', 'pos': 'VBG', 'chunk': 'B-VP', 'pchunk': 'B-VP'},\n",
       "  {'form': 'its', 'pos': 'PRP$', 'chunk': 'B-NP', 'pchunk': 'B-NP'},\n",
       "  {'form': 'contract', 'pos': 'NN', 'chunk': 'I-NP', 'pchunk': 'I-NP'},\n",
       "  {'form': 'with', 'pos': 'IN', 'chunk': 'B-PP', 'pchunk': 'B-PP'},\n",
       "  {'form': 'Boeing', 'pos': 'NNP', 'chunk': 'B-NP', 'pchunk': 'I-NP'},\n",
       "  {'form': 'Co.', 'pos': 'NNP', 'chunk': 'I-NP', 'pchunk': 'I-NP'},\n",
       "  {'form': 'to', 'pos': 'TO', 'chunk': 'B-VP', 'pchunk': 'B-PP'},\n",
       "  {'form': 'provide', 'pos': 'VB', 'chunk': 'I-VP', 'pchunk': 'I-VP'},\n",
       "  {'form': 'structural', 'pos': 'JJ', 'chunk': 'B-NP', 'pchunk': 'I-NP'},\n",
       "  {'form': 'parts', 'pos': 'NNS', 'chunk': 'I-NP', 'pchunk': 'I-NP'},\n",
       "  {'form': 'for', 'pos': 'IN', 'chunk': 'B-PP', 'pchunk': 'B-PP'},\n",
       "  {'form': 'Boeing', 'pos': 'NNP', 'chunk': 'B-NP', 'pchunk': 'I-NP'},\n",
       "  {'form': \"'s\", 'pos': 'POS', 'chunk': 'B-NP', 'pchunk': 'B-NP'},\n",
       "  {'form': '747', 'pos': 'CD', 'chunk': 'I-NP', 'pchunk': 'I-NP'},\n",
       "  {'form': 'jetliners', 'pos': 'NNS', 'chunk': 'I-NP', 'pchunk': 'I-NP'},\n",
       "  {'form': '.', 'pos': '.', 'chunk': 'O', 'pchunk': 'O'}]]"
      ]
     },
     "execution_count": 14,
     "metadata": {},
     "output_type": "execute_result"
    }
   ],
   "source": [
    "predicted_test_corpus = predict(pos_chunk, test_corpus)\n",
    "predicted_test_corpus[:1]"
   ]
  },
  {
   "cell_type": "markdown",
   "metadata": {},
   "source": [
    "### Accuracy"
   ]
  },
  {
   "cell_type": "markdown",
   "metadata": {},
   "source": [
    "We can evaluate the performance of the baseline with the tag accuracy: the percentage of words that receive the correct tag."
   ]
  },
  {
   "cell_type": "code",
   "execution_count": 15,
   "metadata": {},
   "outputs": [],
   "source": [
    "def eval(predicted):\n",
    "    \"\"\"\n",
    "    Evaluates the predicted chunk accuracy\n",
    "    :param predicted:\n",
    "    :return:\n",
    "    \"\"\"\n",
    "    word_cnt = 0\n",
    "    correct = 0\n",
    "    for sentence in predicted:\n",
    "        for row in sentence:\n",
    "            word_cnt += 1\n",
    "            if row['chunk'] == row['pchunk']:\n",
    "                correct += 1\n",
    "    return correct / word_cnt"
   ]
  },
  {
   "cell_type": "code",
   "execution_count": 16,
   "metadata": {},
   "outputs": [
    {
     "data": {
      "text/plain": [
       "0.7729066846782194"
      ]
     },
     "execution_count": 16,
     "metadata": {},
     "output_type": "execute_result"
    }
   ],
   "source": [
    "accuracy = eval(predicted_test_corpus)\n",
    "accuracy"
   ]
  },
  {
   "cell_type": "markdown",
   "metadata": {},
   "source": [
    "### The CoNLL evaluation"
   ]
  },
  {
   "cell_type": "markdown",
   "metadata": {},
   "source": [
    "The accuracy is very misleading as it is biased by the most frequent tags. It is not a good way to evaluate chunking. Instead, CoNLL computes the F1 score of all the chunks with a specific evaluation script."
   ]
  },
  {
   "cell_type": "markdown",
   "metadata": {},
   "source": [
    "#### Saving the corpus"
   ]
  },
  {
   "cell_type": "markdown",
   "metadata": {},
   "source": [
    "To use the CoNLL evaluation script, you will store your results in an output file that has four columns. The three first columns will be the input columns from the test file: \n",
    "* word, \n",
    "* part of speech, and \n",
    "* gold-standard chunk. \n",
    "\n",
    "You will append the predicted chunk as the 4th column. Your output file should look like the excerpt below:\n",
    "```\n",
    "Rockwell NNP B-NP I-NP\n",
    "International NNP I-NP I-NP\n",
    "Corp. NNP I-NP I-NP\n",
    "'s POS B-NP B-NP\n",
    "Tulsa NNP I-NP I-NP\n",
    "unit NN I-NP I-NP\n",
    "said VBD B-VP B-VP\n",
    "it PRP B-NP B-NP\n",
    "```\n",
    "The separator is the space."
   ]
  },
  {
   "cell_type": "markdown",
   "metadata": {},
   "source": [
    "You will use a `save_results(output_dict, keys, output_file)` function, where the keys will be `['form', 'pos', 'chunk', 'pchunk']`"
   ]
  },
  {
   "cell_type": "code",
   "execution_count": 17,
   "metadata": {},
   "outputs": [],
   "source": [
    "keys = ['form', 'pos', 'chunk', 'pchunk']"
   ]
  },
  {
   "cell_type": "code",
   "execution_count": 18,
   "metadata": {},
   "outputs": [],
   "source": [
    "def save_results(output_dict, keys, output_file):\n",
    "    f_out = open(output_file, 'w')\n",
    "    # We write the word (form), part of speech (pos),\n",
    "    # gold-standard chunk (chunk), and predicted chunk (pchunk)\n",
    "    for sentence in output_dict:\n",
    "        for row in sentence:\n",
    "            for key in keys:\n",
    "                f_out.write(row[key] + ' ')\n",
    "            f_out.write('\\n')\n",
    "        f_out.write('\\n')\n",
    "    f_out.close()\n",
    "    return"
   ]
  },
  {
   "cell_type": "code",
   "execution_count": 19,
   "metadata": {},
   "outputs": [],
   "source": [
    "save_results(predicted_test_corpus, keys, 'out')"
   ]
  },
  {
   "cell_type": "markdown",
   "metadata": {},
   "source": [
    "The CoNLL 2000 evaluation script will use these two last columns, chunk and predicted chunk, to compute the performance."
   ]
  },
  {
   "cell_type": "markdown",
   "metadata": {},
   "source": [
    "### Evaluation"
   ]
  },
  {
   "cell_type": "markdown",
   "metadata": {},
   "source": [
    "To evaluate your results, you have two options:\n",
    "1. Use the original conlleval script here:  <a href=\"https://www.clips.uantwerpen.be/conll2000/chunking/\"><tt>conlleval.txt</tt></a>.\n",
    "2. Use a Python translation of it. \n",
    "\n",
    "You will use the second option and you will describe the results you obtained in your report"
   ]
  },
  {
   "cell_type": "markdown",
   "metadata": {},
   "source": [
    "#### The Python translation"
   ]
  },
  {
   "cell_type": "markdown",
   "metadata": {},
   "source": [
    "Install the script with:\n",
    "```\n",
    "pip install conlleval\n",
    "```\n",
    "from https://github.com/kaniblu/conlleval\n",
    "and run the cell below"
   ]
  },
  {
   "cell_type": "code",
   "execution_count": 20,
   "metadata": {},
   "outputs": [],
   "source": [
    "import conlleval\n",
    "lines = open('out').read().splitlines()\n",
    "res = conlleval.evaluate(lines)\n",
    "baseline_score = res['overall']['chunks']['evals']['f1']"
   ]
  },
  {
   "cell_type": "code",
   "execution_count": 21,
   "metadata": {},
   "outputs": [
    {
     "data": {
      "text/plain": [
       "0.770671072299583"
      ]
     },
     "execution_count": 21,
     "metadata": {},
     "output_type": "execute_result"
    }
   ],
   "source": [
    "baseline_score"
   ]
  },
  {
   "cell_type": "markdown",
   "metadata": {},
   "source": [
    "### The official script"
   ]
  },
  {
   "cell_type": "markdown",
   "metadata": {},
   "source": [
    "You may want to double-check your results with the original CoNLL script. It is more complex to use however:\n",
    "* <tt>conlleval.txt</tt> is the official CoNLL Perl script. It expects the two last columns of the test set to be the manually assigned chunk (gold standard) and the predicted chunk.\n",
    "* <tt>conlleval.txt</tt> was written for Unix and if you run Windows, you will have to use a terminal command. In the File menu of the notebook, select New and then Terminal.\n",
    "* Start it like this: ` $ conlleval.txt <out` where the `out` file contains both the gold and predicted chunk tags. `conlleval.txt` is a Perl script.\n",
    "* Perl is installed on most Unix distributions. If it is not installed on your machine, you need to install it. Make also sure that you have the execution rights. Otherwise change them with: `$ chmod +x conlleval.txt`\n",
    "* The `conlleval.txt` script expects the new lines to be `\\n` as in Unix. If you run your Python program on Windows, your new lines will be `\\r\\n`. To have the correct new lines, add this parameter to `open()`: `newline='\\n’` like this: `f_out = open('out', ‘w’, newline='\\n’)`\n",
    "* The complete description of the CoNLL 2000 evaluation script is available here: [https://www.clips.uantwerpen.be/conll2000/chunking/output.html](https://www.clips.uantwerpen.be/conll2000/chunking/output.html)"
   ]
  },
  {
   "cell_type": "markdown",
   "metadata": {},
   "source": [
    "## Using Machine Learning: A first ML program"
   ]
  },
  {
   "cell_type": "markdown",
   "metadata": {},
   "source": [
    "In this exercise, you will apply and explore a machine-learning program.\n",
    "\n",
    "The program that won the CoNLL 2000 shared task (Kudoh and Matsumoto, 2000) used a window of five words around the chunk tag to identify, $c_i$. They built a feature vector consisting of:\n",
    "1. The values of the five words in this window: $w_{i-2}, w_{i-1}, w_{i}, w_{i+1}, w_{i+2}$\n",
    "2. The values of the five parts of speech in this window: $t_{i-2}, t_{i-1}, t_{i}, t_{i+1}, t_{i+2}$\n",
    "3. The values of the two previous chunk tags in the first part of the window: $c_{i-2}, c_{i-1}$\n",
    "\n",
    "The two last parameters (3.) are said to be dynamic because the program computes them at run-time. Read [Kudoh and Matsumoto's paper](http://www.clips.uantwerpen.be/conll2000/pdf/14244kud.pdf) and the [Yamcha](http://www.chasen.org/~taku/software/yamcha/) software site.\n",
    "\n",
    "You will start with a given code that uses the two first sets of features (1. and 2.) and add yourself the last one (3.) to improve the performance of your chunker. Kudoh and Matsumoto trained a classifier based on support vector machines. You will use logistic regression."
   ]
  },
  {
   "cell_type": "markdown",
   "metadata": {},
   "source": [
    "### Imports"
   ]
  },
  {
   "cell_type": "code",
   "execution_count": 22,
   "metadata": {},
   "outputs": [],
   "source": [
    "import bs4\n",
    "import os\n",
    "import requests\n",
    "from sklearn.feature_extraction import DictVectorizer\n",
    "from sklearn import svm\n",
    "from sklearn import linear_model\n",
    "from sklearn import metrics\n",
    "from sklearn import tree\n",
    "from sklearn.naive_bayes import GaussianNB\n",
    "from sklearn.model_selection import GridSearchCV\n",
    "import time"
   ]
  },
  {
   "cell_type": "markdown",
   "metadata": {},
   "source": [
    "### Feature extraction"
   ]
  },
  {
   "cell_type": "markdown",
   "metadata": {},
   "source": [
    "#### Functions"
   ]
  },
  {
   "cell_type": "markdown",
   "metadata": {},
   "source": [
    "A first function to extract features from one sentence"
   ]
  },
  {
   "cell_type": "code",
   "execution_count": 23,
   "metadata": {},
   "outputs": [],
   "source": [
    "def extract_features_sent_static(sentence, w_size, feature_names):\n",
    "    \"\"\"\n",
    "    Extract the features from one sentence\n",
    "    returns X and y, where X is a list of dictionaries and\n",
    "    y is a list of symbols\n",
    "    :param sentence: string containing the CoNLL structure of a sentence\n",
    "    :param w_size:\n",
    "    :return:\n",
    "    \"\"\"\n",
    "\n",
    "    # We pad the sentence to extract the context window more easily\n",
    "    start = [{'form': 'BOS', 'pos': 'BOS', 'chunk': 'BOS'}]\n",
    "    end = [{'form': 'EOS', 'pos': 'EOS', 'chunk': 'EOS'}]\n",
    "    start *= w_size\n",
    "    end *= w_size\n",
    "    padded_sentence = start + sentence\n",
    "    padded_sentence += end\n",
    "    \n",
    "    # We extract the features and the classes\n",
    "    # X contains is a list of features, where each feature vector is a dictionary\n",
    "    # y is the list of classes\n",
    "    X = list()\n",
    "    y = list()\n",
    "    for i in range(len(padded_sentence) - 2 * w_size):\n",
    "        # x is a row of X\n",
    "        x = list()\n",
    "        # The words in lower case\n",
    "        for j in range(2 * w_size + 1):\n",
    "            x.append(padded_sentence[i + j]['form'].lower())\n",
    "        # The POS\n",
    "        for j in range(2 * w_size + 1):\n",
    "            x.append(padded_sentence[i + j]['pos'])\n",
    "        # The chunks (Up to the word)\n",
    "        \"\"\"\n",
    "        for j in range(w_size):\n",
    "            feature_line.append(padded_sentence[i + j]['chunk'])\n",
    "        \"\"\"\n",
    "        # We represent the feature vector as a dictionary\n",
    "        X.append(dict(zip(feature_names, x)))\n",
    "        # The classes are stored in a list\n",
    "        y.append(padded_sentence[i + w_size]['chunk'])\n",
    "    return X, y"
   ]
  },
  {
   "cell_type": "markdown",
   "metadata": {},
   "source": [
    "And from all the sentences"
   ]
  },
  {
   "cell_type": "code",
   "execution_count": 24,
   "metadata": {},
   "outputs": [],
   "source": [
    "def extract_features_static(sentences, w_size, feature_names):\n",
    "    \"\"\"\n",
    "    Builds X matrix and y vector\n",
    "    X is a list of dictionaries and y is a list\n",
    "    :param sentences:\n",
    "    :param w_size:\n",
    "    :return:\n",
    "    \"\"\"\n",
    "    X_l = []\n",
    "    y_l = []\n",
    "    for sentence in sentences:\n",
    "        X, y = extract_features_sent_static(sentence, w_size, feature_names)\n",
    "        X_l.extend(X)\n",
    "        y_l.extend(y)\n",
    "    return X_l, y_l"
   ]
  },
  {
   "cell_type": "markdown",
   "metadata": {},
   "source": [
    "#### Applying the feature extraction"
   ]
  },
  {
   "cell_type": "markdown",
   "metadata": {},
   "source": [
    "The size of the window and the names of the features"
   ]
  },
  {
   "cell_type": "code",
   "execution_count": 25,
   "metadata": {},
   "outputs": [],
   "source": [
    "w_size = 2  # The size of the context window to the left and right of the word\n",
    "feature_names = ['word_n2', 'word_n1', 'word', 'word_p1', 'word_p2',\n",
    "                 'pos_n2', 'pos_n1', 'pos', 'pos_p1', 'pos_p2']"
   ]
  },
  {
   "cell_type": "markdown",
   "metadata": {},
   "source": [
    "We read the corpus and format it as a dictionary"
   ]
  },
  {
   "cell_type": "code",
   "execution_count": 26,
   "metadata": {},
   "outputs": [],
   "source": [
    "train_sentences = read_sentences(train_file)\n",
    "train_corpus = split_rows(train_sentences, column_names)"
   ]
  },
  {
   "cell_type": "code",
   "execution_count": 27,
   "metadata": {
    "scrolled": false
   },
   "outputs": [
    {
     "data": {
      "text/plain": [
       "[[{'form': 'Confidence', 'pos': 'NN', 'chunk': 'B-NP'},\n",
       "  {'form': 'in', 'pos': 'IN', 'chunk': 'B-PP'},\n",
       "  {'form': 'the', 'pos': 'DT', 'chunk': 'B-NP'},\n",
       "  {'form': 'pound', 'pos': 'NN', 'chunk': 'I-NP'},\n",
       "  {'form': 'is', 'pos': 'VBZ', 'chunk': 'B-VP'},\n",
       "  {'form': 'widely', 'pos': 'RB', 'chunk': 'I-VP'},\n",
       "  {'form': 'expected', 'pos': 'VBN', 'chunk': 'I-VP'},\n",
       "  {'form': 'to', 'pos': 'TO', 'chunk': 'I-VP'},\n",
       "  {'form': 'take', 'pos': 'VB', 'chunk': 'I-VP'},\n",
       "  {'form': 'another', 'pos': 'DT', 'chunk': 'B-NP'},\n",
       "  {'form': 'sharp', 'pos': 'JJ', 'chunk': 'I-NP'},\n",
       "  {'form': 'dive', 'pos': 'NN', 'chunk': 'I-NP'},\n",
       "  {'form': 'if', 'pos': 'IN', 'chunk': 'B-SBAR'},\n",
       "  {'form': 'trade', 'pos': 'NN', 'chunk': 'B-NP'},\n",
       "  {'form': 'figures', 'pos': 'NNS', 'chunk': 'I-NP'},\n",
       "  {'form': 'for', 'pos': 'IN', 'chunk': 'B-PP'},\n",
       "  {'form': 'September', 'pos': 'NNP', 'chunk': 'B-NP'},\n",
       "  {'form': ',', 'pos': ',', 'chunk': 'O'},\n",
       "  {'form': 'due', 'pos': 'JJ', 'chunk': 'B-ADJP'},\n",
       "  {'form': 'for', 'pos': 'IN', 'chunk': 'B-PP'},\n",
       "  {'form': 'release', 'pos': 'NN', 'chunk': 'B-NP'},\n",
       "  {'form': 'tomorrow', 'pos': 'NN', 'chunk': 'B-NP'},\n",
       "  {'form': ',', 'pos': ',', 'chunk': 'O'},\n",
       "  {'form': 'fail', 'pos': 'VB', 'chunk': 'B-VP'},\n",
       "  {'form': 'to', 'pos': 'TO', 'chunk': 'I-VP'},\n",
       "  {'form': 'show', 'pos': 'VB', 'chunk': 'I-VP'},\n",
       "  {'form': 'a', 'pos': 'DT', 'chunk': 'B-NP'},\n",
       "  {'form': 'substantial', 'pos': 'JJ', 'chunk': 'I-NP'},\n",
       "  {'form': 'improvement', 'pos': 'NN', 'chunk': 'I-NP'},\n",
       "  {'form': 'from', 'pos': 'IN', 'chunk': 'B-PP'},\n",
       "  {'form': 'July', 'pos': 'NNP', 'chunk': 'B-NP'},\n",
       "  {'form': 'and', 'pos': 'CC', 'chunk': 'I-NP'},\n",
       "  {'form': 'August', 'pos': 'NNP', 'chunk': 'I-NP'},\n",
       "  {'form': \"'s\", 'pos': 'POS', 'chunk': 'B-NP'},\n",
       "  {'form': 'near-record', 'pos': 'JJ', 'chunk': 'I-NP'},\n",
       "  {'form': 'deficits', 'pos': 'NNS', 'chunk': 'I-NP'},\n",
       "  {'form': '.', 'pos': '.', 'chunk': 'O'}],\n",
       " [{'form': 'Chancellor', 'pos': 'NNP', 'chunk': 'O'},\n",
       "  {'form': 'of', 'pos': 'IN', 'chunk': 'B-PP'},\n",
       "  {'form': 'the', 'pos': 'DT', 'chunk': 'B-NP'},\n",
       "  {'form': 'Exchequer', 'pos': 'NNP', 'chunk': 'I-NP'},\n",
       "  {'form': 'Nigel', 'pos': 'NNP', 'chunk': 'B-NP'},\n",
       "  {'form': 'Lawson', 'pos': 'NNP', 'chunk': 'I-NP'},\n",
       "  {'form': \"'s\", 'pos': 'POS', 'chunk': 'B-NP'},\n",
       "  {'form': 'restated', 'pos': 'VBN', 'chunk': 'I-NP'},\n",
       "  {'form': 'commitment', 'pos': 'NN', 'chunk': 'I-NP'},\n",
       "  {'form': 'to', 'pos': 'TO', 'chunk': 'B-PP'},\n",
       "  {'form': 'a', 'pos': 'DT', 'chunk': 'B-NP'},\n",
       "  {'form': 'firm', 'pos': 'NN', 'chunk': 'I-NP'},\n",
       "  {'form': 'monetary', 'pos': 'JJ', 'chunk': 'I-NP'},\n",
       "  {'form': 'policy', 'pos': 'NN', 'chunk': 'I-NP'},\n",
       "  {'form': 'has', 'pos': 'VBZ', 'chunk': 'B-VP'},\n",
       "  {'form': 'helped', 'pos': 'VBN', 'chunk': 'I-VP'},\n",
       "  {'form': 'to', 'pos': 'TO', 'chunk': 'I-VP'},\n",
       "  {'form': 'prevent', 'pos': 'VB', 'chunk': 'I-VP'},\n",
       "  {'form': 'a', 'pos': 'DT', 'chunk': 'B-NP'},\n",
       "  {'form': 'freefall', 'pos': 'NN', 'chunk': 'I-NP'},\n",
       "  {'form': 'in', 'pos': 'IN', 'chunk': 'B-PP'},\n",
       "  {'form': 'sterling', 'pos': 'NN', 'chunk': 'B-NP'},\n",
       "  {'form': 'over', 'pos': 'IN', 'chunk': 'B-PP'},\n",
       "  {'form': 'the', 'pos': 'DT', 'chunk': 'B-NP'},\n",
       "  {'form': 'past', 'pos': 'JJ', 'chunk': 'I-NP'},\n",
       "  {'form': 'week', 'pos': 'NN', 'chunk': 'I-NP'},\n",
       "  {'form': '.', 'pos': '.', 'chunk': 'O'}]]"
      ]
     },
     "execution_count": 27,
     "metadata": {},
     "output_type": "execute_result"
    }
   ],
   "source": [
    "train_corpus[:2]"
   ]
  },
  {
   "cell_type": "code",
   "execution_count": 28,
   "metadata": {},
   "outputs": [
    {
     "data": {
      "text/plain": [
       "[{'word_n2': 'bos',\n",
       "  'word_n1': 'bos',\n",
       "  'word': 'confidence',\n",
       "  'word_p1': 'in',\n",
       "  'word_p2': 'the',\n",
       "  'pos_n2': 'BOS',\n",
       "  'pos_n1': 'BOS',\n",
       "  'pos': 'NN',\n",
       "  'pos_p1': 'IN',\n",
       "  'pos_p2': 'DT'},\n",
       " {'word_n2': 'bos',\n",
       "  'word_n1': 'confidence',\n",
       "  'word': 'in',\n",
       "  'word_p1': 'the',\n",
       "  'word_p2': 'pound',\n",
       "  'pos_n2': 'BOS',\n",
       "  'pos_n1': 'NN',\n",
       "  'pos': 'IN',\n",
       "  'pos_p1': 'DT',\n",
       "  'pos_p2': 'NN'}]"
      ]
     },
     "execution_count": 28,
     "metadata": {},
     "output_type": "execute_result"
    }
   ],
   "source": [
    "X_dict, y = extract_features_static(train_corpus, w_size, feature_names)\n",
    "X_dict[:2]"
   ]
  },
  {
   "cell_type": "code",
   "execution_count": 29,
   "metadata": {},
   "outputs": [
    {
     "data": {
      "text/plain": [
       "['B-NP', 'B-PP']"
      ]
     },
     "execution_count": 29,
     "metadata": {},
     "output_type": "execute_result"
    }
   ],
   "source": [
    "y[:2]"
   ]
  },
  {
   "cell_type": "markdown",
   "metadata": {},
   "source": [
    "### Feature encoding"
   ]
  },
  {
   "cell_type": "code",
   "execution_count": 30,
   "metadata": {},
   "outputs": [
    {
     "name": "stdout",
     "output_type": "stream",
     "text": [
      "  (0, 18)\t1.0\n",
      "  (0, 52)\t1.0\n",
      "  (0, 97)\t1.0\n",
      "  (0, 148)\t1.0\n",
      "  (0, 189)\t1.0\n",
      "  (0, 4954)\t1.0\n",
      "  (0, 20994)\t1.0\n",
      "  (0, 38087)\t1.0\n",
      "  (0, 59901)\t1.0\n",
      "  (0, 83440)\t1.0\n",
      "  (1, 13)\t1.0\n",
      "  (1, 63)\t1.0\n",
      "  (1, 97)\t1.0\n",
      "  (1, 144)\t1.0\n",
      "  (1, 198)\t1.0\n",
      "  (1, 8916)\t1.0\n",
      "  (1, 22210)\t1.0\n",
      "  (1, 38087)\t1.0\n",
      "  (1, 66779)\t1.0\n",
      "  (1, 80127)\t1.0\n",
      "  (2, 10)\t1.0\n",
      "  (2, 58)\t1.0\n",
      "  (2, 108)\t1.0\n",
      "  (2, 153)\t1.0\n",
      "  (2, 217)\t1.0\n",
      "  :\t:\n",
      "  (211724, 7679)\t1.0\n",
      "  (211724, 31321)\t1.0\n",
      "  (211724, 50004)\t1.0\n",
      "  (211724, 60126)\t1.0\n",
      "  (211724, 68336)\t1.0\n",
      "  (211725, 26)\t1.0\n",
      "  (211725, 64)\t1.0\n",
      "  (211725, 109)\t1.0\n",
      "  (211725, 140)\t1.0\n",
      "  (211725, 190)\t1.0\n",
      "  (211725, 9144)\t1.0\n",
      "  (211725, 24934)\t1.0\n",
      "  (211725, 48035)\t1.0\n",
      "  (211725, 51364)\t1.0\n",
      "  (211725, 74658)\t1.0\n",
      "  (211726, 6)\t1.0\n",
      "  (211726, 71)\t1.0\n",
      "  (211726, 109)\t1.0\n",
      "  (211726, 145)\t1.0\n",
      "  (211726, 190)\t1.0\n",
      "  (211726, 253)\t1.0\n",
      "  (211726, 26398)\t1.0\n",
      "  (211726, 41889)\t1.0\n",
      "  (211726, 57799)\t1.0\n",
      "  (211726, 74658)\t1.0\n"
     ]
    }
   ],
   "source": [
    "# Vectorize the feature matrix and carry out a one-hot encoding\n",
    "vec = DictVectorizer(sparse=True)\n",
    "X = vec.fit_transform(X_dict)\n",
    "print(X)"
   ]
  },
  {
   "cell_type": "markdown",
   "metadata": {},
   "source": [
    "### Training the model"
   ]
  },
  {
   "cell_type": "code",
   "execution_count": 31,
   "metadata": {},
   "outputs": [
    {
     "name": "stderr",
     "output_type": "stream",
     "text": [
      "/home/ma42/anaconda3/lib/python3.8/site-packages/sklearn/linear_model/_logistic.py:762: ConvergenceWarning: lbfgs failed to converge (status=1):\n",
      "STOP: TOTAL NO. of ITERATIONS REACHED LIMIT.\n",
      "\n",
      "Increase the number of iterations (max_iter) or scale the data as shown in:\n",
      "    https://scikit-learn.org/stable/modules/preprocessing.html\n",
      "Please also refer to the documentation for alternative solver options:\n",
      "    https://scikit-learn.org/stable/modules/linear_model.html#logistic-regression\n",
      "  n_iter_i = _check_optimize_result(\n"
     ]
    },
    {
     "data": {
      "text/plain": [
       "LogisticRegression()"
      ]
     },
     "execution_count": 31,
     "metadata": {},
     "output_type": "execute_result"
    }
   ],
   "source": [
    "classifier = linear_model.LogisticRegression()\n",
    "model = classifier.fit(X, y)\n",
    "model"
   ]
  },
  {
   "cell_type": "markdown",
   "metadata": {},
   "source": [
    "### Predicting the test set"
   ]
  },
  {
   "cell_type": "markdown",
   "metadata": {},
   "source": [
    "We read the sentences and create a dictionary"
   ]
  },
  {
   "cell_type": "code",
   "execution_count": 32,
   "metadata": {},
   "outputs": [
    {
     "data": {
      "text/plain": [
       "[[{'form': 'Rockwell', 'pos': 'NNP', 'chunk': 'B-NP'},\n",
       "  {'form': 'International', 'pos': 'NNP', 'chunk': 'I-NP'},\n",
       "  {'form': 'Corp.', 'pos': 'NNP', 'chunk': 'I-NP'},\n",
       "  {'form': \"'s\", 'pos': 'POS', 'chunk': 'B-NP'},\n",
       "  {'form': 'Tulsa', 'pos': 'NNP', 'chunk': 'I-NP'},\n",
       "  {'form': 'unit', 'pos': 'NN', 'chunk': 'I-NP'},\n",
       "  {'form': 'said', 'pos': 'VBD', 'chunk': 'B-VP'},\n",
       "  {'form': 'it', 'pos': 'PRP', 'chunk': 'B-NP'},\n",
       "  {'form': 'signed', 'pos': 'VBD', 'chunk': 'B-VP'},\n",
       "  {'form': 'a', 'pos': 'DT', 'chunk': 'B-NP'},\n",
       "  {'form': 'tentative', 'pos': 'JJ', 'chunk': 'I-NP'},\n",
       "  {'form': 'agreement', 'pos': 'NN', 'chunk': 'I-NP'},\n",
       "  {'form': 'extending', 'pos': 'VBG', 'chunk': 'B-VP'},\n",
       "  {'form': 'its', 'pos': 'PRP$', 'chunk': 'B-NP'},\n",
       "  {'form': 'contract', 'pos': 'NN', 'chunk': 'I-NP'},\n",
       "  {'form': 'with', 'pos': 'IN', 'chunk': 'B-PP'},\n",
       "  {'form': 'Boeing', 'pos': 'NNP', 'chunk': 'B-NP'},\n",
       "  {'form': 'Co.', 'pos': 'NNP', 'chunk': 'I-NP'},\n",
       "  {'form': 'to', 'pos': 'TO', 'chunk': 'B-VP'},\n",
       "  {'form': 'provide', 'pos': 'VB', 'chunk': 'I-VP'},\n",
       "  {'form': 'structural', 'pos': 'JJ', 'chunk': 'B-NP'},\n",
       "  {'form': 'parts', 'pos': 'NNS', 'chunk': 'I-NP'},\n",
       "  {'form': 'for', 'pos': 'IN', 'chunk': 'B-PP'},\n",
       "  {'form': 'Boeing', 'pos': 'NNP', 'chunk': 'B-NP'},\n",
       "  {'form': \"'s\", 'pos': 'POS', 'chunk': 'B-NP'},\n",
       "  {'form': '747', 'pos': 'CD', 'chunk': 'I-NP'},\n",
       "  {'form': 'jetliners', 'pos': 'NNS', 'chunk': 'I-NP'},\n",
       "  {'form': '.', 'pos': '.', 'chunk': 'O'}],\n",
       " [{'form': 'Rockwell', 'pos': 'NNP', 'chunk': 'B-NP'},\n",
       "  {'form': 'said', 'pos': 'VBD', 'chunk': 'B-VP'},\n",
       "  {'form': 'the', 'pos': 'DT', 'chunk': 'B-NP'},\n",
       "  {'form': 'agreement', 'pos': 'NN', 'chunk': 'I-NP'},\n",
       "  {'form': 'calls', 'pos': 'VBZ', 'chunk': 'B-VP'},\n",
       "  {'form': 'for', 'pos': 'IN', 'chunk': 'B-SBAR'},\n",
       "  {'form': 'it', 'pos': 'PRP', 'chunk': 'B-NP'},\n",
       "  {'form': 'to', 'pos': 'TO', 'chunk': 'B-VP'},\n",
       "  {'form': 'supply', 'pos': 'VB', 'chunk': 'I-VP'},\n",
       "  {'form': '200', 'pos': 'CD', 'chunk': 'B-NP'},\n",
       "  {'form': 'additional', 'pos': 'JJ', 'chunk': 'I-NP'},\n",
       "  {'form': 'so-called', 'pos': 'JJ', 'chunk': 'I-NP'},\n",
       "  {'form': 'shipsets', 'pos': 'NNS', 'chunk': 'I-NP'},\n",
       "  {'form': 'for', 'pos': 'IN', 'chunk': 'B-PP'},\n",
       "  {'form': 'the', 'pos': 'DT', 'chunk': 'B-NP'},\n",
       "  {'form': 'planes', 'pos': 'NNS', 'chunk': 'I-NP'},\n",
       "  {'form': '.', 'pos': '.', 'chunk': 'O'}]]"
      ]
     },
     "execution_count": 32,
     "metadata": {},
     "output_type": "execute_result"
    }
   ],
   "source": [
    "test_sentences = read_sentences(test_file)\n",
    "test_corpus = split_rows(test_sentences, column_names)\n",
    "test_corpus[:2]"
   ]
  },
  {
   "cell_type": "markdown",
   "metadata": {},
   "source": [
    "We extract the features"
   ]
  },
  {
   "cell_type": "code",
   "execution_count": 33,
   "metadata": {},
   "outputs": [
    {
     "data": {
      "text/plain": [
       "[{'word_n2': 'bos',\n",
       "  'word_n1': 'bos',\n",
       "  'word': 'rockwell',\n",
       "  'word_p1': 'international',\n",
       "  'word_p2': 'corp.',\n",
       "  'pos_n2': 'BOS',\n",
       "  'pos_n1': 'BOS',\n",
       "  'pos': 'NNP',\n",
       "  'pos_p1': 'NNP',\n",
       "  'pos_p2': 'NNP'},\n",
       " {'word_n2': 'bos',\n",
       "  'word_n1': 'rockwell',\n",
       "  'word': 'international',\n",
       "  'word_p1': 'corp.',\n",
       "  'word_p2': \"'s\",\n",
       "  'pos_n2': 'BOS',\n",
       "  'pos_n1': 'NNP',\n",
       "  'pos': 'NNP',\n",
       "  'pos_p1': 'NNP',\n",
       "  'pos_p2': 'POS'}]"
      ]
     },
     "execution_count": 33,
     "metadata": {},
     "output_type": "execute_result"
    }
   ],
   "source": [
    "X_test_dict, y_test = extract_features_static(test_corpus, w_size, feature_names)\n",
    "X_test_dict[:2]"
   ]
  },
  {
   "cell_type": "code",
   "execution_count": 34,
   "metadata": {},
   "outputs": [
    {
     "data": {
      "text/plain": [
       "['B-NP', 'I-NP']"
      ]
     },
     "execution_count": 34,
     "metadata": {},
     "output_type": "execute_result"
    }
   ],
   "source": [
    "y_test[:2]"
   ]
  },
  {
   "cell_type": "markdown",
   "metadata": {},
   "source": [
    "We vectorize the features"
   ]
  },
  {
   "cell_type": "code",
   "execution_count": 35,
   "metadata": {},
   "outputs": [],
   "source": [
    "X_test = vec.transform(X_test_dict)  # Possible to add: .toarray()"
   ]
  },
  {
   "cell_type": "markdown",
   "metadata": {},
   "source": [
    "And we predict the test set"
   ]
  },
  {
   "cell_type": "code",
   "execution_count": 36,
   "metadata": {},
   "outputs": [
    {
     "data": {
      "text/plain": [
       "array(['B-NP', 'I-NP'], dtype='<U7')"
      ]
     },
     "execution_count": 36,
     "metadata": {},
     "output_type": "execute_result"
    }
   ],
   "source": [
    "y_test_predicted = classifier.predict(X_test)\n",
    "y_test_predicted[:2]"
   ]
  },
  {
   "cell_type": "markdown",
   "metadata": {},
   "source": [
    "We now add the predicted chunks to the sentences"
   ]
  },
  {
   "cell_type": "code",
   "execution_count": 37,
   "metadata": {},
   "outputs": [],
   "source": [
    "inx = 0\n",
    "for sentence in test_corpus:\n",
    "    for word in sentence:\n",
    "        word['pchunk'] = y_test_predicted[inx]\n",
    "        inx += 1"
   ]
  },
  {
   "cell_type": "markdown",
   "metadata": {},
   "source": [
    "The index sould be equal to the length of the prediction"
   ]
  },
  {
   "cell_type": "code",
   "execution_count": 38,
   "metadata": {},
   "outputs": [
    {
     "name": "stdout",
     "output_type": "stream",
     "text": [
      "  (0, 19)\t1.0\n",
      "  (0, 52)\t1.0\n",
      "  (0, 97)\t1.0\n",
      "  (0, 154)\t1.0\n",
      "  (0, 199)\t1.0\n",
      "  (0, 20994)\t1.0\n",
      "  (0, 38087)\t1.0\n",
      "  (0, 60203)\t1.0\n",
      "  (0, 73137)\t1.0\n"
     ]
    }
   ],
   "source": [
    "print(vec.transform(X_test_dict[0]))"
   ]
  },
  {
   "cell_type": "code",
   "execution_count": 39,
   "metadata": {},
   "outputs": [
    {
     "data": {
      "text/plain": [
       "[[{'form': 'Rockwell', 'pos': 'NNP', 'chunk': 'B-NP', 'pchunk': 'B-NP'},\n",
       "  {'form': 'International', 'pos': 'NNP', 'chunk': 'I-NP', 'pchunk': 'I-NP'},\n",
       "  {'form': 'Corp.', 'pos': 'NNP', 'chunk': 'I-NP', 'pchunk': 'I-NP'},\n",
       "  {'form': \"'s\", 'pos': 'POS', 'chunk': 'B-NP', 'pchunk': 'B-NP'},\n",
       "  {'form': 'Tulsa', 'pos': 'NNP', 'chunk': 'I-NP', 'pchunk': 'I-NP'},\n",
       "  {'form': 'unit', 'pos': 'NN', 'chunk': 'I-NP', 'pchunk': 'I-NP'},\n",
       "  {'form': 'said', 'pos': 'VBD', 'chunk': 'B-VP', 'pchunk': 'B-VP'},\n",
       "  {'form': 'it', 'pos': 'PRP', 'chunk': 'B-NP', 'pchunk': 'B-NP'},\n",
       "  {'form': 'signed', 'pos': 'VBD', 'chunk': 'B-VP', 'pchunk': 'B-VP'},\n",
       "  {'form': 'a', 'pos': 'DT', 'chunk': 'B-NP', 'pchunk': 'B-NP'},\n",
       "  {'form': 'tentative', 'pos': 'JJ', 'chunk': 'I-NP', 'pchunk': 'I-NP'},\n",
       "  {'form': 'agreement', 'pos': 'NN', 'chunk': 'I-NP', 'pchunk': 'I-NP'},\n",
       "  {'form': 'extending', 'pos': 'VBG', 'chunk': 'B-VP', 'pchunk': 'B-VP'},\n",
       "  {'form': 'its', 'pos': 'PRP$', 'chunk': 'B-NP', 'pchunk': 'B-NP'},\n",
       "  {'form': 'contract', 'pos': 'NN', 'chunk': 'I-NP', 'pchunk': 'I-NP'},\n",
       "  {'form': 'with', 'pos': 'IN', 'chunk': 'B-PP', 'pchunk': 'B-PP'},\n",
       "  {'form': 'Boeing', 'pos': 'NNP', 'chunk': 'B-NP', 'pchunk': 'B-NP'},\n",
       "  {'form': 'Co.', 'pos': 'NNP', 'chunk': 'I-NP', 'pchunk': 'I-NP'},\n",
       "  {'form': 'to', 'pos': 'TO', 'chunk': 'B-VP', 'pchunk': 'B-VP'},\n",
       "  {'form': 'provide', 'pos': 'VB', 'chunk': 'I-VP', 'pchunk': 'I-VP'},\n",
       "  {'form': 'structural', 'pos': 'JJ', 'chunk': 'B-NP', 'pchunk': 'B-NP'},\n",
       "  {'form': 'parts', 'pos': 'NNS', 'chunk': 'I-NP', 'pchunk': 'I-NP'},\n",
       "  {'form': 'for', 'pos': 'IN', 'chunk': 'B-PP', 'pchunk': 'B-PP'},\n",
       "  {'form': 'Boeing', 'pos': 'NNP', 'chunk': 'B-NP', 'pchunk': 'B-NP'},\n",
       "  {'form': \"'s\", 'pos': 'POS', 'chunk': 'B-NP', 'pchunk': 'B-NP'},\n",
       "  {'form': '747', 'pos': 'CD', 'chunk': 'I-NP', 'pchunk': 'I-NP'},\n",
       "  {'form': 'jetliners', 'pos': 'NNS', 'chunk': 'I-NP', 'pchunk': 'I-NP'},\n",
       "  {'form': '.', 'pos': '.', 'chunk': 'O', 'pchunk': 'O'}],\n",
       " [{'form': 'Rockwell', 'pos': 'NNP', 'chunk': 'B-NP', 'pchunk': 'B-NP'},\n",
       "  {'form': 'said', 'pos': 'VBD', 'chunk': 'B-VP', 'pchunk': 'B-VP'},\n",
       "  {'form': 'the', 'pos': 'DT', 'chunk': 'B-NP', 'pchunk': 'B-NP'},\n",
       "  {'form': 'agreement', 'pos': 'NN', 'chunk': 'I-NP', 'pchunk': 'I-NP'},\n",
       "  {'form': 'calls', 'pos': 'VBZ', 'chunk': 'B-VP', 'pchunk': 'B-VP'},\n",
       "  {'form': 'for', 'pos': 'IN', 'chunk': 'B-SBAR', 'pchunk': 'B-SBAR'},\n",
       "  {'form': 'it', 'pos': 'PRP', 'chunk': 'B-NP', 'pchunk': 'B-NP'},\n",
       "  {'form': 'to', 'pos': 'TO', 'chunk': 'B-VP', 'pchunk': 'B-VP'},\n",
       "  {'form': 'supply', 'pos': 'VB', 'chunk': 'I-VP', 'pchunk': 'I-VP'},\n",
       "  {'form': '200', 'pos': 'CD', 'chunk': 'B-NP', 'pchunk': 'B-NP'},\n",
       "  {'form': 'additional', 'pos': 'JJ', 'chunk': 'I-NP', 'pchunk': 'I-NP'},\n",
       "  {'form': 'so-called', 'pos': 'JJ', 'chunk': 'I-NP', 'pchunk': 'I-NP'},\n",
       "  {'form': 'shipsets', 'pos': 'NNS', 'chunk': 'I-NP', 'pchunk': 'I-NP'},\n",
       "  {'form': 'for', 'pos': 'IN', 'chunk': 'B-PP', 'pchunk': 'B-PP'},\n",
       "  {'form': 'the', 'pos': 'DT', 'chunk': 'B-NP', 'pchunk': 'B-NP'},\n",
       "  {'form': 'planes', 'pos': 'NNS', 'chunk': 'I-NP', 'pchunk': 'I-NP'},\n",
       "  {'form': '.', 'pos': '.', 'chunk': 'O', 'pchunk': 'O'}]]"
      ]
     },
     "execution_count": 39,
     "metadata": {},
     "output_type": "execute_result"
    }
   ],
   "source": [
    "test_corpus[:2]"
   ]
  },
  {
   "cell_type": "code",
   "execution_count": 40,
   "metadata": {},
   "outputs": [],
   "source": [
    "save_results(test_corpus, keys, 'out')"
   ]
  },
  {
   "cell_type": "markdown",
   "metadata": {},
   "source": [
    "#### Evaluating the performance"
   ]
  },
  {
   "cell_type": "code",
   "execution_count": 41,
   "metadata": {},
   "outputs": [],
   "source": [
    "lines = open('out').read().splitlines()\n",
    "res = conlleval.evaluate(lines)\n",
    "simple_ml_score = res['overall']['chunks']['evals']['f1']"
   ]
  },
  {
   "cell_type": "code",
   "execution_count": 42,
   "metadata": {},
   "outputs": [
    {
     "data": {
      "text/plain": [
       "0.9157688948047087"
      ]
     },
     "execution_count": 42,
     "metadata": {},
     "output_type": "execute_result"
    }
   ],
   "source": [
    "simple_ml_score"
   ]
  },
  {
   "cell_type": "markdown",
   "metadata": {},
   "source": [
    "### Question on the ML program"
   ]
  },
  {
   "cell_type": "markdown",
   "metadata": {},
   "source": [
    "1. What is the feature vector that corresponds to the <tt>ml_chunker.py</tt> program? Is it the same Kudoh\n",
    "    and Matsumoto used in their experiment?\n",
    "2. What is the performance of the chunker?\n",
    "3. Remove the lexical features (the words) from the feature vector and measure the performance. You should\n",
    "    observe a decrease.\n",
    "4. What is the classifier used in the program? \n",
    "5. As an optional task, you may try two other classifiers from sklearn and measure their performance: decision trees, perceptron, support vector machines, etc. Be aware that support vector machines take a long time to train: up to one hour."
   ]
  },
  {
   "cell_type": "markdown",
   "metadata": {},
   "source": [
    "## Using Machine Learning: Adding all the features from Kudoh and Matsumoto"
   ]
  },
  {
   "cell_type": "markdown",
   "metadata": {},
   "source": [
    "Complement the feature vector used in the previous section with the two dynamic features, $c_{i-2}, c_{i-1}$, and train a new model. You will need to write a new `extract_features_sent_dyn` and `predict` functions. \n",
    "In his experiments, your teacher obtained a F1 score of 92.65 with logistic regression and the default parameters from sklearn, i.e. `linear_model.LogisticRegression()`;"
   ]
  },
  {
   "cell_type": "markdown",
   "metadata": {},
   "source": [
    "**A frequent mistake in the labs** is to use the gold-standard chunks from the test set. Be aware that  when you predict the test set, you do not know the dynamic features in advance and you must  not use the ones from the test file. You will use the two previous chunk tags that you have predicted."
   ]
  },
  {
   "cell_type": "markdown",
   "metadata": {},
   "source": [
    "You need to reach a global F1 score of 92 to pass this laboratory."
   ]
  },
  {
   "cell_type": "code",
   "execution_count": 43,
   "metadata": {},
   "outputs": [],
   "source": [
    "def extract_features_sent_dyn(sentence, w_size, feature_names):\n",
    "    # We pad the sentence to extract the context window more easily\n",
    "    start = [{'form': 'BOS', 'pos': 'BOS', 'chunk': 'BOS'}]\n",
    "    end = [{'form': 'EOS', 'pos': 'EOS', 'chunk': 'EOS'}]\n",
    "    start *= w_size\n",
    "    end *= w_size\n",
    "    padded_sentence = start + sentence\n",
    "    padded_sentence += end\n",
    "\n",
    "    # We extract the features and the classes\n",
    "    # X contains is a list of features, where each feature vector is a dictionary\n",
    "    # y is the list of classes\n",
    "    X = list()\n",
    "    y = list()\n",
    "    for i in range(len(padded_sentence) - 2 * w_size):\n",
    "        # x is a row of X\n",
    "        x = list()\n",
    "        # The words in lower case\n",
    "        for j in range(2 * w_size + 1):\n",
    "            x.append(padded_sentence[i + j]['form'].lower())\n",
    "        # The POS\n",
    "        for j in range(2 * w_size + 1):\n",
    "            x.append(padded_sentence[i + j]['pos'])\n",
    "        # The chunks (Up to the word)\n",
    "        for j in range(w_size):\n",
    "            x.append(padded_sentence[i + j]['chunk'])\n",
    "        # We represent the feature vector as a dictionary\n",
    "        X.append(dict(zip(feature_names, x)))\n",
    "        \n",
    "        # The classes are stored in a list\n",
    "        y.append(padded_sentence[i + w_size]['chunk'])\n",
    "    return X, y"
   ]
  },
  {
   "cell_type": "code",
   "execution_count": 44,
   "metadata": {},
   "outputs": [],
   "source": [
    "def extract_features_dyn(sentences, w_size, feature_names):\n",
    "    \"\"\"\n",
    "    Builds X matrix and y vector\n",
    "    X is a list of dictionaries and y is a list\n",
    "    :param sentences:\n",
    "    :param w_size:\n",
    "    :return:\n",
    "    \"\"\"\n",
    "    X_l = []\n",
    "    y_l = []\n",
    "    for sentence in sentences:\n",
    "        X, y = extract_features_sent_dyn(sentence, w_size, feature_names)\n",
    "        X_l.extend(X)\n",
    "        y_l.extend(y)\n",
    "    return X_l, y_l"
   ]
  },
  {
   "cell_type": "code",
   "execution_count": 45,
   "metadata": {},
   "outputs": [],
   "source": [
    "feature_names_dyn = ['word_n2', 'word_n1', 'word', 'word_p1', 'word_p2',\n",
    "                     'pos_n2', 'pos_n1', 'pos', 'pos_p1', 'pos_p2', 'chunk_n2',\n",
    "                     'chunk_n1']"
   ]
  },
  {
   "cell_type": "code",
   "execution_count": 46,
   "metadata": {},
   "outputs": [
    {
     "data": {
      "text/plain": [
       "[[{'form': 'Confidence', 'pos': 'NN', 'chunk': 'B-NP'},\n",
       "  {'form': 'in', 'pos': 'IN', 'chunk': 'B-PP'},\n",
       "  {'form': 'the', 'pos': 'DT', 'chunk': 'B-NP'},\n",
       "  {'form': 'pound', 'pos': 'NN', 'chunk': 'I-NP'},\n",
       "  {'form': 'is', 'pos': 'VBZ', 'chunk': 'B-VP'},\n",
       "  {'form': 'widely', 'pos': 'RB', 'chunk': 'I-VP'},\n",
       "  {'form': 'expected', 'pos': 'VBN', 'chunk': 'I-VP'},\n",
       "  {'form': 'to', 'pos': 'TO', 'chunk': 'I-VP'},\n",
       "  {'form': 'take', 'pos': 'VB', 'chunk': 'I-VP'},\n",
       "  {'form': 'another', 'pos': 'DT', 'chunk': 'B-NP'},\n",
       "  {'form': 'sharp', 'pos': 'JJ', 'chunk': 'I-NP'},\n",
       "  {'form': 'dive', 'pos': 'NN', 'chunk': 'I-NP'},\n",
       "  {'form': 'if', 'pos': 'IN', 'chunk': 'B-SBAR'},\n",
       "  {'form': 'trade', 'pos': 'NN', 'chunk': 'B-NP'},\n",
       "  {'form': 'figures', 'pos': 'NNS', 'chunk': 'I-NP'},\n",
       "  {'form': 'for', 'pos': 'IN', 'chunk': 'B-PP'},\n",
       "  {'form': 'September', 'pos': 'NNP', 'chunk': 'B-NP'},\n",
       "  {'form': ',', 'pos': ',', 'chunk': 'O'},\n",
       "  {'form': 'due', 'pos': 'JJ', 'chunk': 'B-ADJP'},\n",
       "  {'form': 'for', 'pos': 'IN', 'chunk': 'B-PP'},\n",
       "  {'form': 'release', 'pos': 'NN', 'chunk': 'B-NP'},\n",
       "  {'form': 'tomorrow', 'pos': 'NN', 'chunk': 'B-NP'},\n",
       "  {'form': ',', 'pos': ',', 'chunk': 'O'},\n",
       "  {'form': 'fail', 'pos': 'VB', 'chunk': 'B-VP'},\n",
       "  {'form': 'to', 'pos': 'TO', 'chunk': 'I-VP'},\n",
       "  {'form': 'show', 'pos': 'VB', 'chunk': 'I-VP'},\n",
       "  {'form': 'a', 'pos': 'DT', 'chunk': 'B-NP'},\n",
       "  {'form': 'substantial', 'pos': 'JJ', 'chunk': 'I-NP'},\n",
       "  {'form': 'improvement', 'pos': 'NN', 'chunk': 'I-NP'},\n",
       "  {'form': 'from', 'pos': 'IN', 'chunk': 'B-PP'},\n",
       "  {'form': 'July', 'pos': 'NNP', 'chunk': 'B-NP'},\n",
       "  {'form': 'and', 'pos': 'CC', 'chunk': 'I-NP'},\n",
       "  {'form': 'August', 'pos': 'NNP', 'chunk': 'I-NP'},\n",
       "  {'form': \"'s\", 'pos': 'POS', 'chunk': 'B-NP'},\n",
       "  {'form': 'near-record', 'pos': 'JJ', 'chunk': 'I-NP'},\n",
       "  {'form': 'deficits', 'pos': 'NNS', 'chunk': 'I-NP'},\n",
       "  {'form': '.', 'pos': '.', 'chunk': 'O'}],\n",
       " [{'form': 'Chancellor', 'pos': 'NNP', 'chunk': 'O'},\n",
       "  {'form': 'of', 'pos': 'IN', 'chunk': 'B-PP'},\n",
       "  {'form': 'the', 'pos': 'DT', 'chunk': 'B-NP'},\n",
       "  {'form': 'Exchequer', 'pos': 'NNP', 'chunk': 'I-NP'},\n",
       "  {'form': 'Nigel', 'pos': 'NNP', 'chunk': 'B-NP'},\n",
       "  {'form': 'Lawson', 'pos': 'NNP', 'chunk': 'I-NP'},\n",
       "  {'form': \"'s\", 'pos': 'POS', 'chunk': 'B-NP'},\n",
       "  {'form': 'restated', 'pos': 'VBN', 'chunk': 'I-NP'},\n",
       "  {'form': 'commitment', 'pos': 'NN', 'chunk': 'I-NP'},\n",
       "  {'form': 'to', 'pos': 'TO', 'chunk': 'B-PP'},\n",
       "  {'form': 'a', 'pos': 'DT', 'chunk': 'B-NP'},\n",
       "  {'form': 'firm', 'pos': 'NN', 'chunk': 'I-NP'},\n",
       "  {'form': 'monetary', 'pos': 'JJ', 'chunk': 'I-NP'},\n",
       "  {'form': 'policy', 'pos': 'NN', 'chunk': 'I-NP'},\n",
       "  {'form': 'has', 'pos': 'VBZ', 'chunk': 'B-VP'},\n",
       "  {'form': 'helped', 'pos': 'VBN', 'chunk': 'I-VP'},\n",
       "  {'form': 'to', 'pos': 'TO', 'chunk': 'I-VP'},\n",
       "  {'form': 'prevent', 'pos': 'VB', 'chunk': 'I-VP'},\n",
       "  {'form': 'a', 'pos': 'DT', 'chunk': 'B-NP'},\n",
       "  {'form': 'freefall', 'pos': 'NN', 'chunk': 'I-NP'},\n",
       "  {'form': 'in', 'pos': 'IN', 'chunk': 'B-PP'},\n",
       "  {'form': 'sterling', 'pos': 'NN', 'chunk': 'B-NP'},\n",
       "  {'form': 'over', 'pos': 'IN', 'chunk': 'B-PP'},\n",
       "  {'form': 'the', 'pos': 'DT', 'chunk': 'B-NP'},\n",
       "  {'form': 'past', 'pos': 'JJ', 'chunk': 'I-NP'},\n",
       "  {'form': 'week', 'pos': 'NN', 'chunk': 'I-NP'},\n",
       "  {'form': '.', 'pos': '.', 'chunk': 'O'}]]"
      ]
     },
     "execution_count": 46,
     "metadata": {},
     "output_type": "execute_result"
    }
   ],
   "source": [
    "train_sentences = read_sentences(train_file)\n",
    "train_corpus = split_rows(train_sentences, column_names)\n",
    "train_corpus[:2]"
   ]
  },
  {
   "cell_type": "code",
   "execution_count": 47,
   "metadata": {},
   "outputs": [],
   "source": [
    "X_dict, y_dyn = extract_features_dyn(train_corpus, w_size, feature_names_dyn)"
   ]
  },
  {
   "cell_type": "code",
   "execution_count": 48,
   "metadata": {},
   "outputs": [
    {
     "data": {
      "text/plain": [
       "[{'word_n2': 'bos',\n",
       "  'word_n1': 'bos',\n",
       "  'word': 'confidence',\n",
       "  'word_p1': 'in',\n",
       "  'word_p2': 'the',\n",
       "  'pos_n2': 'BOS',\n",
       "  'pos_n1': 'BOS',\n",
       "  'pos': 'NN',\n",
       "  'pos_p1': 'IN',\n",
       "  'pos_p2': 'DT',\n",
       "  'chunk_n2': 'BOS',\n",
       "  'chunk_n1': 'BOS'},\n",
       " {'word_n2': 'bos',\n",
       "  'word_n1': 'confidence',\n",
       "  'word': 'in',\n",
       "  'word_p1': 'the',\n",
       "  'word_p2': 'pound',\n",
       "  'pos_n2': 'BOS',\n",
       "  'pos_n1': 'NN',\n",
       "  'pos': 'IN',\n",
       "  'pos_p1': 'DT',\n",
       "  'pos_p2': 'NN',\n",
       "  'chunk_n2': 'BOS',\n",
       "  'chunk_n1': 'B-NP'},\n",
       " {'word_n2': 'confidence',\n",
       "  'word_n1': 'in',\n",
       "  'word': 'the',\n",
       "  'word_p1': 'pound',\n",
       "  'word_p2': 'is',\n",
       "  'pos_n2': 'NN',\n",
       "  'pos_n1': 'IN',\n",
       "  'pos': 'DT',\n",
       "  'pos_p1': 'NN',\n",
       "  'pos_p2': 'VBZ',\n",
       "  'chunk_n2': 'B-NP',\n",
       "  'chunk_n1': 'B-PP'}]"
      ]
     },
     "execution_count": 48,
     "metadata": {},
     "output_type": "execute_result"
    }
   ],
   "source": [
    "X_dict[:3]"
   ]
  },
  {
   "cell_type": "markdown",
   "metadata": {},
   "source": [
    "You will now vectorize the training set"
   ]
  },
  {
   "cell_type": "code",
   "execution_count": 85,
   "metadata": {},
   "outputs": [
    {
     "name": "stdout",
     "output_type": "stream",
     "text": [
      "  (0, 11)\t1.0\n",
      "  (0, 34)\t1.0\n",
      "  (0, 64)\t1.0\n",
      "  (0, 98)\t1.0\n",
      "  (0, 143)\t1.0\n",
      "  (0, 194)\t1.0\n",
      "  (0, 235)\t1.0\n",
      "  (0, 5000)\t1.0\n",
      "  (0, 21040)\t1.0\n",
      "  (0, 38133)\t1.0\n",
      "  (0, 59947)\t1.0\n",
      "  (0, 83486)\t1.0\n"
     ]
    }
   ],
   "source": [
    "vec2 = DictVectorizer(sparse=True)\n",
    "X_dyn = vec2.fit_transform(X_dict)\n",
    "\n",
    "print(X_dyn[0])"
   ]
  },
  {
   "cell_type": "markdown",
   "metadata": {},
   "source": [
    "And fit the model"
   ]
  },
  {
   "cell_type": "code",
   "execution_count": 86,
   "metadata": {},
   "outputs": [
    {
     "name": "stderr",
     "output_type": "stream",
     "text": [
      "/home/ma42/anaconda3/lib/python3.8/site-packages/sklearn/linear_model/_logistic.py:762: ConvergenceWarning: lbfgs failed to converge (status=1):\n",
      "STOP: TOTAL NO. of ITERATIONS REACHED LIMIT.\n",
      "\n",
      "Increase the number of iterations (max_iter) or scale the data as shown in:\n",
      "    https://scikit-learn.org/stable/modules/preprocessing.html\n",
      "Please also refer to the documentation for alternative solver options:\n",
      "    https://scikit-learn.org/stable/modules/linear_model.html#logistic-regression\n",
      "  n_iter_i = _check_optimize_result(\n"
     ]
    }
   ],
   "source": [
    "classifier2 = linear_model.LogisticRegression()\n",
    "model2 = classifier2.fit(X_dyn, y_dyn)"
   ]
  },
  {
   "cell_type": "code",
   "execution_count": 87,
   "metadata": {},
   "outputs": [
    {
     "data": {
      "text/plain": [
       "LogisticRegression()"
      ]
     },
     "execution_count": 87,
     "metadata": {},
     "output_type": "execute_result"
    }
   ],
   "source": [
    "model2"
   ]
  },
  {
   "cell_type": "markdown",
   "metadata": {},
   "source": [
    "### Prediction"
   ]
  },
  {
   "cell_type": "markdown",
   "metadata": {},
   "source": [
    "You will finally predict the test set. We load the corpus again."
   ]
  },
  {
   "cell_type": "code",
   "execution_count": 97,
   "metadata": {},
   "outputs": [
    {
     "data": {
      "text/plain": [
       "[[{'form': 'Rockwell', 'pos': 'NNP', 'chunk': 'B-NP'},\n",
       "  {'form': 'International', 'pos': 'NNP', 'chunk': 'I-NP'},\n",
       "  {'form': 'Corp.', 'pos': 'NNP', 'chunk': 'I-NP'},\n",
       "  {'form': \"'s\", 'pos': 'POS', 'chunk': 'B-NP'},\n",
       "  {'form': 'Tulsa', 'pos': 'NNP', 'chunk': 'I-NP'},\n",
       "  {'form': 'unit', 'pos': 'NN', 'chunk': 'I-NP'},\n",
       "  {'form': 'said', 'pos': 'VBD', 'chunk': 'B-VP'},\n",
       "  {'form': 'it', 'pos': 'PRP', 'chunk': 'B-NP'},\n",
       "  {'form': 'signed', 'pos': 'VBD', 'chunk': 'B-VP'},\n",
       "  {'form': 'a', 'pos': 'DT', 'chunk': 'B-NP'},\n",
       "  {'form': 'tentative', 'pos': 'JJ', 'chunk': 'I-NP'},\n",
       "  {'form': 'agreement', 'pos': 'NN', 'chunk': 'I-NP'},\n",
       "  {'form': 'extending', 'pos': 'VBG', 'chunk': 'B-VP'},\n",
       "  {'form': 'its', 'pos': 'PRP$', 'chunk': 'B-NP'},\n",
       "  {'form': 'contract', 'pos': 'NN', 'chunk': 'I-NP'},\n",
       "  {'form': 'with', 'pos': 'IN', 'chunk': 'B-PP'},\n",
       "  {'form': 'Boeing', 'pos': 'NNP', 'chunk': 'B-NP'},\n",
       "  {'form': 'Co.', 'pos': 'NNP', 'chunk': 'I-NP'},\n",
       "  {'form': 'to', 'pos': 'TO', 'chunk': 'B-VP'},\n",
       "  {'form': 'provide', 'pos': 'VB', 'chunk': 'I-VP'},\n",
       "  {'form': 'structural', 'pos': 'JJ', 'chunk': 'B-NP'},\n",
       "  {'form': 'parts', 'pos': 'NNS', 'chunk': 'I-NP'},\n",
       "  {'form': 'for', 'pos': 'IN', 'chunk': 'B-PP'},\n",
       "  {'form': 'Boeing', 'pos': 'NNP', 'chunk': 'B-NP'},\n",
       "  {'form': \"'s\", 'pos': 'POS', 'chunk': 'B-NP'},\n",
       "  {'form': '747', 'pos': 'CD', 'chunk': 'I-NP'},\n",
       "  {'form': 'jetliners', 'pos': 'NNS', 'chunk': 'I-NP'},\n",
       "  {'form': '.', 'pos': '.', 'chunk': 'O'}],\n",
       " [{'form': 'Rockwell', 'pos': 'NNP', 'chunk': 'B-NP'},\n",
       "  {'form': 'said', 'pos': 'VBD', 'chunk': 'B-VP'},\n",
       "  {'form': 'the', 'pos': 'DT', 'chunk': 'B-NP'},\n",
       "  {'form': 'agreement', 'pos': 'NN', 'chunk': 'I-NP'},\n",
       "  {'form': 'calls', 'pos': 'VBZ', 'chunk': 'B-VP'},\n",
       "  {'form': 'for', 'pos': 'IN', 'chunk': 'B-SBAR'},\n",
       "  {'form': 'it', 'pos': 'PRP', 'chunk': 'B-NP'},\n",
       "  {'form': 'to', 'pos': 'TO', 'chunk': 'B-VP'},\n",
       "  {'form': 'supply', 'pos': 'VB', 'chunk': 'I-VP'},\n",
       "  {'form': '200', 'pos': 'CD', 'chunk': 'B-NP'},\n",
       "  {'form': 'additional', 'pos': 'JJ', 'chunk': 'I-NP'},\n",
       "  {'form': 'so-called', 'pos': 'JJ', 'chunk': 'I-NP'},\n",
       "  {'form': 'shipsets', 'pos': 'NNS', 'chunk': 'I-NP'},\n",
       "  {'form': 'for', 'pos': 'IN', 'chunk': 'B-PP'},\n",
       "  {'form': 'the', 'pos': 'DT', 'chunk': 'B-NP'},\n",
       "  {'form': 'planes', 'pos': 'NNS', 'chunk': 'I-NP'},\n",
       "  {'form': '.', 'pos': '.', 'chunk': 'O'}]]"
      ]
     },
     "execution_count": 97,
     "metadata": {},
     "output_type": "execute_result"
    }
   ],
   "source": [
    "test_sentences = read_sentences(test_file)\n",
    "test_corpus = split_rows(test_sentences, column_names)\n",
    "test_corpus[:2]"
   ]
  },
  {
   "cell_type": "markdown",
   "metadata": {},
   "source": [
    "Let us extract the static features from one sentence"
   ]
  },
  {
   "cell_type": "code",
   "execution_count": 143,
   "metadata": {},
   "outputs": [
    {
     "data": {
      "text/plain": [
       "[{'word_n2': 'bos',\n",
       "  'word_n1': 'bos',\n",
       "  'word': 'rockwell',\n",
       "  'word_p1': 'international',\n",
       "  'word_p2': 'corp.',\n",
       "  'pos_n2': 'BOS',\n",
       "  'pos_n1': 'BOS',\n",
       "  'pos': 'NNP',\n",
       "  'pos_p1': 'NNP',\n",
       "  'pos_p2': 'NNP'},\n",
       " {'word_n2': 'bos',\n",
       "  'word_n1': 'rockwell',\n",
       "  'word': 'international',\n",
       "  'word_p1': 'corp.',\n",
       "  'word_p2': \"'s\",\n",
       "  'pos_n2': 'BOS',\n",
       "  'pos_n1': 'NNP',\n",
       "  'pos': 'NNP',\n",
       "  'pos_p1': 'NNP',\n",
       "  'pos_p2': 'POS'}]"
      ]
     },
     "execution_count": 143,
     "metadata": {},
     "output_type": "execute_result"
    }
   ],
   "source": [
    "X_test_dict, y_test = extract_features_static(test_corpus, w_size, feature_names)\n",
    "X_test_dict[:2]"
   ]
  },
  {
   "cell_type": "markdown",
   "metadata": {},
   "source": [
    "This $\\mathbf{X}\\_{\\textrm{dict}}$ is incomplete. For the prediction, we need to reinject dynamically the two previously predicted tags to have the full feature vector. Write this code here. \n",
    "\n",
    "This part is probably the most difficult of the lab. You may want to write it first for one sentence, and then for the test corpus. The prediction will take a longer time and you may want to include a progress bar with this snippet: \n",
    "```\n",
    "from tqdm import tqdm\n",
    "for test_sentence in tqdm(test_corpus):\n",
    "```"
   ]
  },
  {
   "cell_type": "code",
   "execution_count": 144,
   "metadata": {},
   "outputs": [],
   "source": [
    "y_test_predicted_dyn = []"
   ]
  },
  {
   "cell_type": "code",
   "execution_count": 145,
   "metadata": {},
   "outputs": [
    {
     "name": "stderr",
     "output_type": "stream",
     "text": [
      "100%|██████████| 47377/47377 [01:41<00:00, 465.83it/s]\n"
     ]
    }
   ],
   "source": [
    "from tqdm import tqdm\n",
    "\n",
    "i=0\n",
    "for word in tqdm(X_test_dict):\n",
    "    if word['word_n2']=='bos' and word['word_n1']=='bos':\n",
    "        word['chunk_n2'] = 'BOS'\n",
    "        word['chunk_n1'] = 'BOS'\n",
    "    \n",
    "    elif word['word_n2']=='bos' and not word['word_n1']=='bos':\n",
    "        word['chunk_n2'] = 'BOS'\n",
    "        word['chunk_n1']= y_test_predicted_dyn[i-1]\n",
    "\n",
    "    else:\n",
    "        word['chunk_n2'] = y_test_predicted_dyn[i-2]\n",
    "        word['chunk_n1'] = y_test_predicted_dyn[i-1]\n",
    "    \n",
    "    predicted = classifier2.predict(vec2.transform(word))\n",
    "    y_test_predicted_dyn.append(predicted[0])\n",
    "    i+=1\n"
   ]
  },
  {
   "cell_type": "code",
   "execution_count": 146,
   "metadata": {},
   "outputs": [
    {
     "data": {
      "text/plain": [
       "['B-NP',\n",
       " 'I-NP',\n",
       " 'I-NP',\n",
       " 'B-NP',\n",
       " 'I-NP',\n",
       " 'I-NP',\n",
       " 'B-VP',\n",
       " 'B-NP',\n",
       " 'B-VP',\n",
       " 'B-NP']"
      ]
     },
     "execution_count": 146,
     "metadata": {},
     "output_type": "execute_result"
    }
   ],
   "source": [
    "y_test_predicted_dyn[:10]"
   ]
  },
  {
   "cell_type": "code",
   "execution_count": 147,
   "metadata": {},
   "outputs": [],
   "source": [
    "inx = 0\n",
    "for sentence in test_corpus:\n",
    "    for word in sentence:\n",
    "        word['pchunk'] = y_test_predicted_dyn[inx]\n",
    "        inx += 1"
   ]
  },
  {
   "cell_type": "code",
   "execution_count": 148,
   "metadata": {},
   "outputs": [],
   "source": [
    "save_results(test_corpus, keys, 'out')"
   ]
  },
  {
   "cell_type": "markdown",
   "metadata": {},
   "source": [
    "#### Evaluation"
   ]
  },
  {
   "cell_type": "code",
   "execution_count": 149,
   "metadata": {},
   "outputs": [
    {
     "data": {
      "text/plain": [
       "0.9265266775640221"
      ]
     },
     "execution_count": 149,
     "metadata": {},
     "output_type": "execute_result"
    }
   ],
   "source": [
    "lines = open('out').read().splitlines()\n",
    "res = conlleval.evaluate(lines)\n",
    "improved_ml_score = res['overall']['chunks']['evals']['f1']\n",
    "improved_ml_score"
   ]
  },
  {
   "cell_type": "markdown",
   "metadata": {},
   "source": [
    "### Optional improvement"
   ]
  },
  {
   "cell_type": "markdown",
   "metadata": {},
   "source": [
    "As an optional task, you can try to improve the score with beam search. If you know this technique, apply it using the probability output of logistic regression.\n",
    "\n",
    "With the same classifier and a beam diameter of 5, your teacher obtained 92.87."
   ]
  },
  {
   "cell_type": "markdown",
   "metadata": {},
   "source": [
    "## Collecting the entities"
   ]
  },
  {
   "cell_type": "markdown",
   "metadata": {},
   "source": [
    "You will now collect all the named entities from the training set, defined as NP chunks and starting with a `NNP` (proper noun) or a `NNPS` (proper noun, plural) tag. As an example, in the first sentence of `train_corpus`, you will extract `('September', )` and `('July', 'and', 'August')`. You will set all the tuples in a set that you will call `ne_set`."
   ]
  },
  {
   "cell_type": "code",
   "execution_count": 152,
   "metadata": {
    "scrolled": false
   },
   "outputs": [
    {
     "data": {
      "text/plain": [
       "[{'form': 'Confidence', 'pos': 'NN', 'chunk': 'B-NP'},\n",
       " {'form': 'in', 'pos': 'IN', 'chunk': 'B-PP'},\n",
       " {'form': 'the', 'pos': 'DT', 'chunk': 'B-NP'},\n",
       " {'form': 'pound', 'pos': 'NN', 'chunk': 'I-NP'},\n",
       " {'form': 'is', 'pos': 'VBZ', 'chunk': 'B-VP'},\n",
       " {'form': 'widely', 'pos': 'RB', 'chunk': 'I-VP'},\n",
       " {'form': 'expected', 'pos': 'VBN', 'chunk': 'I-VP'},\n",
       " {'form': 'to', 'pos': 'TO', 'chunk': 'I-VP'},\n",
       " {'form': 'take', 'pos': 'VB', 'chunk': 'I-VP'},\n",
       " {'form': 'another', 'pos': 'DT', 'chunk': 'B-NP'},\n",
       " {'form': 'sharp', 'pos': 'JJ', 'chunk': 'I-NP'},\n",
       " {'form': 'dive', 'pos': 'NN', 'chunk': 'I-NP'},\n",
       " {'form': 'if', 'pos': 'IN', 'chunk': 'B-SBAR'},\n",
       " {'form': 'trade', 'pos': 'NN', 'chunk': 'B-NP'},\n",
       " {'form': 'figures', 'pos': 'NNS', 'chunk': 'I-NP'},\n",
       " {'form': 'for', 'pos': 'IN', 'chunk': 'B-PP'},\n",
       " {'form': 'September', 'pos': 'NNP', 'chunk': 'B-NP'},\n",
       " {'form': ',', 'pos': ',', 'chunk': 'O'},\n",
       " {'form': 'due', 'pos': 'JJ', 'chunk': 'B-ADJP'},\n",
       " {'form': 'for', 'pos': 'IN', 'chunk': 'B-PP'},\n",
       " {'form': 'release', 'pos': 'NN', 'chunk': 'B-NP'},\n",
       " {'form': 'tomorrow', 'pos': 'NN', 'chunk': 'B-NP'},\n",
       " {'form': ',', 'pos': ',', 'chunk': 'O'},\n",
       " {'form': 'fail', 'pos': 'VB', 'chunk': 'B-VP'},\n",
       " {'form': 'to', 'pos': 'TO', 'chunk': 'I-VP'},\n",
       " {'form': 'show', 'pos': 'VB', 'chunk': 'I-VP'},\n",
       " {'form': 'a', 'pos': 'DT', 'chunk': 'B-NP'},\n",
       " {'form': 'substantial', 'pos': 'JJ', 'chunk': 'I-NP'},\n",
       " {'form': 'improvement', 'pos': 'NN', 'chunk': 'I-NP'},\n",
       " {'form': 'from', 'pos': 'IN', 'chunk': 'B-PP'},\n",
       " {'form': 'July', 'pos': 'NNP', 'chunk': 'B-NP'},\n",
       " {'form': 'and', 'pos': 'CC', 'chunk': 'I-NP'},\n",
       " {'form': 'August', 'pos': 'NNP', 'chunk': 'I-NP'},\n",
       " {'form': \"'s\", 'pos': 'POS', 'chunk': 'B-NP'},\n",
       " {'form': 'near-record', 'pos': 'JJ', 'chunk': 'I-NP'},\n",
       " {'form': 'deficits', 'pos': 'NNS', 'chunk': 'I-NP'},\n",
       " {'form': '.', 'pos': '.', 'chunk': 'O'}]"
      ]
     },
     "execution_count": 152,
     "metadata": {},
     "output_type": "execute_result"
    }
   ],
   "source": [
    "train_corpus[0]"
   ]
  },
  {
   "cell_type": "markdown",
   "metadata": {},
   "source": [
    "You can write a two-pass procedure. For each sentence of the corpus:\n",
    "1. In the first pass, you will collect the start indices of the noun groups which are also proper nouns. For the first sentence, it will result in the list `[16, 30]`;\n",
    "2. In the second pass, you will collect the segments, starting at each index. For the first sentence, it will result in the tuples `('September',)`and `('July', 'and', 'August')`\n",
    "\n",
    "Should you have a better solution, please use it."
   ]
  },
  {
   "cell_type": "code",
   "execution_count": 156,
   "metadata": {},
   "outputs": [
    {
     "name": "stdout",
     "output_type": "stream",
     "text": [
      "[('San', 'Francisco', 'Lawson', 'Dillow', 'Research', 'Institute', 'Briscoe', 'Montagu', 'Bank', 'PLC', 'Joshi', 'Dillow', 'Briscoe', 'Lawson', 'Dillow', 'Lawson', 'Lawson', 'Federal', 'Reserve', 'York', 'York', 'York', 'Kong', 'Rock', 'Partners', 'Limited', 'Partnership', 'Green', 'Industries', 'Inc.', 'Green', 'Rock', 'Green', 'Rock', 'Green', 'Rock', 'Partners', 'Inc.', 'Rock', 'Partners', 'L.P', 'Brick', 'Lime', 'Inc.', 'Group', 'Inc', 'Brick', 'Group', 'Sayre', 'Pont', 'Co', 'State', 'University', 'LaLonde', 'State', 'LaLonde', 'Delaney', 'D.', 'Little', 'Inc.', 'McCullough', 'Institute', 'Freightways', 'Inc.', 'Freightways', 'Lloyd', 'Bros', 'Air', 'Connors', 'Air', 'Yusen', 'Kaisha', 'Grand', 'Inc.', 'Lynch', 'Capital', 'Stone', 'Stone', 'Stone', 'Stone', 'Stone', 'Stone', 'Stone', 'Corp.', 'Angeles', 'Express', 'Business', 'Beecham', 'Express', 'Smith', 'Barksdale', 'Ewing', 'Business', 'School', 'Press', 'York', 'Securities', 'York', 'Street', 'York', 'House', 'Homes', 'Street', 'Street', 'Street', 'Street', 'Corp.', 'James', 'Goldsmith', 'James', 'Forte', 'Holdings', 'Kong', 'Stanley', 'Capital', 'International', 'Perspective', 'Bush', 'Bush', 'Bush', 'Noriega', 'Bush', 'News', 'Hill', 'Noriega', 'David', 'Boren', 'Boren', 'Sen.', 'William', 'Cohen', 'Boren', 'Intelligence', 'Agency', 'Director', 'William', 'Webster', 'Webster', 'Boren', 'F.', 'Seib', 'Corp.', 'Valley', 'G.m.b', 'AG', 'E.', 'Levin', 'Hall', 'University', 'TUCSON', 'Cos.', 'International', 'Inc.', 'York', 'D.', 'Kahan', 'Benson', 'Government', 'Securities', 'Inc.', 'Hugo', 'K.', 'Evans', 'Economics', 'Inc.', 'Evans', 'J.', 'Campbell', 'Brothers', 'Harriman', 'York', 'Ciminero', 'Financial', 'Group', 'Won', 'Sohn', 'Corp.', 'Lieberman', 'Hanover', 'Securities', 'Corp.', 'York', 'Hugo', 'MANUFACTURING', 'Co.', 'PLC', 'Zealand', 'Securities', 'Ltd.', 'Brierley', 'Equity', 'Brierley', 'Brierley', 'Equity', 'Royce', 'Andersson', 'Andersson', 'Andersson', 'Andersson', 'Andersson', 'Andersson', 'Andersson', 'Andersson', 'Herslow', 'Andersson', 'Andersson', 'Ltd', 'Corp.', 'Corp.', 'Kurtanjek', 'Capel', 'Andersson', 'Andersson', 'Andersson', 'Andersson', 'Computer', 'Inc.', 'Systems', 'Inc', 'Sculley', 'Sculley', 'Sculley', 'Sculley', 'J.', 'Schantz', 'Schrager', 'Schantz', 'Technology', 'Corp', 'L.', 'Holewinski', 'L.', 'Haines', 'A.', 'Kushkin', 'Schulman', 'Trimmer', 'Haines', 'Kushkin', 'Electric', 'Co.', 'Corp.', 'Assessment', 'Development', 'Co.', 'Lauderdale', 'Palm', 'Beach', 'AG', 'America', 'H.', 'Eisenberg', 'Eisenberg', 'Development', 'Corp.', 'Inc.', 'News', 'Network', 'Bince', 'Jr', 'Bince', 'Corazon', 'Aquino', 'Marcos', 'Aquino', 'Garcia', 'Bank', 'Ty', 'Ty', 'Ty', 'Industries', 'Corp.', 'Garcia', 'Garcia', 'M.', 'Sprenger', 'Inc.', 'S.', 'Willmott', 'Services', 'Inc', 'E.', 'Wood', 'A.', 'Durney', 'Wood', 'Rock', 'Resources', 'Inc', 'Financial', 'Corp.', 'Financial', 'Corp.', 'Bancorp', 'Inc.', 'Stock', 'Exchange', 'J.', 'Pascale', 'C.', 'Smith', 'W.', 'Smith', 'Sr.', 'T.', 'Linsley', 'Smith', 'Federal', 'Savings', 'Federal', 'Savings', 'Bank', 'Federal', 'Savings', 'Ortiz', 'Ortiz', 'Ortiz', 'Ortiz', 'Carlos', 'Salinas', 'James', 'States', 'Institute', 'Rico', 'Federal', 'Air', 'Air', 'Air', 'Chairman', 'Stephen', 'Wolf', 'Angeles', 'Davis', 'York', 'Davis', 'Air', 'Air', 'Pope', 'Freres', 'Brothers', 'Inc.', 'Weiss', 'Rifkind', 'Wharton', 'Communications', 'Limited', 'Partnership', 'Familia', 'Familia', 'Holdings', 'Inc.', 'Cards', 'Inc', 'STEEL', 'Corp.', 'Steel', 'Corp', 'Lehman', 'Hutton', 'Inc.', 'Freres', 'Va.', 'Intergroup', 'Inc.', 'Steel', 'Group', 'PLC', 'Group', 'Group', 'Stream', 'Inc.', 'York', 'Boston', 'Corp.', 'Aluminium', 'Ltd.', 'Run', 'National', 'Corp.', 'A.', 'Conway', 'P.', 'Aniskovich', 'Jr.', 'Conway', 'Life', 'Insurance', 'Co.', 'National', 'Life', 'Insurance', 'Co', 'Rossi', 'National', 'Life', 'Insurance', 'Co', 'Conway', 'Central', 'Life', 'Insurance', 'Co.', 'Central', 'National', 'Corp', 'Life', 'J.', 'Terra', 'Illinois', 'Corp.', 'Illinois', 'Terra', 'Terra', 'Life', 'Systems', 'Inc.', 'Paul', 'Cardiovascular', 'Lilly', 'Air', 'York', 'City', 'Interstate', 'Bancorp', 'Angeles', 'Group', 'Australia', 'Jones', 'Lehman', 'Hutton', 'Treasury', 'Jones', 'Corp.', 'A.', 'Eldred', 'Home', 'Products', 'Corp.', 'Home', 'York', 'Home', 'York', 'Stock', 'Exchange', 'Home', 'Petrochemical', 'Co.', 'York', 'Stock', 'Exchange', 'District', 'Court', 'Hershhenson', 'Pagones', 'Vadas', 'Ciporkin', 'Holding', 'Ltd.', 'Corp.', 'Inc.', 'CALIFORNIA', 'Air', 'Force', 'Base', 'Africa', 'Germany', 'Garcia', 'York', 'Corp.', 'Rica', 'Minister', 'Corp.', 'Hayes', 'York', 'Canaan', 'Corp.', 'Credit', 'York', 'Stock', 'Exchange', 'Germany', 'Krenz', 'Krenz', 'Honecker', 'Germany', 'Krenz', 'Germany', 'Krenz', 'Germany', 'Krenz', 'Krenz', 'Honecker', 'Eppelmann', 'Berlin', 'Krenz', 'Germany', 'Honecker', 'Krenz', 'Krenz', 'Ronnie', 'Flippo', 'Krenz', 'Germany', 'Krenz', 'Honecker', 'Donovan', 'Germany', 'Free', 'Europe', 'Krenz', 'Berlin', 'Krenz', 'Honecker', 'Krenz', 'Berlin', 'Germany', 'Berlin', 'Hager', 'Germany', 'Fleischmann', 'Stanley', 'Pons', 'Fleischmann', 'Fleischmann', 'A.', 'Oriani', 'Oriani', 'A&M', 'Oriani', 'Oriani', 'University', 'M.', 'Gur', 'A&M', 'University', 'Bockris', 'Fleischmann', 'National', 'Gottesfeld', 'Alamos', 'National', 'Laboratory', 'Fleischmann', 'Ross', 'Jones', 'Street', 'Journal', 'R.', 'Kann', 'Jones', 'Kong', 'York', 'Jones', 'Inc.', 'Instruments', 'Inc.', 'Junkins', 'Junkins', 'Corp.', 'New', 'Mexico', 'Telephone', 'Co.', 'New', 'Mexico', 'Telephone', 'City', 'Bunker', 'Hunt', 'Hunt', 'Edgar', 'Pixley', 'Ltd.', 'Hunt', 'Eastern', 'Edgar', 'R.', 'Demler', 'Burnham', 'Lambert', 'Inc', 'Demler', 'Demler', 'Butler', 'Montagu', 'Lehman', 'Hutton', 'Inc.', 'York', \"O'Connell\", 'Lehman', 'Hutton', \"O'Connell\", 'Seiler', 'Bank', 'Texas', 'Intermediate', 'Columbia', 'Hanauer', 'Wolff', 'Savaiko', 'Inc.', 'Savaiko', 'Co.', 'Broker', 'Broker', 'Research', 'Inc.', 'Computer', 'Inc.', 'Microsystems', 'Inc.', 'Equipment', 'Corp.', 'Broker', 'Kay', 'Riese', 'Restaurants', 'Hut', 'Rogers', 'Harty', 'Group', 'Inc.', 'Metropolitan', 'PLC', 'Harty', 'Konopnicki', 'Inc.', 'Rohs', 'Schroder', 'Mack', \"D'Agosto\", 'Morrissey', 'Fried', 'Chicken', 'Rohs', 'Rohs', 'Greenberg', 'Greenberg', 'Greenberg', 'Harty', 'York', 'Morrissey', 'Rudnick', 'Riese', 'Restaurants', 'Co.', 'Jackson', 'Jackson', 'October', 'Jackson', 'Smalling', 'Jackson', 'Francisco', 'Day', 'Jackson', 'Vizas', 'Ruth', 'Smalling', 'Machon', 'Park', 'Smalling', 'Jackson', 'Merola', 'Jackson', 'York', 'Jackson', 'Smalling', 'Corp.', 'Steel', 'Ltd.', 'Steel', 'Corp.', 'Corp.', 'Inc.', 'Bradford', 'Lynch', 'Capital', 'Steel', 'Order', 'Order', 'Order', 'Order', 'Bessemer', 'Order', 'Order', 'Order', 'Angrist', 'F.', 'Sharpe', 'Markese', 'Kochis', 'Treasury', 'B.', 'Enright', 'Financial', 'Financial', 'Seidman', 'H.', 'Cammack', 'Armstrong', 'Advisors', 'Inc.', 'Slater', 'B', 'John', 'Kerry', 'Noriega', 'Kerry', 'Oct.', 'Kravis', 'Schwartz', 'York', 'SCHWARTZ', 'Schwartz', 'Schwartz', 'Stapf', 'Stapf', 'Gargan', 'Roper', 'Business', 'Bureaus', 'McGrath', 'Schwartz', 'Gargan', 'Gargan', 'Gargan', 'Gargan', 'Meridian', 'Corp.', 'Meridian', 'Meridian', 'Meridian', 'V.', 'Sala', 'Meridian', 'Manion', 'Sala', 'Meridian', 'Sala', 'York', 'Sala', 'Manion', 'Chandler', 'Peterson', 'Peterson', 'Peterson', 'Peterson', 'Peterson', 'Peterson', 'Peterson', 'Peterson', 'Diebel', 'Diebel', 'Peterson', 'Peterson', 'Peterson', 'Peterson', 'Peterson', 'County', 'Emshwiller', 'Wilshire', 'Island', 'McClelland', 'Beach', 'Vegas', 'Bay', 'Beach', 'McClelland', 'Beach', 'Beach', 'Katz', 'Beach', 'Island', 'McClelland', 'County', 'County', 'Beach', 'Angeles', 'Beach', 'Beach', 'Trust', 'Inc.', 'Angeles', 'Jones', 'O.', 'Kelly', 'Sr.', 'Trust', 'Jones', 'Beach', 'Katz', 'Beach', 'Valentine', 'Federal', 'Prison', 'Investment', 'Corp.', 'Valentine', 'Angeles', 'Isle', 'Vegas', 'Katz', 'M', 'Ciavarella', 'Management', 'Island', 'Co.', 'Ciavarella', 'Luehrs', 'Lancaster', 'U.', 'Riepe', 'Rowe', 'Price', 'Ruffel', 'U', 'Rowe', 'Price', 'Financial', 'Rowe', 'Price', 'Hauptman', 'Hauptman', 'Anderson', 'Financing', 'Alternatives', 'University', 'Anderson', 'Anderson', 'Anderson', 'Anderson', 'Putka', 'Dame', 'Inc', 'County', 'D.', 'Tharp', 'Tharp', 'James', 'Baker', 'Baker', 'Tharp', 'Tharp', 'Tharp', 'Franciscans', 'Security', 'V.', 'Washburn', 'Washburn', 'Hill', 'Corp.', 'P.', 'Keenan', 'Lackey', 'Lackey', 'York', 'York', 'G.', 'Hicks', 'Hicks', 'Schmedel', 'R.', 'Barnett', 'Neal', 'Lauderdale', 'Blodgett', 'Harper', 'McMahon', 'Cunningham', 'Barasch', 'Worth', 'Oil', 'Haven', 'Smith', 'Oil', 'Co.', 'Adamski', 'Cunningham', 'Blodgett', 'Blodgett', 'Andreassen', 'Wenz', 'Wenz', 'Watson', 'Lynes', 'Corp.', 'Co.', 'Springs', 'James', 'Trinen', 'Bowers', 'Angeles', 'Elvekrog', 'Inc.', 'Jellison', 'California', 'Angeles', 'Cortese', 'Cortese', 'Cortese', 'Cortese', 'Brannigan', 'Life', 'Insurance', 'Co.', 'Capital', 'Corp.', 'Pfiefer', 'Perrin', 'Co.', 'Dominici', 'Daily', 'Life', 'Insurance', 'Co.', 'National', 'Life', 'Insurance', 'Co.', 'Travelers', 'Life', 'Insurance', 'Co.', 'Life', 'Insurance', 'Corp.', 'Life', 'Assurance', 'Society', 'Group', 'Inc.', 'Cawthorn', 'Cawthorn', 'Cawthorn', 'PLC', 'Medical', 'Industries', 'Inc.', 'Louis', 'Cawthorn', 'Cawthorn', 'AG', 'Europe', 'Corp.', 'Federal', 'Savings', 'Bank', 'Supervision', 'York', 'Stock', 'Exchange', 'Express', 'Friday', 'Corp.', 'Medical', 'International', 'VandenBerg', 'Lehman', 'Hutton', 'Lew', 'Benson', 'North', 'America', 'Selkin', 'Securities', 'Selkin', 'Morris', 'Board', 'Co.', 'Telephone', 'Medical', 'Acquisition', 'Boston', 'Bank', 'Boston', 'Warner', 'Communications', 'World', 'Line', 'Pacific', 'Robert', 'M.', 'Gintel', 'Nugget', 'Business', 'Computer', 'Equipment', 'Research', 'General', 'Technologies', 'Lehman', 'Hutton', 'International', 'International', 'Group', 'Re', 'Galoob', 'Cities-ABC', 'Peabody', 'Lynch', 'West', 'Capital', 'Development', 'Class', 'B', 'Cos.', 'Industries', 'Inc.', 'Orleans', 'J.', 'Pinola', 'Pinola', 'Mutual', 'Life', 'Insurance', 'Co', 'Bush', 'Bush', 'Majority', 'Leader', 'George', 'Mitchell', 'Mitchell', 'Speaker', 'Thomas', 'Foley', 'Bush', 'J.', 'Warshaw', 'Warshaw', 'Warshaw', 'Insurance', 'M.A.', 'Hirschfeld', 'Health', 'Co.', 'Warshaw', \"D'Arcy\", \"D'Arcy\", 'Day', 'Christmas', 'Day', 'Bard', 'Mitchell', 'Travel', 'Service', 'Thomas', 'Donahue', 'Crosby', 'Business', \"O'Donnell\", 'York', 'City', 'World', 'Hugo', 'Airlines', 'Inc.', 'Airlines', 'Corp.', 'Islands', 'Aid', 'California', 'Beach', 'Hoffman', 'Cross', 'Security', 'J.', 'Dennis', 'Hastert', 'Purnick', 'Avenue', 'Rosen', 'Purnick', 'Rosen', 'Korea', 'Kong', 'Furs', 'Purnick', 'Purnick', 'Rosen', 'Germany', 'Rosen', 'Schreibman', 'Raphael', 'Furs', 'Inc.', 'Rosen', 'Feldman', 'Furs', 'Inc.', 'Rosen', 'Rosen', 'Inc.', 'Vault', 'Inc.', 'Inc.', 'Schreibman', 'Sanders', 'Field', 'Purnick', 'Rosen', 'Corp.', 'Services', 'Inc.', 'Andrew', 'McBride', 'McBride', 'Frank', 'Provato', 'Mattausch', 'Mattausch', 'Poulin', 'Alto', 'Espectador', 'Espectador', 'Espectador', 'Espectador', 'B.', 'Evans', 'Co', 'Amon', 'Gourlay', 'Amon', 'Gourlay', 'Lawson', 'Lawson', 'Lawson', 'Lawson', 'Lawson', 'Lawson', 'House', 'Leigh-Pemberton', 'Leigh-Pemberton', 'Lawson', 'Olivetti', 'Corp.', 'Co.', 'Meagher', 'Davis', 'Capel', 'Davis', 'USA', 'Inc.', 'S.A', 'Security', 'Services', 'Security', 'Security', 'Income', 'E.', 'Fuller', 'Park', 'International', 'Inc.', 'Bard', 'Inc.', 'Sidoti', 'Burnham', 'Lambert', 'Inc', 'Medical', 'Angeles', 'Inc.', 'Richter', 'Witter', 'Reynolds', 'Hugo', 'Carolina', 'Carolina', 'Equipment', 'Corp.', 'Street', 'Business', 'Machines', 'Corp', 'Steinkrauss', 'Milunovich', 'Boston', 'Milunovich', 'Stevens', 'Witter', 'Reynolds', 'Stevens', 'Schulman', 'Securities', 'York', 'Schulman', 'Schulman', 'R.', 'Wilke', 'Palmolive', 'Co.', 'Mark', 'America', 'Mark', 'Mark', 'Corp.', 'Limited', 'Partnership', 'Co.', 'Telephone', 'Grubman', 'Inc', 'D.', 'Gross', 'Gross', 'Capital', 'Management', 'Inc.', 'Capital', 'Capital', 'M.', 'Lynn', 'Core', 'Investors', 'Inc.', 'James', 'Kartalia', 'Investment', 'Management', 'Co.', 'Core', 'Capital', 'Carder', 'Capital', 'Carder', 'Carder', 'Thomas', 'Allen', 'Zumbrunn', 'Insurance', 'Co.', 'Salerno', 'Trust', 'Corp.', 'Africa', 'State', 'Employees', 'Retirement', 'System', 'Corp.', 'Corp.', 'Corp.', 'Waste', 'Management', 'Squibb', 'Co.', 'Corp.', 'Co.', 'Business', 'Machines', 'Corp.', 'Corp.', 'Fund', 'Inc.', 'PipeLines', 'Ltd.', 'Air', 'Corp.', 'Pharmaceutical', 'Co.', 'Industries', 'PLC', 'James', 'Goldsmith', 'Iberian', 'Fund', 'Holdings', 'International', 'Ltd.', 'Noriega', 'Noriega', 'Noriega', 'Noriega', 'Noriega', 'Rica', 'J.', 'McNeil', 'Noriega', 'Noriega', 'Noriega', 'Noriega', 'John', 'Kerry', 'Van', 'Chan', 'Chan', 'Chan', 'Chan', 'Chan', 'Chan', 'Chan', 'Chan', 'Assembly', 'Chan', 'Chan', 'Chan', 'Chan', 'Ngoc', 'Nghe', 'Ngoc', 'Ngoc', 'Hoa', 'Huy', 'Thiep', 'Nghe', 'Nguyen', 'Ngoc', 'Ngoc', 'Nghe', 'Duy', 'Thi', 'Thi', 'Thi', 'City', 'Food', 'Co.', 'Van', 'Linh', 'Chi', 'Minh', 'City', 'Linh', 'Thi', 'Mrs.', 'Thi', 'City', 'Food', 'City', 'Food', 'Thi', 'Petro', 'Thi', 'City', 'Food', 'Grossman', 'View', 'Federal', 'Savings', 'View', 'Federal', 'View', 'Capital', 'Corp', 'Hugo', 'V.', 'Reese', 'Sr', 'Banana', 'Co', 'Digital', 'Corp.', 'Roger', 'W.', 'Johnson', 'Digital', 'Johnson', 'Digital', 'Rico', 'Hugo', 'Johnson', 'Johnson', 'Johnson', 'Digital', 'Digital', 'Johnson', 'Digital', 'Johnson', 'Digital', 'Johnson', 'Digital', 'Digital', 'Digital', 'Johnson', 'Digital', 'Digital', 'Express', 'Co.', 'World', 'Express', 'Express', 'Information', 'Services', 'Co', 'Express', 'Financial', 'Express', 'Bank', 'Express', 'Information', 'Lehman', 'Hutton', 'Holdings', 'Inc.', 'Express', 'Express', 'Inc.', 'PLC', 'Trade', 'Commission', 'S.A.', 'Herbert', 'Hunt', 'Bunker', 'Hunt', 'Bunker', 'Hunt', 'Justice', 'Department', 'Hanover', 'Trust', 'Co.', 'Hanover', 'Hanover', 'Abramson', 'Hanover', 'Abramson', 'Ray', 'Hanover', 'Department', 'Inc.', 'Corp.', 'Corp.', 'Dreyer', 'Dreyer', 'Bumiputra', 'Malaysia', 'Bhd.', 'Basir', 'Ismail', 'Bumiputra', 'Sri', 'Basir', 'Bumiputra', 'Malaysia', 'Finance', 'Ltd.', 'Kong', 'Bumiputra', 'Nasional', 'Bhd.', 'Sri', 'Basir', 'Sri', 'Basir', 'Bumiputra', 'Sri', 'Basir', 'Lumpur', 'Sri', 'Basir', 'Ehman', 'Reagan', 'Ehman', 'County', 'Florio', 'Courter', 'Jersey', 'Bowker', 'Jersey', 'Hill', 'Day', 'Ehman', 'Jersey', 'Bush', 'Dukakis', 'University', 'Florio', 'Courter', 'Jersey', 'Florio', 'Florio', 'Courter', 'North', 'Stanwick', 'Courter', 'Florio', 'Traynor', 'Jersey', 'Right', 'Courter', 'Reagan', 'Kemp', 'Courter', 'Kean', 'Courter', 'Kean', 'Jersey', 'Courter', 'Courter', 'Kean', 'Courter', 'Courter', 'Park', 'Florio', 'Kean', 'Jersey', 'Florio', 'Florio', 'Courter', 'Florio', 'State', 'College', 'Florio', 'Pignatelli', 'Florio', 'Pignatelli', 'Wames', 'Sr.', 'Florio', 'Popkin', 'Woodworth', 'Trust', 'Co.', 'York', 'Yardeni', 'Securities', 'Inc.', 'York', 'Yardeni', 'Masius', 'Benton', 'Dillmann', 'Dillmann', 'Mexico', 'Shannon', 'Associates', 'Inc.', 'Carnival', 'River', 'Borgeson', 'Fire', 'William', 'Berry', 'Park', 'City', 'Highway', 'Series', 'Giamatti', 'Corp.', 'Manhattan', 'Corp.', 'Street', 'Trust', 'New', 'York', 'Corp.', 'Angeles', 'Nathan', 'Brothers', 'Inc.', 'Batchelder', 'Jolla', 'Angeles', 'Batchelder', 'Checchi', 'Batchelder', 'Batchelder', 'Davis', 'Manhattan', 'Solow', 'Hanover', 'Trust', 'Co.', 'Hanover', 'B.', 'Lee', 'Banking', 'Corp.', 'Medical', 'International', 'Inc.', 'Fleischer', 'Jr.', 'Frank', 'Harris', 'Shriver', 'Communications', 'Inc.', 'Inc.', 'Chairman', 'Martin', 'Davis', 'Davis', 'Communications', 'Inc', 'Secretary', 'Samuel', 'Skinner', 'Mizuno', 'Affairs', 'Inc.', 'Inc.', 'Glazer', 'Steel', 'Industries', 'Inc.', 'Bradford', 'Lynch', 'Capital', 'Bradford', 'Chairman', 'Frank', 'W.', 'Luerssen', 'Friday', 'Friday', 'Peake', 'A.', 'Wyss', 'Inc', 'Wyss', 'Wyss', 'Wyss', 'Arbel', 'University', 'L.', 'Beach', 'Neuhaus', 'Beach', 'Confair', 'Financial', 'Inc.', 'Confair', 'Confair', 'Chairman', 'Alan', 'Greenspan', 'Katz', 'Matrix', 'Management', 'Inc.', 'York', 'Katz', 'Katz', 'Davis', 'Davis', 'Research', 'Inc.', 'Katz', 'Arbel', 'Arbel', 'Arbel', 'Putnam', 'III', 'Letter', 'Dorfman', 'Securities', 'Inc.', 'International', 'Corp', 'Burnham', 'Lambert', 'Inc.', 'Brothers', 'Inc.', 'Union', 'Co.', 'Clemensen', 'Baldwin', 'Capital', 'Management', 'Baldwin', 'Lufkin', 'Corp.', 'Lufkin', 'Lufkin', 'Lufkin', 'Capital', 'Holdings', 'Corp.', 'Gas', 'Service', 'Limited', 'Partnership', 'Treasury', 'Chandross', 'Bank', 'PLC', 'Capital', 'Holdings', 'Corp.', 'Gas', 'Service', 'Limited', 'Partnership', 'Gas', 'Service', 'Jersey', 'Turnpike', 'Authority', 'Katz', 'Government', 'National', 'Mortgage', 'Association', 'Mae', 'Mae', 'Home', 'Loan', 'Mortgage', 'Corp.', 'Mac', 'Lawson', 'Germany', 'Train', 'Express', 'Business', 'Bureaus', 'Ormstedt', 'Veterans', 'Ormstedt', 'Marketing', 'Inc.', 'Burns', 'Webster', 'Webster', 'McDonald', 'Johnson', 'Corp.', 'Air', 'York', 'Air', 'Air', 'Chairman', 'Stephen', 'M.', 'Wolf', 'Air', 'Air', 'Air', 'King', 'Air', 'Air', 'Stevens', 'Air', 'Jones', 'Professional', 'Investor', 'Report', 'Stevens', 'Air', 'Air', 'Royal', 'Air', 'Freres', 'Dubinsky', 'Manhattan', 'Corp.', 'Bush', 'Majority', 'Leader', 'George', 'Mitchell', 'Mitchell', 'Bush', 'Bob', 'Packwood', 'Mitchell', 'Mitchell', 'Mitchell', 'Bush', 'Packwood', 'David', 'Boren', 'William', 'Roth', 'Coal', 'Co.', 'Hutchinson', 'Hutchinson', 'News', 'Hutchinson', 'Hutchinson', 'Hutchinson', 'Hutchinson', 'Manhattan', 'Corp.', 'Senior', 'Vice', 'President', 'George', 'Scandalios', 'Brothers', 'Inc.', 'McKinnon', 'Inc.', 'York', 'STREET', 'Orwell', 'Street', 'York', 'Stock', 'Exchange', 'Chairman', 'John', 'Phelan', 'Lynch', 'Lehman', 'Hutton', 'Inc.', 'Burnham', 'Lambert', 'Inc.', 'Bache', 'Witter', 'Reynolds', 'Inc.', 'Inc.', 'Witter', 'Street', 'Telephone', 'Biehl', 'Mateo', 'Biehl', 'Bettner', 'A.', 'Wiegers', 'Co.', 'E.', 'Buffett', 'Hathaway', 'Inc.', 'Hathaway', 'Buffett', 'Yetnikoff', 'Corp.', 'Guber', 'York', 'Guber', 'Peters', 'Peters', 'Entertainment', 'Co.', 'Bros.', 'Guber', 'Communications', 'Inc.', 'Inc.', 'Angeles', 'Superior', 'Court', 'Peters', 'War', 'III', 'Guber', 'York', 'Peters', 'Streisand', 'II', 'Disney', 'Co.', 'Studios', 'Guber', 'Peters', 'Guber', 'Peters', 'Guber', 'Peters', 'De', 'Palma', 'Peters', 'Wolfe', 'De', 'Palma', 'Guber', 'Peters', 'II', 'Peters', 'Guber', 'Bookman', 'Artists', 'Agency', 'Johnson', 'Peters', 'Streisand', 'Peters', 'Guber', 'Guber', 'Peters', 'Don', 'Simpson', 'Guber', 'Simpson', 'Birnbaum', 'Peters', 'Peters', 'Guber', 'Peters', 'Birnbaum', 'Peters', 'Birnbaum', 'Corp.', 'Peters', 'Birnbaum', 'Guber', 'Peters', 'Fossey', 'Studios', 'Peters', 'Peters', 'Redford', 'Turner', 'Mendes', 'Guber', 'Guber', 'Peters', 'Guber', 'Peters', 'Tisch', 'Guber', 'Guber', 'York', 'University', 'Express', 'Guber', 'Peters', 'Bogart', 'Peters', 'Jean', 'Guber', 'Guber', 'Peters', 'Guber', 'Peters', 'Guber', 'Guber', 'Peters', 'Entertainment', 'Industries', 'Inc.', 'Chairman', 'Burt', 'Sugarman', 'Guber', 'Guber', 'Peters', 'Bros', 'Terry', 'Semel', 'Guber', 'Peters', 'Sugarman', 'May', 'Peters', 'Entertainment', 'Co', 'Guber', 'Peters', 'Peters', 'Peters', 'Guber', 'Peters', 'Ross', 'Bros.', 'Chairman', 'Robert', 'Daly', 'Semel', 'Daly', 'Daly', 'Peters', 'Daly', 'Guber', 'Peters', 'Ross', 'Guber', 'Peters', 'Guber', 'Peters', 'Treasury', 'Carney', 'Street', 'World', 'Grant', 'Data', 'Co', 'Addiss', 'Lehman', 'Hutton', 'Inc', 'Street', 'J.', 'Goldberg', 'Lynch', 'Capital', 'Grant', 'Powers', 'Manhattan', 'Bank', 'York', 'Powers', 'S.', 'Paris', 'N.A.', 'World', 'Corcoran', 'Futures', 'Inc.', 'Corcoran', 'F.', 'DeVoe', 'Jr.', 'Mason', 'Wood', 'Walker', 'Inc.', 'Herman', 'Data', 'Co', 'Street', 'Journal', 'Dorfman', 'Canada', 'Care', 'Property', 'Investors', 'Inc.', 'Health', 'Care', 'Affiliates', 'Inc.', 'Care', 'Property', 'National', 'Corp.', 'National', 'D.', 'Matchett', 'Security', 'Inc.', 'Spring', 'Van', 'Cleave', 'Security', 'Affairs', 'Matchett', 'North', 'Mark', 'Goode', 'Inc.', 'Gorbachev', 'Gorbachev', 'Goode', 'BioSciences', 'Inc.', 'Ltd.', 'Corp', 'Merieux', 'S.A.', 'Keffer', 'Martin', 'National', 'Mullins', 'Witter', 'Reynolds', 'Mullins', 'Sherlund', 'Development', 'Systems', 'National', 'National', 'National', 'Computer', 'James', 'Petersburg', 'Jones', 'Professional', 'Investor', 'Report', 'Green', 'Rock', 'Green', 'Park', 'York', 'Stadium', 'Barbara', 'California', 'McLuhan', 'Lehman', 'Hutton', 'Inc.', 'Express', 'Co.', 'Rivkin', 'Rivkin', 'Rivkin', 'B.', 'Lubar', 'L.', 'Murray', 'Foods', 'Corp.', 'W.', 'Kasten', 'R.', 'Parker', 'Daily', 'Daily', 'Reagan', 'Hill', 'Groom', 'Juliano', 'Thomas', 'Downey', 'William', 'Gray', 'Bentsen', 'Rostenkowski', 'Huard', 'Bush', 'Thevenot', 'Bush', 'Juliano', 'Francisco', 'Ignatius', 'High', 'School', 'AG', 'Chandler', 'Parker', 'Springs', 'Parker', 'Springs', 'Ohls', 'Parker', 'Nolan', 'Angeles', 'Magazine', 'Shioya', 'Shioya', 'Shioya', 'Tokyo', 'Corp.', 'Tokyo', 'Veronis', 'Suhler', 'Corp.', 'Pictures', 'Entertainment', 'Inc.', 'Veronis', 'Business', 'Home', 'House', 'Tokyo', 'Tokyo', 'Ohara', 'Keizai', 'Shinbun', 'America', 'Inc.', 'Kenney', 'Boston', 'Corp.', 'Atlantic', 'Corp.', 'New', 'England', 'Corp.', 'Telesis', 'Group', 'S', 'West', 'Inc.', 'S', 'West', 'U', 'S', 'West', 'S', 'West', 'MacAllister', 'S', 'West', 'York', 'Stock', 'Exchange', 'Atlantic', 'Stock', 'Ownership', 'Atlantic', 'C.', 'Ferguson', 'York', 'Telephone', 'Ferguson', 'York', 'City', 'Board', 'New', 'England', 'H.', 'Monteith', 'Jr.', 'Ginn', 'Telesis', 'Board', 'Telesis', 'S', 'West', 'Corp.', 'Street', 'York', 'Stock', 'Exchange', 'Petrofina', 'Inc.', 'Richard', 'M.', 'Morrow', 'Inc.', 'F.', 'Gero', 'Inc.', 'J.', 'Hatchett', 'III', 'Corp.', 'Abramson', 'Inc.', 'Horizons', 'Steidtmann', 'Teller', 'Industries', 'PLC', 'Field', 'Inc.', 'Department', 'Stores', 'Co.', 'Department', 'Stores', 'Inc.', 'Turk', 'Steidtmann', 'Steidtmann', 'Strum', 'Express', 'Strum', 'Express', 'mart', 'Corp.', 'Chairman', 'Joseph', 'E.', 'Antonini', 'M.', 'Hawley', 'Hawley', 'Hale', 'Stores', 'Inc.', 'Corp.', 'Chairman', 'Harold', 'E.', 'Sells', 'Sells', 'J.', 'Shapiro', 'Duarte', 'Cela', 'Duarte', 'Cela', 'Rosa', 'Cohen', 'Press', 'Elvira', 'Oil', 'Inc.', 'Iranian', 'Oil', 'Co.', 'Bush', 'Bush', 'Manuel', 'Noriega', 'America', 'America', 'Volio', 'Noriega', 'Noriega', 'Bush', 'Rica', 'Rican', 'President', 'Oscar', 'Arias', 'Ortega', 'Arias', 'Arias', 'Ortega', 'Bush', 'Arias', 'Christopher', 'Dodd', 'America', 'Dodd', 'President', 'Alfredo', 'Cristiani', 'Cristiani', 'Dodd', 'America', 'Baker', 'Foreign', 'Minister', 'Eduard', 'Shevardnadze', 'Shevardnadze', 'America', 'Shevardnadze', 'Baker', 'America', 'Hill', 'Salvador', 'Cristiani', 'America', 'Costa', 'Rica', 'Costa', 'Rica', 'Costa', 'Rica', 'America', 'Rica', 'Arias', 'Daremblum', 'Nacion', 'Corp.', 'PLC', 'Vegas', 'City', 'Brothers', 'Inc.', 'Communications', 'Inc.', 'Inc.', 'Corp.', 'Advertiser', 'Trek', 'Schwab', 'York', 'Inc.', 'Kellner', 'Broadcasting', 'Angeles', 'Francisco', 'Conway', 'Conway', 'Fisher', 'Popular', 'Corp.', 'Juan', 'Corp', 'Popular', 'Carrion', 'Jr.', 'Popular', 'M.', 'Paracchini', 'Popular', 'Popular', 'Popular', 'Thompson', 'BankWatch', 'Inc.', 'York', 'Popular', 'Rico', 'Thompson', 'Carrion', 'Popular', 'Carrion', 'Rico', 'Carrion', 'Inc.', 'America', 'Inc.', 'International', 'AB', 'International', 'Industries', 'PLC', 'James', 'Goldsmith', 'Field', 'Fifth', 'Avenue', 'Field', 'Patrick', 'Sheehy', 'James', 'Inc.', 'G.', 'Hassenfeld', 'Breakers', 'Patch', 'Kids', 'Industries', 'Inc.', 'International', 'Ltd.', 'Fireman', 'Group', 'Inc.', 'Bowes', 'Inc.', 'Bowes', 'Group', 'Bowes', 'Group', 'Corp', 'Group', 'Bowes', 'California', 'George', 'Deukmejian', 'Katz', 'Bachtold', 'Francisco', 'Corp.', 'Barbara', 'Corp.', 'Corp.', 'Corp.', 'Germany', 'Europe', 'Germany', 'Germany', 'Minister', 'Hans-Dietrich', 'Genscher', 'Security', 'Genscher', 'Genscher', 'A.', 'Mosbacher', 'Mosbacher', 'Bush', 'Helmut', 'Kohl', 'Germany', 'Bank', 'AG', 'Bank', 'Inc.', 'W.', 'Amerman', 'Wheels', 'Merry', 'Muffin', 'Tots', 'Segundo', 'Bush', 'Friday', 'Bush', 'Smith', 'Bush', 'Sununu', 'Bush', 'Rep.', 'Nancy', 'Johnson', 'Bush', 'Orrin', 'Hatch', 'Johnson', 'Jersey', 'Mahe', 'Coleman', 'Dalton', 'Mahe', 'St.', 'Martin', 'Bush', 'Dukakis', 'Butler', 'Lee', 'Secretary', 'Louis', 'Sullivan', 'Sullivan', 'Pacific', 'Corp', 'Pacific', 'Pacific', 'Realty', 'Transportation', 'Pacific', 'Title', 'Insurance', 'Co.', 'Title', 'Insurance', 'Co.', 'Title', 'Insurance', 'Co.', 'Title', 'Guaranty', 'Co.', 'Stewart', 'Information', 'Services', 'Corp', 'Union', 'Title', 'Insurance', 'Co', 'Jersey', 'Christie', 'RESOURCES', 'INC.', 'Seidman', 'Seidman', 'Seidman', 'Methodist', 'University', 'Business', 'School', 'Seidman', 'Jones', 'Capital', 'Markets', 'Report', 'Corp.', 'Lynch', 'Capital', 'Public', 'School', 'Authority', 'Johns', 'River', 'Water', 'Management', 'District', 'Home', 'Loan', 'Mortgage', 'Corp.', 'Brothers', 'Inc', 'Mac', 'Mac', 'Remic', 'Mac', 'Mac', 'Investment', 'Bank', 'International', 'Finance', 'Paribas', 'Capital', 'Generale', 'Australia', 'Ltd', 'Banking', 'Corp', 'Generale', 'Trust', 'Bank', 'Landesbank', 'Girozentrale', 'Bank', 'Airlines', 'System', 'Bank', 'Home', 'Loan', 'Mortgage', 'Corp.', 'Mac', 'Dyson', 'Goodfellow', 'Goodfellow', 'Technology', 'Data', 'Corp.', 'Semmel', 'Data', 'Tarter', 'Jones', 'Newswire', 'Goodwin', 'Bank', 'Inc.', 'University', 'Amram', 'Hill', 'Press', 'International', 'Corp.', 'Amram', 'Inc.', 'Business', 'Blue', 'Amram', 'Inc.', 'Information', 'Corp.', 'Golomb', 'Golomb', 'Digate', 'Digate', 'Lens', 'Institute', 'Digate', 'Tarter', 'Witter', 'Reynolds', 'Inc.', 'Witter', 'Kelly', 'Kelly', 'L.', 'Liddle', 'Kelly', 'Witter', 'Kelly', 'Witter', 'Bachman', 'Witter', 'Bachman', 'Witter', 'DEPARTMENT', 'STORES', 'Inc.', 'Brands', 'Inc.', 'Life', 'Brands', 'FE', 'PACIFIC', 'PIPELINE', 'PARTNERS', 'Limited', 'Partnership', 'Angeles', 'Chairman', 'Breeden', 'Wednesday', 'Secretary', 'Brady', 'Jibril', 'Foley', 'GOP', 'GOP', 'Sullivan', 'Germany', 'GOP', 'Chairman', 'Clarence', 'Thomas', 'Breger', 'Garcia', 'Burns', 'SHIPPING', 'Inc.', 'York', 'Isler', 'Conner', 'Isler', 'Sailing', 'International', 'Turner', 'Broadcasting', 'G.', 'Diamandis', 'B.', 'Vittoria', 'Inc', 'Isler', 'Fay', 'Diego', 'Conner', 'Smith', 'Dennis', 'Conner', 'Smith', 'Isler', 'Conner', 'Isler', 'Smith', 'County', 'Daugherty', 'Hoelzer', 'Hoelzer', 'Hoelzer', 'Hoelzer', 'Louis', 'L.', 'Stanton', 'Hoelzer', 'Hoelzer', 'E.', 'Sommer', 'Lekberg', 'Grain', 'Telephone', 'Africa', 'Africa', 'New', 'Guinea', 'Valley', 'Columbia', 'Valley', 'Texas', 'Intermediate', 'Belli', 'Belli', 'Drivon', 'Francisco', 'Francisco', 'Chesley', 'Chesley', 'Belli', 'Belli', 'Park', 'J.', 'Ruvolo', 'Francisco', 'Ruvolo', 'Ruvolo', 'Ruvolo', 'Ruvolo', 'Covert', 'Covert', 'Covert', 'Belli', 'Belli', 'Drivon', 'Ross', 'Bullock', 'Bullock', 'C.', 'Burton', 'University', 'Burton', 'Michael', 'Cook', 'Cook', 'Peat', 'Marwick', 'York', 'Amhowitz', 'UK', 'Bennett', 'Bennett', 'Bennett', 'Bennett', 'Gov.', 'William', 'Schaefer', 'Mayor', 'Marion', 'Barry', 'Bennett', 'Thompson', 'Bennett', 'Thompson', 'Bennett', 'Hugo', 'Coast', 'Masaki-Schatz', 'Richfield', 'Co.', 'Angeles', 'Masaki-Schatz', 'Co.', 'Tharp', 'Tharp', 'Western', 'Bank', 'Western', 'Financial', 'Corp.', 'G.', 'Lee', 'Lee', 'Petroleum', 'Corp.', 'Disney', 'Co.', 'Chemical', 'Co.', 'Charles', 'L.', 'Fogg', 'Hugo', 'Jerry', 'Fogg', 'Francisco', 'Orleans', 'Gaubert', 'Gaubert', 'American', 'Gaubert', 'American', 'American', 'Gaubert', 'Gaubert', 'District', 'Judge', 'Robert', 'Maloney', 'Maloney', 'Gaubert', 'Gaubert', 'American', 'Gaubert', 'David', 'Lowell', 'Lowell', 'Trees', 'Levine', 'York', 'Levine', 'Levine', 'Levine', 'Moss', 'Moss', 'Levine', 'H.', 'Aloe', 'Levine', 'Levine', 'Aloe', 'U.S.', 'Attorney', 'Terry', 'Hart', 'Arlen', 'Specter', 'Specter', 'Specter', 'W.', 'Morris', 'B.', 'Morris', 'M.', 'White', 'Adams', 'Webster', 'G.', 'Epps', 'H.', 'OBrion', 'J.', 'Roger', 'Jr.', 'C.', 'Dodd', 'York', 'Times', 'Co.', 'York', 'Times', 'Jones', 'Morton', 'S.', 'Reidy', 'Burnham', 'Lambert', 'Inc.', 'Ochs', 'Sulzberger', 'York', 'Times', 'Co.', 'Sulzberger', 'Appert', 'Lawrence', 'Burnham', 'Monday', 'Medical', 'International', 'Inc', 'L.', 'Keith', 'Jr.', 'Insurance', 'Co.', 'Keith', 'Street', 'R.', 'Mateyo', 'Capital', 'Management', 'Co.', 'York', 'Stevenson', 'Roosevelt', 'Zupan', 'California', 'War', 'II', 'Bush', 'Services', 'Bush', 'Bush', 'Bush', 'Speaker', 'James', 'Wright', 'Department', 'Hampshire', 'Commerce', 'Committee', 'Chairman', 'Ernest', 'Hollings', 'Warren', 'Rudman', 'Rudman', 'Savings', 'Lynch', 'Capital', 'Securities', 'Francisco', 'Democrat', 'David', 'Pryor', 'Pryor', 'Senator', 'Dan', 'Coats', 'Kennedy', 'Reagan', 'Coats', 'Coats', 'Bush', 'Pryor', 'Speaker', 'Thomas', 'Foley', 'Technology', 'Waite', 'Francisco', 'Clara', 'Cruz', 'Angeles', 'Fargo', 'Monte', 'Francisco', 'Cruz', 'County', 'Clara', 'County', 'Gatos', 'Francisco', 'Mayor', 'Art', 'Agnos', 'Street', 'Vic', 'Fazio', 'Hugo', 'Fazio', 'House', 'Hugo', 'Fitzwater', 'Gate', 'Park', 'Francisco', 'International', 'Airport', 'Agnos', 'Agnos', 'Hugo', 'Carolina', 'Fazio', 'Francisco', 'Gray', 'Francisco', 'Lang', 'York', 'F.', 'Seib', 'Davidson', 'Penh', 'Sann', 'Sihanouk', 'America', 'Tse-tung', 'Sen', 'Pot', 'Rouge', 'Baker', 'Penh', 'Sihanouk', 'Sihanouk', 'F.', 'Harris', 'America', 'Harris', 'York', 'America', 'V.', 'Allen', 'America', 'Data', 'Products', 'Inc.', 'Data', 'Data', 'L.', 'Marinaro', 'Data', 'Marinaro', 'Marinaro', 'Corp.', 'Mesa', 'Gas', 'Systems', 'Inc.', 'Co.', 'Star', 'Heileman', 'Brewing', 'Co.', 'Corp', 'Star', 'Chronicle', 'Star', 'Klineberg', 'University', 'J.', 'Lipton', 'Co.', 'Unilever', 'Group', 'Group', 'York', 'Richards', 'Group', 'Inc.', 'Gibraltar', 'Bank', 'F.S.B.', 'Gibraltar', 'York', 'Texas', 'National', 'Bank', 'Corp.', 'Inc.', 'Island', 'Penney', 'Co.', 'York', 'Houston', 'Kroll', 'Biscuits', 'Inc.', 'York', 'Femina', 'McNamee', 'WCRS', 'York', 'POLICY', 'Clapp', 'Co.', 'Coke', 'Computer', 'Corp.', 'Dell', 'Dell', 'Dell', 'Corp.', 'Poyner', 'Dell', 'Computer', 'Corp.', 'Business', 'Machines', 'Corp.', 'James', 'Weil', 'Holdings', 'PLC', 'Life', 'Assurance', 'Society', 'PLC', 'Life', 'Life', 'Life', 'Life', 'Petroleum', 'Services', 'Inc.', 'Mexico', 'Ltd.', 'York', 'ENGLAND', 'CRITICAL', 'CARE', 'Inc.', 'Stanley', 'Capital', 'Funding', 'T.', 'Rosen', 'Estate', 'Rosen', 'Francisco', 'Rosen', 'Perkins', 'Rosen', 'H.', 'Renzas', 'Management', 'Services', 'Inc.', 'Renzas', 'Management', 'Management', 'Renzas', 'Health', 'Health', 'Health', 'Rey', 'S.A.', 'Rey', 'Rey', 'Rey', 'Grace', 'York', 'Equipment', 'Co.', 'Energy', 'Corp.', 'Energy', 'American', 'Corp.', 'Africa', 'Ltd.', 'Industries', 'Ltd.', 'Forest', 'Products', 'Ltd.', 'Columbia', 'Doman', 'Forest', 'Products', 'Ltd.', 'Forest', 'Forest', 'Challenge', 'Canada', 'Ltd', 'Forest', 'Forest', 'Forest', 'Forest', 'Challenge', 'Canada', 'Columbia', 'Corp.', 'Kansas', 'Federal', 'Savings', 'Federal', 'Savings', 'Savings', 'Association', 'Paso', 'Bank', 'Capital', 'Corp.', 'Vegas', 'Bank', 'PLC', 'Commerciale', 'Commerciale', 'Commerciale', 'Commerciale', 'Commerciale', 'Commerciale', 'Business', 'Machines', 'Corp.', 'Inc.', 'Electronic', 'Corp.', 'Pioneer', 'N.', 'Fiedler', 'York', 'Street', 'Murai', 'Securities', 'Mitsuoka', 'Investment', 'Trust', 'York', 'Mitsuoka', 'Investment', 'Trust', 'Pharmaceutical', 'Pharmaceutical', 'House', 'House', 'Homes', 'House', 'Estate', 'Real', 'Estate', 'Development', 'Steel', 'Steel', 'Steel', 'Rayon', 'Street', 'Universal', 'Insurance', 'Alliance', 'Accident', 'Investment', 'Kong', 'Stanley', 'Capital', 'International', 'Perspective', 'Francisco', 'Agnos', 'President', 'Dan', 'Quayle', 'Quayle', 'Agnos', 'Fitzwater', 'House', 'Agnos', 'Sununu', 'House', 'Francisco', 'Fitzwater', 'Agnos', 'Bush', 'Agnos', 'Bush', 'Semel', 'Semel', 'Semel', 'Mae', 'Mae', 'Home', 'Mortgage', 'Co.', 'Insurance', 'Co.', 'Insurance', 'Mae', 'Mae', 'M.', 'Gintel', 'Gintel', 'Gintel', 'Gintel', 'Gintel', 'Chancery', 'Court', 'Gintel', 'Monday', 'Air', 'Air', 'Equipment', 'Board', 'Atlantic', 'New', 'England', 'Telesis', 'S', 'West', 'James', 'Goldsmith', 'Express', 'World', 'Jones', 'Lehman', 'Hutton', 'Treasury', 'Jones', 'Sciences', 'Corp.', 'Segundo', 'Software', 'Inc.', 'California', 'Jose', 'Cela', 'Duarte', 'Germany', 'Church', 'Berlin', 'Hajak', 'Europe', 'America', 'Arabia', 'Assad', 'Sen.', 'Specter', 'Street', 'Logan', 'Logan', 'Beale', 'York', 'Beale', 'White', 'Interstate', 'York', 'Kong', 'Investors', 'Trust', 'Investors', 'Corp.', 'Vegas', 'Rothman', 'Rothman', 'International', 'Inc.', 'York', 'Stock', 'Exchange', 'Medical', 'International', 'Inc.', 'York', 'Acquisition', 'Corp.', 'Bank', 'Bank', 'Boston', 'Corp.', 'York', 'Stock', 'Exchange', 'Medical', 'Medical', 'Medical', 'Block', 'Block', 'Cremonie', 'Supervisors', 'Inc.', 'Block', 'Cremonie', 'Block', 'Supervisors', 'E.', 'Russell', 'Block', 'Investment', 'Technologies', 'Block', 'Investment', 'Research', 'Sam', 'Block', 'Block', 'Pool', 'Pool', 'Block', 'M.', 'Bloch', 'Bloch', 'Block', 'Industries', 'Inc.', 'MARKET', 'PATOIS', 'York', 'Sullivan', 'Attorney', 'General', 'James', 'Shannon', 'Shannon', 'Service', 'Co.', 'Hampshire', 'Shannon', 'Squibb', 'Co.', 'York', 'Co.', 'Corp.', 'Squibb', 'Corp.', 'York', 'Stock', 'Exchange', 'Squibb', 'Industries', 'Inc.', 'America', 'York', 'Stock', 'Exchange', 'Group', 'Inc.', 'Corp.', 'York', 'Pictures', 'Entertainment', 'Inc.', 'Entertainment', 'Co.', 'Communications', 'Inc.', 'Prebon', 'INTERBANK', 'OFFERED', 'U.S.', 'HOME', 'LOAN', 'MORTGAGE', 'CORP', 'Mac', 'Systems', 'Inc', 'NATIONAL', 'MORTGAGE', 'ASSOCIATION', 'Mae', 'Systems', 'Inc', 'LYNCH', 'READY', 'ASSETS', 'TRUST', 'Ministry', 'Kai-shek', 'Corp.', 'Sutcliffe', 'Sutcliffe', 'Eye', 'Co.', 'Iwai', 'Corp.', 'Iwai', 'Sidorenko', 'Safety', 'Burnham', 'Lambert', 'Group', 'Inc.', 'Dang', 'Burnham', 'Lambert', 'Dang', 'Trade', 'Zealand', 'Corp.', 'Jeep-Eagle', 'Lowe', 'Motor', 'Co.', 'Prizm', 'Corolla', 'DEVELOPMENT', 'Corp.', 'Fidelity', 'Bancorp.', 'Fidelity', 'Fidelity', 'Fidelity', 'Inc.', 'Corp.', 'Corp.', 'Corp.', 'L.', 'Schwartz', 'Schwartz', 'York', 'Stock', 'Exchange', 'Bank', 'Trust', 'Co.', 'International', 'Inc.', 'PENCIL', 'Technology', 'Corp.', 'York', 'Stock', 'Exchange', 'Resources', 'Canada', 'Ltd.', 'Canada', 'Ltd.', 'Canada', 'Resources', 'Ltd.', 'Corp.', 'Eastern', 'Corp.', 'Interstate', 'Transmission', 'Co.', 'Gas', 'Pipeline', 'Co', 'Oil', 'Ltd.', 'Corp.', 'Dutch\\\\/Shell', 'Group', 'Engineering', 'Inc.', 'Industrie', 'Engineering', 'Minerals', 'Co.', 'Corp', 'Equipment', 'International', 'Crane', 'Inc.', 'Electronics', 'N.', 'Wolff', 'York', 'University', 'Avery', 'University', 'Business', 'Cellular', 'Communications', 'Inc.', 'Broadcasting', 'Corp.', 'Corp.', 'O.', 'McCaw', 'Inc.', 'Buck', 'Odeon', 'Corp', 'York', 'Stock', 'Exchange', 'Tremendae', 'B.', 'Helmsley', 'Inc.', 'Hotels', 'Helmsley', 'Helmsley', 'Helmsley', 'York', 'State', 'B.', 'Hall', 'Inc.', 'Manor', 'Africa', 'Africa', 'Verwoerd', 'Jr.', 'Africa', 'Africa', 'Africa', 'Fischer', 'Street', 'Verwoerd', 'Verwoerd', 'F.', 'Verwoerd', 'Africa', 'Bruwer', 'Verwoerd', 'Africa', 'Conradie', 'Sr.', 'Jr', 'Verwoerd', 'Verwoerd', 'Africa', 'J.', 'Canelo', 'Weston', 'Capital', 'Management', 'G.', 'Einhorn', 'Goldman', 'Goldman', 'I.', 'Clough', 'Jr.', 'Lynch', 'Markese', 'Clough', 'Biehl', 'Canelo', 'Stearns', 'Corp.', 'Canelo', 'Canelo', 'Canelo', 'Markese', 'Schlesinger', 'Edwards', 'Schlesinger', 'Corp.', 'Williams', 'Williams', 'A.', 'Oswald', 'W.', \"O'Donnell\", 'R.', 'Eiszner', 'International', 'Inc.', 'G.', 'Schwartz', 'Life', 'Insurance', 'Co.', 'V.', 'Shipley', 'Banking', 'Corp', 'Corp.', 'Trust', 'New', 'York', 'Corp.', 'Morgan', 'Pacific', 'Corp.', 'Fargo', 'K.', 'Crowley', 'Francisco', 'Business', 'Machines', 'Corp.', 'Group', 'Piszczalski', 'Equipment', 'Corp.', 'Co.', 'Group', 'Inc.', 'Group', 'Keller', 'Keller', 'Express', 'Motor', 'Co.', 'Germany', 'Ford', 'II', 'Merkur', 'Corp', 'Germany', 'J.', 'Pacific', 'Ltd.', 'Line', 'Corp.', 'Line', 'Line', 'York', 'Stock', 'Exchange', 'Line', 'Pacific', 'Line', 'Pacific', 'Line', 'Pacific', 'Line', 'Pacific', 'Line', 'Nugget', 'Inc.', 'Nugget', 'Uphoff', 'James', 'York', 'Stock', 'Exchange', 'Nugget', 'Holding', 'Corp.', 'A.', 'Franco', 'Franco', 'Holding', 'Corp.', 'Franco', 'W.', 'Bailey', 'II', 'Holding', 'Franco', 'H.', 'Ruby', 'Holding', 'Holding', 'Ruby', 'Holding', 'Holding', 'Bailey', 'Market', 'Rate', 'Monitor', 'Pencil', 'City', 'U.S.A.', 'D.', 'Little', 'D.', 'Little', 'Ahmanson', 'Western', 'Financial', 'Corp.', 'Ahmanson', 'Savings', 'Western', 'Financial', 'Hills', 'Western', 'Bank', 'Philo', 'Airline', 'Reidy', 'Burnham', 'Lambert', 'Inc', 'International', 'Data', 'Corp.', 'Data', 'Steel', 'Corp.', 'Richard', 'Butler', 'NatWest', 'Investment', 'Management', 'Ltd.', 'NatWest', 'Ltd.', 'Richard', 'Plastow', 'Richard', 'Westminister', 'Bank', 'Investment', 'Bank', 'Ltd', 'Area', 'Daylight', 'Time', 'Rafael', 'Francisco', 'Francisco', 'Bolinas', 'Beach', 'Panisse', 'Corp.', 'Secretary', 'Samuel', 'Skinner', 'Bush', 'Skinner', 'Chao', 'Skinner', 'Skinner', 'James', 'Oberstar', 'Skinner', 'Chairman', 'Glenn', 'Anderson', 'Corp.', 'Street', 'Street', 'Street', 'Accident', 'Royal', 'Alliance', 'Insurance', 'Group', 'Life', 'Securities', 'Westminister', 'James', 'Goldsmith', 'Goldsmith', 'Group', 'Warburg', 'Motor', 'Rayon', 'Natwest', 'Securities', 'Japan', 'Brewery', 'Pharmaceutical', 'Kong', 'Street', 'Stanley', 'Capital', 'International', 'Perspective', 'Regalia', 'Regalia', 'Regalia', 'Lehman', 'Hutton', 'Holdings', 'Inc.', 'Management', 'Co', 'York', 'Stock', 'Exchange', 'Inc.', 'York', 'Corp.', 'Home', 'Products', 'Corp.', 'York', 'Home', 'Home', 'Home', 'Rico', 'Africa', 'York', 'Stock', 'Exchange', 'Home', 'XL', 'Piccolino', 'York', 'Stock', 'Exchange', 'Health', 'Care', 'Board', 'Crossair', 'M.', 'Carroll', 'Carolina', 'C.', 'Barksdale', 'Jr', 'C.', 'Stuart', 'III', 'Spring', 'Inc.', 'Mountain', 'Bankcard', 'National', 'Bank', 'Bank', 'National', 'National', 'Bank', 'System', 'Bank', 'Guzman', 'Cabrera', 'Guzman', 'Cabrera', 'Hernandez', 'Galicia', 'Quina', 'Carlos', 'Salinas', 'Quina', 'Guzman', 'Cabrera', 'Quina', 'Guzman', 'Cabrera', 'Guzman', 'Cabrera', 'Quina', 'Guzman', 'Cabrera', 'Guzman', 'Cabrera', 'Guzman', 'Cabrera', 'Salinas', 'Guzman', 'Cabrera', 'Quina', 'Quina', 'Guzman', 'Cabrera', 'Guzman', 'Cabrera', 'Guzman', 'Cabrera', 'Robles', 'Desc', 'Vega', 'Velasco', 'Castillo', 'Guzman', 'Cabrera', 'Jolla', 'Shaevitz', 'Floss', 'Data', 'Corp', 'Data', 'Fallout', 'Shealy', 'Field', 'Dalton', 'John', 'Keller', 'Line', 'York', 'Co.', 'First', 'City', 'Bancorp.', 'York', 'Corp.', 'City', 'City', 'York', 'York', 'City', 'E.', 'Day', 'City', 'City', 'Erensel', 'Corp.', 'Stevens', 'Air', 'Jones', 'Professional', 'Investor', 'Report', 'Stevens', 'Air', 'Air', 'Manhattan', 'Corp.', 'Stevens', 'Air', 'Stevens', 'Air', 'Chairman', 'Stephen', 'Wolf', 'Air', 'Stevens', 'Air', 'Stevens', 'Air', 'Air', 'Air', 'Valente', 'Bailit', 'Life', 'Bailit', 'Rahill', 'Foster', 'Higgins', 'Grossman', 'Grossman', 'England', 'Medical', 'Center', 'Gras', 'Gras', 'Gras', 'Aerospace', 'PLC', 'Aerospace', 'DSM', 'Stephen', 'Neal', 'Stein', 'New', 'York', 'Corp.', 'National', 'Bank', 'Gov.', 'Bob', 'Casey', 'Gov.', 'James', 'Blanchard', 'Bush', 'Hickman', 'Halva-Neubauer', 'County', 'Freind', 'Freind', 'Blanchard', 'Rogin', 'Sutherland', 'Gov.', 'Bill', 'Clements', 'Roberts', 'Jersey', 'Ragan', 'Spaulding', 'Michelman', 'Street', 'Securities', 'Inc.', 'Bush', 'College', 'President', 'Quayle', 'Service', 'Corp.', 'Appropriations', 'Committee', 'Chairman', 'Jamie', 'Whitten', 'Dale', 'Bumpers', 'Whitten', 'F.', 'Klatman', 'General', 'Corp.', 'Industries', 'PLC', 'Gilchrist', 'Amicable', 'Investment', 'Field', 'Pacitti', 'Prideaux', 'PLC', 'Amicable', 'James', 'Field', 'Prideaux', 'Cinema', 'Corp.', 'Department', 'Stores', 'Inc.', 'Department', 'Stores', 'Co.', 'Inc', 'James', 'James', 'Prideaux', 'Francisco', 'International', 'Airport', 'Schumacher', 'Schumacher', 'Parcel', 'Service', 'Fe', 'Pacific', 'Corp.', 'Fe', 'Pacific', 'Corp.', 'Pacific', 'Transportation', 'Co.', 'Angeles', 'Engelken', 'Engelken', 'Engelken', 'Francisco', 'Francisco', 'Francisco', 'International', 'Francisco', 'International', 'Francisco', 'Vegas', 'Angeles', 'Francisco', 'Jose', 'Francisco', 'Wile', 'Co.', 'Sark', 'Littleboy', 'Research', 'Institute', 'Junor', 'Metropolitan', 'PLC', 'Met', 'York', 'Corp.', 'Brands', 'Inc.', 'York', 'Brands', 'Artois', 'America', 'Inc.', 'Jarvis', 'Jarvis', 'Whitbread', 'Reserve', 'LAND', 'Bank', 'Corp.', 'International', 'Corp.', 'York', 'Stock', 'Exchange', 'Equipment', 'Corp.', 'Business', 'Machines', 'Corp.', 'Willmott', 'Group', 'Inc', 'Corp.', 'Data', 'Corp.', 'Corp.', 'M.', 'Glorioso', 'H.', 'Olsen', 'Trust', 'Co', 'Rose', 'Trust', 'Rose', 'Trust', 'F.', 'Willman', 'C.', 'Bernstein', 'Shannon', 'Data', 'Corp.', 'Willman', 'Corp.', 'Advanced', 'Advanced', 'Data', 'Corp.', 'Data', 'Corp', 'Weekly', 'Publishing', 'USA', 'F.', 'DeVoe', 'Jr.', 'Mason', 'Wood', 'Walker', 'DeVoe', 'I.', 'Clough', 'Lynch', 'Capital', 'California', 'York', 'Stock', 'Exchange', 'York', 'L.', 'Madson', 'E.', 'Himebaugh', 'Himebaugh', 'Corp.', 'Trump', 'L.', 'Crandall', 'Pettee', 'Lynch', 'Crandall', 'Whittington', 'Grenfell', 'Whittington', 'Richmond-Watson', 'Whittington', 'Grenfell', 'Webb', 'Whittington', 'Hugo', 'Carolina', 'Y.', 'Taylor', 'Director', 'Taxpayers', 'Union', 'Butz', 'Butz', 'Security', 'Butz', 'E.', 'Hayes', 'Jr.', 'S.', 'Black', 'Hayes', 'Bell', 'Telephone', 'Co.', 'Capital', 'Power', 'Black', 'Thompson', 'Johnson', 'Commander', 'Donald', 'Williams', 'Air', 'Force', 'Base', 'Chin', 'March', 'Hugo', 'Manufacturing', 'Corp.', 'York', 'Trump', 'Trump', 'Trump', 'Trump', 'Trump', 'Trump', 'Disney', 'Co.', 'Steinberg', 'Steinberg', 'Steinberg', 'Steinberg', 'Trump', 'Trump', 'Judge', 'Alcee', 'Hastings', 'Hastings', 'Hastings', 'Hastings', 'John', 'Bryant', 'Hastings', 'Hastings', 'Industries', 'Inc.', 'Cos.', 'York', 'Abraham', 'York', 'Greaney', 'York', 'R.', 'Ostrager', 'YORK', 'Genova', 'Genova', 'Dunn', 'U.S.', 'Attorney', 'Randy', 'Mastro', 'Mastro', 'Mastro', 'Dunn', 'Angeles', 'Karalis', 'Karalis', 'Corp', 'Corp.', 'AB', 'Street', 'Street', 'Willens', 'Lehman', 'Hutton', 'Inc.', 'York', 'Willens', 'Nabisco', 'Inc.', 'Communications', 'Inc.', 'Co', 'Street', 'Schloss', 'York', 'Wall', 'Street', 'Medical', 'International', 'Hills', 'Street', 'C.', 'Canellos', 'Street', 'Bush', 'Development', 'Hugo', 'House', 'Fitzwater', 'Fitzwater', 'Clanahan', 'Stewart', 'Suchocki', 'Secretary', 'Dick', 'Cheney', 'Force', 'Air', 'Force', 'Base', 'Francisco', 'Francisco', 'Francisco', 'Island', 'Francisco', 'California', 'Volland', 'Mulrooney', 'Highway', 'Administrator', 'Thomas', 'Larson', 'California', 'McGinley', 'Pankyo', 'FAX', 'Hockney', 'York', 'Stanley', 'Atlantic', 'Dynamics', 'Edison', 'Edison', 'E.', 'Thomas', 'Jersey', 'Bell', 'Dynamics', 'Ellis', 'Bauer', 'Ellis', 'Bean', 'Antarctica', 'Chase', 'Product', 'News', 'McNally', 'Kelley', 'Products', 'USA', 'City', 'McNally', 'Kay', 'Poppenberg', 'America', 'America', 'America', 'Savageau', 'Ana', 'York', 'Diego', 'Francisco', 'Savageau', 'Francisco', 'Bluff', 'Carolyn', 'Robinson', 'Corp.', 'Dynamics', 'Corp.', 'Stealth', 'Dynamics', 'Dynamics', 'Dynamics', 'Dynamics', 'Dynamics', 'Development', 'Corp.', 'Release', 'Sherlund', 'Sherlund', 'Valley', 'Corp.', 'Micro', 'Devices', 'Inc.', 'Semiconductor', 'Corp.', 'Kurlak', 'Lynch', 'Research', 'Business', 'Machines', 'Corp.', 'Co.', 'Computer', 'Microsystems', 'Inc.', 'Computers', 'Inc.', 'Equipment', 'Corp.', 'Clara', 'Alto', 'View', 'Micro', 'Jose', 'Alto', 'Francisco', 'Francisco', 'Computer', 'Corp.', 'Equipment', 'Springs', 'Livermore', 'National', 'Laboratory', 'Corp.', 'Francisco', 'R.', 'Wilke', 'Maynard', 'Maynard', 'Maynard', 'Manufacturing', 'Inc.', 'Maynard', 'Maynard', 'Maynard', 'Maynard', 'Maynard', 'Maynard', 'Kings', 'Guzewich', 'Egg', 'Maynard', 'Frawley', 'Maynard', 'Maynard', 'Hill', 'Maynard', 'Ana', 'Maynard', 'York', 'Jersey', 'Maynard', 'Maynard', 'Angeles', 'Maynard', 'Maynard', 'Inc.', 'Maynard', 'Pfeiffer', 'Pfeiffer', 'Pfeiffer', 'Diamond', 'Monroe', 'Pfeiffer', 'Kloves', 'Kloves', 'Kloves', 'Rainer', 'Fassbinder', 'Scorsese', 'Ballhaus', 'Grusin', 'Pfeiffer', 'Bridges', 'Kloves', 'Tilly', 'Tilly', 'Street', 'Pfeiffer', 'Ballhaus', 'Monroe', 'Pfeiffer', 'Pfeiffer', 'Demme', 'PLC', 'Data', 'Corp.', 'Mining', 'Data', 'Dynamics', 'Corp.', 'Force', 'Corp.', 'Co.', 'Douglas', 'Corp.', 'C.', 'Smith', 'Smith', 'America', 'S.p', 'Co.', 'Building', 'Building', 'Building', 'Building', 'Building', 'Stock', 'Exchange', 'Building', 'Paul', 'X.', 'Kelley', 'Lafontant', 'Mary', 'Rose', 'Oakar', 'Secretary', 'Jack', 'Kemp', 'Futures', 'Inc.', 'Financial', 'Services', 'Ltd.', 'Financial', 'W.', 'Lang', 'Lang', 'C.', 'Benda', 'Lang', 'Warren', 'Pryce', 'Malizia', 'Negus', 'Fund', 'Report', 'Negus', 'Rachwalski', 'Litvack', 'Litvack', 'Treasury', 'Money', 'Market', 'Fund', 'WCRS', 'York', 'Femina', 'Holding', 'S.A.', 'WCRS', 'Della', 'Femina', 'Ball', 'Ltd.', 'Femina', 'McNamee', 'York', 'Della', 'Femina', 'Breene', 'York', 'Breene', 'Breene', 'Femina', 'Advertising', 'Masius', 'Benton', 'Femina', 'McNamee', 'Femina', 'Am', 'Chemical', 'Co.', 'Della', 'Femina', 'Group', 'Della', 'Femina', 'McNamee', 'Femina', 'Della', 'Femina', 'Group', 'Scott', 'Co.', 'S.p', 'Montagu', 'Walter', 'Thompson', 'Needham', 'Needham', 'Needham', 'Francisco', 'Walter', 'Thompson', 'York', 'Group', 'Organic', 'York', 'Morrissey', 'Group', 'Angeles', 'Porter', 'ADVERTISING', 'Advertising', 'Advertising', 'Advertising', 'Products', 'Inc.', 'York', 'Corp.', 'Eclipse', 'Motor', 'Co.', 'Bob', 'Dole', 'Dole', 'Bush', 'Development', 'Secretary', 'Jack', 'Kemp', 'Kemp', 'Banking', 'Committee', 'Rose', 'Oakar', 'Oakar', 'Kemp', 'Oakar', 'Chalmers', 'Wylie', 'George', 'Kemp', 'Delchamps', 'Delchamps', 'Delchamps', 'Jr.', 'Delchamps', 'Francisco', 'Fukuyama', 'James', 'Tobin', 'Milken', 'Pollin', 'Fukuyama', 'Fukuyama', 'Cockburn', 'Weekly', 'Air', 'France', 'Germany', 'Express', 'Corp.', 'Tiger', 'Line', 'Inc.', 'Daly', 'York', 'Daly', 'Express', 'Parcel', 'Service', 'Inc.', 'France', 'France', 'Daly', 'Express', 'Tiger', 'France', 'Pacific', 'Daly', 'Paper', 'Board', 'Co.', 'Cup', 'Corp.', 'Cup', 'Paper', 'Board', 'Chairman', 'Richard', 'Breeden', 'Francisco', 'Francisco', 'Schwartz', 'Francisco', 'Angeles', 'Vyas', 'Angeles', 'Vyas', 'Francisco', 'Daggs', 'Anthony', 'Inc.', 'Hancock', 'Freedom', 'York', 'Francisco', 'Daggs', 'Securities', 'Inc.', 'Janet', 'White', 'Francisco', 'Systems', 'Inc.', 'Francisco', 'Hugo', 'Jose', 'Irvine', 'Clearing', 'Luthringshausen', 'Clearing', 'Luthringshausen', 'Business', 'Machines', 'Corp.', 'Milunovich', 'Boston', 'Street', 'Franciscans', 'Street', 'Gallagher', 'Re', 'Corp.', 'Re', 'Corp.', 'International', 'Group', 'Inc.', 'Corp.', 'Star', 'Industries', 'Inc.', 'Corp.', 'F.', 'Atkinson', 'Co.', 'Knudsen', 'Corp.', 'Corp.', 'Pacific', 'Corp.', 'Inc.', 'Lynch', 'Pacific', 'Corp.', 'Industries', 'Inc.', 'Corp.', 'Corp.', 'Fargo', 'Corp.', 'West', 'Financial', 'Corp.', 'Ahmanson', 'Gas', 'Telesis', 'Group', 'Peters', 'Vincent', 'Corp.', 'Bank', 'Corp.', 'Stock', 'Exchange', 'Clearing', 'Corp.', 'Fossett', 'Peters', 'Lombardi', 'Farm', 'Farm', 'Lombardi', 'Farm', 'Lombardi', 'Plummer', 'D.', 'Hart', 'Research', 'Lombardi', 'Huff', 'Kim', 'Cutler', 'Katz', 'Kim', 'Walter', 'Thompson', 'Olshan', 'Wilhite', 'House', 'House', 'Morris', 'General', 'House', 'Mayer', 'Soup', 'Co.', 'Adams', 'Hugo', 'Reider', 'Life', 'Farm', 'Mutual', 'Automobile', 'Insurance', 'Co.', 'Hugo', 'Farm', 'Farm', 'Insurance', 'Co.', 'Insurance', 'Francisco', 'Corp.', 'Yankus', 'International', 'Group', 'Re', 'Corp.', 'Hugo', 'Byrne', 'Kramer', 'York', 'Hugo', 'Graphics', 'Inc.', 'Environmental', 'Services', 'Inc.', 'PLC', 'John', 'Egan', 'Motor', 'Co', 'John', 'John', 'John', 'John', 'Barber', 'John', 'Reitman', 'Barber', 'Capel', 'John', 'Corp.', 'Corp.', 'Chairman', 'Communications', 'Corp.', 'D.', 'Hart', 'Research', 'D.', 'Hart', 'Research', 'Census', 'York', 'Stock', 'Exchange', 'Stanley', 'Lynch', 'Group', 'Inc.', 'Brothers', 'Inc', 'Inc.', 'Angeles', 'National', 'Corp.', 'National', 'National', 'P.', 'Simmons', 'National', 'M.', 'Greenwood', 'National', 'Hoyt', 'National', 'Hoyt', 'National', 'Quick', 'Jr.', 'B.', 'Lane', 'Lehman', 'Hutton', 'Inc', 'A.', 'Mason', 'Lynch', 'York', 'Stock', 'Exchange', 'Industry', 'Association', 'Board', 'Schaefer', 'Board', 'Schaefer', 'Quackenbush', 'Schwab', 'Grano', 'Group', 'Inc.', 'Street', 'Grano', 'Ross', 'Ross', 'Ross', 'Jones', 'Capital', 'Markets', 'Report', 'Lehman', 'Hutton', 'Inc', 'Morgan', 'Securities', 'Inc.', 'National', 'Mortgage', 'Association', 'Mae', 'Mae', 'Boston', 'Corp', 'Mae', 'Mae', 'Trust', 'International', 'Ltd', 'Corp', 'International', 'Oil', 'Corp', 'Suisse', 'First', 'Boston', 'Ltd', 'Westminster', 'Bank', 'PLC', 'Lynch', 'International', 'Ltd', 'Electric', 'Express', 'Railway', 'Co', 'International', 'Co', 'Leu', 'Ltd', 'Nomura', 'Julius', 'Baer', 'N.V', 'Bank', 'Burnham', 'Lambert', 'Inc', 'Air', 'Corp', 'V.', 'Holmes', 'Holmes', 'Holmes', 'Holmes', 'Holmes', 'Finance', 'Corp.', 'Ventures', 'Fund', 'Inc.', 'Holmes', 'Ventures', 'Holmes', 'Holmes', 'Ann', 'Smith', 'Byrum', 'Smith', 'Byrum', 'Smith', 'Bob', 'Packwood', 'William', 'Roth', 'Dan', 'Rostenkowski', 'Valley', 'L.', 'Bandler', 'Bell', 'Telephone', 'Co.', 'Bell', 'Francisco', 'Alto', 'Sweezey', 'Francisco', 'Mayor', 'Art', 'Agnos', 'United', 'Motor', 'Manufacturing', 'Inc.', 'Alto', 'Francisco', 'President', 'Robert', 'Fienberg', 'Francisco', 'Bandler', 'Telephone', 'Communications', 'Inc.', 'Telecommunications', 'E.', 'Downing', 'Bell', 'Telesis', 'Burnham', 'Mace', 'Hill', 'Mace', 'Kotman', 'State', 'University', 'Street', 'Star', 'Industries', 'Inc.', 'Star', 'Star', 'Goldberg', 'International', 'Goldberg', 'Hugo', 'Goldberg', 'Byrne', 'Byrne', 'Byrne', 'California', 'Francisco', 'Cruz', 'Francisco', 'Cruz', 'Francisco', 'Boccone', 'HENRI', 'Duke', 'Jean', 'Funding', 'Corp.', 'Reserve', 'Searle', 'Teich', 'Teich', 'Chairman', 'Sheldon', 'Gilgore', 'J.', 'Fabbri', 'Montagu', 'Securities', 'Inc', 'Holdings', 'Capital', 'Corp.', 'RJR', 'Air', 'Corp.', 'Sullivan', 'Jr.', 'Witter', 'Reynolds', 'Inc', 'Funding', 'Corp.', 'Trust', 'Corp.', 'Mann', 'Francisco', 'Lieberman', 'Hanover', 'Securities', 'Corp', 'California', 'Burnham', 'Lambert', 'Inc.', 'Securities', 'Inc.', 'York', 'City', 'Jersey', 'Turnpike', 'Authority', 'California', 'Mac', 'National', 'Mortgage', 'Association', 'Mac', 'Mae', 'Lawson', 'Lawson', 'Germany', 'Germany', 'Honecker', 'Honecker', 'Germany', 'Krenz', 'Germany', 'Germany', 'Europe', 'Krenz', 'Berlin', 'Honecker', 'Honecker', 'Honecker', 'Krenz', 'Honecker', 'Honecker', 'Germany', 'Germany', 'Krenz', 'Bush', 'Krenz', 'Germany', 'Krenz', 'Honecker', 'Honecker', 'Honecker', 'Krenz', 'War', 'II', 'Krenz', 'Honecker', 'Krenz', 'Germany', 'Krenz', 'Krenz', 'Germany', 'Honecker', 'Honecker', 'Krenz', 'Berlin', 'Krenz', 'Oldenburg', 'Krenz', 'Honecker', 'Krenz', 'Oldenburg', 'Kohl', 'Krenz', 'Germany', 'Krenz', 'Honecker', 'Krenz', 'Krenz', 'Germany', 'Honecker', 'Krenz', 'Gorbachev', 'Krenz', 'Germany', 'Germany', 'Germany', 'Simmons', 'Germany', 'Honecker', 'Honecker', 'Gorbachev', 'Gorbachev', 'Honecker', 'Germany', 'Krenz', 'War', 'II', 'Honecker', 'Europe', 'Germany', 'Gorbachev', 'Honecker', 'Kohl', 'Korea', 'Ltd.', 'Korea', 'Korea', 'S.A.', 'Morris', 'Cos.', 'Prime', 'Minister', 'Tadeusz', 'Mazowiecki', 'Deputy', 'Foreign', 'Minister', 'Mahmoud', 'Vaezi', 'Vaezi', 'Kong', 'Zaishuo', 'Kong', 'Aviv', 'Al', 'Al', 'Development', 'Ltd.', 'Hong', 'Png', 'Hong', 'Png', 'Rail', 'Mongolia', 'Prebon', 'INTERBANK', 'OFFERED', 'U.S.', 'HOME', 'LOAN', 'MORTGAGE', 'CORP', 'Mac', 'Systems', 'Inc', 'NATIONAL', 'MORTGAGE', 'ASSOCIATION', 'Mae', 'Systems', 'Inc', 'LYNCH', 'READY', 'ASSETS', 'TRUST', 'Co.', 'Electric', 'Co.', 'Sung', 'Sung', 'Electric', 'Sung', 'Francisco', 'News', 'Premner', 'Broadcasting', 'Co.', 'Park', 'News', 'Francisco', 'Premner', 'Inc.', 'News', 'Network', 'Broadcasting', 'System', 'Inc', 'News', 'News', 'Hempel', 'Broadcasting', 'Co.', 'Electric', 'Co.', 'Browne', 'News', 'Francisco', 'Francisco', 'West', 'Capital', 'Corp.', 'West', 'J.', 'Tirello', 'Jr.', 'Lehman', 'Hutton', 'Inc.', 'West', 'Dorado', 'Investment', 'Co.', 'Financial', 'Group', 'Chairman', 'Richard', 'L.', 'Saalfeld', 'York', 'Stock', 'Exchange', 'California', 'Group', 'Steinhardt', 'Steinhardt', 'Steinhardt', 'Buffett', 'Hathaway', 'Steinhardt', 'Steinhardt', 'York', 'Stock', 'Exchange', 'Steinhardt', 'Steinhardt', 'Steinhardt', 'Steinhardt', 'Buffett', 'Steinhardt', 'Steinhardt', 'Steinhardt', 'Steinhardt', 'Steinhardt', 'Pettee', 'Steinhardt', 'Chairman', 'Edwin', 'Colodny', 'World', 'Airlines', 'Chairman', 'Carl', 'Icahn', 'Icahn', 'Steinhardt', 'Steinhardt', 'Street', 'Steinhardt', 'Buffett', 'Buffett', 'Steinhardt', 'Buffett', 'Steinhardt', 'Becker', 'Lehman', 'Hutton', 'Steinhardt', 'Steinhardt', 'Steinhardt', 'Air', 'Steinhardt', 'Steinhardt', 'Resources', 'Inc.', 'International', 'Ltd.', 'Chester', 'Computer', 'Inc.', 'Germany', 'Board', 'F.', 'DeVoe', 'Mason', 'Wood', 'Walker', 'DeVoe', 'Re', 'International', 'Group', 'Life', 'Financial', 'Jones', 'Knudsen', 'Wheeler', 'Sirrine', 'Engineering', 'Group', 'Engineering', 'Baker', 'Science', 'Lynch', 'Star', 'Industries', 'Gas', 'Board', 'Telesis', 'Group', 'Francisco', 'Semiconductor', 'Fargo', 'Francisco', 'Ahmanson', 'Western', 'Financial', 'West', 'Financial', 'Cruise', 'Lines', 'Class', 'Morris', 'Cos.', 'Morris', 'Morris', 'Morris', 'U.S.A.', 'General', 'Brewing', 'Co.', 'Inc.', 'Columbia', 'Columbia', 'Associates', 'International', 'Inc.', 'City', 'Equipment', 'Corp.', 'Business', 'Machines', 'Corp.', 'Laboratories', 'Inc.', 'Hudson', 'Corp.', 'Hudson', 'Hudson', 'York', 'Stock', 'Exchange', 'Bank', 'Corp.', 'Settlement', 'Corp', 'Corp.', 'Power', 'Corp.', 'Power', 'Inc.', 'York', 'M.', 'Redstone', 'Corp.', 'Brake', 'Inc.', 'York', 'Stock', 'Exchange', 'Parretti', 'Holding', 'S.A.', 'Finanziaria', 'Fiorini', 'Fiorini', 'Tanzi', 'Fiorini', 'Francisco', 'Ball', 'City', 'Police', 'Department', 'Ball', 'Schwartz', 'Angeles', 'Francisco', 'Software', 'Inc.', 'Field', 'Rail', 'Corp.', 'York', 'A.', 'Hagen', 'Hagen', 'Gulf', 'Corp.', 'R.', 'Kuse', 'Gulf', 'Gulf', 'Francisco', 'Angeles', 'Mayor', 'Tom', 'Bradley', 'Angeles', 'Francisco', 'Mayor', 'Art', 'Agnos', 'Angeles', 'Angeles', 'Francisco', 'Cross', 'Rico', 'Hugo', 'Francisco'), ('San', 'Francisco', 'Lawson', 'Dillow', 'Research', 'Institute', 'Briscoe', 'Montagu', 'Bank', 'PLC', 'Joshi', 'Dillow', 'Briscoe', 'Lawson', 'Dillow', 'Lawson', 'Lawson', 'Federal', 'Reserve', 'York', 'York', 'York', 'Kong', 'Rock', 'Partners', 'Limited', 'Partnership', 'Green', 'Industries', 'Inc.', 'Green', 'Rock', 'Green', 'Rock', 'Green', 'Rock', 'Partners', 'Inc.', 'Rock', 'Partners', 'L.P', 'Brick', 'Lime', 'Inc.', 'Group', 'Inc', 'Brick', 'Group', 'Sayre', 'Pont', 'Co', 'State', 'University', 'LaLonde', 'State', 'LaLonde', 'Delaney', 'D.', 'Little', 'Inc.', 'McCullough', 'Institute', 'Freightways', 'Inc.', 'Freightways', 'Lloyd', 'Bros', 'Air', 'Connors', 'Air', 'Yusen', 'Kaisha', 'Grand', 'Inc.', 'Lynch', 'Capital', 'Stone', 'Stone', 'Stone', 'Stone', 'Stone', 'Stone', 'Stone', 'Corp.', 'Angeles', 'Express', 'Business', 'Beecham', 'Express', 'Smith', 'Barksdale', 'Ewing', 'Business', 'School', 'Press', 'York', 'Securities', 'York', 'Street', 'York', 'House', 'Homes', 'Street', 'Street', 'Street', 'Street', 'Corp.', 'James', 'Goldsmith', 'James', 'Forte', 'Holdings', 'Kong', 'Stanley', 'Capital', 'International', 'Perspective', 'Bush', 'Bush', 'Bush', 'Noriega', 'Bush', 'News', 'Hill', 'Noriega', 'David', 'Boren', 'Boren', 'Sen.', 'William', 'Cohen', 'Boren', 'Intelligence', 'Agency', 'Director', 'William', 'Webster', 'Webster', 'Boren', 'F.', 'Seib', 'Corp.', 'Valley', 'G.m.b', 'AG', 'E.', 'Levin', 'Hall', 'University', 'TUCSON', 'Cos.', 'International', 'Inc.', 'York', 'D.', 'Kahan', 'Benson', 'Government', 'Securities', 'Inc.', 'Hugo', 'K.', 'Evans', 'Economics', 'Inc.', 'Evans', 'J.', 'Campbell', 'Brothers', 'Harriman', 'York', 'Ciminero', 'Financial', 'Group', 'Won', 'Sohn', 'Corp.', 'Lieberman', 'Hanover', 'Securities', 'Corp.', 'York', 'Hugo', 'MANUFACTURING', 'Co.', 'PLC', 'Zealand', 'Securities', 'Ltd.', 'Brierley', 'Equity', 'Brierley', 'Brierley', 'Equity', 'Royce', 'Andersson', 'Andersson', 'Andersson', 'Andersson', 'Andersson', 'Andersson', 'Andersson', 'Andersson', 'Herslow', 'Andersson', 'Andersson', 'Ltd', 'Corp.', 'Corp.', 'Kurtanjek', 'Capel', 'Andersson', 'Andersson', 'Andersson', 'Andersson', 'Computer', 'Inc.', 'Systems', 'Inc', 'Sculley', 'Sculley', 'Sculley', 'Sculley', 'J.', 'Schantz', 'Schrager', 'Schantz', 'Technology', 'Corp', 'L.', 'Holewinski', 'L.', 'Haines', 'A.', 'Kushkin', 'Schulman', 'Trimmer', 'Haines', 'Kushkin', 'Electric', 'Co.', 'Corp.', 'Assessment', 'Development', 'Co.', 'Lauderdale', 'Palm', 'Beach', 'AG', 'America', 'H.', 'Eisenberg', 'Eisenberg', 'Development', 'Corp.', 'Inc.', 'News', 'Network', 'Bince', 'Jr', 'Bince', 'Corazon', 'Aquino', 'Marcos', 'Aquino', 'Garcia', 'Bank', 'Ty', 'Ty', 'Ty', 'Industries', 'Corp.', 'Garcia', 'Garcia', 'M.', 'Sprenger', 'Inc.', 'S.', 'Willmott', 'Services', 'Inc', 'E.', 'Wood', 'A.', 'Durney', 'Wood', 'Rock', 'Resources', 'Inc', 'Financial', 'Corp.', 'Financial', 'Corp.', 'Bancorp', 'Inc.', 'Stock', 'Exchange', 'J.', 'Pascale', 'C.', 'Smith', 'W.', 'Smith', 'Sr.', 'T.', 'Linsley', 'Smith', 'Federal', 'Savings', 'Federal', 'Savings', 'Bank', 'Federal', 'Savings', 'Ortiz', 'Ortiz', 'Ortiz', 'Ortiz', 'Carlos', 'Salinas', 'James', 'States', 'Institute', 'Rico', 'Federal', 'Air', 'Air', 'Air', 'Chairman', 'Stephen', 'Wolf', 'Angeles', 'Davis', 'York', 'Davis', 'Air', 'Air', 'Pope', 'Freres', 'Brothers', 'Inc.', 'Weiss', 'Rifkind', 'Wharton', 'Communications', 'Limited', 'Partnership', 'Familia', 'Familia', 'Holdings', 'Inc.', 'Cards', 'Inc', 'STEEL', 'Corp.', 'Steel', 'Corp', 'Lehman', 'Hutton', 'Inc.', 'Freres', 'Va.', 'Intergroup', 'Inc.', 'Steel', 'Group', 'PLC', 'Group', 'Group', 'Stream', 'Inc.', 'York', 'Boston', 'Corp.', 'Aluminium', 'Ltd.', 'Run', 'National', 'Corp.', 'A.', 'Conway', 'P.', 'Aniskovich', 'Jr.', 'Conway', 'Life', 'Insurance', 'Co.', 'National', 'Life', 'Insurance', 'Co', 'Rossi', 'National', 'Life', 'Insurance', 'Co', 'Conway', 'Central', 'Life', 'Insurance', 'Co.', 'Central', 'National', 'Corp', 'Life', 'J.', 'Terra', 'Illinois', 'Corp.', 'Illinois', 'Terra', 'Terra', 'Life', 'Systems', 'Inc.', 'Paul', 'Cardiovascular', 'Lilly', 'Air', 'York', 'City', 'Interstate', 'Bancorp', 'Angeles', 'Group', 'Australia', 'Jones', 'Lehman', 'Hutton', 'Treasury', 'Jones', 'Corp.', 'A.', 'Eldred', 'Home', 'Products', 'Corp.', 'Home', 'York', 'Home', 'York', 'Stock', 'Exchange', 'Home', 'Petrochemical', 'Co.', 'York', 'Stock', 'Exchange', 'District', 'Court', 'Hershhenson', 'Pagones', 'Vadas', 'Ciporkin', 'Holding', 'Ltd.', 'Corp.', 'Inc.', 'CALIFORNIA', 'Air', 'Force', 'Base', 'Africa', 'Germany', 'Garcia', 'York', 'Corp.', 'Rica', 'Minister', 'Corp.', 'Hayes', 'York', 'Canaan', 'Corp.', 'Credit', 'York', 'Stock', 'Exchange', 'Germany', 'Krenz', 'Krenz', 'Honecker', 'Germany', 'Krenz', 'Germany', 'Krenz', 'Germany', 'Krenz', 'Krenz', 'Honecker', 'Eppelmann', 'Berlin', 'Krenz', 'Germany', 'Honecker', 'Krenz', 'Krenz', 'Ronnie', 'Flippo', 'Krenz', 'Germany', 'Krenz', 'Honecker', 'Donovan', 'Germany', 'Free', 'Europe', 'Krenz', 'Berlin', 'Krenz', 'Honecker', 'Krenz', 'Berlin', 'Germany', 'Berlin', 'Hager', 'Germany', 'Fleischmann', 'Stanley', 'Pons', 'Fleischmann', 'Fleischmann', 'A.', 'Oriani', 'Oriani', 'A&M', 'Oriani', 'Oriani', 'University', 'M.', 'Gur', 'A&M', 'University', 'Bockris', 'Fleischmann', 'National', 'Gottesfeld', 'Alamos', 'National', 'Laboratory', 'Fleischmann', 'Ross', 'Jones', 'Street', 'Journal', 'R.', 'Kann', 'Jones', 'Kong', 'York', 'Jones', 'Inc.', 'Instruments', 'Inc.', 'Junkins', 'Junkins', 'Corp.', 'New', 'Mexico', 'Telephone', 'Co.', 'New', 'Mexico', 'Telephone', 'City', 'Bunker', 'Hunt', 'Hunt', 'Edgar', 'Pixley', 'Ltd.', 'Hunt', 'Eastern', 'Edgar', 'R.', 'Demler', 'Burnham', 'Lambert', 'Inc', 'Demler', 'Demler', 'Butler', 'Montagu', 'Lehman', 'Hutton', 'Inc.', 'York', \"O'Connell\", 'Lehman', 'Hutton', \"O'Connell\", 'Seiler', 'Bank', 'Texas', 'Intermediate', 'Columbia', 'Hanauer', 'Wolff', 'Savaiko', 'Inc.', 'Savaiko', 'Co.', 'Broker', 'Broker', 'Research', 'Inc.', 'Computer', 'Inc.', 'Microsystems', 'Inc.', 'Equipment', 'Corp.', 'Broker', 'Kay', 'Riese', 'Restaurants', 'Hut', 'Rogers', 'Harty', 'Group', 'Inc.', 'Metropolitan', 'PLC', 'Harty', 'Konopnicki', 'Inc.', 'Rohs', 'Schroder', 'Mack', \"D'Agosto\", 'Morrissey', 'Fried', 'Chicken', 'Rohs', 'Rohs', 'Greenberg', 'Greenberg', 'Greenberg', 'Harty', 'York', 'Morrissey', 'Rudnick', 'Riese', 'Restaurants', 'Co.', 'Jackson', 'Jackson', 'October', 'Jackson', 'Smalling', 'Jackson', 'Francisco', 'Day', 'Jackson', 'Vizas', 'Ruth', 'Smalling', 'Machon', 'Park', 'Smalling', 'Jackson', 'Merola', 'Jackson', 'York', 'Jackson', 'Smalling', 'Corp.', 'Steel', 'Ltd.', 'Steel', 'Corp.', 'Corp.', 'Inc.', 'Bradford', 'Lynch', 'Capital', 'Steel', 'Order', 'Order', 'Order', 'Order', 'Bessemer', 'Order', 'Order', 'Order', 'Angrist', 'F.', 'Sharpe', 'Markese', 'Kochis', 'Treasury', 'B.', 'Enright', 'Financial', 'Financial', 'Seidman', 'H.', 'Cammack', 'Armstrong', 'Advisors', 'Inc.', 'Slater', 'B', 'John', 'Kerry', 'Noriega', 'Kerry', 'Oct.', 'Kravis', 'Schwartz', 'York', 'SCHWARTZ', 'Schwartz', 'Schwartz', 'Stapf', 'Stapf', 'Gargan', 'Roper', 'Business', 'Bureaus', 'McGrath', 'Schwartz', 'Gargan', 'Gargan', 'Gargan', 'Gargan', 'Meridian', 'Corp.', 'Meridian', 'Meridian', 'Meridian', 'V.', 'Sala', 'Meridian', 'Manion', 'Sala', 'Meridian', 'Sala', 'York', 'Sala', 'Manion', 'Chandler', 'Peterson', 'Peterson', 'Peterson', 'Peterson', 'Peterson', 'Peterson', 'Peterson', 'Peterson', 'Diebel', 'Diebel', 'Peterson', 'Peterson', 'Peterson', 'Peterson', 'Peterson', 'County', 'Emshwiller', 'Wilshire', 'Island', 'McClelland', 'Beach', 'Vegas', 'Bay', 'Beach', 'McClelland', 'Beach', 'Beach', 'Katz', 'Beach', 'Island', 'McClelland', 'County', 'County', 'Beach', 'Angeles', 'Beach', 'Beach', 'Trust', 'Inc.', 'Angeles', 'Jones', 'O.', 'Kelly', 'Sr.', 'Trust', 'Jones', 'Beach', 'Katz', 'Beach', 'Valentine', 'Federal', 'Prison', 'Investment', 'Corp.', 'Valentine', 'Angeles', 'Isle', 'Vegas', 'Katz', 'M', 'Ciavarella', 'Management', 'Island', 'Co.', 'Ciavarella', 'Luehrs', 'Lancaster', 'U.', 'Riepe', 'Rowe', 'Price', 'Ruffel', 'U', 'Rowe', 'Price', 'Financial', 'Rowe', 'Price', 'Hauptman', 'Hauptman', 'Anderson', 'Financing', 'Alternatives', 'University', 'Anderson', 'Anderson', 'Anderson', 'Anderson', 'Putka', 'Dame', 'Inc', 'County', 'D.', 'Tharp', 'Tharp', 'James', 'Baker', 'Baker', 'Tharp', 'Tharp', 'Tharp', 'Franciscans', 'Security', 'V.', 'Washburn', 'Washburn', 'Hill', 'Corp.', 'P.', 'Keenan', 'Lackey', 'Lackey', 'York', 'York', 'G.', 'Hicks', 'Hicks', 'Schmedel', 'R.', 'Barnett', 'Neal', 'Lauderdale', 'Blodgett', 'Harper', 'McMahon', 'Cunningham', 'Barasch', 'Worth', 'Oil', 'Haven', 'Smith', 'Oil', 'Co.', 'Adamski', 'Cunningham', 'Blodgett', 'Blodgett', 'Andreassen', 'Wenz', 'Wenz', 'Watson', 'Lynes', 'Corp.', 'Co.', 'Springs', 'James', 'Trinen', 'Bowers', 'Angeles', 'Elvekrog', 'Inc.', 'Jellison', 'California', 'Angeles', 'Cortese', 'Cortese', 'Cortese', 'Cortese', 'Brannigan', 'Life', 'Insurance', 'Co.', 'Capital', 'Corp.', 'Pfiefer', 'Perrin', 'Co.', 'Dominici', 'Daily', 'Life', 'Insurance', 'Co.', 'National', 'Life', 'Insurance', 'Co.', 'Travelers', 'Life', 'Insurance', 'Co.', 'Life', 'Insurance', 'Corp.', 'Life', 'Assurance', 'Society', 'Group', 'Inc.', 'Cawthorn', 'Cawthorn', 'Cawthorn', 'PLC', 'Medical', 'Industries', 'Inc.', 'Louis', 'Cawthorn', 'Cawthorn', 'AG', 'Europe', 'Corp.', 'Federal', 'Savings', 'Bank', 'Supervision', 'York', 'Stock', 'Exchange', 'Express', 'Friday', 'Corp.', 'Medical', 'International', 'VandenBerg', 'Lehman', 'Hutton', 'Lew', 'Benson', 'North', 'America', 'Selkin', 'Securities', 'Selkin', 'Morris', 'Board', 'Co.', 'Telephone', 'Medical', 'Acquisition', 'Boston', 'Bank', 'Boston', 'Warner', 'Communications', 'World', 'Line', 'Pacific', 'Robert', 'M.', 'Gintel', 'Nugget', 'Business', 'Computer', 'Equipment', 'Research', 'General', 'Technologies', 'Lehman', 'Hutton', 'International', 'International', 'Group', 'Re', 'Galoob', 'Cities-ABC', 'Peabody', 'Lynch', 'West', 'Capital', 'Development', 'Class', 'B', 'Cos.', 'Industries', 'Inc.', 'Orleans', 'J.', 'Pinola', 'Pinola', 'Mutual', 'Life', 'Insurance', 'Co', 'Bush', 'Bush', 'Majority', 'Leader', 'George', 'Mitchell', 'Mitchell', 'Speaker', 'Thomas', 'Foley', 'Bush', 'J.', 'Warshaw', 'Warshaw', 'Warshaw', 'Insurance', 'M.A.', 'Hirschfeld', 'Health', 'Co.', 'Warshaw', \"D'Arcy\", \"D'Arcy\", 'Day', 'Christmas', 'Day', 'Bard', 'Mitchell', 'Travel', 'Service', 'Thomas', 'Donahue', 'Crosby', 'Business', \"O'Donnell\", 'York', 'City', 'World', 'Hugo', 'Airlines', 'Inc.', 'Airlines', 'Corp.', 'Islands', 'Aid', 'California', 'Beach', 'Hoffman', 'Cross', 'Security', 'J.', 'Dennis', 'Hastert', 'Purnick', 'Avenue', 'Rosen', 'Purnick', 'Rosen', 'Korea', 'Kong', 'Furs', 'Purnick', 'Purnick', 'Rosen', 'Germany', 'Rosen', 'Schreibman', 'Raphael', 'Furs', 'Inc.', 'Rosen', 'Feldman', 'Furs', 'Inc.', 'Rosen', 'Rosen', 'Inc.', 'Vault', 'Inc.', 'Inc.', 'Schreibman', 'Sanders', 'Field', 'Purnick', 'Rosen', 'Corp.', 'Services', 'Inc.', 'Andrew', 'McBride', 'McBride', 'Frank', 'Provato', 'Mattausch', 'Mattausch', 'Poulin', 'Alto', 'Espectador', 'Espectador', 'Espectador', 'Espectador', 'B.', 'Evans', 'Co', 'Amon', 'Gourlay', 'Amon', 'Gourlay', 'Lawson', 'Lawson', 'Lawson', 'Lawson', 'Lawson', 'Lawson', 'House', 'Leigh-Pemberton', 'Leigh-Pemberton', 'Lawson', 'Olivetti', 'Corp.', 'Co.', 'Meagher', 'Davis', 'Capel', 'Davis', 'USA', 'Inc.', 'S.A', 'Security', 'Services', 'Security', 'Security', 'Income', 'E.', 'Fuller', 'Park', 'International', 'Inc.', 'Bard', 'Inc.', 'Sidoti', 'Burnham', 'Lambert', 'Inc', 'Medical', 'Angeles', 'Inc.', 'Richter', 'Witter', 'Reynolds', 'Hugo', 'Carolina', 'Carolina', 'Equipment', 'Corp.', 'Street', 'Business', 'Machines', 'Corp', 'Steinkrauss', 'Milunovich', 'Boston', 'Milunovich', 'Stevens', 'Witter', 'Reynolds', 'Stevens', 'Schulman', 'Securities', 'York', 'Schulman', 'Schulman', 'R.', 'Wilke', 'Palmolive', 'Co.', 'Mark', 'America', 'Mark', 'Mark', 'Corp.', 'Limited', 'Partnership', 'Co.', 'Telephone', 'Grubman', 'Inc', 'D.', 'Gross', 'Gross', 'Capital', 'Management', 'Inc.', 'Capital', 'Capital', 'M.', 'Lynn', 'Core', 'Investors', 'Inc.', 'James', 'Kartalia', 'Investment', 'Management', 'Co.', 'Core', 'Capital', 'Carder', 'Capital', 'Carder', 'Carder', 'Thomas', 'Allen', 'Zumbrunn', 'Insurance', 'Co.', 'Salerno', 'Trust', 'Corp.', 'Africa', 'State', 'Employees', 'Retirement', 'System', 'Corp.', 'Corp.', 'Corp.', 'Waste', 'Management', 'Squibb', 'Co.', 'Corp.', 'Co.', 'Business', 'Machines', 'Corp.', 'Corp.', 'Fund', 'Inc.', 'PipeLines', 'Ltd.', 'Air', 'Corp.', 'Pharmaceutical', 'Co.', 'Industries', 'PLC', 'James', 'Goldsmith', 'Iberian', 'Fund', 'Holdings', 'International', 'Ltd.', 'Noriega', 'Noriega', 'Noriega', 'Noriega', 'Noriega', 'Rica', 'J.', 'McNeil', 'Noriega', 'Noriega', 'Noriega', 'Noriega', 'John', 'Kerry', 'Van', 'Chan', 'Chan', 'Chan', 'Chan', 'Chan', 'Chan', 'Chan', 'Chan', 'Assembly', 'Chan', 'Chan', 'Chan', 'Chan', 'Ngoc', 'Nghe', 'Ngoc', 'Ngoc', 'Hoa', 'Huy', 'Thiep', 'Nghe', 'Nguyen', 'Ngoc', 'Ngoc', 'Nghe', 'Duy', 'Thi', 'Thi', 'Thi', 'City', 'Food', 'Co.', 'Van', 'Linh', 'Chi', 'Minh', 'City', 'Linh', 'Thi', 'Mrs.', 'Thi', 'City', 'Food', 'City', 'Food', 'Thi', 'Petro', 'Thi', 'City', 'Food', 'Grossman', 'View', 'Federal', 'Savings', 'View', 'Federal', 'View', 'Capital', 'Corp', 'Hugo', 'V.', 'Reese', 'Sr', 'Banana', 'Co', 'Digital', 'Corp.', 'Roger', 'W.', 'Johnson', 'Digital', 'Johnson', 'Digital', 'Rico', 'Hugo', 'Johnson', 'Johnson', 'Johnson', 'Digital', 'Digital', 'Johnson', 'Digital', 'Johnson', 'Digital', 'Johnson', 'Digital', 'Digital', 'Digital', 'Johnson', 'Digital', 'Digital', 'Express', 'Co.', 'World', 'Express', 'Express', 'Information', 'Services', 'Co', 'Express', 'Financial', 'Express', 'Bank', 'Express', 'Information', 'Lehman', 'Hutton', 'Holdings', 'Inc.', 'Express', 'Express', 'Inc.', 'PLC', 'Trade', 'Commission', 'S.A.', 'Herbert', 'Hunt', 'Bunker', 'Hunt', 'Bunker', 'Hunt', 'Justice', 'Department', 'Hanover', 'Trust', 'Co.', 'Hanover', 'Hanover', 'Abramson', 'Hanover', 'Abramson', 'Ray', 'Hanover', 'Department', 'Inc.', 'Corp.', 'Corp.', 'Dreyer', 'Dreyer', 'Bumiputra', 'Malaysia', 'Bhd.', 'Basir', 'Ismail', 'Bumiputra', 'Sri', 'Basir', 'Bumiputra', 'Malaysia', 'Finance', 'Ltd.', 'Kong', 'Bumiputra', 'Nasional', 'Bhd.', 'Sri', 'Basir', 'Sri', 'Basir', 'Bumiputra', 'Sri', 'Basir', 'Lumpur', 'Sri', 'Basir', 'Ehman', 'Reagan', 'Ehman', 'County', 'Florio', 'Courter', 'Jersey', 'Bowker', 'Jersey', 'Hill', 'Day', 'Ehman', 'Jersey', 'Bush', 'Dukakis', 'University', 'Florio', 'Courter', 'Jersey', 'Florio', 'Florio', 'Courter', 'North', 'Stanwick', 'Courter', 'Florio', 'Traynor', 'Jersey', 'Right', 'Courter', 'Reagan', 'Kemp', 'Courter', 'Kean', 'Courter', 'Kean', 'Jersey', 'Courter', 'Courter', 'Kean', 'Courter', 'Courter', 'Park', 'Florio', 'Kean', 'Jersey', 'Florio', 'Florio', 'Courter', 'Florio', 'State', 'College', 'Florio', 'Pignatelli', 'Florio', 'Pignatelli', 'Wames', 'Sr.', 'Florio', 'Popkin', 'Woodworth', 'Trust', 'Co.', 'York', 'Yardeni', 'Securities', 'Inc.', 'York', 'Yardeni', 'Masius', 'Benton', 'Dillmann', 'Dillmann', 'Mexico', 'Shannon', 'Associates', 'Inc.', 'Carnival', 'River', 'Borgeson', 'Fire', 'William', 'Berry', 'Park', 'City', 'Highway', 'Series', 'Giamatti', 'Corp.', 'Manhattan', 'Corp.', 'Street', 'Trust', 'New', 'York', 'Corp.', 'Angeles', 'Nathan', 'Brothers', 'Inc.', 'Batchelder', 'Jolla', 'Angeles', 'Batchelder', 'Checchi', 'Batchelder', 'Batchelder', 'Davis', 'Manhattan', 'Solow', 'Hanover', 'Trust', 'Co.', 'Hanover', 'B.', 'Lee', 'Banking', 'Corp.', 'Medical', 'International', 'Inc.', 'Fleischer', 'Jr.', 'Frank', 'Harris', 'Shriver', 'Communications', 'Inc.', 'Inc.', 'Chairman', 'Martin', 'Davis', 'Davis', 'Communications', 'Inc', 'Secretary', 'Samuel', 'Skinner', 'Mizuno', 'Affairs', 'Inc.', 'Inc.', 'Glazer', 'Steel', 'Industries', 'Inc.', 'Bradford', 'Lynch', 'Capital', 'Bradford', 'Chairman', 'Frank', 'W.', 'Luerssen', 'Friday', 'Friday', 'Peake', 'A.', 'Wyss', 'Inc', 'Wyss', 'Wyss', 'Wyss', 'Arbel', 'University', 'L.', 'Beach', 'Neuhaus', 'Beach', 'Confair', 'Financial', 'Inc.', 'Confair', 'Confair', 'Chairman', 'Alan', 'Greenspan', 'Katz', 'Matrix', 'Management', 'Inc.', 'York', 'Katz', 'Katz', 'Davis', 'Davis', 'Research', 'Inc.', 'Katz', 'Arbel', 'Arbel', 'Arbel', 'Putnam', 'III', 'Letter', 'Dorfman', 'Securities', 'Inc.', 'International', 'Corp', 'Burnham', 'Lambert', 'Inc.', 'Brothers', 'Inc.', 'Union', 'Co.', 'Clemensen', 'Baldwin', 'Capital', 'Management', 'Baldwin', 'Lufkin', 'Corp.', 'Lufkin', 'Lufkin', 'Lufkin', 'Capital', 'Holdings', 'Corp.', 'Gas', 'Service', 'Limited', 'Partnership', 'Treasury', 'Chandross', 'Bank', 'PLC', 'Capital', 'Holdings', 'Corp.', 'Gas', 'Service', 'Limited', 'Partnership', 'Gas', 'Service', 'Jersey', 'Turnpike', 'Authority', 'Katz', 'Government', 'National', 'Mortgage', 'Association', 'Mae', 'Mae', 'Home', 'Loan', 'Mortgage', 'Corp.', 'Mac', 'Lawson', 'Germany', 'Train', 'Express', 'Business', 'Bureaus', 'Ormstedt', 'Veterans', 'Ormstedt', 'Marketing', 'Inc.', 'Burns', 'Webster', 'Webster', 'McDonald', 'Johnson', 'Corp.', 'Air', 'York', 'Air', 'Air', 'Chairman', 'Stephen', 'M.', 'Wolf', 'Air', 'Air', 'Air', 'King', 'Air', 'Air', 'Stevens', 'Air', 'Jones', 'Professional', 'Investor', 'Report', 'Stevens', 'Air', 'Air', 'Royal', 'Air', 'Freres', 'Dubinsky', 'Manhattan', 'Corp.', 'Bush', 'Majority', 'Leader', 'George', 'Mitchell', 'Mitchell', 'Bush', 'Bob', 'Packwood', 'Mitchell', 'Mitchell', 'Mitchell', 'Bush', 'Packwood', 'David', 'Boren', 'William', 'Roth', 'Coal', 'Co.', 'Hutchinson', 'Hutchinson', 'News', 'Hutchinson', 'Hutchinson', 'Hutchinson', 'Hutchinson', 'Manhattan', 'Corp.', 'Senior', 'Vice', 'President', 'George', 'Scandalios', 'Brothers', 'Inc.', 'McKinnon', 'Inc.', 'York', 'STREET', 'Orwell', 'Street', 'York', 'Stock', 'Exchange', 'Chairman', 'John', 'Phelan', 'Lynch', 'Lehman', 'Hutton', 'Inc.', 'Burnham', 'Lambert', 'Inc.', 'Bache', 'Witter', 'Reynolds', 'Inc.', 'Inc.', 'Witter', 'Street', 'Telephone', 'Biehl', 'Mateo', 'Biehl', 'Bettner', 'A.', 'Wiegers', 'Co.', 'E.', 'Buffett', 'Hathaway', 'Inc.', 'Hathaway', 'Buffett', 'Yetnikoff', 'Corp.', 'Guber', 'York', 'Guber', 'Peters', 'Peters', 'Entertainment', 'Co.', 'Bros.', 'Guber', 'Communications', 'Inc.', 'Inc.', 'Angeles', 'Superior', 'Court', 'Peters', 'War', 'III', 'Guber', 'York', 'Peters', 'Streisand', 'II', 'Disney', 'Co.', 'Studios', 'Guber', 'Peters', 'Guber', 'Peters', 'Guber', 'Peters', 'De', 'Palma', 'Peters', 'Wolfe', 'De', 'Palma', 'Guber', 'Peters', 'II', 'Peters', 'Guber', 'Bookman', 'Artists', 'Agency', 'Johnson', 'Peters', 'Streisand', 'Peters', 'Guber', 'Guber', 'Peters', 'Don', 'Simpson', 'Guber', 'Simpson', 'Birnbaum', 'Peters', 'Peters', 'Guber', 'Peters', 'Birnbaum', 'Peters', 'Birnbaum', 'Corp.', 'Peters', 'Birnbaum', 'Guber', 'Peters', 'Fossey', 'Studios', 'Peters', 'Peters', 'Redford', 'Turner', 'Mendes', 'Guber', 'Guber', 'Peters', 'Guber', 'Peters', 'Tisch', 'Guber', 'Guber', 'York', 'University', 'Express', 'Guber', 'Peters', 'Bogart', 'Peters', 'Jean', 'Guber', 'Guber', 'Peters', 'Guber', 'Peters', 'Guber', 'Guber', 'Peters', 'Entertainment', 'Industries', 'Inc.', 'Chairman', 'Burt', 'Sugarman', 'Guber', 'Guber', 'Peters', 'Bros', 'Terry', 'Semel', 'Guber', 'Peters', 'Sugarman', 'May', 'Peters', 'Entertainment', 'Co', 'Guber', 'Peters', 'Peters', 'Peters', 'Guber', 'Peters', 'Ross', 'Bros.', 'Chairman', 'Robert', 'Daly', 'Semel', 'Daly', 'Daly', 'Peters', 'Daly', 'Guber', 'Peters', 'Ross', 'Guber', 'Peters', 'Guber', 'Peters', 'Treasury', 'Carney', 'Street', 'World', 'Grant', 'Data', 'Co', 'Addiss', 'Lehman', 'Hutton', 'Inc', 'Street', 'J.', 'Goldberg', 'Lynch', 'Capital', 'Grant', 'Powers', 'Manhattan', 'Bank', 'York', 'Powers', 'S.', 'Paris', 'N.A.', 'World', 'Corcoran', 'Futures', 'Inc.', 'Corcoran', 'F.', 'DeVoe', 'Jr.', 'Mason', 'Wood', 'Walker', 'Inc.', 'Herman', 'Data', 'Co', 'Street', 'Journal', 'Dorfman', 'Canada', 'Care', 'Property', 'Investors', 'Inc.', 'Health', 'Care', 'Affiliates', 'Inc.', 'Care', 'Property', 'National', 'Corp.', 'National', 'D.', 'Matchett', 'Security', 'Inc.', 'Spring', 'Van', 'Cleave', 'Security', 'Affairs', 'Matchett', 'North', 'Mark', 'Goode', 'Inc.', 'Gorbachev', 'Gorbachev', 'Goode', 'BioSciences', 'Inc.', 'Ltd.', 'Corp', 'Merieux', 'S.A.', 'Keffer', 'Martin', 'National', 'Mullins', 'Witter', 'Reynolds', 'Mullins', 'Sherlund', 'Development', 'Systems', 'National', 'National', 'National', 'Computer', 'James', 'Petersburg', 'Jones', 'Professional', 'Investor', 'Report', 'Green', 'Rock', 'Green', 'Park', 'York', 'Stadium', 'Barbara', 'California', 'McLuhan', 'Lehman', 'Hutton', 'Inc.', 'Express', 'Co.', 'Rivkin', 'Rivkin', 'Rivkin', 'B.', 'Lubar', 'L.', 'Murray', 'Foods', 'Corp.', 'W.', 'Kasten', 'R.', 'Parker', 'Daily', 'Daily', 'Reagan', 'Hill', 'Groom', 'Juliano', 'Thomas', 'Downey', 'William', 'Gray', 'Bentsen', 'Rostenkowski', 'Huard', 'Bush', 'Thevenot', 'Bush', 'Juliano', 'Francisco', 'Ignatius', 'High', 'School', 'AG', 'Chandler', 'Parker', 'Springs', 'Parker', 'Springs', 'Ohls', 'Parker', 'Nolan', 'Angeles', 'Magazine', 'Shioya', 'Shioya', 'Shioya', 'Tokyo', 'Corp.', 'Tokyo', 'Veronis', 'Suhler', 'Corp.', 'Pictures', 'Entertainment', 'Inc.', 'Veronis', 'Business', 'Home', 'House', 'Tokyo', 'Tokyo', 'Ohara', 'Keizai', 'Shinbun', 'America', 'Inc.', 'Kenney', 'Boston', 'Corp.', 'Atlantic', 'Corp.', 'New', 'England', 'Corp.', 'Telesis', 'Group', 'S', 'West', 'Inc.', 'S', 'West', 'U', 'S', 'West', 'S', 'West', 'MacAllister', 'S', 'West', 'York', 'Stock', 'Exchange', 'Atlantic', 'Stock', 'Ownership', 'Atlantic', 'C.', 'Ferguson', 'York', 'Telephone', 'Ferguson', 'York', 'City', 'Board', 'New', 'England', 'H.', 'Monteith', 'Jr.', 'Ginn', 'Telesis', 'Board', 'Telesis', 'S', 'West', 'Corp.', 'Street', 'York', 'Stock', 'Exchange', 'Petrofina', 'Inc.', 'Richard', 'M.', 'Morrow', 'Inc.', 'F.', 'Gero', 'Inc.', 'J.', 'Hatchett', 'III', 'Corp.', 'Abramson', 'Inc.', 'Horizons', 'Steidtmann', 'Teller', 'Industries', 'PLC', 'Field', 'Inc.', 'Department', 'Stores', 'Co.', 'Department', 'Stores', 'Inc.', 'Turk', 'Steidtmann', 'Steidtmann', 'Strum', 'Express', 'Strum', 'Express', 'mart', 'Corp.', 'Chairman', 'Joseph', 'E.', 'Antonini', 'M.', 'Hawley', 'Hawley', 'Hale', 'Stores', 'Inc.', 'Corp.', 'Chairman', 'Harold', 'E.', 'Sells', 'Sells', 'J.', 'Shapiro', 'Duarte', 'Cela', 'Duarte', 'Cela', 'Rosa', 'Cohen', 'Press', 'Elvira', 'Oil', 'Inc.', 'Iranian', 'Oil', 'Co.', 'Bush', 'Bush', 'Manuel', 'Noriega', 'America', 'America', 'Volio', 'Noriega', 'Noriega', 'Bush', 'Rica', 'Rican', 'President', 'Oscar', 'Arias', 'Ortega', 'Arias', 'Arias', 'Ortega', 'Bush', 'Arias', 'Christopher', 'Dodd', 'America', 'Dodd', 'President', 'Alfredo', 'Cristiani', 'Cristiani', 'Dodd', 'America', 'Baker', 'Foreign', 'Minister', 'Eduard', 'Shevardnadze', 'Shevardnadze', 'America', 'Shevardnadze', 'Baker', 'America', 'Hill', 'Salvador', 'Cristiani', 'America', 'Costa', 'Rica', 'Costa', 'Rica', 'Costa', 'Rica', 'America', 'Rica', 'Arias', 'Daremblum', 'Nacion', 'Corp.', 'PLC', 'Vegas', 'City', 'Brothers', 'Inc.', 'Communications', 'Inc.', 'Inc.', 'Corp.', 'Advertiser', 'Trek', 'Schwab', 'York', 'Inc.', 'Kellner', 'Broadcasting', 'Angeles', 'Francisco', 'Conway', 'Conway', 'Fisher', 'Popular', 'Corp.', 'Juan', 'Corp', 'Popular', 'Carrion', 'Jr.', 'Popular', 'M.', 'Paracchini', 'Popular', 'Popular', 'Popular', 'Thompson', 'BankWatch', 'Inc.', 'York', 'Popular', 'Rico', 'Thompson', 'Carrion', 'Popular', 'Carrion', 'Rico', 'Carrion', 'Inc.', 'America', 'Inc.', 'International', 'AB', 'International', 'Industries', 'PLC', 'James', 'Goldsmith', 'Field', 'Fifth', 'Avenue', 'Field', 'Patrick', 'Sheehy', 'James', 'Inc.', 'G.', 'Hassenfeld', 'Breakers', 'Patch', 'Kids', 'Industries', 'Inc.', 'International', 'Ltd.', 'Fireman', 'Group', 'Inc.', 'Bowes', 'Inc.', 'Bowes', 'Group', 'Bowes', 'Group', 'Corp', 'Group', 'Bowes', 'California', 'George', 'Deukmejian', 'Katz', 'Bachtold', 'Francisco', 'Corp.', 'Barbara', 'Corp.', 'Corp.', 'Corp.', 'Germany', 'Europe', 'Germany', 'Germany', 'Minister', 'Hans-Dietrich', 'Genscher', 'Security', 'Genscher', 'Genscher', 'A.', 'Mosbacher', 'Mosbacher', 'Bush', 'Helmut', 'Kohl', 'Germany', 'Bank', 'AG', 'Bank', 'Inc.', 'W.', 'Amerman', 'Wheels', 'Merry', 'Muffin', 'Tots', 'Segundo', 'Bush', 'Friday', 'Bush', 'Smith', 'Bush', 'Sununu', 'Bush', 'Rep.', 'Nancy', 'Johnson', 'Bush', 'Orrin', 'Hatch', 'Johnson', 'Jersey', 'Mahe', 'Coleman', 'Dalton', 'Mahe', 'St.', 'Martin', 'Bush', 'Dukakis', 'Butler', 'Lee', 'Secretary', 'Louis', 'Sullivan', 'Sullivan', 'Pacific', 'Corp', 'Pacific', 'Pacific', 'Realty', 'Transportation', 'Pacific', 'Title', 'Insurance', 'Co.', 'Title', 'Insurance', 'Co.', 'Title', 'Insurance', 'Co.', 'Title', 'Guaranty', 'Co.', 'Stewart', 'Information', 'Services', 'Corp', 'Union', 'Title', 'Insurance', 'Co', 'Jersey', 'Christie', 'RESOURCES', 'INC.', 'Seidman', 'Seidman', 'Seidman', 'Methodist', 'University', 'Business', 'School', 'Seidman', 'Jones', 'Capital', 'Markets', 'Report', 'Corp.', 'Lynch', 'Capital', 'Public', 'School', 'Authority', 'Johns', 'River', 'Water', 'Management', 'District', 'Home', 'Loan', 'Mortgage', 'Corp.', 'Brothers', 'Inc', 'Mac', 'Mac', 'Remic', 'Mac', 'Mac', 'Investment', 'Bank', 'International', 'Finance', 'Paribas', 'Capital', 'Generale', 'Australia', 'Ltd', 'Banking', 'Corp', 'Generale', 'Trust', 'Bank', 'Landesbank', 'Girozentrale', 'Bank', 'Airlines', 'System', 'Bank', 'Home', 'Loan', 'Mortgage', 'Corp.', 'Mac', 'Dyson', 'Goodfellow', 'Goodfellow', 'Technology', 'Data', 'Corp.', 'Semmel', 'Data', 'Tarter', 'Jones', 'Newswire', 'Goodwin', 'Bank', 'Inc.', 'University', 'Amram', 'Hill', 'Press', 'International', 'Corp.', 'Amram', 'Inc.', 'Business', 'Blue', 'Amram', 'Inc.', 'Information', 'Corp.', 'Golomb', 'Golomb', 'Digate', 'Digate', 'Lens', 'Institute', 'Digate', 'Tarter', 'Witter', 'Reynolds', 'Inc.', 'Witter', 'Kelly', 'Kelly', 'L.', 'Liddle', 'Kelly', 'Witter', 'Kelly', 'Witter', 'Bachman', 'Witter', 'Bachman', 'Witter', 'DEPARTMENT', 'STORES', 'Inc.', 'Brands', 'Inc.', 'Life', 'Brands', 'FE', 'PACIFIC', 'PIPELINE', 'PARTNERS', 'Limited', 'Partnership', 'Angeles', 'Chairman', 'Breeden', 'Wednesday', 'Secretary', 'Brady', 'Jibril', 'Foley', 'GOP', 'GOP', 'Sullivan', 'Germany', 'GOP', 'Chairman', 'Clarence', 'Thomas', 'Breger', 'Garcia', 'Burns', 'SHIPPING', 'Inc.', 'York', 'Isler', 'Conner', 'Isler', 'Sailing', 'International', 'Turner', 'Broadcasting', 'G.', 'Diamandis', 'B.', 'Vittoria', 'Inc', 'Isler', 'Fay', 'Diego', 'Conner', 'Smith', 'Dennis', 'Conner', 'Smith', 'Isler', 'Conner', 'Isler', 'Smith', 'County', 'Daugherty', 'Hoelzer', 'Hoelzer', 'Hoelzer', 'Hoelzer', 'Louis', 'L.', 'Stanton', 'Hoelzer', 'Hoelzer', 'E.', 'Sommer', 'Lekberg', 'Grain', 'Telephone', 'Africa', 'Africa', 'New', 'Guinea', 'Valley', 'Columbia', 'Valley', 'Texas', 'Intermediate', 'Belli', 'Belli', 'Drivon', 'Francisco', 'Francisco', 'Chesley', 'Chesley', 'Belli', 'Belli', 'Park', 'J.', 'Ruvolo', 'Francisco', 'Ruvolo', 'Ruvolo', 'Ruvolo', 'Ruvolo', 'Covert', 'Covert', 'Covert', 'Belli', 'Belli', 'Drivon', 'Ross', 'Bullock', 'Bullock', 'C.', 'Burton', 'University', 'Burton', 'Michael', 'Cook', 'Cook', 'Peat', 'Marwick', 'York', 'Amhowitz', 'UK', 'Bennett', 'Bennett', 'Bennett', 'Bennett', 'Gov.', 'William', 'Schaefer', 'Mayor', 'Marion', 'Barry', 'Bennett', 'Thompson', 'Bennett', 'Thompson', 'Bennett', 'Hugo', 'Coast', 'Masaki-Schatz', 'Richfield', 'Co.', 'Angeles', 'Masaki-Schatz', 'Co.', 'Tharp', 'Tharp', 'Western', 'Bank', 'Western', 'Financial', 'Corp.', 'G.', 'Lee', 'Lee', 'Petroleum', 'Corp.', 'Disney', 'Co.', 'Chemical', 'Co.', 'Charles', 'L.', 'Fogg', 'Hugo', 'Jerry', 'Fogg', 'Francisco', 'Orleans', 'Gaubert', 'Gaubert', 'American', 'Gaubert', 'American', 'American', 'Gaubert', 'Gaubert', 'District', 'Judge', 'Robert', 'Maloney', 'Maloney', 'Gaubert', 'Gaubert', 'American', 'Gaubert', 'David', 'Lowell', 'Lowell', 'Trees', 'Levine', 'York', 'Levine', 'Levine', 'Levine', 'Moss', 'Moss', 'Levine', 'H.', 'Aloe', 'Levine', 'Levine', 'Aloe', 'U.S.', 'Attorney', 'Terry', 'Hart', 'Arlen', 'Specter', 'Specter', 'Specter', 'W.', 'Morris', 'B.', 'Morris', 'M.', 'White', 'Adams', 'Webster', 'G.', 'Epps', 'H.', 'OBrion', 'J.', 'Roger', 'Jr.', 'C.', 'Dodd', 'York', 'Times', 'Co.', 'York', 'Times', 'Jones', 'Morton', 'S.', 'Reidy', 'Burnham', 'Lambert', 'Inc.', 'Ochs', 'Sulzberger', 'York', 'Times', 'Co.', 'Sulzberger', 'Appert', 'Lawrence', 'Burnham', 'Monday', 'Medical', 'International', 'Inc', 'L.', 'Keith', 'Jr.', 'Insurance', 'Co.', 'Keith', 'Street', 'R.', 'Mateyo', 'Capital', 'Management', 'Co.', 'York', 'Stevenson', 'Roosevelt', 'Zupan', 'California', 'War', 'II', 'Bush', 'Services', 'Bush', 'Bush', 'Bush', 'Speaker', 'James', 'Wright', 'Department', 'Hampshire', 'Commerce', 'Committee', 'Chairman', 'Ernest', 'Hollings', 'Warren', 'Rudman', 'Rudman', 'Savings', 'Lynch', 'Capital', 'Securities', 'Francisco', 'Democrat', 'David', 'Pryor', 'Pryor', 'Senator', 'Dan', 'Coats', 'Kennedy', 'Reagan', 'Coats', 'Coats', 'Bush', 'Pryor', 'Speaker', 'Thomas', 'Foley', 'Technology', 'Waite', 'Francisco', 'Clara', 'Cruz', 'Angeles', 'Fargo', 'Monte', 'Francisco', 'Cruz', 'County', 'Clara', 'County', 'Gatos', 'Francisco', 'Mayor', 'Art', 'Agnos', 'Street', 'Vic', 'Fazio', 'Hugo', 'Fazio', 'House', 'Hugo', 'Fitzwater', 'Gate', 'Park', 'Francisco', 'International', 'Airport', 'Agnos', 'Agnos', 'Hugo', 'Carolina', 'Fazio', 'Francisco', 'Gray', 'Francisco', 'Lang', 'York', 'F.', 'Seib', 'Davidson', 'Penh', 'Sann', 'Sihanouk', 'America', 'Tse-tung', 'Sen', 'Pot', 'Rouge', 'Baker', 'Penh', 'Sihanouk', 'Sihanouk', 'F.', 'Harris', 'America', 'Harris', 'York', 'America', 'V.', 'Allen', 'America', 'Data', 'Products', 'Inc.', 'Data', 'Data', 'L.', 'Marinaro', 'Data', 'Marinaro', 'Marinaro', 'Corp.', 'Mesa', 'Gas', 'Systems', 'Inc.', 'Co.', 'Star', 'Heileman', 'Brewing', 'Co.', 'Corp', 'Star', 'Chronicle', 'Star', 'Klineberg', 'University', 'J.', 'Lipton', 'Co.', 'Unilever', 'Group', 'Group', 'York', 'Richards', 'Group', 'Inc.', 'Gibraltar', 'Bank', 'F.S.B.', 'Gibraltar', 'York', 'Texas', 'National', 'Bank', 'Corp.', 'Inc.', 'Island', 'Penney', 'Co.', 'York', 'Houston', 'Kroll', 'Biscuits', 'Inc.', 'York', 'Femina', 'McNamee', 'WCRS', 'York', 'POLICY', 'Clapp', 'Co.', 'Coke', 'Computer', 'Corp.', 'Dell', 'Dell', 'Dell', 'Corp.', 'Poyner', 'Dell', 'Computer', 'Corp.', 'Business', 'Machines', 'Corp.', 'James', 'Weil', 'Holdings', 'PLC', 'Life', 'Assurance', 'Society', 'PLC', 'Life', 'Life', 'Life', 'Life', 'Petroleum', 'Services', 'Inc.', 'Mexico', 'Ltd.', 'York', 'ENGLAND', 'CRITICAL', 'CARE', 'Inc.', 'Stanley', 'Capital', 'Funding', 'T.', 'Rosen', 'Estate', 'Rosen', 'Francisco', 'Rosen', 'Perkins', 'Rosen', 'H.', 'Renzas', 'Management', 'Services', 'Inc.', 'Renzas', 'Management', 'Management', 'Renzas', 'Health', 'Health', 'Health', 'Rey', 'S.A.', 'Rey', 'Rey', 'Rey', 'Grace', 'York', 'Equipment', 'Co.', 'Energy', 'Corp.', 'Energy', 'American', 'Corp.', 'Africa', 'Ltd.', 'Industries', 'Ltd.', 'Forest', 'Products', 'Ltd.', 'Columbia', 'Doman', 'Forest', 'Products', 'Ltd.', 'Forest', 'Forest', 'Challenge', 'Canada', 'Ltd', 'Forest', 'Forest', 'Forest', 'Forest', 'Challenge', 'Canada', 'Columbia', 'Corp.', 'Kansas', 'Federal', 'Savings', 'Federal', 'Savings', 'Savings', 'Association', 'Paso', 'Bank', 'Capital', 'Corp.', 'Vegas', 'Bank', 'PLC', 'Commerciale', 'Commerciale', 'Commerciale', 'Commerciale', 'Commerciale', 'Commerciale', 'Business', 'Machines', 'Corp.', 'Inc.', 'Electronic', 'Corp.', 'Pioneer', 'N.', 'Fiedler', 'York', 'Street', 'Murai', 'Securities', 'Mitsuoka', 'Investment', 'Trust', 'York', 'Mitsuoka', 'Investment', 'Trust', 'Pharmaceutical', 'Pharmaceutical', 'House', 'House', 'Homes', 'House', 'Estate', 'Real', 'Estate', 'Development', 'Steel', 'Steel', 'Steel', 'Rayon', 'Street', 'Universal', 'Insurance', 'Alliance', 'Accident', 'Investment', 'Kong', 'Stanley', 'Capital', 'International', 'Perspective', 'Francisco', 'Agnos', 'President', 'Dan', 'Quayle', 'Quayle', 'Agnos', 'Fitzwater', 'House', 'Agnos', 'Sununu', 'House', 'Francisco', 'Fitzwater', 'Agnos', 'Bush', 'Agnos', 'Bush', 'Semel', 'Semel', 'Semel', 'Mae', 'Mae', 'Home', 'Mortgage', 'Co.', 'Insurance', 'Co.', 'Insurance', 'Mae', 'Mae', 'M.', 'Gintel', 'Gintel', 'Gintel', 'Gintel', 'Gintel', 'Chancery', 'Court', 'Gintel', 'Monday', 'Air', 'Air', 'Equipment', 'Board', 'Atlantic', 'New', 'England', 'Telesis', 'S', 'West', 'James', 'Goldsmith', 'Express', 'World', 'Jones', 'Lehman', 'Hutton', 'Treasury', 'Jones', 'Sciences', 'Corp.', 'Segundo', 'Software', 'Inc.', 'California', 'Jose', 'Cela', 'Duarte', 'Germany', 'Church', 'Berlin', 'Hajak', 'Europe', 'America', 'Arabia', 'Assad', 'Sen.', 'Specter', 'Street', 'Logan', 'Logan', 'Beale', 'York', 'Beale', 'White', 'Interstate', 'York', 'Kong', 'Investors', 'Trust', 'Investors', 'Corp.', 'Vegas', 'Rothman', 'Rothman', 'International', 'Inc.', 'York', 'Stock', 'Exchange', 'Medical', 'International', 'Inc.', 'York', 'Acquisition', 'Corp.', 'Bank', 'Bank', 'Boston', 'Corp.', 'York', 'Stock', 'Exchange', 'Medical', 'Medical', 'Medical', 'Block', 'Block', 'Cremonie', 'Supervisors', 'Inc.', 'Block', 'Cremonie', 'Block', 'Supervisors', 'E.', 'Russell', 'Block', 'Investment', 'Technologies', 'Block', 'Investment', 'Research', 'Sam', 'Block', 'Block', 'Pool', 'Pool', 'Block', 'M.', 'Bloch', 'Bloch', 'Block', 'Industries', 'Inc.', 'MARKET', 'PATOIS', 'York', 'Sullivan', 'Attorney', 'General', 'James', 'Shannon', 'Shannon', 'Service', 'Co.', 'Hampshire', 'Shannon', 'Squibb', 'Co.', 'York', 'Co.', 'Corp.', 'Squibb', 'Corp.', 'York', 'Stock', 'Exchange', 'Squibb', 'Industries', 'Inc.', 'America', 'York', 'Stock', 'Exchange', 'Group', 'Inc.', 'Corp.', 'York', 'Pictures', 'Entertainment', 'Inc.', 'Entertainment', 'Co.', 'Communications', 'Inc.', 'Prebon', 'INTERBANK', 'OFFERED', 'U.S.', 'HOME', 'LOAN', 'MORTGAGE', 'CORP', 'Mac', 'Systems', 'Inc', 'NATIONAL', 'MORTGAGE', 'ASSOCIATION', 'Mae', 'Systems', 'Inc', 'LYNCH', 'READY', 'ASSETS', 'TRUST', 'Ministry', 'Kai-shek', 'Corp.', 'Sutcliffe', 'Sutcliffe', 'Eye', 'Co.', 'Iwai', 'Corp.', 'Iwai', 'Sidorenko', 'Safety', 'Burnham', 'Lambert', 'Group', 'Inc.', 'Dang', 'Burnham', 'Lambert', 'Dang', 'Trade', 'Zealand', 'Corp.', 'Jeep-Eagle', 'Lowe', 'Motor', 'Co.', 'Prizm', 'Corolla', 'DEVELOPMENT', 'Corp.', 'Fidelity', 'Bancorp.', 'Fidelity', 'Fidelity', 'Fidelity', 'Inc.', 'Corp.', 'Corp.', 'Corp.', 'L.', 'Schwartz', 'Schwartz', 'York', 'Stock', 'Exchange', 'Bank', 'Trust', 'Co.', 'International', 'Inc.', 'PENCIL', 'Technology', 'Corp.', 'York', 'Stock', 'Exchange', 'Resources', 'Canada', 'Ltd.', 'Canada', 'Ltd.', 'Canada', 'Resources', 'Ltd.', 'Corp.', 'Eastern', 'Corp.', 'Interstate', 'Transmission', 'Co.', 'Gas', 'Pipeline', 'Co', 'Oil', 'Ltd.', 'Corp.', 'Dutch\\\\/Shell', 'Group', 'Engineering', 'Inc.', 'Industrie', 'Engineering', 'Minerals', 'Co.', 'Corp', 'Equipment', 'International', 'Crane', 'Inc.', 'Electronics', 'N.', 'Wolff', 'York', 'University', 'Avery', 'University', 'Business', 'Cellular', 'Communications', 'Inc.', 'Broadcasting', 'Corp.', 'Corp.', 'O.', 'McCaw', 'Inc.', 'Buck', 'Odeon', 'Corp', 'York', 'Stock', 'Exchange', 'Tremendae', 'B.', 'Helmsley', 'Inc.', 'Hotels', 'Helmsley', 'Helmsley', 'Helmsley', 'York', 'State', 'B.', 'Hall', 'Inc.', 'Manor', 'Africa', 'Africa', 'Verwoerd', 'Jr.', 'Africa', 'Africa', 'Africa', 'Fischer', 'Street', 'Verwoerd', 'Verwoerd', 'F.', 'Verwoerd', 'Africa', 'Bruwer', 'Verwoerd', 'Africa', 'Conradie', 'Sr.', 'Jr', 'Verwoerd', 'Verwoerd', 'Africa', 'J.', 'Canelo', 'Weston', 'Capital', 'Management', 'G.', 'Einhorn', 'Goldman', 'Goldman', 'I.', 'Clough', 'Jr.', 'Lynch', 'Markese', 'Clough', 'Biehl', 'Canelo', 'Stearns', 'Corp.', 'Canelo', 'Canelo', 'Canelo', 'Markese', 'Schlesinger', 'Edwards', 'Schlesinger', 'Corp.', 'Williams', 'Williams', 'A.', 'Oswald', 'W.', \"O'Donnell\", 'R.', 'Eiszner', 'International', 'Inc.', 'G.', 'Schwartz', 'Life', 'Insurance', 'Co.', 'V.', 'Shipley', 'Banking', 'Corp', 'Corp.', 'Trust', 'New', 'York', 'Corp.', 'Morgan', 'Pacific', 'Corp.', 'Fargo', 'K.', 'Crowley', 'Francisco', 'Business', 'Machines', 'Corp.', 'Group', 'Piszczalski', 'Equipment', 'Corp.', 'Co.', 'Group', 'Inc.', 'Group', 'Keller', 'Keller', 'Express', 'Motor', 'Co.', 'Germany', 'Ford', 'II', 'Merkur', 'Corp', 'Germany', 'J.', 'Pacific', 'Ltd.', 'Line', 'Corp.', 'Line', 'Line', 'York', 'Stock', 'Exchange', 'Line', 'Pacific', 'Line', 'Pacific', 'Line', 'Pacific', 'Line', 'Pacific', 'Line', 'Nugget', 'Inc.', 'Nugget', 'Uphoff', 'James', 'York', 'Stock', 'Exchange', 'Nugget', 'Holding', 'Corp.', 'A.', 'Franco', 'Franco', 'Holding', 'Corp.', 'Franco', 'W.', 'Bailey', 'II', 'Holding', 'Franco', 'H.', 'Ruby', 'Holding', 'Holding', 'Ruby', 'Holding', 'Holding', 'Bailey', 'Market', 'Rate', 'Monitor', 'Pencil', 'City', 'U.S.A.', 'D.', 'Little', 'D.', 'Little', 'Ahmanson', 'Western', 'Financial', 'Corp.', 'Ahmanson', 'Savings', 'Western', 'Financial', 'Hills', 'Western', 'Bank', 'Philo', 'Airline', 'Reidy', 'Burnham', 'Lambert', 'Inc', 'International', 'Data', 'Corp.', 'Data', 'Steel', 'Corp.', 'Richard', 'Butler', 'NatWest', 'Investment', 'Management', 'Ltd.', 'NatWest', 'Ltd.', 'Richard', 'Plastow', 'Richard', 'Westminister', 'Bank', 'Investment', 'Bank', 'Ltd', 'Area', 'Daylight', 'Time', 'Rafael', 'Francisco', 'Francisco', 'Bolinas', 'Beach', 'Panisse', 'Corp.', 'Secretary', 'Samuel', 'Skinner', 'Bush', 'Skinner', 'Chao', 'Skinner', 'Skinner', 'James', 'Oberstar', 'Skinner', 'Chairman', 'Glenn', 'Anderson', 'Corp.', 'Street', 'Street', 'Street', 'Accident', 'Royal', 'Alliance', 'Insurance', 'Group', 'Life', 'Securities', 'Westminister', 'James', 'Goldsmith', 'Goldsmith', 'Group', 'Warburg', 'Motor', 'Rayon', 'Natwest', 'Securities', 'Japan', 'Brewery', 'Pharmaceutical', 'Kong', 'Street', 'Stanley', 'Capital', 'International', 'Perspective', 'Regalia', 'Regalia', 'Regalia', 'Lehman', 'Hutton', 'Holdings', 'Inc.', 'Management', 'Co', 'York', 'Stock', 'Exchange', 'Inc.', 'York', 'Corp.', 'Home', 'Products', 'Corp.', 'York', 'Home', 'Home', 'Home', 'Rico', 'Africa', 'York', 'Stock', 'Exchange', 'Home', 'XL', 'Piccolino', 'York', 'Stock', 'Exchange', 'Health', 'Care', 'Board', 'Crossair', 'M.', 'Carroll', 'Carolina', 'C.', 'Barksdale', 'Jr', 'C.', 'Stuart', 'III', 'Spring', 'Inc.', 'Mountain', 'Bankcard', 'National', 'Bank', 'Bank', 'National', 'National', 'Bank', 'System', 'Bank', 'Guzman', 'Cabrera', 'Guzman', 'Cabrera', 'Hernandez', 'Galicia', 'Quina', 'Carlos', 'Salinas', 'Quina', 'Guzman', 'Cabrera', 'Quina', 'Guzman', 'Cabrera', 'Guzman', 'Cabrera', 'Quina', 'Guzman', 'Cabrera', 'Guzman', 'Cabrera', 'Guzman', 'Cabrera', 'Salinas', 'Guzman', 'Cabrera', 'Quina', 'Quina', 'Guzman', 'Cabrera', 'Guzman', 'Cabrera', 'Guzman', 'Cabrera', 'Robles', 'Desc', 'Vega', 'Velasco', 'Castillo', 'Guzman', 'Cabrera', 'Jolla', 'Shaevitz', 'Floss', 'Data', 'Corp', 'Data', 'Fallout', 'Shealy', 'Field', 'Dalton', 'John', 'Keller', 'Line', 'York', 'Co.', 'First', 'City', 'Bancorp.', 'York', 'Corp.', 'City', 'City', 'York', 'York', 'City', 'E.', 'Day', 'City', 'City', 'Erensel', 'Corp.', 'Stevens', 'Air', 'Jones', 'Professional', 'Investor', 'Report', 'Stevens', 'Air', 'Air', 'Manhattan', 'Corp.', 'Stevens', 'Air', 'Stevens', 'Air', 'Chairman', 'Stephen', 'Wolf', 'Air', 'Stevens', 'Air', 'Stevens', 'Air', 'Air', 'Air', 'Valente', 'Bailit', 'Life', 'Bailit', 'Rahill', 'Foster', 'Higgins', 'Grossman', 'Grossman', 'England', 'Medical', 'Center', 'Gras', 'Gras', 'Gras', 'Aerospace', 'PLC', 'Aerospace', 'DSM', 'Stephen', 'Neal', 'Stein', 'New', 'York', 'Corp.', 'National', 'Bank', 'Gov.', 'Bob', 'Casey', 'Gov.', 'James', 'Blanchard', 'Bush', 'Hickman', 'Halva-Neubauer', 'County', 'Freind', 'Freind', 'Blanchard', 'Rogin', 'Sutherland', 'Gov.', 'Bill', 'Clements', 'Roberts', 'Jersey', 'Ragan', 'Spaulding', 'Michelman', 'Street', 'Securities', 'Inc.', 'Bush', 'College', 'President', 'Quayle', 'Service', 'Corp.', 'Appropriations', 'Committee', 'Chairman', 'Jamie', 'Whitten', 'Dale', 'Bumpers', 'Whitten', 'F.', 'Klatman', 'General', 'Corp.', 'Industries', 'PLC', 'Gilchrist', 'Amicable', 'Investment', 'Field', 'Pacitti', 'Prideaux', 'PLC', 'Amicable', 'James', 'Field', 'Prideaux', 'Cinema', 'Corp.', 'Department', 'Stores', 'Inc.', 'Department', 'Stores', 'Co.', 'Inc', 'James', 'James', 'Prideaux', 'Francisco', 'International', 'Airport', 'Schumacher', 'Schumacher', 'Parcel', 'Service', 'Fe', 'Pacific', 'Corp.', 'Fe', 'Pacific', 'Corp.', 'Pacific', 'Transportation', 'Co.', 'Angeles', 'Engelken', 'Engelken', 'Engelken', 'Francisco', 'Francisco', 'Francisco', 'International', 'Francisco', 'International', 'Francisco', 'Vegas', 'Angeles', 'Francisco', 'Jose', 'Francisco', 'Wile', 'Co.', 'Sark', 'Littleboy', 'Research', 'Institute', 'Junor', 'Metropolitan', 'PLC', 'Met', 'York', 'Corp.', 'Brands', 'Inc.', 'York', 'Brands', 'Artois', 'America', 'Inc.', 'Jarvis', 'Jarvis', 'Whitbread', 'Reserve', 'LAND', 'Bank', 'Corp.', 'International', 'Corp.', 'York', 'Stock', 'Exchange', 'Equipment', 'Corp.', 'Business', 'Machines', 'Corp.', 'Willmott', 'Group', 'Inc', 'Corp.', 'Data', 'Corp.', 'Corp.', 'M.', 'Glorioso', 'H.', 'Olsen', 'Trust', 'Co', 'Rose', 'Trust', 'Rose', 'Trust', 'F.', 'Willman', 'C.', 'Bernstein', 'Shannon', 'Data', 'Corp.', 'Willman', 'Corp.', 'Advanced', 'Advanced', 'Data', 'Corp.', 'Data', 'Corp', 'Weekly', 'Publishing', 'USA', 'F.', 'DeVoe', 'Jr.', 'Mason', 'Wood', 'Walker', 'DeVoe', 'I.', 'Clough', 'Lynch', 'Capital', 'California', 'York', 'Stock', 'Exchange', 'York', 'L.', 'Madson', 'E.', 'Himebaugh', 'Himebaugh', 'Corp.', 'Trump', 'L.', 'Crandall', 'Pettee', 'Lynch', 'Crandall', 'Whittington', 'Grenfell', 'Whittington', 'Richmond-Watson', 'Whittington', 'Grenfell', 'Webb', 'Whittington', 'Hugo', 'Carolina', 'Y.', 'Taylor', 'Director', 'Taxpayers', 'Union', 'Butz', 'Butz', 'Security', 'Butz', 'E.', 'Hayes', 'Jr.', 'S.', 'Black', 'Hayes', 'Bell', 'Telephone', 'Co.', 'Capital', 'Power', 'Black', 'Thompson', 'Johnson', 'Commander', 'Donald', 'Williams', 'Air', 'Force', 'Base', 'Chin', 'March', 'Hugo', 'Manufacturing', 'Corp.', 'York', 'Trump', 'Trump', 'Trump', 'Trump', 'Trump', 'Trump', 'Disney', 'Co.', 'Steinberg', 'Steinberg', 'Steinberg', 'Steinberg', 'Trump', 'Trump', 'Judge', 'Alcee', 'Hastings', 'Hastings', 'Hastings', 'Hastings', 'John', 'Bryant', 'Hastings', 'Hastings', 'Industries', 'Inc.', 'Cos.', 'York', 'Abraham', 'York', 'Greaney', 'York', 'R.', 'Ostrager', 'YORK', 'Genova', 'Genova', 'Dunn', 'U.S.', 'Attorney', 'Randy', 'Mastro', 'Mastro', 'Mastro', 'Dunn', 'Angeles', 'Karalis', 'Karalis', 'Corp', 'Corp.', 'AB', 'Street', 'Street', 'Willens', 'Lehman', 'Hutton', 'Inc.', 'York', 'Willens', 'Nabisco', 'Inc.', 'Communications', 'Inc.', 'Co', 'Street', 'Schloss', 'York', 'Wall', 'Street', 'Medical', 'International', 'Hills', 'Street', 'C.', 'Canellos', 'Street', 'Bush', 'Development', 'Hugo', 'House', 'Fitzwater', 'Fitzwater', 'Clanahan', 'Stewart', 'Suchocki', 'Secretary', 'Dick', 'Cheney', 'Force', 'Air', 'Force', 'Base', 'Francisco', 'Francisco', 'Francisco', 'Island', 'Francisco', 'California', 'Volland', 'Mulrooney', 'Highway', 'Administrator', 'Thomas', 'Larson', 'California', 'McGinley', 'Pankyo', 'FAX', 'Hockney', 'York', 'Stanley', 'Atlantic', 'Dynamics', 'Edison', 'Edison', 'E.', 'Thomas', 'Jersey', 'Bell', 'Dynamics', 'Ellis', 'Bauer', 'Ellis', 'Bean', 'Antarctica', 'Chase', 'Product', 'News', 'McNally', 'Kelley', 'Products', 'USA', 'City', 'McNally', 'Kay', 'Poppenberg', 'America', 'America', 'America', 'Savageau', 'Ana', 'York', 'Diego', 'Francisco', 'Savageau', 'Francisco', 'Bluff', 'Carolyn', 'Robinson', 'Corp.', 'Dynamics', 'Corp.', 'Stealth', 'Dynamics', 'Dynamics', 'Dynamics', 'Dynamics', 'Dynamics', 'Development', 'Corp.', 'Release', 'Sherlund', 'Sherlund', 'Valley', 'Corp.', 'Micro', 'Devices', 'Inc.', 'Semiconductor', 'Corp.', 'Kurlak', 'Lynch', 'Research', 'Business', 'Machines', 'Corp.', 'Co.', 'Computer', 'Microsystems', 'Inc.', 'Computers', 'Inc.', 'Equipment', 'Corp.', 'Clara', 'Alto', 'View', 'Micro', 'Jose', 'Alto', 'Francisco', 'Francisco', 'Computer', 'Corp.', 'Equipment', 'Springs', 'Livermore', 'National', 'Laboratory', 'Corp.', 'Francisco', 'R.', 'Wilke', 'Maynard', 'Maynard', 'Maynard', 'Manufacturing', 'Inc.', 'Maynard', 'Maynard', 'Maynard', 'Maynard', 'Maynard', 'Maynard', 'Kings', 'Guzewich', 'Egg', 'Maynard', 'Frawley', 'Maynard', 'Maynard', 'Hill', 'Maynard', 'Ana', 'Maynard', 'York', 'Jersey', 'Maynard', 'Maynard', 'Angeles', 'Maynard', 'Maynard', 'Inc.', 'Maynard', 'Pfeiffer', 'Pfeiffer', 'Pfeiffer', 'Diamond', 'Monroe', 'Pfeiffer', 'Kloves', 'Kloves', 'Kloves', 'Rainer', 'Fassbinder', 'Scorsese', 'Ballhaus', 'Grusin', 'Pfeiffer', 'Bridges', 'Kloves', 'Tilly', 'Tilly', 'Street', 'Pfeiffer', 'Ballhaus', 'Monroe', 'Pfeiffer', 'Pfeiffer', 'Demme', 'PLC', 'Data', 'Corp.', 'Mining', 'Data', 'Dynamics', 'Corp.', 'Force', 'Corp.', 'Co.', 'Douglas', 'Corp.', 'C.', 'Smith', 'Smith', 'America', 'S.p', 'Co.', 'Building', 'Building', 'Building', 'Building', 'Building', 'Stock', 'Exchange', 'Building', 'Paul', 'X.', 'Kelley', 'Lafontant', 'Mary', 'Rose', 'Oakar', 'Secretary', 'Jack', 'Kemp', 'Futures', 'Inc.', 'Financial', 'Services', 'Ltd.', 'Financial', 'W.', 'Lang', 'Lang', 'C.', 'Benda', 'Lang', 'Warren', 'Pryce', 'Malizia', 'Negus', 'Fund', 'Report', 'Negus', 'Rachwalski', 'Litvack', 'Litvack', 'Treasury', 'Money', 'Market', 'Fund', 'WCRS', 'York', 'Femina', 'Holding', 'S.A.', 'WCRS', 'Della', 'Femina', 'Ball', 'Ltd.', 'Femina', 'McNamee', 'York', 'Della', 'Femina', 'Breene', 'York', 'Breene', 'Breene', 'Femina', 'Advertising', 'Masius', 'Benton', 'Femina', 'McNamee', 'Femina', 'Am', 'Chemical', 'Co.', 'Della', 'Femina', 'Group', 'Della', 'Femina', 'McNamee', 'Femina', 'Della', 'Femina', 'Group', 'Scott', 'Co.', 'S.p', 'Montagu', 'Walter', 'Thompson', 'Needham', 'Needham', 'Needham', 'Francisco', 'Walter', 'Thompson', 'York', 'Group', 'Organic', 'York', 'Morrissey', 'Group', 'Angeles', 'Porter', 'ADVERTISING', 'Advertising', 'Advertising', 'Advertising', 'Products', 'Inc.', 'York', 'Corp.', 'Eclipse', 'Motor', 'Co.', 'Bob', 'Dole', 'Dole', 'Bush', 'Development', 'Secretary', 'Jack', 'Kemp', 'Kemp', 'Banking', 'Committee', 'Rose', 'Oakar', 'Oakar', 'Kemp', 'Oakar', 'Chalmers', 'Wylie', 'George', 'Kemp', 'Delchamps', 'Delchamps', 'Delchamps', 'Jr.', 'Delchamps', 'Francisco', 'Fukuyama', 'James', 'Tobin', 'Milken', 'Pollin', 'Fukuyama', 'Fukuyama', 'Cockburn', 'Weekly', 'Air', 'France', 'Germany', 'Express', 'Corp.', 'Tiger', 'Line', 'Inc.', 'Daly', 'York', 'Daly', 'Express', 'Parcel', 'Service', 'Inc.', 'France', 'France', 'Daly', 'Express', 'Tiger', 'France', 'Pacific', 'Daly', 'Paper', 'Board', 'Co.', 'Cup', 'Corp.', 'Cup', 'Paper', 'Board', 'Chairman', 'Richard', 'Breeden', 'Francisco', 'Francisco', 'Schwartz', 'Francisco', 'Angeles', 'Vyas', 'Angeles', 'Vyas', 'Francisco', 'Daggs', 'Anthony', 'Inc.', 'Hancock', 'Freedom', 'York', 'Francisco', 'Daggs', 'Securities', 'Inc.', 'Janet', 'White', 'Francisco', 'Systems', 'Inc.', 'Francisco', 'Hugo', 'Jose', 'Irvine', 'Clearing', 'Luthringshausen', 'Clearing', 'Luthringshausen', 'Business', 'Machines', 'Corp.', 'Milunovich', 'Boston', 'Street', 'Franciscans', 'Street', 'Gallagher', 'Re', 'Corp.', 'Re', 'Corp.', 'International', 'Group', 'Inc.', 'Corp.', 'Star', 'Industries', 'Inc.', 'Corp.', 'F.', 'Atkinson', 'Co.', 'Knudsen', 'Corp.', 'Corp.', 'Pacific', 'Corp.', 'Inc.', 'Lynch', 'Pacific', 'Corp.', 'Industries', 'Inc.', 'Corp.', 'Corp.', 'Fargo', 'Corp.', 'West', 'Financial', 'Corp.', 'Ahmanson', 'Gas', 'Telesis', 'Group', 'Peters', 'Vincent', 'Corp.', 'Bank', 'Corp.', 'Stock', 'Exchange', 'Clearing', 'Corp.', 'Fossett', 'Peters', 'Lombardi', 'Farm', 'Farm', 'Lombardi', 'Farm', 'Lombardi', 'Plummer', 'D.', 'Hart', 'Research', 'Lombardi', 'Huff', 'Kim', 'Cutler', 'Katz', 'Kim', 'Walter', 'Thompson', 'Olshan', 'Wilhite', 'House', 'House', 'Morris', 'General', 'House', 'Mayer', 'Soup', 'Co.', 'Adams', 'Hugo', 'Reider', 'Life', 'Farm', 'Mutual', 'Automobile', 'Insurance', 'Co.', 'Hugo', 'Farm', 'Farm', 'Insurance', 'Co.', 'Insurance', 'Francisco', 'Corp.', 'Yankus', 'International', 'Group', 'Re', 'Corp.', 'Hugo', 'Byrne', 'Kramer', 'York', 'Hugo', 'Graphics', 'Inc.', 'Environmental', 'Services', 'Inc.', 'PLC', 'John', 'Egan', 'Motor', 'Co', 'John', 'John', 'John', 'John', 'Barber', 'John', 'Reitman', 'Barber', 'Capel', 'John', 'Corp.', 'Corp.', 'Chairman', 'Communications', 'Corp.', 'D.', 'Hart', 'Research', 'D.', 'Hart', 'Research', 'Census', 'York', 'Stock', 'Exchange', 'Stanley', 'Lynch', 'Group', 'Inc.', 'Brothers', 'Inc', 'Inc.', 'Angeles', 'National', 'Corp.', 'National', 'National', 'P.', 'Simmons', 'National', 'M.', 'Greenwood', 'National', 'Hoyt', 'National', 'Hoyt', 'National', 'Quick', 'Jr.', 'B.', 'Lane', 'Lehman', 'Hutton', 'Inc', 'A.', 'Mason', 'Lynch', 'York', 'Stock', 'Exchange', 'Industry', 'Association', 'Board', 'Schaefer', 'Board', 'Schaefer', 'Quackenbush', 'Schwab', 'Grano', 'Group', 'Inc.', 'Street', 'Grano', 'Ross', 'Ross', 'Ross', 'Jones', 'Capital', 'Markets', 'Report', 'Lehman', 'Hutton', 'Inc', 'Morgan', 'Securities', 'Inc.', 'National', 'Mortgage', 'Association', 'Mae', 'Mae', 'Boston', 'Corp', 'Mae', 'Mae', 'Trust', 'International', 'Ltd', 'Corp', 'International', 'Oil', 'Corp', 'Suisse', 'First', 'Boston', 'Ltd', 'Westminster', 'Bank', 'PLC', 'Lynch', 'International', 'Ltd', 'Electric', 'Express', 'Railway', 'Co', 'International', 'Co', 'Leu', 'Ltd', 'Nomura', 'Julius', 'Baer', 'N.V', 'Bank', 'Burnham', 'Lambert', 'Inc', 'Air', 'Corp', 'V.', 'Holmes', 'Holmes', 'Holmes', 'Holmes', 'Holmes', 'Finance', 'Corp.', 'Ventures', 'Fund', 'Inc.', 'Holmes', 'Ventures', 'Holmes', 'Holmes', 'Ann', 'Smith', 'Byrum', 'Smith', 'Byrum', 'Smith', 'Bob', 'Packwood', 'William', 'Roth', 'Dan', 'Rostenkowski', 'Valley', 'L.', 'Bandler', 'Bell', 'Telephone', 'Co.', 'Bell', 'Francisco', 'Alto', 'Sweezey', 'Francisco', 'Mayor', 'Art', 'Agnos', 'United', 'Motor', 'Manufacturing', 'Inc.', 'Alto', 'Francisco', 'President', 'Robert', 'Fienberg', 'Francisco', 'Bandler', 'Telephone', 'Communications', 'Inc.', 'Telecommunications', 'E.', 'Downing', 'Bell', 'Telesis', 'Burnham', 'Mace', 'Hill', 'Mace', 'Kotman', 'State', 'University', 'Street', 'Star', 'Industries', 'Inc.', 'Star', 'Star', 'Goldberg', 'International', 'Goldberg', 'Hugo', 'Goldberg', 'Byrne', 'Byrne', 'Byrne', 'California', 'Francisco', 'Cruz', 'Francisco', 'Cruz', 'Francisco', 'Boccone', 'HENRI', 'Duke', 'Jean', 'Funding', 'Corp.', 'Reserve', 'Searle', 'Teich', 'Teich', 'Chairman', 'Sheldon', 'Gilgore', 'J.', 'Fabbri', 'Montagu', 'Securities', 'Inc', 'Holdings', 'Capital', 'Corp.', 'RJR', 'Air', 'Corp.', 'Sullivan', 'Jr.', 'Witter', 'Reynolds', 'Inc', 'Funding', 'Corp.', 'Trust', 'Corp.', 'Mann', 'Francisco', 'Lieberman', 'Hanover', 'Securities', 'Corp', 'California', 'Burnham', 'Lambert', 'Inc.', 'Securities', 'Inc.', 'York', 'City', 'Jersey', 'Turnpike', 'Authority', 'California', 'Mac', 'National', 'Mortgage', 'Association', 'Mac', 'Mae', 'Lawson', 'Lawson', 'Germany', 'Germany', 'Honecker', 'Honecker', 'Germany', 'Krenz', 'Germany', 'Germany', 'Europe', 'Krenz', 'Berlin', 'Honecker', 'Honecker', 'Honecker', 'Krenz', 'Honecker', 'Honecker', 'Germany', 'Germany', 'Krenz', 'Bush', 'Krenz', 'Germany', 'Krenz', 'Honecker', 'Honecker', 'Honecker', 'Krenz', 'War', 'II', 'Krenz', 'Honecker', 'Krenz', 'Germany', 'Krenz', 'Krenz', 'Germany', 'Honecker', 'Honecker', 'Krenz', 'Berlin', 'Krenz', 'Oldenburg', 'Krenz', 'Honecker', 'Krenz', 'Oldenburg', 'Kohl', 'Krenz', 'Germany', 'Krenz', 'Honecker', 'Krenz', 'Krenz', 'Germany', 'Honecker', 'Krenz', 'Gorbachev', 'Krenz', 'Germany', 'Germany', 'Germany', 'Simmons', 'Germany', 'Honecker', 'Honecker', 'Gorbachev', 'Gorbachev', 'Honecker', 'Germany', 'Krenz', 'War', 'II', 'Honecker', 'Europe', 'Germany', 'Gorbachev', 'Honecker', 'Kohl', 'Korea', 'Ltd.', 'Korea', 'Korea', 'S.A.', 'Morris', 'Cos.', 'Prime', 'Minister', 'Tadeusz', 'Mazowiecki', 'Deputy', 'Foreign', 'Minister', 'Mahmoud', 'Vaezi', 'Vaezi', 'Kong', 'Zaishuo', 'Kong', 'Aviv', 'Al', 'Al', 'Development', 'Ltd.', 'Hong', 'Png', 'Hong', 'Png', 'Rail', 'Mongolia', 'Prebon', 'INTERBANK', 'OFFERED', 'U.S.', 'HOME', 'LOAN', 'MORTGAGE', 'CORP', 'Mac', 'Systems', 'Inc', 'NATIONAL', 'MORTGAGE', 'ASSOCIATION', 'Mae', 'Systems', 'Inc', 'LYNCH', 'READY', 'ASSETS', 'TRUST', 'Co.', 'Electric', 'Co.', 'Sung', 'Sung', 'Electric', 'Sung', 'Francisco', 'News', 'Premner', 'Broadcasting', 'Co.', 'Park', 'News', 'Francisco', 'Premner', 'Inc.', 'News', 'Network', 'Broadcasting', 'System', 'Inc', 'News', 'News', 'Hempel', 'Broadcasting', 'Co.', 'Electric', 'Co.', 'Browne', 'News', 'Francisco', 'Francisco', 'West', 'Capital', 'Corp.', 'West', 'J.', 'Tirello', 'Jr.', 'Lehman', 'Hutton', 'Inc.', 'West', 'Dorado', 'Investment', 'Co.', 'Financial', 'Group', 'Chairman', 'Richard', 'L.', 'Saalfeld', 'York', 'Stock', 'Exchange', 'California', 'Group', 'Steinhardt', 'Steinhardt', 'Steinhardt', 'Buffett', 'Hathaway', 'Steinhardt', 'Steinhardt', 'York', 'Stock', 'Exchange', 'Steinhardt', 'Steinhardt', 'Steinhardt', 'Steinhardt', 'Buffett', 'Steinhardt', 'Steinhardt', 'Steinhardt', 'Steinhardt', 'Steinhardt', 'Pettee', 'Steinhardt', 'Chairman', 'Edwin', 'Colodny', 'World', 'Airlines', 'Chairman', 'Carl', 'Icahn', 'Icahn', 'Steinhardt', 'Steinhardt', 'Street', 'Steinhardt', 'Buffett', 'Buffett', 'Steinhardt', 'Buffett', 'Steinhardt', 'Becker', 'Lehman', 'Hutton', 'Steinhardt', 'Steinhardt', 'Steinhardt', 'Air', 'Steinhardt', 'Steinhardt', 'Resources', 'Inc.', 'International', 'Ltd.', 'Chester', 'Computer', 'Inc.', 'Germany', 'Board', 'F.', 'DeVoe', 'Mason', 'Wood', 'Walker', 'DeVoe', 'Re', 'International', 'Group', 'Life', 'Financial', 'Jones', 'Knudsen', 'Wheeler', 'Sirrine', 'Engineering', 'Group', 'Engineering', 'Baker', 'Science', 'Lynch', 'Star', 'Industries', 'Gas', 'Board', 'Telesis', 'Group', 'Francisco', 'Semiconductor', 'Fargo', 'Francisco', 'Ahmanson', 'Western', 'Financial', 'West', 'Financial', 'Cruise', 'Lines', 'Class', 'Morris', 'Cos.', 'Morris', 'Morris', 'Morris', 'U.S.A.', 'General', 'Brewing', 'Co.', 'Inc.', 'Columbia', 'Columbia', 'Associates', 'International', 'Inc.', 'City', 'Equipment', 'Corp.', 'Business', 'Machines', 'Corp.', 'Laboratories', 'Inc.', 'Hudson', 'Corp.', 'Hudson', 'Hudson', 'York', 'Stock', 'Exchange', 'Bank', 'Corp.', 'Settlement', 'Corp', 'Corp.', 'Power', 'Corp.', 'Power', 'Inc.', 'York', 'M.', 'Redstone', 'Corp.', 'Brake', 'Inc.', 'York', 'Stock', 'Exchange', 'Parretti', 'Holding', 'S.A.', 'Finanziaria', 'Fiorini', 'Fiorini', 'Tanzi', 'Fiorini', 'Francisco', 'Ball', 'City', 'Police', 'Department', 'Ball', 'Schwartz', 'Angeles', 'Francisco', 'Software', 'Inc.', 'Field', 'Rail', 'Corp.', 'York', 'A.', 'Hagen', 'Hagen', 'Gulf', 'Corp.', 'R.', 'Kuse', 'Gulf', 'Gulf', 'Francisco', 'Angeles', 'Mayor', 'Tom', 'Bradley', 'Angeles', 'Francisco', 'Mayor', 'Art', 'Agnos', 'Angeles', 'Angeles', 'Francisco', 'Cross', 'Rico', 'Hugo', 'Francisco'), ('San', 'Francisco', 'Lawson', 'Dillow', 'Research', 'Institute', 'Briscoe', 'Montagu', 'Bank', 'PLC', 'Joshi', 'Dillow', 'Briscoe', 'Lawson', 'Dillow', 'Lawson', 'Lawson', 'Federal', 'Reserve', 'York', 'York', 'York', 'Kong', 'Rock', 'Partners', 'Limited', 'Partnership', 'Green', 'Industries', 'Inc.', 'Green', 'Rock', 'Green', 'Rock', 'Green', 'Rock', 'Partners', 'Inc.', 'Rock', 'Partners', 'L.P', 'Brick', 'Lime', 'Inc.', 'Group', 'Inc', 'Brick', 'Group', 'Sayre', 'Pont', 'Co', 'State', 'University', 'LaLonde', 'State', 'LaLonde', 'Delaney', 'D.', 'Little', 'Inc.', 'McCullough', 'Institute', 'Freightways', 'Inc.', 'Freightways', 'Lloyd', 'Bros', 'Air', 'Connors', 'Air', 'Yusen', 'Kaisha', 'Grand', 'Inc.', 'Lynch', 'Capital', 'Stone', 'Stone', 'Stone', 'Stone', 'Stone', 'Stone', 'Stone', 'Corp.', 'Angeles', 'Express', 'Business', 'Beecham', 'Express', 'Smith', 'Barksdale', 'Ewing', 'Business', 'School', 'Press', 'York', 'Securities', 'York', 'Street', 'York', 'House', 'Homes', 'Street', 'Street', 'Street', 'Street', 'Corp.', 'James', 'Goldsmith', 'James', 'Forte', 'Holdings', 'Kong', 'Stanley', 'Capital', 'International', 'Perspective', 'Bush', 'Bush', 'Bush', 'Noriega', 'Bush', 'News', 'Hill', 'Noriega', 'David', 'Boren', 'Boren', 'Sen.', 'William', 'Cohen', 'Boren', 'Intelligence', 'Agency', 'Director', 'William', 'Webster', 'Webster', 'Boren', 'F.', 'Seib', 'Corp.', 'Valley', 'G.m.b', 'AG', 'E.', 'Levin', 'Hall', 'University', 'TUCSON', 'Cos.', 'International', 'Inc.', 'York', 'D.', 'Kahan', 'Benson', 'Government', 'Securities', 'Inc.', 'Hugo', 'K.', 'Evans', 'Economics', 'Inc.', 'Evans', 'J.', 'Campbell', 'Brothers', 'Harriman', 'York', 'Ciminero', 'Financial', 'Group', 'Won', 'Sohn', 'Corp.', 'Lieberman', 'Hanover', 'Securities', 'Corp.', 'York', 'Hugo', 'MANUFACTURING', 'Co.', 'PLC', 'Zealand', 'Securities', 'Ltd.', 'Brierley', 'Equity', 'Brierley', 'Brierley', 'Equity', 'Royce', 'Andersson', 'Andersson', 'Andersson', 'Andersson', 'Andersson', 'Andersson', 'Andersson', 'Andersson', 'Herslow', 'Andersson', 'Andersson', 'Ltd', 'Corp.', 'Corp.', 'Kurtanjek', 'Capel', 'Andersson', 'Andersson', 'Andersson', 'Andersson', 'Computer', 'Inc.', 'Systems', 'Inc', 'Sculley', 'Sculley', 'Sculley', 'Sculley', 'J.', 'Schantz', 'Schrager', 'Schantz', 'Technology', 'Corp', 'L.', 'Holewinski', 'L.', 'Haines', 'A.', 'Kushkin', 'Schulman', 'Trimmer', 'Haines', 'Kushkin', 'Electric', 'Co.', 'Corp.', 'Assessment', 'Development', 'Co.', 'Lauderdale', 'Palm', 'Beach', 'AG', 'America', 'H.', 'Eisenberg', 'Eisenberg', 'Development', 'Corp.', 'Inc.', 'News', 'Network', 'Bince', 'Jr', 'Bince', 'Corazon', 'Aquino', 'Marcos', 'Aquino', 'Garcia', 'Bank', 'Ty', 'Ty', 'Ty', 'Industries', 'Corp.', 'Garcia', 'Garcia', 'M.', 'Sprenger', 'Inc.', 'S.', 'Willmott', 'Services', 'Inc', 'E.', 'Wood', 'A.', 'Durney', 'Wood', 'Rock', 'Resources', 'Inc', 'Financial', 'Corp.', 'Financial', 'Corp.', 'Bancorp', 'Inc.', 'Stock', 'Exchange', 'J.', 'Pascale', 'C.', 'Smith', 'W.', 'Smith', 'Sr.', 'T.', 'Linsley', 'Smith', 'Federal', 'Savings', 'Federal', 'Savings', 'Bank', 'Federal', 'Savings', 'Ortiz', 'Ortiz', 'Ortiz', 'Ortiz', 'Carlos', 'Salinas', 'James', 'States', 'Institute', 'Rico', 'Federal', 'Air', 'Air', 'Air', 'Chairman', 'Stephen', 'Wolf', 'Angeles', 'Davis', 'York', 'Davis', 'Air', 'Air', 'Pope', 'Freres', 'Brothers', 'Inc.', 'Weiss', 'Rifkind', 'Wharton', 'Communications', 'Limited', 'Partnership', 'Familia', 'Familia', 'Holdings', 'Inc.', 'Cards', 'Inc', 'STEEL', 'Corp.', 'Steel', 'Corp', 'Lehman', 'Hutton', 'Inc.', 'Freres', 'Va.', 'Intergroup', 'Inc.', 'Steel', 'Group', 'PLC', 'Group', 'Group', 'Stream', 'Inc.', 'York', 'Boston', 'Corp.', 'Aluminium', 'Ltd.', 'Run', 'National', 'Corp.', 'A.', 'Conway', 'P.', 'Aniskovich', 'Jr.', 'Conway', 'Life', 'Insurance', 'Co.', 'National', 'Life', 'Insurance', 'Co', 'Rossi', 'National', 'Life', 'Insurance', 'Co', 'Conway', 'Central', 'Life', 'Insurance', 'Co.', 'Central', 'National', 'Corp', 'Life', 'J.', 'Terra', 'Illinois', 'Corp.', 'Illinois', 'Terra', 'Terra', 'Life', 'Systems', 'Inc.', 'Paul', 'Cardiovascular', 'Lilly', 'Air', 'York', 'City', 'Interstate', 'Bancorp', 'Angeles', 'Group', 'Australia', 'Jones', 'Lehman', 'Hutton', 'Treasury', 'Jones', 'Corp.', 'A.', 'Eldred', 'Home', 'Products', 'Corp.', 'Home', 'York', 'Home', 'York', 'Stock', 'Exchange', 'Home', 'Petrochemical', 'Co.', 'York', 'Stock', 'Exchange', 'District', 'Court', 'Hershhenson', 'Pagones', 'Vadas', 'Ciporkin', 'Holding', 'Ltd.', 'Corp.', 'Inc.', 'CALIFORNIA', 'Air', 'Force', 'Base', 'Africa', 'Germany', 'Garcia', 'York', 'Corp.', 'Rica', 'Minister', 'Corp.', 'Hayes', 'York', 'Canaan', 'Corp.', 'Credit', 'York', 'Stock', 'Exchange', 'Germany', 'Krenz', 'Krenz', 'Honecker', 'Germany', 'Krenz', 'Germany', 'Krenz', 'Germany', 'Krenz', 'Krenz', 'Honecker', 'Eppelmann', 'Berlin', 'Krenz', 'Germany', 'Honecker', 'Krenz', 'Krenz', 'Ronnie', 'Flippo', 'Krenz', 'Germany', 'Krenz', 'Honecker', 'Donovan', 'Germany', 'Free', 'Europe', 'Krenz', 'Berlin', 'Krenz', 'Honecker', 'Krenz', 'Berlin', 'Germany', 'Berlin', 'Hager', 'Germany', 'Fleischmann', 'Stanley', 'Pons', 'Fleischmann', 'Fleischmann', 'A.', 'Oriani', 'Oriani', 'A&M', 'Oriani', 'Oriani', 'University', 'M.', 'Gur', 'A&M', 'University', 'Bockris', 'Fleischmann', 'National', 'Gottesfeld', 'Alamos', 'National', 'Laboratory', 'Fleischmann', 'Ross', 'Jones', 'Street', 'Journal', 'R.', 'Kann', 'Jones', 'Kong', 'York', 'Jones', 'Inc.', 'Instruments', 'Inc.', 'Junkins', 'Junkins', 'Corp.', 'New', 'Mexico', 'Telephone', 'Co.', 'New', 'Mexico', 'Telephone', 'City', 'Bunker', 'Hunt', 'Hunt', 'Edgar', 'Pixley', 'Ltd.', 'Hunt', 'Eastern', 'Edgar', 'R.', 'Demler', 'Burnham', 'Lambert', 'Inc', 'Demler', 'Demler', 'Butler', 'Montagu', 'Lehman', 'Hutton', 'Inc.', 'York', \"O'Connell\", 'Lehman', 'Hutton', \"O'Connell\", 'Seiler', 'Bank', 'Texas', 'Intermediate', 'Columbia', 'Hanauer', 'Wolff', 'Savaiko', 'Inc.', 'Savaiko', 'Co.', 'Broker', 'Broker', 'Research', 'Inc.', 'Computer', 'Inc.', 'Microsystems', 'Inc.', 'Equipment', 'Corp.', 'Broker', 'Kay', 'Riese', 'Restaurants', 'Hut', 'Rogers', 'Harty', 'Group', 'Inc.', 'Metropolitan', 'PLC', 'Harty', 'Konopnicki', 'Inc.', 'Rohs', 'Schroder', 'Mack', \"D'Agosto\", 'Morrissey', 'Fried', 'Chicken', 'Rohs', 'Rohs', 'Greenberg', 'Greenberg', 'Greenberg', 'Harty', 'York', 'Morrissey', 'Rudnick', 'Riese', 'Restaurants', 'Co.', 'Jackson', 'Jackson', 'October', 'Jackson', 'Smalling', 'Jackson', 'Francisco', 'Day', 'Jackson', 'Vizas', 'Ruth', 'Smalling', 'Machon', 'Park', 'Smalling', 'Jackson', 'Merola', 'Jackson', 'York', 'Jackson', 'Smalling', 'Corp.', 'Steel', 'Ltd.', 'Steel', 'Corp.', 'Corp.', 'Inc.', 'Bradford', 'Lynch', 'Capital', 'Steel', 'Order', 'Order', 'Order', 'Order', 'Bessemer', 'Order', 'Order', 'Order', 'Angrist', 'F.', 'Sharpe', 'Markese', 'Kochis', 'Treasury', 'B.', 'Enright', 'Financial', 'Financial', 'Seidman', 'H.', 'Cammack', 'Armstrong', 'Advisors', 'Inc.', 'Slater', 'B', 'John', 'Kerry', 'Noriega', 'Kerry', 'Oct.', 'Kravis', 'Schwartz', 'York', 'SCHWARTZ', 'Schwartz', 'Schwartz', 'Stapf', 'Stapf', 'Gargan', 'Roper', 'Business', 'Bureaus', 'McGrath', 'Schwartz', 'Gargan', 'Gargan', 'Gargan', 'Gargan', 'Meridian', 'Corp.', 'Meridian', 'Meridian', 'Meridian', 'V.', 'Sala', 'Meridian', 'Manion', 'Sala', 'Meridian', 'Sala', 'York', 'Sala', 'Manion', 'Chandler', 'Peterson', 'Peterson', 'Peterson', 'Peterson', 'Peterson', 'Peterson', 'Peterson', 'Peterson', 'Diebel', 'Diebel', 'Peterson', 'Peterson', 'Peterson', 'Peterson', 'Peterson', 'County', 'Emshwiller', 'Wilshire', 'Island', 'McClelland', 'Beach', 'Vegas', 'Bay', 'Beach', 'McClelland', 'Beach', 'Beach', 'Katz', 'Beach', 'Island', 'McClelland', 'County', 'County', 'Beach', 'Angeles', 'Beach', 'Beach', 'Trust', 'Inc.', 'Angeles', 'Jones', 'O.', 'Kelly', 'Sr.', 'Trust', 'Jones', 'Beach', 'Katz', 'Beach', 'Valentine', 'Federal', 'Prison', 'Investment', 'Corp.', 'Valentine', 'Angeles', 'Isle', 'Vegas', 'Katz', 'M', 'Ciavarella', 'Management', 'Island', 'Co.', 'Ciavarella', 'Luehrs', 'Lancaster', 'U.', 'Riepe', 'Rowe', 'Price', 'Ruffel', 'U', 'Rowe', 'Price', 'Financial', 'Rowe', 'Price', 'Hauptman', 'Hauptman', 'Anderson', 'Financing', 'Alternatives', 'University', 'Anderson', 'Anderson', 'Anderson', 'Anderson', 'Putka', 'Dame', 'Inc', 'County', 'D.', 'Tharp', 'Tharp', 'James', 'Baker', 'Baker', 'Tharp', 'Tharp', 'Tharp', 'Franciscans', 'Security', 'V.', 'Washburn', 'Washburn', 'Hill', 'Corp.', 'P.', 'Keenan', 'Lackey', 'Lackey', 'York', 'York', 'G.', 'Hicks', 'Hicks', 'Schmedel', 'R.', 'Barnett', 'Neal', 'Lauderdale', 'Blodgett', 'Harper', 'McMahon', 'Cunningham', 'Barasch', 'Worth', 'Oil', 'Haven', 'Smith', 'Oil', 'Co.', 'Adamski', 'Cunningham', 'Blodgett', 'Blodgett', 'Andreassen', 'Wenz', 'Wenz', 'Watson', 'Lynes', 'Corp.', 'Co.', 'Springs', 'James', 'Trinen', 'Bowers', 'Angeles', 'Elvekrog', 'Inc.', 'Jellison', 'California', 'Angeles', 'Cortese', 'Cortese', 'Cortese', 'Cortese', 'Brannigan', 'Life', 'Insurance', 'Co.', 'Capital', 'Corp.', 'Pfiefer', 'Perrin', 'Co.', 'Dominici', 'Daily', 'Life', 'Insurance', 'Co.', 'National', 'Life', 'Insurance', 'Co.', 'Travelers', 'Life', 'Insurance', 'Co.', 'Life', 'Insurance', 'Corp.', 'Life', 'Assurance', 'Society', 'Group', 'Inc.', 'Cawthorn', 'Cawthorn', 'Cawthorn', 'PLC', 'Medical', 'Industries', 'Inc.', 'Louis', 'Cawthorn', 'Cawthorn', 'AG', 'Europe', 'Corp.', 'Federal', 'Savings', 'Bank', 'Supervision', 'York', 'Stock', 'Exchange', 'Express', 'Friday', 'Corp.', 'Medical', 'International', 'VandenBerg', 'Lehman', 'Hutton', 'Lew', 'Benson', 'North', 'America', 'Selkin', 'Securities', 'Selkin', 'Morris', 'Board', 'Co.', 'Telephone', 'Medical', 'Acquisition', 'Boston', 'Bank', 'Boston', 'Warner', 'Communications', 'World', 'Line', 'Pacific', 'Robert', 'M.', 'Gintel', 'Nugget', 'Business', 'Computer', 'Equipment', 'Research', 'General', 'Technologies', 'Lehman', 'Hutton', 'International', 'International', 'Group', 'Re', 'Galoob', 'Cities-ABC', 'Peabody', 'Lynch', 'West', 'Capital', 'Development', 'Class', 'B', 'Cos.', 'Industries', 'Inc.', 'Orleans', 'J.', 'Pinola', 'Pinola', 'Mutual', 'Life', 'Insurance', 'Co', 'Bush', 'Bush', 'Majority', 'Leader', 'George', 'Mitchell', 'Mitchell', 'Speaker', 'Thomas', 'Foley', 'Bush', 'J.', 'Warshaw', 'Warshaw', 'Warshaw', 'Insurance', 'M.A.', 'Hirschfeld', 'Health', 'Co.', 'Warshaw', \"D'Arcy\", \"D'Arcy\", 'Day', 'Christmas', 'Day', 'Bard', 'Mitchell', 'Travel', 'Service', 'Thomas', 'Donahue', 'Crosby', 'Business', \"O'Donnell\", 'York', 'City', 'World', 'Hugo', 'Airlines', 'Inc.', 'Airlines', 'Corp.', 'Islands', 'Aid', 'California', 'Beach', 'Hoffman', 'Cross', 'Security', 'J.', 'Dennis', 'Hastert', 'Purnick', 'Avenue', 'Rosen', 'Purnick', 'Rosen', 'Korea', 'Kong', 'Furs', 'Purnick', 'Purnick', 'Rosen', 'Germany', 'Rosen', 'Schreibman', 'Raphael', 'Furs', 'Inc.', 'Rosen', 'Feldman', 'Furs', 'Inc.', 'Rosen', 'Rosen', 'Inc.', 'Vault', 'Inc.', 'Inc.', 'Schreibman', 'Sanders', 'Field', 'Purnick', 'Rosen', 'Corp.', 'Services', 'Inc.', 'Andrew', 'McBride', 'McBride', 'Frank', 'Provato', 'Mattausch', 'Mattausch', 'Poulin', 'Alto', 'Espectador', 'Espectador', 'Espectador', 'Espectador', 'B.', 'Evans', 'Co', 'Amon', 'Gourlay', 'Amon', 'Gourlay', 'Lawson', 'Lawson', 'Lawson', 'Lawson', 'Lawson', 'Lawson', 'House', 'Leigh-Pemberton', 'Leigh-Pemberton', 'Lawson', 'Olivetti', 'Corp.', 'Co.', 'Meagher', 'Davis', 'Capel', 'Davis', 'USA', 'Inc.', 'S.A', 'Security', 'Services', 'Security', 'Security', 'Income', 'E.', 'Fuller', 'Park', 'International', 'Inc.', 'Bard', 'Inc.', 'Sidoti', 'Burnham', 'Lambert', 'Inc', 'Medical', 'Angeles', 'Inc.', 'Richter', 'Witter', 'Reynolds', 'Hugo', 'Carolina', 'Carolina', 'Equipment', 'Corp.', 'Street', 'Business', 'Machines', 'Corp', 'Steinkrauss', 'Milunovich', 'Boston', 'Milunovich', 'Stevens', 'Witter', 'Reynolds', 'Stevens', 'Schulman', 'Securities', 'York', 'Schulman', 'Schulman', 'R.', 'Wilke', 'Palmolive', 'Co.', 'Mark', 'America', 'Mark', 'Mark', 'Corp.', 'Limited', 'Partnership', 'Co.', 'Telephone', 'Grubman', 'Inc', 'D.', 'Gross', 'Gross', 'Capital', 'Management', 'Inc.', 'Capital', 'Capital', 'M.', 'Lynn', 'Core', 'Investors', 'Inc.', 'James', 'Kartalia', 'Investment', 'Management', 'Co.', 'Core', 'Capital', 'Carder', 'Capital', 'Carder', 'Carder', 'Thomas', 'Allen', 'Zumbrunn', 'Insurance', 'Co.', 'Salerno', 'Trust', 'Corp.', 'Africa', 'State', 'Employees', 'Retirement', 'System', 'Corp.', 'Corp.', 'Corp.', 'Waste', 'Management', 'Squibb', 'Co.', 'Corp.', 'Co.', 'Business', 'Machines', 'Corp.', 'Corp.', 'Fund', 'Inc.', 'PipeLines', 'Ltd.', 'Air', 'Corp.', 'Pharmaceutical', 'Co.', 'Industries', 'PLC', 'James', 'Goldsmith', 'Iberian', 'Fund', 'Holdings', 'International', 'Ltd.', 'Noriega', 'Noriega', 'Noriega', 'Noriega', 'Noriega', 'Rica', 'J.', 'McNeil', 'Noriega', 'Noriega', 'Noriega', 'Noriega', 'John', 'Kerry', 'Van', 'Chan', 'Chan', 'Chan', 'Chan', 'Chan', 'Chan', 'Chan', 'Chan', 'Assembly', 'Chan', 'Chan', 'Chan', 'Chan', 'Ngoc', 'Nghe', 'Ngoc', 'Ngoc', 'Hoa', 'Huy', 'Thiep', 'Nghe', 'Nguyen', 'Ngoc', 'Ngoc', 'Nghe', 'Duy', 'Thi', 'Thi', 'Thi', 'City', 'Food', 'Co.', 'Van', 'Linh', 'Chi', 'Minh', 'City', 'Linh', 'Thi', 'Mrs.', 'Thi', 'City', 'Food', 'City', 'Food', 'Thi', 'Petro', 'Thi', 'City', 'Food', 'Grossman', 'View', 'Federal', 'Savings', 'View', 'Federal', 'View', 'Capital', 'Corp', 'Hugo', 'V.', 'Reese', 'Sr', 'Banana', 'Co', 'Digital', 'Corp.', 'Roger', 'W.', 'Johnson', 'Digital', 'Johnson', 'Digital', 'Rico', 'Hugo', 'Johnson', 'Johnson', 'Johnson', 'Digital', 'Digital', 'Johnson', 'Digital', 'Johnson', 'Digital', 'Johnson', 'Digital', 'Digital', 'Digital', 'Johnson', 'Digital', 'Digital', 'Express', 'Co.', 'World', 'Express', 'Express', 'Information', 'Services', 'Co', 'Express', 'Financial', 'Express', 'Bank', 'Express', 'Information', 'Lehman', 'Hutton', 'Holdings', 'Inc.', 'Express', 'Express', 'Inc.', 'PLC', 'Trade', 'Commission', 'S.A.', 'Herbert', 'Hunt', 'Bunker', 'Hunt', 'Bunker', 'Hunt', 'Justice', 'Department', 'Hanover', 'Trust', 'Co.', 'Hanover', 'Hanover', 'Abramson', 'Hanover', 'Abramson', 'Ray', 'Hanover', 'Department', 'Inc.', 'Corp.', 'Corp.', 'Dreyer', 'Dreyer', 'Bumiputra', 'Malaysia', 'Bhd.', 'Basir', 'Ismail', 'Bumiputra', 'Sri', 'Basir', 'Bumiputra', 'Malaysia', 'Finance', 'Ltd.', 'Kong', 'Bumiputra', 'Nasional', 'Bhd.', 'Sri', 'Basir', 'Sri', 'Basir', 'Bumiputra', 'Sri', 'Basir', 'Lumpur', 'Sri', 'Basir', 'Ehman', 'Reagan', 'Ehman', 'County', 'Florio', 'Courter', 'Jersey', 'Bowker', 'Jersey', 'Hill', 'Day', 'Ehman', 'Jersey', 'Bush', 'Dukakis', 'University', 'Florio', 'Courter', 'Jersey', 'Florio', 'Florio', 'Courter', 'North', 'Stanwick', 'Courter', 'Florio', 'Traynor', 'Jersey', 'Right', 'Courter', 'Reagan', 'Kemp', 'Courter', 'Kean', 'Courter', 'Kean', 'Jersey', 'Courter', 'Courter', 'Kean', 'Courter', 'Courter', 'Park', 'Florio', 'Kean', 'Jersey', 'Florio', 'Florio', 'Courter', 'Florio', 'State', 'College', 'Florio', 'Pignatelli', 'Florio', 'Pignatelli', 'Wames', 'Sr.', 'Florio', 'Popkin', 'Woodworth', 'Trust', 'Co.', 'York', 'Yardeni', 'Securities', 'Inc.', 'York', 'Yardeni', 'Masius', 'Benton', 'Dillmann', 'Dillmann', 'Mexico', 'Shannon', 'Associates', 'Inc.', 'Carnival', 'River', 'Borgeson', 'Fire', 'William', 'Berry', 'Park', 'City', 'Highway', 'Series', 'Giamatti', 'Corp.', 'Manhattan', 'Corp.', 'Street', 'Trust', 'New', 'York', 'Corp.', 'Angeles', 'Nathan', 'Brothers', 'Inc.', 'Batchelder', 'Jolla', 'Angeles', 'Batchelder', 'Checchi', 'Batchelder', 'Batchelder', 'Davis', 'Manhattan', 'Solow', 'Hanover', 'Trust', 'Co.', 'Hanover', 'B.', 'Lee', 'Banking', 'Corp.', 'Medical', 'International', 'Inc.', 'Fleischer', 'Jr.', 'Frank', 'Harris', 'Shriver', 'Communications', 'Inc.', 'Inc.', 'Chairman', 'Martin', 'Davis', 'Davis', 'Communications', 'Inc', 'Secretary', 'Samuel', 'Skinner', 'Mizuno', 'Affairs', 'Inc.', 'Inc.', 'Glazer', 'Steel', 'Industries', 'Inc.', 'Bradford', 'Lynch', 'Capital', 'Bradford', 'Chairman', 'Frank', 'W.', 'Luerssen', 'Friday', 'Friday', 'Peake', 'A.', 'Wyss', 'Inc', 'Wyss', 'Wyss', 'Wyss', 'Arbel', 'University', 'L.', 'Beach', 'Neuhaus', 'Beach', 'Confair', 'Financial', 'Inc.', 'Confair', 'Confair', 'Chairman', 'Alan', 'Greenspan', 'Katz', 'Matrix', 'Management', 'Inc.', 'York', 'Katz', 'Katz', 'Davis', 'Davis', 'Research', 'Inc.', 'Katz', 'Arbel', 'Arbel', 'Arbel', 'Putnam', 'III', 'Letter', 'Dorfman', 'Securities', 'Inc.', 'International', 'Corp', 'Burnham', 'Lambert', 'Inc.', 'Brothers', 'Inc.', 'Union', 'Co.', 'Clemensen', 'Baldwin', 'Capital', 'Management', 'Baldwin', 'Lufkin', 'Corp.', 'Lufkin', 'Lufkin', 'Lufkin', 'Capital', 'Holdings', 'Corp.', 'Gas', 'Service', 'Limited', 'Partnership', 'Treasury', 'Chandross', 'Bank', 'PLC', 'Capital', 'Holdings', 'Corp.', 'Gas', 'Service', 'Limited', 'Partnership', 'Gas', 'Service', 'Jersey', 'Turnpike', 'Authority', 'Katz', 'Government', 'National', 'Mortgage', 'Association', 'Mae', 'Mae', 'Home', 'Loan', 'Mortgage', 'Corp.', 'Mac', 'Lawson', 'Germany', 'Train', 'Express', 'Business', 'Bureaus', 'Ormstedt', 'Veterans', 'Ormstedt', 'Marketing', 'Inc.', 'Burns', 'Webster', 'Webster', 'McDonald', 'Johnson', 'Corp.', 'Air', 'York', 'Air', 'Air', 'Chairman', 'Stephen', 'M.', 'Wolf', 'Air', 'Air', 'Air', 'King', 'Air', 'Air', 'Stevens', 'Air', 'Jones', 'Professional', 'Investor', 'Report', 'Stevens', 'Air', 'Air', 'Royal', 'Air', 'Freres', 'Dubinsky', 'Manhattan', 'Corp.', 'Bush', 'Majority', 'Leader', 'George', 'Mitchell', 'Mitchell', 'Bush', 'Bob', 'Packwood', 'Mitchell', 'Mitchell', 'Mitchell', 'Bush', 'Packwood', 'David', 'Boren', 'William', 'Roth', 'Coal', 'Co.', 'Hutchinson', 'Hutchinson', 'News', 'Hutchinson', 'Hutchinson', 'Hutchinson', 'Hutchinson', 'Manhattan', 'Corp.', 'Senior', 'Vice', 'President', 'George', 'Scandalios', 'Brothers', 'Inc.', 'McKinnon', 'Inc.', 'York', 'STREET', 'Orwell', 'Street', 'York', 'Stock', 'Exchange', 'Chairman', 'John', 'Phelan', 'Lynch', 'Lehman', 'Hutton', 'Inc.', 'Burnham', 'Lambert', 'Inc.', 'Bache', 'Witter', 'Reynolds', 'Inc.', 'Inc.', 'Witter', 'Street', 'Telephone', 'Biehl', 'Mateo', 'Biehl', 'Bettner', 'A.', 'Wiegers', 'Co.', 'E.', 'Buffett', 'Hathaway', 'Inc.', 'Hathaway', 'Buffett', 'Yetnikoff', 'Corp.', 'Guber', 'York', 'Guber', 'Peters', 'Peters', 'Entertainment', 'Co.', 'Bros.', 'Guber', 'Communications', 'Inc.', 'Inc.', 'Angeles', 'Superior', 'Court', 'Peters', 'War', 'III', 'Guber', 'York', 'Peters', 'Streisand', 'II', 'Disney', 'Co.', 'Studios', 'Guber', 'Peters', 'Guber', 'Peters', 'Guber', 'Peters', 'De', 'Palma', 'Peters', 'Wolfe', 'De', 'Palma', 'Guber', 'Peters', 'II', 'Peters', 'Guber', 'Bookman', 'Artists', 'Agency', 'Johnson', 'Peters', 'Streisand', 'Peters', 'Guber', 'Guber', 'Peters', 'Don', 'Simpson', 'Guber', 'Simpson', 'Birnbaum', 'Peters', 'Peters', 'Guber', 'Peters', 'Birnbaum', 'Peters', 'Birnbaum', 'Corp.', 'Peters', 'Birnbaum', 'Guber', 'Peters', 'Fossey', 'Studios', 'Peters', 'Peters', 'Redford', 'Turner', 'Mendes', 'Guber', 'Guber', 'Peters', 'Guber', 'Peters', 'Tisch', 'Guber', 'Guber', 'York', 'University', 'Express', 'Guber', 'Peters', 'Bogart', 'Peters', 'Jean', 'Guber', 'Guber', 'Peters', 'Guber', 'Peters', 'Guber', 'Guber', 'Peters', 'Entertainment', 'Industries', 'Inc.', 'Chairman', 'Burt', 'Sugarman', 'Guber', 'Guber', 'Peters', 'Bros', 'Terry', 'Semel', 'Guber', 'Peters', 'Sugarman', 'May', 'Peters', 'Entertainment', 'Co', 'Guber', 'Peters', 'Peters', 'Peters', 'Guber', 'Peters', 'Ross', 'Bros.', 'Chairman', 'Robert', 'Daly', 'Semel', 'Daly', 'Daly', 'Peters', 'Daly', 'Guber', 'Peters', 'Ross', 'Guber', 'Peters', 'Guber', 'Peters', 'Treasury', 'Carney', 'Street', 'World', 'Grant', 'Data', 'Co', 'Addiss', 'Lehman', 'Hutton', 'Inc', 'Street', 'J.', 'Goldberg', 'Lynch', 'Capital', 'Grant', 'Powers', 'Manhattan', 'Bank', 'York', 'Powers', 'S.', 'Paris', 'N.A.', 'World', 'Corcoran', 'Futures', 'Inc.', 'Corcoran', 'F.', 'DeVoe', 'Jr.', 'Mason', 'Wood', 'Walker', 'Inc.', 'Herman', 'Data', 'Co', 'Street', 'Journal', 'Dorfman', 'Canada', 'Care', 'Property', 'Investors', 'Inc.', 'Health', 'Care', 'Affiliates', 'Inc.', 'Care', 'Property', 'National', 'Corp.', 'National', 'D.', 'Matchett', 'Security', 'Inc.', 'Spring', 'Van', 'Cleave', 'Security', 'Affairs', 'Matchett', 'North', 'Mark', 'Goode', 'Inc.', 'Gorbachev', 'Gorbachev', 'Goode', 'BioSciences', 'Inc.', 'Ltd.', 'Corp', 'Merieux', 'S.A.', 'Keffer', 'Martin', 'National', 'Mullins', 'Witter', 'Reynolds', 'Mullins', 'Sherlund', 'Development', 'Systems', 'National', 'National', 'National', 'Computer', 'James', 'Petersburg', 'Jones', 'Professional', 'Investor', 'Report', 'Green', 'Rock', 'Green', 'Park', 'York', 'Stadium', 'Barbara', 'California', 'McLuhan', 'Lehman', 'Hutton', 'Inc.', 'Express', 'Co.', 'Rivkin', 'Rivkin', 'Rivkin', 'B.', 'Lubar', 'L.', 'Murray', 'Foods', 'Corp.', 'W.', 'Kasten', 'R.', 'Parker', 'Daily', 'Daily', 'Reagan', 'Hill', 'Groom', 'Juliano', 'Thomas', 'Downey', 'William', 'Gray', 'Bentsen', 'Rostenkowski', 'Huard', 'Bush', 'Thevenot', 'Bush', 'Juliano', 'Francisco', 'Ignatius', 'High', 'School', 'AG', 'Chandler', 'Parker', 'Springs', 'Parker', 'Springs', 'Ohls', 'Parker', 'Nolan', 'Angeles', 'Magazine', 'Shioya', 'Shioya', 'Shioya', 'Tokyo', 'Corp.', 'Tokyo', 'Veronis', 'Suhler', 'Corp.', 'Pictures', 'Entertainment', 'Inc.', 'Veronis', 'Business', 'Home', 'House', 'Tokyo', 'Tokyo', 'Ohara', 'Keizai', 'Shinbun', 'America', 'Inc.', 'Kenney', 'Boston', 'Corp.', 'Atlantic', 'Corp.', 'New', 'England', 'Corp.', 'Telesis', 'Group', 'S', 'West', 'Inc.', 'S', 'West', 'U', 'S', 'West', 'S', 'West', 'MacAllister', 'S', 'West', 'York', 'Stock', 'Exchange', 'Atlantic', 'Stock', 'Ownership', 'Atlantic', 'C.', 'Ferguson', 'York', 'Telephone', 'Ferguson', 'York', 'City', 'Board', 'New', 'England', 'H.', 'Monteith', 'Jr.', 'Ginn', 'Telesis', 'Board', 'Telesis', 'S', 'West', 'Corp.', 'Street', 'York', 'Stock', 'Exchange', 'Petrofina', 'Inc.', 'Richard', 'M.', 'Morrow', 'Inc.', 'F.', 'Gero', 'Inc.', 'J.', 'Hatchett', 'III', 'Corp.', 'Abramson', 'Inc.', 'Horizons', 'Steidtmann', 'Teller', 'Industries', 'PLC', 'Field', 'Inc.', 'Department', 'Stores', 'Co.', 'Department', 'Stores', 'Inc.', 'Turk', 'Steidtmann', 'Steidtmann', 'Strum', 'Express', 'Strum', 'Express', 'mart', 'Corp.', 'Chairman', 'Joseph', 'E.', 'Antonini', 'M.', 'Hawley', 'Hawley', 'Hale', 'Stores', 'Inc.', 'Corp.', 'Chairman', 'Harold', 'E.', 'Sells', 'Sells', 'J.', 'Shapiro', 'Duarte', 'Cela', 'Duarte', 'Cela', 'Rosa', 'Cohen', 'Press', 'Elvira', 'Oil', 'Inc.', 'Iranian', 'Oil', 'Co.', 'Bush', 'Bush', 'Manuel', 'Noriega', 'America', 'America', 'Volio', 'Noriega', 'Noriega', 'Bush', 'Rica', 'Rican', 'President', 'Oscar', 'Arias', 'Ortega', 'Arias', 'Arias', 'Ortega', 'Bush', 'Arias', 'Christopher', 'Dodd', 'America', 'Dodd', 'President', 'Alfredo', 'Cristiani', 'Cristiani', 'Dodd', 'America', 'Baker', 'Foreign', 'Minister', 'Eduard', 'Shevardnadze', 'Shevardnadze', 'America', 'Shevardnadze', 'Baker', 'America', 'Hill', 'Salvador', 'Cristiani', 'America', 'Costa', 'Rica', 'Costa', 'Rica', 'Costa', 'Rica', 'America', 'Rica', 'Arias', 'Daremblum', 'Nacion', 'Corp.', 'PLC', 'Vegas', 'City', 'Brothers', 'Inc.', 'Communications', 'Inc.', 'Inc.', 'Corp.', 'Advertiser', 'Trek', 'Schwab', 'York', 'Inc.', 'Kellner', 'Broadcasting', 'Angeles', 'Francisco', 'Conway', 'Conway', 'Fisher', 'Popular', 'Corp.', 'Juan', 'Corp', 'Popular', 'Carrion', 'Jr.', 'Popular', 'M.', 'Paracchini', 'Popular', 'Popular', 'Popular', 'Thompson', 'BankWatch', 'Inc.', 'York', 'Popular', 'Rico', 'Thompson', 'Carrion', 'Popular', 'Carrion', 'Rico', 'Carrion', 'Inc.', 'America', 'Inc.', 'International', 'AB', 'International', 'Industries', 'PLC', 'James', 'Goldsmith', 'Field', 'Fifth', 'Avenue', 'Field', 'Patrick', 'Sheehy', 'James', 'Inc.', 'G.', 'Hassenfeld', 'Breakers', 'Patch', 'Kids', 'Industries', 'Inc.', 'International', 'Ltd.', 'Fireman', 'Group', 'Inc.', 'Bowes', 'Inc.', 'Bowes', 'Group', 'Bowes', 'Group', 'Corp', 'Group', 'Bowes', 'California', 'George', 'Deukmejian', 'Katz', 'Bachtold', 'Francisco', 'Corp.', 'Barbara', 'Corp.', 'Corp.', 'Corp.', 'Germany', 'Europe', 'Germany', 'Germany', 'Minister', 'Hans-Dietrich', 'Genscher', 'Security', 'Genscher', 'Genscher', 'A.', 'Mosbacher', 'Mosbacher', 'Bush', 'Helmut', 'Kohl', 'Germany', 'Bank', 'AG', 'Bank', 'Inc.', 'W.', 'Amerman', 'Wheels', 'Merry', 'Muffin', 'Tots', 'Segundo', 'Bush', 'Friday', 'Bush', 'Smith', 'Bush', 'Sununu', 'Bush', 'Rep.', 'Nancy', 'Johnson', 'Bush', 'Orrin', 'Hatch', 'Johnson', 'Jersey', 'Mahe', 'Coleman', 'Dalton', 'Mahe', 'St.', 'Martin', 'Bush', 'Dukakis', 'Butler', 'Lee', 'Secretary', 'Louis', 'Sullivan', 'Sullivan', 'Pacific', 'Corp', 'Pacific', 'Pacific', 'Realty', 'Transportation', 'Pacific', 'Title', 'Insurance', 'Co.', 'Title', 'Insurance', 'Co.', 'Title', 'Insurance', 'Co.', 'Title', 'Guaranty', 'Co.', 'Stewart', 'Information', 'Services', 'Corp', 'Union', 'Title', 'Insurance', 'Co', 'Jersey', 'Christie', 'RESOURCES', 'INC.', 'Seidman', 'Seidman', 'Seidman', 'Methodist', 'University', 'Business', 'School', 'Seidman', 'Jones', 'Capital', 'Markets', 'Report', 'Corp.', 'Lynch', 'Capital', 'Public', 'School', 'Authority', 'Johns', 'River', 'Water', 'Management', 'District', 'Home', 'Loan', 'Mortgage', 'Corp.', 'Brothers', 'Inc', 'Mac', 'Mac', 'Remic', 'Mac', 'Mac', 'Investment', 'Bank', 'International', 'Finance', 'Paribas', 'Capital', 'Generale', 'Australia', 'Ltd', 'Banking', 'Corp', 'Generale', 'Trust', 'Bank', 'Landesbank', 'Girozentrale', 'Bank', 'Airlines', 'System', 'Bank', 'Home', 'Loan', 'Mortgage', 'Corp.', 'Mac', 'Dyson', 'Goodfellow', 'Goodfellow', 'Technology', 'Data', 'Corp.', 'Semmel', 'Data', 'Tarter', 'Jones', 'Newswire', 'Goodwin', 'Bank', 'Inc.', 'University', 'Amram', 'Hill', 'Press', 'International', 'Corp.', 'Amram', 'Inc.', 'Business', 'Blue', 'Amram', 'Inc.', 'Information', 'Corp.', 'Golomb', 'Golomb', 'Digate', 'Digate', 'Lens', 'Institute', 'Digate', 'Tarter', 'Witter', 'Reynolds', 'Inc.', 'Witter', 'Kelly', 'Kelly', 'L.', 'Liddle', 'Kelly', 'Witter', 'Kelly', 'Witter', 'Bachman', 'Witter', 'Bachman', 'Witter', 'DEPARTMENT', 'STORES', 'Inc.', 'Brands', 'Inc.', 'Life', 'Brands', 'FE', 'PACIFIC', 'PIPELINE', 'PARTNERS', 'Limited', 'Partnership', 'Angeles', 'Chairman', 'Breeden', 'Wednesday', 'Secretary', 'Brady', 'Jibril', 'Foley', 'GOP', 'GOP', 'Sullivan', 'Germany', 'GOP', 'Chairman', 'Clarence', 'Thomas', 'Breger', 'Garcia', 'Burns', 'SHIPPING', 'Inc.', 'York', 'Isler', 'Conner', 'Isler', 'Sailing', 'International', 'Turner', 'Broadcasting', 'G.', 'Diamandis', 'B.', 'Vittoria', 'Inc', 'Isler', 'Fay', 'Diego', 'Conner', 'Smith', 'Dennis', 'Conner', 'Smith', 'Isler', 'Conner', 'Isler', 'Smith', 'County', 'Daugherty', 'Hoelzer', 'Hoelzer', 'Hoelzer', 'Hoelzer', 'Louis', 'L.', 'Stanton', 'Hoelzer', 'Hoelzer', 'E.', 'Sommer', 'Lekberg', 'Grain', 'Telephone', 'Africa', 'Africa', 'New', 'Guinea', 'Valley', 'Columbia', 'Valley', 'Texas', 'Intermediate', 'Belli', 'Belli', 'Drivon', 'Francisco', 'Francisco', 'Chesley', 'Chesley', 'Belli', 'Belli', 'Park', 'J.', 'Ruvolo', 'Francisco', 'Ruvolo', 'Ruvolo', 'Ruvolo', 'Ruvolo', 'Covert', 'Covert', 'Covert', 'Belli', 'Belli', 'Drivon', 'Ross', 'Bullock', 'Bullock', 'C.', 'Burton', 'University', 'Burton', 'Michael', 'Cook', 'Cook', 'Peat', 'Marwick', 'York', 'Amhowitz', 'UK', 'Bennett', 'Bennett', 'Bennett', 'Bennett', 'Gov.', 'William', 'Schaefer', 'Mayor', 'Marion', 'Barry', 'Bennett', 'Thompson', 'Bennett', 'Thompson', 'Bennett', 'Hugo', 'Coast', 'Masaki-Schatz', 'Richfield', 'Co.', 'Angeles', 'Masaki-Schatz', 'Co.', 'Tharp', 'Tharp', 'Western', 'Bank', 'Western', 'Financial', 'Corp.', 'G.', 'Lee', 'Lee', 'Petroleum', 'Corp.', 'Disney', 'Co.', 'Chemical', 'Co.', 'Charles', 'L.', 'Fogg', 'Hugo', 'Jerry', 'Fogg', 'Francisco', 'Orleans', 'Gaubert', 'Gaubert', 'American', 'Gaubert', 'American', 'American', 'Gaubert', 'Gaubert', 'District', 'Judge', 'Robert', 'Maloney', 'Maloney', 'Gaubert', 'Gaubert', 'American', 'Gaubert', 'David', 'Lowell', 'Lowell', 'Trees', 'Levine', 'York', 'Levine', 'Levine', 'Levine', 'Moss', 'Moss', 'Levine', 'H.', 'Aloe', 'Levine', 'Levine', 'Aloe', 'U.S.', 'Attorney', 'Terry', 'Hart', 'Arlen', 'Specter', 'Specter', 'Specter', 'W.', 'Morris', 'B.', 'Morris', 'M.', 'White', 'Adams', 'Webster', 'G.', 'Epps', 'H.', 'OBrion', 'J.', 'Roger', 'Jr.', 'C.', 'Dodd', 'York', 'Times', 'Co.', 'York', 'Times', 'Jones', 'Morton', 'S.', 'Reidy', 'Burnham', 'Lambert', 'Inc.', 'Ochs', 'Sulzberger', 'York', 'Times', 'Co.', 'Sulzberger', 'Appert', 'Lawrence', 'Burnham', 'Monday', 'Medical', 'International', 'Inc', 'L.', 'Keith', 'Jr.', 'Insurance', 'Co.', 'Keith', 'Street', 'R.', 'Mateyo', 'Capital', 'Management', 'Co.', 'York', 'Stevenson', 'Roosevelt', 'Zupan', 'California', 'War', 'II', 'Bush', 'Services', 'Bush', 'Bush', 'Bush', 'Speaker', 'James', 'Wright', 'Department', 'Hampshire', 'Commerce', 'Committee', 'Chairman', 'Ernest', 'Hollings', 'Warren', 'Rudman', 'Rudman', 'Savings', 'Lynch', 'Capital', 'Securities', 'Francisco', 'Democrat', 'David', 'Pryor', 'Pryor', 'Senator', 'Dan', 'Coats', 'Kennedy', 'Reagan', 'Coats', 'Coats', 'Bush', 'Pryor', 'Speaker', 'Thomas', 'Foley', 'Technology', 'Waite', 'Francisco', 'Clara', 'Cruz', 'Angeles', 'Fargo', 'Monte', 'Francisco', 'Cruz', 'County', 'Clara', 'County', 'Gatos', 'Francisco', 'Mayor', 'Art', 'Agnos', 'Street', 'Vic', 'Fazio', 'Hugo', 'Fazio', 'House', 'Hugo', 'Fitzwater', 'Gate', 'Park', 'Francisco', 'International', 'Airport', 'Agnos', 'Agnos', 'Hugo', 'Carolina', 'Fazio', 'Francisco', 'Gray', 'Francisco', 'Lang', 'York', 'F.', 'Seib', 'Davidson', 'Penh', 'Sann', 'Sihanouk', 'America', 'Tse-tung', 'Sen', 'Pot', 'Rouge', 'Baker', 'Penh', 'Sihanouk', 'Sihanouk', 'F.', 'Harris', 'America', 'Harris', 'York', 'America', 'V.', 'Allen', 'America', 'Data', 'Products', 'Inc.', 'Data', 'Data', 'L.', 'Marinaro', 'Data', 'Marinaro', 'Marinaro', 'Corp.', 'Mesa', 'Gas', 'Systems', 'Inc.', 'Co.', 'Star', 'Heileman', 'Brewing', 'Co.', 'Corp', 'Star', 'Chronicle', 'Star', 'Klineberg', 'University', 'J.', 'Lipton', 'Co.', 'Unilever', 'Group', 'Group', 'York', 'Richards', 'Group', 'Inc.', 'Gibraltar', 'Bank', 'F.S.B.', 'Gibraltar', 'York', 'Texas', 'National', 'Bank', 'Corp.', 'Inc.', 'Island', 'Penney', 'Co.', 'York', 'Houston', 'Kroll', 'Biscuits', 'Inc.', 'York', 'Femina', 'McNamee', 'WCRS', 'York', 'POLICY', 'Clapp', 'Co.', 'Coke', 'Computer', 'Corp.', 'Dell', 'Dell', 'Dell', 'Corp.', 'Poyner', 'Dell', 'Computer', 'Corp.', 'Business', 'Machines', 'Corp.', 'James', 'Weil', 'Holdings', 'PLC', 'Life', 'Assurance', 'Society', 'PLC', 'Life', 'Life', 'Life', 'Life', 'Petroleum', 'Services', 'Inc.', 'Mexico', 'Ltd.', 'York', 'ENGLAND', 'CRITICAL', 'CARE', 'Inc.', 'Stanley', 'Capital', 'Funding', 'T.', 'Rosen', 'Estate', 'Rosen', 'Francisco', 'Rosen', 'Perkins', 'Rosen', 'H.', 'Renzas', 'Management', 'Services', 'Inc.', 'Renzas', 'Management', 'Management', 'Renzas', 'Health', 'Health', 'Health', 'Rey', 'S.A.', 'Rey', 'Rey', 'Rey', 'Grace', 'York', 'Equipment', 'Co.', 'Energy', 'Corp.', 'Energy', 'American', 'Corp.', 'Africa', 'Ltd.', 'Industries', 'Ltd.', 'Forest', 'Products', 'Ltd.', 'Columbia', 'Doman', 'Forest', 'Products', 'Ltd.', 'Forest', 'Forest', 'Challenge', 'Canada', 'Ltd', 'Forest', 'Forest', 'Forest', 'Forest', 'Challenge', 'Canada', 'Columbia', 'Corp.', 'Kansas', 'Federal', 'Savings', 'Federal', 'Savings', 'Savings', 'Association', 'Paso', 'Bank', 'Capital', 'Corp.', 'Vegas', 'Bank', 'PLC', 'Commerciale', 'Commerciale', 'Commerciale', 'Commerciale', 'Commerciale', 'Commerciale', 'Business', 'Machines', 'Corp.', 'Inc.', 'Electronic', 'Corp.', 'Pioneer', 'N.', 'Fiedler', 'York', 'Street', 'Murai', 'Securities', 'Mitsuoka', 'Investment', 'Trust', 'York', 'Mitsuoka', 'Investment', 'Trust', 'Pharmaceutical', 'Pharmaceutical', 'House', 'House', 'Homes', 'House', 'Estate', 'Real', 'Estate', 'Development', 'Steel', 'Steel', 'Steel', 'Rayon', 'Street', 'Universal', 'Insurance', 'Alliance', 'Accident', 'Investment', 'Kong', 'Stanley', 'Capital', 'International', 'Perspective', 'Francisco', 'Agnos', 'President', 'Dan', 'Quayle', 'Quayle', 'Agnos', 'Fitzwater', 'House', 'Agnos', 'Sununu', 'House', 'Francisco', 'Fitzwater', 'Agnos', 'Bush', 'Agnos', 'Bush', 'Semel', 'Semel', 'Semel', 'Mae', 'Mae', 'Home', 'Mortgage', 'Co.', 'Insurance', 'Co.', 'Insurance', 'Mae', 'Mae', 'M.', 'Gintel', 'Gintel', 'Gintel', 'Gintel', 'Gintel', 'Chancery', 'Court', 'Gintel', 'Monday', 'Air', 'Air', 'Equipment', 'Board', 'Atlantic', 'New', 'England', 'Telesis', 'S', 'West', 'James', 'Goldsmith', 'Express', 'World', 'Jones', 'Lehman', 'Hutton', 'Treasury', 'Jones', 'Sciences', 'Corp.', 'Segundo', 'Software', 'Inc.', 'California', 'Jose', 'Cela', 'Duarte', 'Germany', 'Church', 'Berlin', 'Hajak', 'Europe', 'America', 'Arabia', 'Assad', 'Sen.', 'Specter', 'Street', 'Logan', 'Logan', 'Beale', 'York', 'Beale', 'White', 'Interstate', 'York', 'Kong', 'Investors', 'Trust', 'Investors', 'Corp.', 'Vegas', 'Rothman', 'Rothman', 'International', 'Inc.', 'York', 'Stock', 'Exchange', 'Medical', 'International', 'Inc.', 'York', 'Acquisition', 'Corp.', 'Bank', 'Bank', 'Boston', 'Corp.', 'York', 'Stock', 'Exchange', 'Medical', 'Medical', 'Medical', 'Block', 'Block', 'Cremonie', 'Supervisors', 'Inc.', 'Block', 'Cremonie', 'Block', 'Supervisors', 'E.', 'Russell', 'Block', 'Investment', 'Technologies', 'Block', 'Investment', 'Research', 'Sam', 'Block', 'Block', 'Pool', 'Pool', 'Block', 'M.', 'Bloch', 'Bloch', 'Block', 'Industries', 'Inc.', 'MARKET', 'PATOIS', 'York', 'Sullivan', 'Attorney', 'General', 'James', 'Shannon', 'Shannon', 'Service', 'Co.', 'Hampshire', 'Shannon', 'Squibb', 'Co.', 'York', 'Co.', 'Corp.', 'Squibb', 'Corp.', 'York', 'Stock', 'Exchange', 'Squibb', 'Industries', 'Inc.', 'America', 'York', 'Stock', 'Exchange', 'Group', 'Inc.', 'Corp.', 'York', 'Pictures', 'Entertainment', 'Inc.', 'Entertainment', 'Co.', 'Communications', 'Inc.', 'Prebon', 'INTERBANK', 'OFFERED', 'U.S.', 'HOME', 'LOAN', 'MORTGAGE', 'CORP', 'Mac', 'Systems', 'Inc', 'NATIONAL', 'MORTGAGE', 'ASSOCIATION', 'Mae', 'Systems', 'Inc', 'LYNCH', 'READY', 'ASSETS', 'TRUST', 'Ministry', 'Kai-shek', 'Corp.', 'Sutcliffe', 'Sutcliffe', 'Eye', 'Co.', 'Iwai', 'Corp.', 'Iwai', 'Sidorenko', 'Safety', 'Burnham', 'Lambert', 'Group', 'Inc.', 'Dang', 'Burnham', 'Lambert', 'Dang', 'Trade', 'Zealand', 'Corp.', 'Jeep-Eagle', 'Lowe', 'Motor', 'Co.', 'Prizm', 'Corolla', 'DEVELOPMENT', 'Corp.', 'Fidelity', 'Bancorp.', 'Fidelity', 'Fidelity', 'Fidelity', 'Inc.', 'Corp.', 'Corp.', 'Corp.', 'L.', 'Schwartz', 'Schwartz', 'York', 'Stock', 'Exchange', 'Bank', 'Trust', 'Co.', 'International', 'Inc.', 'PENCIL', 'Technology', 'Corp.', 'York', 'Stock', 'Exchange', 'Resources', 'Canada', 'Ltd.', 'Canada', 'Ltd.', 'Canada', 'Resources', 'Ltd.', 'Corp.', 'Eastern', 'Corp.', 'Interstate', 'Transmission', 'Co.', 'Gas', 'Pipeline', 'Co', 'Oil', 'Ltd.', 'Corp.', 'Dutch\\\\/Shell', 'Group', 'Engineering', 'Inc.', 'Industrie', 'Engineering', 'Minerals', 'Co.', 'Corp', 'Equipment', 'International', 'Crane', 'Inc.', 'Electronics', 'N.', 'Wolff', 'York', 'University', 'Avery', 'University', 'Business', 'Cellular', 'Communications', 'Inc.', 'Broadcasting', 'Corp.', 'Corp.', 'O.', 'McCaw', 'Inc.', 'Buck', 'Odeon', 'Corp', 'York', 'Stock', 'Exchange', 'Tremendae', 'B.', 'Helmsley', 'Inc.', 'Hotels', 'Helmsley', 'Helmsley', 'Helmsley', 'York', 'State', 'B.', 'Hall', 'Inc.', 'Manor', 'Africa', 'Africa', 'Verwoerd', 'Jr.', 'Africa', 'Africa', 'Africa', 'Fischer', 'Street', 'Verwoerd', 'Verwoerd', 'F.', 'Verwoerd', 'Africa', 'Bruwer', 'Verwoerd', 'Africa', 'Conradie', 'Sr.', 'Jr', 'Verwoerd', 'Verwoerd', 'Africa', 'J.', 'Canelo', 'Weston', 'Capital', 'Management', 'G.', 'Einhorn', 'Goldman', 'Goldman', 'I.', 'Clough', 'Jr.', 'Lynch', 'Markese', 'Clough', 'Biehl', 'Canelo', 'Stearns', 'Corp.', 'Canelo', 'Canelo', 'Canelo', 'Markese', 'Schlesinger', 'Edwards', 'Schlesinger', 'Corp.', 'Williams', 'Williams', 'A.', 'Oswald', 'W.', \"O'Donnell\", 'R.', 'Eiszner', 'International', 'Inc.', 'G.', 'Schwartz', 'Life', 'Insurance', 'Co.', 'V.', 'Shipley', 'Banking', 'Corp', 'Corp.', 'Trust', 'New', 'York', 'Corp.', 'Morgan', 'Pacific', 'Corp.', 'Fargo', 'K.', 'Crowley', 'Francisco', 'Business', 'Machines', 'Corp.', 'Group', 'Piszczalski', 'Equipment', 'Corp.', 'Co.', 'Group', 'Inc.', 'Group', 'Keller', 'Keller', 'Express', 'Motor', 'Co.', 'Germany', 'Ford', 'II', 'Merkur', 'Corp', 'Germany', 'J.', 'Pacific', 'Ltd.', 'Line', 'Corp.', 'Line', 'Line', 'York', 'Stock', 'Exchange', 'Line', 'Pacific', 'Line', 'Pacific', 'Line', 'Pacific', 'Line', 'Pacific', 'Line', 'Nugget', 'Inc.', 'Nugget', 'Uphoff', 'James', 'York', 'Stock', 'Exchange', 'Nugget', 'Holding', 'Corp.', 'A.', 'Franco', 'Franco', 'Holding', 'Corp.', 'Franco', 'W.', 'Bailey', 'II', 'Holding', 'Franco', 'H.', 'Ruby', 'Holding', 'Holding', 'Ruby', 'Holding', 'Holding', 'Bailey', 'Market', 'Rate', 'Monitor', 'Pencil', 'City', 'U.S.A.', 'D.', 'Little', 'D.', 'Little', 'Ahmanson', 'Western', 'Financial', 'Corp.', 'Ahmanson', 'Savings', 'Western', 'Financial', 'Hills', 'Western', 'Bank', 'Philo', 'Airline', 'Reidy', 'Burnham', 'Lambert', 'Inc', 'International', 'Data', 'Corp.', 'Data', 'Steel', 'Corp.', 'Richard', 'Butler', 'NatWest', 'Investment', 'Management', 'Ltd.', 'NatWest', 'Ltd.', 'Richard', 'Plastow', 'Richard', 'Westminister', 'Bank', 'Investment', 'Bank', 'Ltd', 'Area', 'Daylight', 'Time', 'Rafael', 'Francisco', 'Francisco', 'Bolinas', 'Beach', 'Panisse', 'Corp.', 'Secretary', 'Samuel', 'Skinner', 'Bush', 'Skinner', 'Chao', 'Skinner', 'Skinner', 'James', 'Oberstar', 'Skinner', 'Chairman', 'Glenn', 'Anderson', 'Corp.', 'Street', 'Street', 'Street', 'Accident', 'Royal', 'Alliance', 'Insurance', 'Group', 'Life', 'Securities', 'Westminister', 'James', 'Goldsmith', 'Goldsmith', 'Group', 'Warburg', 'Motor', 'Rayon', 'Natwest', 'Securities', 'Japan', 'Brewery', 'Pharmaceutical', 'Kong', 'Street', 'Stanley', 'Capital', 'International', 'Perspective', 'Regalia', 'Regalia', 'Regalia', 'Lehman', 'Hutton', 'Holdings', 'Inc.', 'Management', 'Co', 'York', 'Stock', 'Exchange', 'Inc.', 'York', 'Corp.', 'Home', 'Products', 'Corp.', 'York', 'Home', 'Home', 'Home', 'Rico', 'Africa', 'York', 'Stock', 'Exchange', 'Home', 'XL', 'Piccolino', 'York', 'Stock', 'Exchange', 'Health', 'Care', 'Board', 'Crossair', 'M.', 'Carroll', 'Carolina', 'C.', 'Barksdale', 'Jr', 'C.', 'Stuart', 'III', 'Spring', 'Inc.', 'Mountain', 'Bankcard', 'National', 'Bank', 'Bank', 'National', 'National', 'Bank', 'System', 'Bank', 'Guzman', 'Cabrera', 'Guzman', 'Cabrera', 'Hernandez', 'Galicia', 'Quina', 'Carlos', 'Salinas', 'Quina', 'Guzman', 'Cabrera', 'Quina', 'Guzman', 'Cabrera', 'Guzman', 'Cabrera', 'Quina', 'Guzman', 'Cabrera', 'Guzman', 'Cabrera', 'Guzman', 'Cabrera', 'Salinas', 'Guzman', 'Cabrera', 'Quina', 'Quina', 'Guzman', 'Cabrera', 'Guzman', 'Cabrera', 'Guzman', 'Cabrera', 'Robles', 'Desc', 'Vega', 'Velasco', 'Castillo', 'Guzman', 'Cabrera', 'Jolla', 'Shaevitz', 'Floss', 'Data', 'Corp', 'Data', 'Fallout', 'Shealy', 'Field', 'Dalton', 'John', 'Keller', 'Line', 'York', 'Co.', 'First', 'City', 'Bancorp.', 'York', 'Corp.', 'City', 'City', 'York', 'York', 'City', 'E.', 'Day', 'City', 'City', 'Erensel', 'Corp.', 'Stevens', 'Air', 'Jones', 'Professional', 'Investor', 'Report', 'Stevens', 'Air', 'Air', 'Manhattan', 'Corp.', 'Stevens', 'Air', 'Stevens', 'Air', 'Chairman', 'Stephen', 'Wolf', 'Air', 'Stevens', 'Air', 'Stevens', 'Air', 'Air', 'Air', 'Valente', 'Bailit', 'Life', 'Bailit', 'Rahill', 'Foster', 'Higgins', 'Grossman', 'Grossman', 'England', 'Medical', 'Center', 'Gras', 'Gras', 'Gras', 'Aerospace', 'PLC', 'Aerospace', 'DSM', 'Stephen', 'Neal', 'Stein', 'New', 'York', 'Corp.', 'National', 'Bank', 'Gov.', 'Bob', 'Casey', 'Gov.', 'James', 'Blanchard', 'Bush', 'Hickman', 'Halva-Neubauer', 'County', 'Freind', 'Freind', 'Blanchard', 'Rogin', 'Sutherland', 'Gov.', 'Bill', 'Clements', 'Roberts', 'Jersey', 'Ragan', 'Spaulding', 'Michelman', 'Street', 'Securities', 'Inc.', 'Bush', 'College', 'President', 'Quayle', 'Service', 'Corp.', 'Appropriations', 'Committee', 'Chairman', 'Jamie', 'Whitten', 'Dale', 'Bumpers', 'Whitten', 'F.', 'Klatman', 'General', 'Corp.', 'Industries', 'PLC', 'Gilchrist', 'Amicable', 'Investment', 'Field', 'Pacitti', 'Prideaux', 'PLC', 'Amicable', 'James', 'Field', 'Prideaux', 'Cinema', 'Corp.', 'Department', 'Stores', 'Inc.', 'Department', 'Stores', 'Co.', 'Inc', 'James', 'James', 'Prideaux', 'Francisco', 'International', 'Airport', 'Schumacher', 'Schumacher', 'Parcel', 'Service', 'Fe', 'Pacific', 'Corp.', 'Fe', 'Pacific', 'Corp.', 'Pacific', 'Transportation', 'Co.', 'Angeles', 'Engelken', 'Engelken', 'Engelken', 'Francisco', 'Francisco', 'Francisco', 'International', 'Francisco', 'International', 'Francisco', 'Vegas', 'Angeles', 'Francisco', 'Jose', 'Francisco', 'Wile', 'Co.', 'Sark', 'Littleboy', 'Research', 'Institute', 'Junor', 'Metropolitan', 'PLC', 'Met', 'York', 'Corp.', 'Brands', 'Inc.', 'York', 'Brands', 'Artois', 'America', 'Inc.', 'Jarvis', 'Jarvis', 'Whitbread', 'Reserve', 'LAND', 'Bank', 'Corp.', 'International', 'Corp.', 'York', 'Stock', 'Exchange', 'Equipment', 'Corp.', 'Business', 'Machines', 'Corp.', 'Willmott', 'Group', 'Inc', 'Corp.', 'Data', 'Corp.', 'Corp.', 'M.', 'Glorioso', 'H.', 'Olsen', 'Trust', 'Co', 'Rose', 'Trust', 'Rose', 'Trust', 'F.', 'Willman', 'C.', 'Bernstein', 'Shannon', 'Data', 'Corp.', 'Willman', 'Corp.', 'Advanced', 'Advanced', 'Data', 'Corp.', 'Data', 'Corp', 'Weekly', 'Publishing', 'USA', 'F.', 'DeVoe', 'Jr.', 'Mason', 'Wood', 'Walker', 'DeVoe', 'I.', 'Clough', 'Lynch', 'Capital', 'California', 'York', 'Stock', 'Exchange', 'York', 'L.', 'Madson', 'E.', 'Himebaugh', 'Himebaugh', 'Corp.', 'Trump', 'L.', 'Crandall', 'Pettee', 'Lynch', 'Crandall', 'Whittington', 'Grenfell', 'Whittington', 'Richmond-Watson', 'Whittington', 'Grenfell', 'Webb', 'Whittington', 'Hugo', 'Carolina', 'Y.', 'Taylor', 'Director', 'Taxpayers', 'Union', 'Butz', 'Butz', 'Security', 'Butz', 'E.', 'Hayes', 'Jr.', 'S.', 'Black', 'Hayes', 'Bell', 'Telephone', 'Co.', 'Capital', 'Power', 'Black', 'Thompson', 'Johnson', 'Commander', 'Donald', 'Williams', 'Air', 'Force', 'Base', 'Chin', 'March', 'Hugo', 'Manufacturing', 'Corp.', 'York', 'Trump', 'Trump', 'Trump', 'Trump', 'Trump', 'Trump', 'Disney', 'Co.', 'Steinberg', 'Steinberg', 'Steinberg', 'Steinberg', 'Trump', 'Trump', 'Judge', 'Alcee', 'Hastings', 'Hastings', 'Hastings', 'Hastings', 'John', 'Bryant', 'Hastings', 'Hastings', 'Industries', 'Inc.', 'Cos.', 'York', 'Abraham', 'York', 'Greaney', 'York', 'R.', 'Ostrager', 'YORK', 'Genova', 'Genova', 'Dunn', 'U.S.', 'Attorney', 'Randy', 'Mastro', 'Mastro', 'Mastro', 'Dunn', 'Angeles', 'Karalis', 'Karalis', 'Corp', 'Corp.', 'AB', 'Street', 'Street', 'Willens', 'Lehman', 'Hutton', 'Inc.', 'York', 'Willens', 'Nabisco', 'Inc.', 'Communications', 'Inc.', 'Co', 'Street', 'Schloss', 'York', 'Wall', 'Street', 'Medical', 'International', 'Hills', 'Street', 'C.', 'Canellos', 'Street', 'Bush', 'Development', 'Hugo', 'House', 'Fitzwater', 'Fitzwater', 'Clanahan', 'Stewart', 'Suchocki', 'Secretary', 'Dick', 'Cheney', 'Force', 'Air', 'Force', 'Base', 'Francisco', 'Francisco', 'Francisco', 'Island', 'Francisco', 'California', 'Volland', 'Mulrooney', 'Highway', 'Administrator', 'Thomas', 'Larson', 'California', 'McGinley', 'Pankyo', 'FAX', 'Hockney', 'York', 'Stanley', 'Atlantic', 'Dynamics', 'Edison', 'Edison', 'E.', 'Thomas', 'Jersey', 'Bell', 'Dynamics', 'Ellis', 'Bauer', 'Ellis', 'Bean', 'Antarctica', 'Chase', 'Product', 'News', 'McNally', 'Kelley', 'Products', 'USA', 'City', 'McNally', 'Kay', 'Poppenberg', 'America', 'America', 'America', 'Savageau', 'Ana', 'York', 'Diego', 'Francisco', 'Savageau', 'Francisco', 'Bluff', 'Carolyn', 'Robinson', 'Corp.', 'Dynamics', 'Corp.', 'Stealth', 'Dynamics', 'Dynamics', 'Dynamics', 'Dynamics', 'Dynamics', 'Development', 'Corp.', 'Release', 'Sherlund', 'Sherlund', 'Valley', 'Corp.', 'Micro', 'Devices', 'Inc.', 'Semiconductor', 'Corp.', 'Kurlak', 'Lynch', 'Research', 'Business', 'Machines', 'Corp.', 'Co.', 'Computer', 'Microsystems', 'Inc.', 'Computers', 'Inc.', 'Equipment', 'Corp.', 'Clara', 'Alto', 'View', 'Micro', 'Jose', 'Alto', 'Francisco', 'Francisco', 'Computer', 'Corp.', 'Equipment', 'Springs', 'Livermore', 'National', 'Laboratory', 'Corp.', 'Francisco', 'R.', 'Wilke', 'Maynard', 'Maynard', 'Maynard', 'Manufacturing', 'Inc.', 'Maynard', 'Maynard', 'Maynard', 'Maynard', 'Maynard', 'Maynard', 'Kings', 'Guzewich', 'Egg', 'Maynard', 'Frawley', 'Maynard', 'Maynard', 'Hill', 'Maynard', 'Ana', 'Maynard', 'York', 'Jersey', 'Maynard', 'Maynard', 'Angeles', 'Maynard', 'Maynard', 'Inc.', 'Maynard', 'Pfeiffer', 'Pfeiffer', 'Pfeiffer', 'Diamond', 'Monroe', 'Pfeiffer', 'Kloves', 'Kloves', 'Kloves', 'Rainer', 'Fassbinder', 'Scorsese', 'Ballhaus', 'Grusin', 'Pfeiffer', 'Bridges', 'Kloves', 'Tilly', 'Tilly', 'Street', 'Pfeiffer', 'Ballhaus', 'Monroe', 'Pfeiffer', 'Pfeiffer', 'Demme', 'PLC', 'Data', 'Corp.', 'Mining', 'Data', 'Dynamics', 'Corp.', 'Force', 'Corp.', 'Co.', 'Douglas', 'Corp.', 'C.', 'Smith', 'Smith', 'America', 'S.p', 'Co.', 'Building', 'Building', 'Building', 'Building', 'Building', 'Stock', 'Exchange', 'Building', 'Paul', 'X.', 'Kelley', 'Lafontant', 'Mary', 'Rose', 'Oakar', 'Secretary', 'Jack', 'Kemp', 'Futures', 'Inc.', 'Financial', 'Services', 'Ltd.', 'Financial', 'W.', 'Lang', 'Lang', 'C.', 'Benda', 'Lang', 'Warren', 'Pryce', 'Malizia', 'Negus', 'Fund', 'Report', 'Negus', 'Rachwalski', 'Litvack', 'Litvack', 'Treasury', 'Money', 'Market', 'Fund', 'WCRS', 'York', 'Femina', 'Holding', 'S.A.', 'WCRS', 'Della', 'Femina', 'Ball', 'Ltd.', 'Femina', 'McNamee', 'York', 'Della', 'Femina', 'Breene', 'York', 'Breene', 'Breene', 'Femina', 'Advertising', 'Masius', 'Benton', 'Femina', 'McNamee', 'Femina', 'Am', 'Chemical', 'Co.', 'Della', 'Femina', 'Group', 'Della', 'Femina', 'McNamee', 'Femina', 'Della', 'Femina', 'Group', 'Scott', 'Co.', 'S.p', 'Montagu', 'Walter', 'Thompson', 'Needham', 'Needham', 'Needham', 'Francisco', 'Walter', 'Thompson', 'York', 'Group', 'Organic', 'York', 'Morrissey', 'Group', 'Angeles', 'Porter', 'ADVERTISING', 'Advertising', 'Advertising', 'Advertising', 'Products', 'Inc.', 'York', 'Corp.', 'Eclipse', 'Motor', 'Co.', 'Bob', 'Dole', 'Dole', 'Bush', 'Development', 'Secretary', 'Jack', 'Kemp', 'Kemp', 'Banking', 'Committee', 'Rose', 'Oakar', 'Oakar', 'Kemp', 'Oakar', 'Chalmers', 'Wylie', 'George', 'Kemp', 'Delchamps', 'Delchamps', 'Delchamps', 'Jr.', 'Delchamps', 'Francisco', 'Fukuyama', 'James', 'Tobin', 'Milken', 'Pollin', 'Fukuyama', 'Fukuyama', 'Cockburn', 'Weekly', 'Air', 'France', 'Germany', 'Express', 'Corp.', 'Tiger', 'Line', 'Inc.', 'Daly', 'York', 'Daly', 'Express', 'Parcel', 'Service', 'Inc.', 'France', 'France', 'Daly', 'Express', 'Tiger', 'France', 'Pacific', 'Daly', 'Paper', 'Board', 'Co.', 'Cup', 'Corp.', 'Cup', 'Paper', 'Board', 'Chairman', 'Richard', 'Breeden', 'Francisco', 'Francisco', 'Schwartz', 'Francisco', 'Angeles', 'Vyas', 'Angeles', 'Vyas', 'Francisco', 'Daggs', 'Anthony', 'Inc.', 'Hancock', 'Freedom', 'York', 'Francisco', 'Daggs', 'Securities', 'Inc.', 'Janet', 'White', 'Francisco', 'Systems', 'Inc.', 'Francisco', 'Hugo', 'Jose', 'Irvine', 'Clearing', 'Luthringshausen', 'Clearing', 'Luthringshausen', 'Business', 'Machines', 'Corp.', 'Milunovich', 'Boston', 'Street', 'Franciscans', 'Street', 'Gallagher', 'Re', 'Corp.', 'Re', 'Corp.', 'International', 'Group', 'Inc.', 'Corp.', 'Star', 'Industries', 'Inc.', 'Corp.', 'F.', 'Atkinson', 'Co.', 'Knudsen', 'Corp.', 'Corp.', 'Pacific', 'Corp.', 'Inc.', 'Lynch', 'Pacific', 'Corp.', 'Industries', 'Inc.', 'Corp.', 'Corp.', 'Fargo', 'Corp.', 'West', 'Financial', 'Corp.', 'Ahmanson', 'Gas', 'Telesis', 'Group', 'Peters', 'Vincent', 'Corp.', 'Bank', 'Corp.', 'Stock', 'Exchange', 'Clearing', 'Corp.', 'Fossett', 'Peters', 'Lombardi', 'Farm', 'Farm', 'Lombardi', 'Farm', 'Lombardi', 'Plummer', 'D.', 'Hart', 'Research', 'Lombardi', 'Huff', 'Kim', 'Cutler', 'Katz', 'Kim', 'Walter', 'Thompson', 'Olshan', 'Wilhite', 'House', 'House', 'Morris', 'General', 'House', 'Mayer', 'Soup', 'Co.', 'Adams', 'Hugo', 'Reider', 'Life', 'Farm', 'Mutual', 'Automobile', 'Insurance', 'Co.', 'Hugo', 'Farm', 'Farm', 'Insurance', 'Co.', 'Insurance', 'Francisco', 'Corp.', 'Yankus', 'International', 'Group', 'Re', 'Corp.', 'Hugo', 'Byrne', 'Kramer', 'York', 'Hugo', 'Graphics', 'Inc.', 'Environmental', 'Services', 'Inc.', 'PLC', 'John', 'Egan', 'Motor', 'Co', 'John', 'John', 'John', 'John', 'Barber', 'John', 'Reitman', 'Barber', 'Capel', 'John', 'Corp.', 'Corp.', 'Chairman', 'Communications', 'Corp.', 'D.', 'Hart', 'Research', 'D.', 'Hart', 'Research', 'Census', 'York', 'Stock', 'Exchange', 'Stanley', 'Lynch', 'Group', 'Inc.', 'Brothers', 'Inc', 'Inc.', 'Angeles', 'National', 'Corp.', 'National', 'National', 'P.', 'Simmons', 'National', 'M.', 'Greenwood', 'National', 'Hoyt', 'National', 'Hoyt', 'National', 'Quick', 'Jr.', 'B.', 'Lane', 'Lehman', 'Hutton', 'Inc', 'A.', 'Mason', 'Lynch', 'York', 'Stock', 'Exchange', 'Industry', 'Association', 'Board', 'Schaefer', 'Board', 'Schaefer', 'Quackenbush', 'Schwab', 'Grano', 'Group', 'Inc.', 'Street', 'Grano', 'Ross', 'Ross', 'Ross', 'Jones', 'Capital', 'Markets', 'Report', 'Lehman', 'Hutton', 'Inc', 'Morgan', 'Securities', 'Inc.', 'National', 'Mortgage', 'Association', 'Mae', 'Mae', 'Boston', 'Corp', 'Mae', 'Mae', 'Trust', 'International', 'Ltd', 'Corp', 'International', 'Oil', 'Corp', 'Suisse', 'First', 'Boston', 'Ltd', 'Westminster', 'Bank', 'PLC', 'Lynch', 'International', 'Ltd', 'Electric', 'Express', 'Railway', 'Co', 'International', 'Co', 'Leu', 'Ltd', 'Nomura', 'Julius', 'Baer', 'N.V', 'Bank', 'Burnham', 'Lambert', 'Inc', 'Air', 'Corp', 'V.', 'Holmes', 'Holmes', 'Holmes', 'Holmes', 'Holmes', 'Finance', 'Corp.', 'Ventures', 'Fund', 'Inc.', 'Holmes', 'Ventures', 'Holmes', 'Holmes', 'Ann', 'Smith', 'Byrum', 'Smith', 'Byrum', 'Smith', 'Bob', 'Packwood', 'William', 'Roth', 'Dan', 'Rostenkowski', 'Valley', 'L.', 'Bandler', 'Bell', 'Telephone', 'Co.', 'Bell', 'Francisco', 'Alto', 'Sweezey', 'Francisco', 'Mayor', 'Art', 'Agnos', 'United', 'Motor', 'Manufacturing', 'Inc.', 'Alto', 'Francisco', 'President', 'Robert', 'Fienberg', 'Francisco', 'Bandler', 'Telephone', 'Communications', 'Inc.', 'Telecommunications', 'E.', 'Downing', 'Bell', 'Telesis', 'Burnham', 'Mace', 'Hill', 'Mace', 'Kotman', 'State', 'University', 'Street', 'Star', 'Industries', 'Inc.', 'Star', 'Star', 'Goldberg', 'International', 'Goldberg', 'Hugo', 'Goldberg', 'Byrne', 'Byrne', 'Byrne', 'California', 'Francisco', 'Cruz', 'Francisco', 'Cruz', 'Francisco', 'Boccone', 'HENRI', 'Duke', 'Jean', 'Funding', 'Corp.', 'Reserve', 'Searle', 'Teich', 'Teich', 'Chairman', 'Sheldon', 'Gilgore', 'J.', 'Fabbri', 'Montagu', 'Securities', 'Inc', 'Holdings', 'Capital', 'Corp.', 'RJR', 'Air', 'Corp.', 'Sullivan', 'Jr.', 'Witter', 'Reynolds', 'Inc', 'Funding', 'Corp.', 'Trust', 'Corp.', 'Mann', 'Francisco', 'Lieberman', 'Hanover', 'Securities', 'Corp', 'California', 'Burnham', 'Lambert', 'Inc.', 'Securities', 'Inc.', 'York', 'City', 'Jersey', 'Turnpike', 'Authority', 'California', 'Mac', 'National', 'Mortgage', 'Association', 'Mac', 'Mae', 'Lawson', 'Lawson', 'Germany', 'Germany', 'Honecker', 'Honecker', 'Germany', 'Krenz', 'Germany', 'Germany', 'Europe', 'Krenz', 'Berlin', 'Honecker', 'Honecker', 'Honecker', 'Krenz', 'Honecker', 'Honecker', 'Germany', 'Germany', 'Krenz', 'Bush', 'Krenz', 'Germany', 'Krenz', 'Honecker', 'Honecker', 'Honecker', 'Krenz', 'War', 'II', 'Krenz', 'Honecker', 'Krenz', 'Germany', 'Krenz', 'Krenz', 'Germany', 'Honecker', 'Honecker', 'Krenz', 'Berlin', 'Krenz', 'Oldenburg', 'Krenz', 'Honecker', 'Krenz', 'Oldenburg', 'Kohl', 'Krenz', 'Germany', 'Krenz', 'Honecker', 'Krenz', 'Krenz', 'Germany', 'Honecker', 'Krenz', 'Gorbachev', 'Krenz', 'Germany', 'Germany', 'Germany', 'Simmons', 'Germany', 'Honecker', 'Honecker', 'Gorbachev', 'Gorbachev', 'Honecker', 'Germany', 'Krenz', 'War', 'II', 'Honecker', 'Europe', 'Germany', 'Gorbachev', 'Honecker', 'Kohl', 'Korea', 'Ltd.', 'Korea', 'Korea', 'S.A.', 'Morris', 'Cos.', 'Prime', 'Minister', 'Tadeusz', 'Mazowiecki', 'Deputy', 'Foreign', 'Minister', 'Mahmoud', 'Vaezi', 'Vaezi', 'Kong', 'Zaishuo', 'Kong', 'Aviv', 'Al', 'Al', 'Development', 'Ltd.', 'Hong', 'Png', 'Hong', 'Png', 'Rail', 'Mongolia', 'Prebon', 'INTERBANK', 'OFFERED', 'U.S.', 'HOME', 'LOAN', 'MORTGAGE', 'CORP', 'Mac', 'Systems', 'Inc', 'NATIONAL', 'MORTGAGE', 'ASSOCIATION', 'Mae', 'Systems', 'Inc', 'LYNCH', 'READY', 'ASSETS', 'TRUST', 'Co.', 'Electric', 'Co.', 'Sung', 'Sung', 'Electric', 'Sung', 'Francisco', 'News', 'Premner', 'Broadcasting', 'Co.', 'Park', 'News', 'Francisco', 'Premner', 'Inc.', 'News', 'Network', 'Broadcasting', 'System', 'Inc', 'News', 'News', 'Hempel', 'Broadcasting', 'Co.', 'Electric', 'Co.', 'Browne', 'News', 'Francisco', 'Francisco', 'West', 'Capital', 'Corp.', 'West', 'J.', 'Tirello', 'Jr.', 'Lehman', 'Hutton', 'Inc.', 'West', 'Dorado', 'Investment', 'Co.', 'Financial', 'Group', 'Chairman', 'Richard', 'L.', 'Saalfeld', 'York', 'Stock', 'Exchange', 'California', 'Group', 'Steinhardt', 'Steinhardt', 'Steinhardt', 'Buffett', 'Hathaway', 'Steinhardt', 'Steinhardt', 'York', 'Stock', 'Exchange', 'Steinhardt', 'Steinhardt', 'Steinhardt', 'Steinhardt', 'Buffett', 'Steinhardt', 'Steinhardt', 'Steinhardt', 'Steinhardt', 'Steinhardt', 'Pettee', 'Steinhardt', 'Chairman', 'Edwin', 'Colodny', 'World', 'Airlines', 'Chairman', 'Carl', 'Icahn', 'Icahn', 'Steinhardt', 'Steinhardt', 'Street', 'Steinhardt', 'Buffett', 'Buffett', 'Steinhardt', 'Buffett', 'Steinhardt', 'Becker', 'Lehman', 'Hutton', 'Steinhardt', 'Steinhardt', 'Steinhardt', 'Air', 'Steinhardt', 'Steinhardt', 'Resources', 'Inc.', 'International', 'Ltd.', 'Chester', 'Computer', 'Inc.', 'Germany', 'Board', 'F.', 'DeVoe', 'Mason', 'Wood', 'Walker', 'DeVoe', 'Re', 'International', 'Group', 'Life', 'Financial', 'Jones', 'Knudsen', 'Wheeler', 'Sirrine', 'Engineering', 'Group', 'Engineering', 'Baker', 'Science', 'Lynch', 'Star', 'Industries', 'Gas', 'Board', 'Telesis', 'Group', 'Francisco', 'Semiconductor', 'Fargo', 'Francisco', 'Ahmanson', 'Western', 'Financial', 'West', 'Financial', 'Cruise', 'Lines', 'Class', 'Morris', 'Cos.', 'Morris', 'Morris', 'Morris', 'U.S.A.', 'General', 'Brewing', 'Co.', 'Inc.', 'Columbia', 'Columbia', 'Associates', 'International', 'Inc.', 'City', 'Equipment', 'Corp.', 'Business', 'Machines', 'Corp.', 'Laboratories', 'Inc.', 'Hudson', 'Corp.', 'Hudson', 'Hudson', 'York', 'Stock', 'Exchange', 'Bank', 'Corp.', 'Settlement', 'Corp', 'Corp.', 'Power', 'Corp.', 'Power', 'Inc.', 'York', 'M.', 'Redstone', 'Corp.', 'Brake', 'Inc.', 'York', 'Stock', 'Exchange', 'Parretti', 'Holding', 'S.A.', 'Finanziaria', 'Fiorini', 'Fiorini', 'Tanzi', 'Fiorini', 'Francisco', 'Ball', 'City', 'Police', 'Department', 'Ball', 'Schwartz', 'Angeles', 'Francisco', 'Software', 'Inc.', 'Field', 'Rail', 'Corp.', 'York', 'A.', 'Hagen', 'Hagen', 'Gulf', 'Corp.', 'R.', 'Kuse', 'Gulf', 'Gulf', 'Francisco', 'Angeles', 'Mayor', 'Tom', 'Bradley', 'Angeles', 'Francisco', 'Mayor', 'Art', 'Agnos', 'Angeles', 'Angeles', 'Francisco', 'Cross', 'Rico', 'Hugo', 'Francisco')]\n"
     ]
    }
   ],
   "source": [
    "test_corpppp = train_corpus[0:2]\n",
    "ne_set = []\n",
    "for sentence in test_corpppp:\n",
    "    start_indices = []\n",
    "    for idx, word in enumerate(sentence):\n",
    "        if word['pos'] == 'NNP' and word['chunk']=='B-NP':\n",
    "            start_indices.append(idx)\n",
    "    \n",
    "    \n",
    "    for start_idx in start_indices:\n",
    "        noun = [sentence[start_idx]['form']]\n",
    "        \n",
    "        for i in range( len(sentence) - start_idx):\n",
    "            if sentence[start_idx+i]['pos'] == 'NNP' and sentence[start_idx+i]['chunk']=='I-NP':\n",
    "                nouns.append(sentence[start_idx+i]['form'])\n",
    "            else:\n",
    "                break\n",
    "        ne_set.append(tuple(nouns))\n",
    "        \n",
    "print(ne_set)\n",
    "        \n",
    "ne_set = set(ne_set)"
   ]
  },
  {
   "cell_type": "code",
   "execution_count": 73,
   "metadata": {
    "scrolled": true
   },
   "outputs": [
    {
     "data": {
      "text/plain": [
       "3618"
      ]
     },
     "execution_count": 73,
     "metadata": {},
     "output_type": "execute_result"
    }
   ],
   "source": [
    "len(ne_set)"
   ]
  },
  {
   "cell_type": "code",
   "execution_count": 74,
   "metadata": {},
   "outputs": [
    {
     "data": {
      "text/plain": [
       "[('Waring',),\n",
       " ('Burnsville',),\n",
       " ('Albany',),\n",
       " ('Mitsubishi', 'Rayon'),\n",
       " ('EC',),\n",
       " ('Bonwit', 'Teller'),\n",
       " ('Massachusetts', 'Attorney', 'General', 'James', 'Shannon'),\n",
       " ('Romania',),\n",
       " ('Home', 'Savings'),\n",
       " ('Rudnick',)]"
      ]
     },
     "execution_count": 74,
     "metadata": {},
     "output_type": "execute_result"
    }
   ],
   "source": [
    "list(ne_set)[:10]"
   ]
  },
  {
   "cell_type": "markdown",
   "metadata": {},
   "source": [
    "### Creating a small set"
   ]
  },
  {
   "cell_type": "markdown",
   "metadata": {},
   "source": [
    "To run the subsequent experiments faster, you will limit the dataset to the entities starting with letter _K_. I chose this letter, because it corresponded to one of the smallest sets. You will call the resulting set: `ne_small_set`. Feel free to use the full set after you have completed this assignment."
   ]
  },
  {
   "cell_type": "code",
   "execution_count": 75,
   "metadata": {},
   "outputs": [],
   "source": [
    "ne_small_set = []\n",
    "for tupl in ne_set:\n",
    "    if (list(tupl)[0][0]).lower()=='k':\n",
    "        ne_small_set.append(tupl)\n",
    "ne_small_set = set(ne_small_set)          "
   ]
  },
  {
   "cell_type": "code",
   "execution_count": 76,
   "metadata": {},
   "outputs": [
    {
     "data": {
      "text/plain": [
       "{('K', 'mart', 'Corp.', 'Chairman', 'Joseph', 'E.', 'Antonini'),\n",
       " ('K-H', 'Corp.'),\n",
       " ('KIM',),\n",
       " ('KLM', 'Royal'),\n",
       " ('KPMG', 'Peat', 'Marwick'),\n",
       " ('KTXL',),\n",
       " ('Kabul',),\n",
       " ('Kacy', 'McClelland'),\n",
       " ('Kaitaia',),\n",
       " ('Kajima',),\n",
       " ('Kansas',),\n",
       " ('Kansas', 'Power'),\n",
       " ('Karen', 'Olshan'),\n",
       " ('Kary', 'Moss'),\n",
       " ('Kasler', 'Corp.'),\n",
       " ('Kate', 'Michelman'),\n",
       " ('Kathe', 'Dillmann'),\n",
       " ('Kathie', 'Huff'),\n",
       " ('Kathie', 'Roberts'),\n",
       " ('Kathryn', 'McGrath'),\n",
       " ('Kathy', 'Stanwick'),\n",
       " ('Katonah',),\n",
       " ('Kawasaki', 'Steel'),\n",
       " ('Ke', 'Zaishuo'),\n",
       " ('Kean',),\n",
       " ('Keefe',),\n",
       " ('Keihin', 'Electric', 'Express', 'Railway', 'Co'),\n",
       " ('Keith', 'L.', 'Fogg'),\n",
       " ('Keith', 'Mulrooney'),\n",
       " ('Keizaikai',),\n",
       " ('Keizaikai', 'Corp.'),\n",
       " ('Kemper',),\n",
       " ('Kenneth', 'A.', 'Eldred'),\n",
       " ('Kenneth', 'Abraham'),\n",
       " ('Kenneth', 'H.', 'Olsen'),\n",
       " ('Kenneth', 'T.', 'Rosen'),\n",
       " ('Kent', 'Neal'),\n",
       " ('Kenton',),\n",
       " ('Kentucky',),\n",
       " ('Kentucky', 'Fried', 'Chicken'),\n",
       " ('Kevin', 'Logan'),\n",
       " ('Khmer', 'Rouge'),\n",
       " ('Khost',),\n",
       " ('Kidder',),\n",
       " ('Kidder', 'Peabody'),\n",
       " ('Kim', 'Schwartz'),\n",
       " ('Kimberly', 'Ann', 'Smith'),\n",
       " ('King', 'Broadcasting', 'Co.'),\n",
       " ('Kinney',),\n",
       " ('Kirin',),\n",
       " ('Kirin', 'Brewery'),\n",
       " ('Kitchen',),\n",
       " ('Kleinwort', 'Benson', 'Government', 'Securities', 'Inc.'),\n",
       " ('Kleinwort', 'Benson', 'North', 'America'),\n",
       " ('Knoxville',),\n",
       " ('Ko', 'Shioya'),\n",
       " ('Kobe', 'Steel'),\n",
       " ('Kobe', 'Steel', 'Ltd.'),\n",
       " ('Kodak',),\n",
       " ('Kollmorgen',),\n",
       " ('Kraft', 'General'),\n",
       " ('Kremlin',),\n",
       " ('Krenz',),\n",
       " ('Kringle',),\n",
       " ('Kroger', 'Co'),\n",
       " ('Kuala', 'Lumpur'),\n",
       " ('Kumagai-Gumi',),\n",
       " ('Kursk',),\n",
       " ('Kurt', 'Hager'),\n",
       " ('Kwek', 'Hong', 'Png'),\n",
       " ('Ky',),\n",
       " ('Ky.',),\n",
       " ('Kyocera',)}"
      ]
     },
     "execution_count": 76,
     "metadata": {},
     "output_type": "execute_result"
    }
   ],
   "source": [
    "ne_small_set"
   ]
  },
  {
   "cell_type": "markdown",
   "metadata": {},
   "source": [
    "## Resolving the entities"
   ]
  },
  {
   "cell_type": "markdown",
   "metadata": {},
   "source": [
    "You will now implement a simple method to find the named entities from the previous exercise in Wikipedia and Wikidata."
   ]
  },
  {
   "cell_type": "markdown",
   "metadata": {},
   "source": [
    "First, look at a few entities in your set and find:\n",
    "1. a few entities that you think are in wikipedia, \n",
    "2. entities that will not be in wikipedia, and \n",
    "3. entities that you think are ambiguous: An entity that may correspond to two or more things. \n",
    "\n",
    "You will describe your findings in the report."
   ]
  },
  {
   "cell_type": "markdown",
   "metadata": {},
   "source": [
    "### A function to lookup entities"
   ]
  },
  {
   "cell_type": "markdown",
   "metadata": {},
   "source": [
    "Read the function below and try to understand what it means. You will describe it in your report."
   ]
  },
  {
   "cell_type": "code",
   "execution_count": 77,
   "metadata": {},
   "outputs": [],
   "source": [
    "def wikipedia_lookup(ner, base_url='https://en.wikipedia.org/wiki/'):\n",
    "    try:\n",
    "        url_en = base_url + ' '.join(ner)\n",
    "        html_doc = requests.get(url_en).text\n",
    "        parse_tree = bs4.BeautifulSoup(html_doc, 'html.parser')\n",
    "        entity_id = parse_tree.find(\"a\", {\"accesskey\": \"g\"})['href']\n",
    "        head_id, entity_id = os.path.split(entity_id)\n",
    "        return entity_id\n",
    "    except:\n",
    "        pass\n",
    "        # print('Not found in: ', base_url)\n",
    "    entity_id = 'UNK'\n",
    "    return entity_id"
   ]
  },
  {
   "cell_type": "markdown",
   "metadata": {},
   "source": [
    "Write a function to run the lookup and keep the resolved entities (only the resolved entities). You will call it `ne_ids_en`"
   ]
  },
  {
   "cell_type": "code",
   "execution_count": 78,
   "metadata": {},
   "outputs": [
    {
     "ename": "NameError",
     "evalue": "name 'ne_ids_sv' is not defined",
     "output_type": "error",
     "traceback": [
      "\u001b[0;31m---------------------------------------------------------------------------\u001b[0m",
      "\u001b[0;31mNameError\u001b[0m                                 Traceback (most recent call last)",
      "\u001b[0;32m<ipython-input-78-afebdbc534f3>\u001b[0m in \u001b[0;36m<module>\u001b[0;34m\u001b[0m\n\u001b[1;32m      3\u001b[0m     \u001b[0mentity_id\u001b[0m \u001b[0;34m=\u001b[0m \u001b[0mwikipedia_lookup\u001b[0m\u001b[0;34m(\u001b[0m\u001b[0mentity\u001b[0m\u001b[0;34m)\u001b[0m\u001b[0;34m\u001b[0m\u001b[0;34m\u001b[0m\u001b[0m\n\u001b[1;32m      4\u001b[0m     \u001b[0;32mif\u001b[0m \u001b[0mentity_id\u001b[0m \u001b[0;34m!=\u001b[0m\u001b[0;34m'UNK'\u001b[0m\u001b[0;34m:\u001b[0m\u001b[0;34m\u001b[0m\u001b[0;34m\u001b[0m\u001b[0m\n\u001b[0;32m----> 5\u001b[0;31m         \u001b[0mne_ids_sv\u001b[0m\u001b[0;34m.\u001b[0m\u001b[0mappend\u001b[0m\u001b[0;34m(\u001b[0m\u001b[0;34m(\u001b[0m\u001b[0mentity\u001b[0m\u001b[0;34m,\u001b[0m\u001b[0mentity_id\u001b[0m\u001b[0;34m)\u001b[0m\u001b[0;34m)\u001b[0m\u001b[0;34m\u001b[0m\u001b[0;34m\u001b[0m\u001b[0m\n\u001b[0m\u001b[1;32m      6\u001b[0m \u001b[0;34m\u001b[0m\u001b[0m\n",
      "\u001b[0;31mNameError\u001b[0m: name 'ne_ids_sv' is not defined"
     ]
    }
   ],
   "source": [
    "ne_ids_en=[]\n",
    "for entity in ne_small_set:\n",
    "    entity_id = wikipedia_lookup(entity)\n",
    "    if entity_id !='UNK':\n",
    "        ne_ids_sv.append((entity,entity_id))\n",
    "        "
   ]
  },
  {
   "cell_type": "code",
   "execution_count": 79,
   "metadata": {},
   "outputs": [
    {
     "data": {
      "text/plain": [
       "[]"
      ]
     },
     "execution_count": 79,
     "metadata": {},
     "output_type": "execute_result"
    }
   ],
   "source": [
    "ne_ids_en"
   ]
  },
  {
   "cell_type": "markdown",
   "metadata": {},
   "source": [
    "Sometimes, entities need a confirmation. You will apply the resolution with the Swedish wikipedia."
   ]
  },
  {
   "cell_type": "code",
   "execution_count": 80,
   "metadata": {},
   "outputs": [
    {
     "ename": "TypeError",
     "evalue": "tuple expected at most 1 argument, got 2",
     "output_type": "error",
     "traceback": [
      "\u001b[0;31m---------------------------------------------------------------------------\u001b[0m",
      "\u001b[0;31mTypeError\u001b[0m                                 Traceback (most recent call last)",
      "\u001b[0;32m<ipython-input-80-b24b5016e036>\u001b[0m in \u001b[0;36m<module>\u001b[0;34m\u001b[0m\n\u001b[1;32m      3\u001b[0m     \u001b[0mentity_id\u001b[0m \u001b[0;34m=\u001b[0m \u001b[0mwikipedia_lookup\u001b[0m\u001b[0;34m(\u001b[0m\u001b[0mentity\u001b[0m\u001b[0;34m,\u001b[0m\u001b[0mbase_url\u001b[0m\u001b[0;34m=\u001b[0m\u001b[0;34m'https://sv.wikipedia.org/wiki/'\u001b[0m\u001b[0;34m)\u001b[0m\u001b[0;34m\u001b[0m\u001b[0;34m\u001b[0m\u001b[0m\n\u001b[1;32m      4\u001b[0m     \u001b[0;32mif\u001b[0m \u001b[0mentity_id\u001b[0m \u001b[0;34m!=\u001b[0m\u001b[0;34m'UNK'\u001b[0m\u001b[0;34m:\u001b[0m\u001b[0;34m\u001b[0m\u001b[0;34m\u001b[0m\u001b[0m\n\u001b[0;32m----> 5\u001b[0;31m         \u001b[0mne_ids_sv\u001b[0m\u001b[0;34m.\u001b[0m\u001b[0mappend\u001b[0m\u001b[0;34m(\u001b[0m\u001b[0mtuple\u001b[0m\u001b[0;34m(\u001b[0m\u001b[0mentity\u001b[0m\u001b[0;34m,\u001b[0m\u001b[0mentity_id\u001b[0m\u001b[0;34m)\u001b[0m\u001b[0;34m)\u001b[0m\u001b[0;34m\u001b[0m\u001b[0;34m\u001b[0m\u001b[0m\n\u001b[0m\u001b[1;32m      6\u001b[0m \u001b[0;34m\u001b[0m\u001b[0m\n",
      "\u001b[0;31mTypeError\u001b[0m: tuple expected at most 1 argument, got 2"
     ]
    }
   ],
   "source": [
    "ne_ids_sv=[]\n",
    "for entity in ne_small_set:\n",
    "    entity_id = wikipedia_lookup(entity,base_url='https://sv.wikipedia.org/wiki/')\n",
    "    if entity_id !='UNK':\n",
    "        ne_ids_sv.append(tuple(entity,entity_id))\n",
    "        "
   ]
  },
  {
   "cell_type": "code",
   "execution_count": null,
   "metadata": {},
   "outputs": [],
   "source": [
    "confirmed_ne_en_sv = []\n",
    "for en_ent in ne_ids_en:\n",
    "    if en_ent in ne_ids_sv:\n",
    "        confirmed_ne_en_sv.append(en_ent)        "
   ]
  },
  {
   "cell_type": "markdown",
   "metadata": {},
   "source": [
    "You will compute the intersection of the two sets. You will assign it to a list that you will sort and that you will call: `confirmed_ne_en_sv`."
   ]
  },
  {
   "cell_type": "code",
   "execution_count": 151,
   "metadata": {},
   "outputs": [
    {
     "name": "stdout",
     "output_type": "stream",
     "text": [
      "['Q1558', 'Q1603', 'Q1865', 'Q191764', 'Q224736', 'Q297659', 'Q3159', 'Q358393', 'Q386682', 'Q486269', 'Q524757', 'Q5838']\n",
      "['Q1558', 'Q1603', 'Q1865', 'Q191764', 'Q224736', 'Q297659', 'Q3159', 'Q358393', 'Q386682', 'Q486269', 'Q524757', 'Q5838']\n"
     ]
    }
   ],
   "source": [
    "print(confirmed_ne_en_sv)\n",
    "confirmed_ne_en_sv.sort()\n",
    "print(confirmed_ne_en_sv)"
   ]
  },
  {
   "cell_type": "code",
   "execution_count": null,
   "metadata": {},
   "outputs": [],
   "source": [
    "confirmed_ne_en_sv"
   ]
  },
  {
   "cell_type": "markdown",
   "metadata": {},
   "source": [
    "The first items in your list should look like:\n",
    "```\n",
    "[(('KIM',), 'Q224736'),\n",
    " (('KLM', 'Royal', 'Dutch', 'Airlines'), 'Q181912'),\n",
    " ...\n",
    "]\n",
    "```"
   ]
  },
  {
   "cell_type": "markdown",
   "metadata": {},
   "source": [
    "## Submission"
   ]
  },
  {
   "cell_type": "markdown",
   "metadata": {},
   "source": [
    "When you have written all the code and run all the cells, fill in your ID and as well as the name of the notebook."
   ]
  },
  {
   "cell_type": "code",
   "execution_count": 73,
   "metadata": {},
   "outputs": [],
   "source": [
    "STIL_ID = [\"da20exampl-s\", \"ad02exampl-z\"] # Write your stil ids as a list\n",
    "CURRENT_NOTEBOOK_PATH = os.path.join(os.getcwd(), \n",
    "                                     \"4-chunker_solution.ipynb\") # Write the name of your notebook"
   ]
  },
  {
   "cell_type": "markdown",
   "metadata": {},
   "source": [
    "The submission code will send your answer. It consists of the predicted languages."
   ]
  },
  {
   "cell_type": "code",
   "execution_count": null,
   "metadata": {},
   "outputs": [],
   "source": [
    "import json\n",
    "ANSWER = json.dumps({'baseline_score': baseline_score,\n",
    "                    'improved_ml_score': improved_ml_score,\n",
    "                    'confirmed_ne_en_sv': confirmed_ne_en_sv})\n",
    "ANSWER"
   ]
  },
  {
   "cell_type": "markdown",
   "metadata": {},
   "source": [
    "Now the moment of truth:\n",
    "1. Save your notebook and\n",
    "2. Run the cells below"
   ]
  },
  {
   "cell_type": "code",
   "execution_count": 89,
   "metadata": {},
   "outputs": [],
   "source": [
    "SUBMISSION_NOTEBOOK_PATH = CURRENT_NOTEBOOK_PATH + \".submission.bz2\""
   ]
  },
  {
   "cell_type": "code",
   "execution_count": 90,
   "metadata": {},
   "outputs": [],
   "source": [
    "import bz2\n",
    "ASSIGNMENT = 4\n",
    "API_KEY = \"f581ba347babfea0b8f2c74a3a6776a7\"\n",
    "\n",
    "# Copy and compress current notebook\n",
    "with bz2.open(SUBMISSION_NOTEBOOK_PATH, mode=\"wb\") as fout:\n",
    "    with open(CURRENT_NOTEBOOK_PATH, \"rb\") as fin:\n",
    "        fout.write(fin.read())"
   ]
  },
  {
   "cell_type": "code",
   "execution_count": 93,
   "metadata": {},
   "outputs": [
    {
     "data": {
      "text/plain": [
       "{'msg': None,\n",
       " 'status': 'correct',\n",
       " 'signature': '44d25dade9b27ca3958bb540a9c4162853e05c9858a8d72dedfcc3847fa253f493793ac464ec821aa9e51f2b3d36799d67ce93183182c1a0d001969f313f6682',\n",
       " 'submission_id': 'ba27ca6b-e185-4bd0-a357-47c2ed817e68'}"
      ]
     },
     "execution_count": 93,
     "metadata": {},
     "output_type": "execute_result"
    }
   ],
   "source": [
    "res = requests.post(\"https://vilde.cs.lth.se/edan20checker/submit\", \n",
    "                    files={\"notebook_file\": open(SUBMISSION_NOTEBOOK_PATH, \"rb\")}, \n",
    "                    data={\n",
    "                        \"stil_id\": STIL_ID,\n",
    "                        \"assignment\": ASSIGNMENT,\n",
    "                        \"answer\": ANSWER,\n",
    "                        \"api_key\": API_KEY,\n",
    "                    },\n",
    "               verify=True)\n",
    "\n",
    "# from IPython.display import display, JSON\n",
    "res.json()"
   ]
  },
  {
   "cell_type": "markdown",
   "metadata": {},
   "source": [
    "## Reading"
   ]
  },
  {
   "cell_type": "markdown",
   "metadata": {},
   "source": [
    "You will read the article, <a href=\"https://www.aclweb.org/anthology/C18-1139\"><i>Contextual String\n",
    "            Embeddings for Sequence Labeling</i></a> by Akbik et al. (2018)\n",
    "            and you will outline the main differences between their system and yours. A LSTM is a type of\n",
    "            recurrent neural network, while CRF is a sort of beam search. You will tell the performance\n",
    "            they reach on the corpus you used in this laboratory."
   ]
  },
  {
   "cell_type": "code",
   "execution_count": null,
   "metadata": {},
   "outputs": [],
   "source": []
  }
 ],
 "metadata": {
  "kernelspec": {
   "display_name": "Python 3",
   "language": "python",
   "name": "python3"
  },
  "language_info": {
   "codemirror_mode": {
    "name": "ipython",
    "version": 3
   },
   "file_extension": ".py",
   "mimetype": "text/x-python",
   "name": "python",
   "nbconvert_exporter": "python",
   "pygments_lexer": "ipython3",
   "version": "3.8.3"
  }
 },
 "nbformat": 4,
 "nbformat_minor": 4
}
